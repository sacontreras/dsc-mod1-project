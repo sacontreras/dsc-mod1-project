{
 "cells": [
  {
   "cell_type": "markdown",
   "metadata": {},
   "source": [
    "# Step 2: Exploratory Data Analysis and Data Set Cleaning"
   ]
  },
  {
   "cell_type": "markdown",
   "metadata": {},
   "source": [
    "## Import Libraries and Data Set"
   ]
  },
  {
   "cell_type": "code",
   "execution_count": 1,
   "metadata": {},
   "outputs": [],
   "source": [
    "import pandas as pd\n",
    "from IPython.core.display import HTML\n",
    "import numpy as np\n",
    "import scjpnlib.utils as scjpnutils"
   ]
  },
  {
   "cell_type": "code",
   "execution_count": 2,
   "metadata": {},
   "outputs": [],
   "source": [
    "# import the data set\n",
    "kchd_df = pd.read_csv('kc_house_data.csv')\n",
    "\n",
    "target = 'price'"
   ]
  },
  {
   "cell_type": "markdown",
   "metadata": {},
   "source": [
    "One of the single most important facets of understanding the data is inspecting its values or, more specifically, the ranges of values each feature has.  Most important in that is understand whether a given feature is quantitative or qualitative, or, more precisely whether a given feature is *continuous* or *categorical*.\n",
    "\n",
    "But, having null values in the data set may present problems in this part of our understanding process.  So, our first step is to deal with null values.  Even non-null but unexpected anomalous data can present problems and these are known as \"outliers\".  We must identify when possible and deal with outliers as part of this process as well.\n",
    "\n",
    "This process is collectively known as \"cleaning the data set\".\n",
    "<br>\n",
    "<br>\n",
    "Let's have an initial high-level look at what our data looks like."
   ]
  },
  {
   "cell_type": "code",
   "execution_count": 3,
   "metadata": {},
   "outputs": [
    {
     "name": "stdout",
     "output_type": "stream",
     "text": [
      "<class 'pandas.core.frame.DataFrame'>\n",
      "RangeIndex: 21597 entries, 0 to 21596\n",
      "Data columns (total 21 columns):\n",
      "id               21597 non-null int64\n",
      "date             21597 non-null object\n",
      "price            21597 non-null float64\n",
      "bedrooms         21597 non-null int64\n",
      "bathrooms        21597 non-null float64\n",
      "sqft_living      21597 non-null int64\n",
      "sqft_lot         21597 non-null int64\n",
      "floors           21597 non-null float64\n",
      "waterfront       19221 non-null float64\n",
      "view             21534 non-null float64\n",
      "condition        21597 non-null int64\n",
      "grade            21597 non-null int64\n",
      "sqft_above       21597 non-null int64\n",
      "sqft_basement    21597 non-null object\n",
      "yr_built         21597 non-null int64\n",
      "yr_renovated     17755 non-null float64\n",
      "zipcode          21597 non-null int64\n",
      "lat              21597 non-null float64\n",
      "long             21597 non-null float64\n",
      "sqft_living15    21597 non-null int64\n",
      "sqft_lot15       21597 non-null int64\n",
      "dtypes: float64(8), int64(11), object(2)\n",
      "memory usage: 3.5+ MB\n"
     ]
    }
   ],
   "source": [
    "kchd_df.info()"
   ]
  },
  {
   "cell_type": "code",
   "execution_count": 4,
   "metadata": {},
   "outputs": [
    {
     "data": {
      "text/html": [
       "<table border=\"1\" class=\"dataframe\">\n",
       "  <thead>\n",
       "    <tr style=\"text-align: right;\">\n",
       "      <th></th>\n",
       "      <th>id</th>\n",
       "      <th>date</th>\n",
       "      <th>price</th>\n",
       "      <th>bedrooms</th>\n",
       "      <th>bathrooms</th>\n",
       "      <th>sqft_living</th>\n",
       "      <th>sqft_lot</th>\n",
       "      <th>floors</th>\n",
       "      <th>waterfront</th>\n",
       "      <th>view</th>\n",
       "      <th>condition</th>\n",
       "      <th>grade</th>\n",
       "      <th>sqft_above</th>\n",
       "      <th>sqft_basement</th>\n",
       "      <th>yr_built</th>\n",
       "      <th>yr_renovated</th>\n",
       "      <th>zipcode</th>\n",
       "      <th>lat</th>\n",
       "      <th>long</th>\n",
       "      <th>sqft_living15</th>\n",
       "      <th>sqft_lot15</th>\n",
       "    </tr>\n",
       "  </thead>\n",
       "  <tbody>\n",
       "    <tr>\n",
       "      <th>0</th>\n",
       "      <td>7129300520</td>\n",
       "      <td>10/13/2014</td>\n",
       "      <td>221900.0</td>\n",
       "      <td>3</td>\n",
       "      <td>1.00</td>\n",
       "      <td>1180</td>\n",
       "      <td>5650</td>\n",
       "      <td>1.0</td>\n",
       "      <td>NaN</td>\n",
       "      <td>0.0</td>\n",
       "      <td>3</td>\n",
       "      <td>7</td>\n",
       "      <td>1180</td>\n",
       "      <td>0.0</td>\n",
       "      <td>1955</td>\n",
       "      <td>0.0</td>\n",
       "      <td>98178</td>\n",
       "      <td>47.5112</td>\n",
       "      <td>-122.257</td>\n",
       "      <td>1340</td>\n",
       "      <td>5650</td>\n",
       "    </tr>\n",
       "    <tr>\n",
       "      <th>1</th>\n",
       "      <td>6414100192</td>\n",
       "      <td>12/9/2014</td>\n",
       "      <td>538000.0</td>\n",
       "      <td>3</td>\n",
       "      <td>2.25</td>\n",
       "      <td>2570</td>\n",
       "      <td>7242</td>\n",
       "      <td>2.0</td>\n",
       "      <td>0.0</td>\n",
       "      <td>0.0</td>\n",
       "      <td>3</td>\n",
       "      <td>7</td>\n",
       "      <td>2170</td>\n",
       "      <td>400.0</td>\n",
       "      <td>1951</td>\n",
       "      <td>1991.0</td>\n",
       "      <td>98125</td>\n",
       "      <td>47.7210</td>\n",
       "      <td>-122.319</td>\n",
       "      <td>1690</td>\n",
       "      <td>7639</td>\n",
       "    </tr>\n",
       "    <tr>\n",
       "      <th>2</th>\n",
       "      <td>5631500400</td>\n",
       "      <td>2/25/2015</td>\n",
       "      <td>180000.0</td>\n",
       "      <td>2</td>\n",
       "      <td>1.00</td>\n",
       "      <td>770</td>\n",
       "      <td>10000</td>\n",
       "      <td>1.0</td>\n",
       "      <td>0.0</td>\n",
       "      <td>0.0</td>\n",
       "      <td>3</td>\n",
       "      <td>6</td>\n",
       "      <td>770</td>\n",
       "      <td>0.0</td>\n",
       "      <td>1933</td>\n",
       "      <td>NaN</td>\n",
       "      <td>98028</td>\n",
       "      <td>47.7379</td>\n",
       "      <td>-122.233</td>\n",
       "      <td>2720</td>\n",
       "      <td>8062</td>\n",
       "    </tr>\n",
       "    <tr>\n",
       "      <th>3</th>\n",
       "      <td>2487200875</td>\n",
       "      <td>12/9/2014</td>\n",
       "      <td>604000.0</td>\n",
       "      <td>4</td>\n",
       "      <td>3.00</td>\n",
       "      <td>1960</td>\n",
       "      <td>5000</td>\n",
       "      <td>1.0</td>\n",
       "      <td>0.0</td>\n",
       "      <td>0.0</td>\n",
       "      <td>5</td>\n",
       "      <td>7</td>\n",
       "      <td>1050</td>\n",
       "      <td>910.0</td>\n",
       "      <td>1965</td>\n",
       "      <td>0.0</td>\n",
       "      <td>98136</td>\n",
       "      <td>47.5208</td>\n",
       "      <td>-122.393</td>\n",
       "      <td>1360</td>\n",
       "      <td>5000</td>\n",
       "    </tr>\n",
       "    <tr>\n",
       "      <th>4</th>\n",
       "      <td>1954400510</td>\n",
       "      <td>2/18/2015</td>\n",
       "      <td>510000.0</td>\n",
       "      <td>3</td>\n",
       "      <td>2.00</td>\n",
       "      <td>1680</td>\n",
       "      <td>8080</td>\n",
       "      <td>1.0</td>\n",
       "      <td>0.0</td>\n",
       "      <td>0.0</td>\n",
       "      <td>3</td>\n",
       "      <td>8</td>\n",
       "      <td>1680</td>\n",
       "      <td>0.0</td>\n",
       "      <td>1987</td>\n",
       "      <td>0.0</td>\n",
       "      <td>98074</td>\n",
       "      <td>47.6168</td>\n",
       "      <td>-122.045</td>\n",
       "      <td>1800</td>\n",
       "      <td>7503</td>\n",
       "    </tr>\n",
       "  </tbody>\n",
       "</table>"
      ],
      "text/plain": [
       "<IPython.core.display.HTML object>"
      ]
     },
     "metadata": {},
     "output_type": "display_data"
    },
    {
     "data": {
      "text/html": [
       "<br>5 rows x 21 columns<br><br>"
      ],
      "text/plain": [
       "<IPython.core.display.HTML object>"
      ]
     },
     "metadata": {},
     "output_type": "display_data"
    }
   ],
   "source": [
    "scjpnutils.print_df_head(kchd_df)"
   ]
  },
  {
   "cell_type": "markdown",
   "metadata": {},
   "source": [
    "We notice right off the bat that there is a null (`NaN`) value in the very first row.  \n",
    "\n",
    "But, before we move on to clean those null values, let's get a better understanding of which features are *continuous* (quantitative) vs. which features are *categorical* (qualitative).  This distinction will determine the type of processing that we do on each class, in preparation for building a linear regression model."
   ]
  },
  {
   "cell_type": "markdown",
   "metadata": {},
   "source": [
    "<br><br>\n",
    "## Identify Categorical vs. Continuous Features\n",
    "\n",
    "Taken directly from the list of feature-definitions, we have:\n",
    "* **id** - unique identified for a house\n",
    "* **date** - house was sold\n",
    "* **price** -  is prediction target\n",
    "* **bedrooms** -  of Bedrooms/House\n",
    "* **bathrooms** -  of bathrooms/bedrooms\n",
    "* **sqft_living** -  footage of the home\n",
    "* **sqft_lot** -  footage of the lot\n",
    "* **floors** -  floors (levels) in house\n",
    "* **waterfront** - House which has a view to a waterfront\n",
    "* **view** - Has been viewed\n",
    "* **condition** - How good the condition is ( Overall )\n",
    "* **grade** - overall grade given to the housing unit, based on King County grading system\n",
    "* **sqft_above** - square footage of house apart from basement\n",
    "* **sqft_basement** - square footage of the basement\n",
    "* **yr_built** - Built Year\n",
    "* **yr_renovated** - Year when house was renovated\n",
    "* **zipcode** - zip\n",
    "* **lat** - Latitude coordinate\n",
    "* **long** - Longitude coordinate\n",
    "* **sqft_living15** - The square footage of interior housing living space for the nearest 15 neighbors\n",
    "* **sqft_lot15** - The square footage of the land lots of the nearest 15 neighbors\n",
    "\n",
    "<br><br>\n",
    "*Based on the above definitions*, it initially looks like the following features are *categorical* (qualitative):\n",
    "* **view**\n",
    "* **waterfront**\n",
    "* **zipcode**\n",
    "\n",
    "The rest of the features appear to be *continuous*, *holding quantitive (measured) values*:\n",
    "* **bedrooms**\n",
    "* **bathrooms**\n",
    "* **sqft_living**\n",
    "* **sqft_lot**\n",
    "* **floors**\n",
    "* **condition**\n",
    "* **grade**\n",
    "* **sqft_above**\n",
    "* **sqft_basement**\n",
    "* **yr_built**\n",
    "* **yr_renovated**\n",
    "* **lat**\n",
    "* **long**\n",
    "* **sqft_living15**\n",
    "* **sqft_lot15**"
   ]
  },
  {
   "cell_type": "code",
   "execution_count": 5,
   "metadata": {},
   "outputs": [],
   "source": [
    "categorical_features = ['waterfront', 'view', 'zipcode']\n",
    "continuous_features = scjpnutils.get_remaining_features(kchd_df, target, categorical_features)"
   ]
  },
  {
   "cell_type": "markdown",
   "metadata": {},
   "source": [
    "Now that *categorical* vs. *continuous* have been initially identified, we can move on to actually indentifying those observations that contain nulls values.\n",
    "\n",
    "Note that, for features containing null values, knowing whether the feature is *continuous* vs. *categorical* has some bearing on deciding how to handle null values.  **We must decide on a replacement strategy if those observations are to be kept**, as retaining null values in most cases will be problematic in building linear regression models.  \n",
    "\n",
    "Since a \"Golden Rule\" in Data Science is to avoid dropping observations from a data set unless absolutely necessary, we will opt out of that as a recourse to handling observations with null values.  Thus, we require a *replacement* scheme and knowing whether a feature is continuous or categorical, as well as its set of unique values, will provides some insight.\n",
    "\n",
    "Having said that, it's time to deal with any null values in the data set."
   ]
  },
  {
   "cell_type": "markdown",
   "metadata": {},
   "source": [
    "<br><br>\n",
    "## Cleaning Null Values"
   ]
  },
  {
   "cell_type": "markdown",
   "metadata": {},
   "source": [
    "The `cols_with_null_vals` function provides a summary of all features in our data set that have null values."
   ]
  },
  {
   "cell_type": "code",
   "execution_count": 6,
   "metadata": {},
   "outputs": [
    {
     "data": {
      "text/html": [
       "<b>Features with null values:</b><br><br>"
      ],
      "text/plain": [
       "<IPython.core.display.HTML object>"
      ]
     },
     "metadata": {},
     "output_type": "display_data"
    },
    {
     "data": {
      "text/html": [
       "<table border=\"1\" class=\"dataframe\">\n",
       "  <thead>\n",
       "    <tr style=\"text-align: right;\">\n",
       "      <th></th>\n",
       "      <th>name</th>\n",
       "      <th>index</th>\n",
       "      <th>dtype</th>\n",
       "      <th>n_null</th>\n",
       "    </tr>\n",
       "  </thead>\n",
       "  <tbody>\n",
       "    <tr>\n",
       "      <th>0</th>\n",
       "      <td>waterfront</td>\n",
       "      <td>8</td>\n",
       "      <td>float64</td>\n",
       "      <td>2376</td>\n",
       "    </tr>\n",
       "    <tr>\n",
       "      <th>1</th>\n",
       "      <td>view</td>\n",
       "      <td>9</td>\n",
       "      <td>float64</td>\n",
       "      <td>63</td>\n",
       "    </tr>\n",
       "    <tr>\n",
       "      <th>2</th>\n",
       "      <td>yr_renovated</td>\n",
       "      <td>15</td>\n",
       "      <td>float64</td>\n",
       "      <td>3842</td>\n",
       "    </tr>\n",
       "  </tbody>\n",
       "</table>"
      ],
      "text/plain": [
       "<IPython.core.display.HTML object>"
      ]
     },
     "metadata": {},
     "output_type": "display_data"
    },
    {
     "data": {
      "text/html": [
       "<br>3 rows x 4 columns<br><br>"
      ],
      "text/plain": [
       "<IPython.core.display.HTML object>"
      ]
     },
     "metadata": {},
     "output_type": "display_data"
    }
   ],
   "source": [
    "kchd_cwnv_df = scjpnutils.cols_with_nulls(kchd_df)\n",
    "display(HTML(\"<b>Features with null values:</b><br><br>\"))\n",
    "scjpnutils.print_df(kchd_cwnv_df)"
   ]
  },
  {
   "cell_type": "markdown",
   "metadata": {},
   "source": [
    "###  Using Unique Values (and Categorical \"Classification\") in Null-Value Replacement Guidance\n",
    "\n",
    "**For null-value replacement, we must treat *continuous* features differently than we do *categorical* features**.\n",
    "\n",
    "Since *we do not wish to drop any observations containing null values* and since *we do not wish to radically alter their distributions*, **we shall use some aggregate function which retains the existing central tendency of non-null values, for CONTINUOUS features** - i.e. depending on the presence of outliers or not, in the case of *continuous* data, we opt to replace with the *median* or *mean* of the good values, respectively.\n",
    "\n",
    "**We shall replace null values of CATEGORICAL features with some discrete value from the set of unique non-null *categorical* values**.  But which discrete value?  We must inspect the *meaning* of the categorical values in order to properly choose which non-null value should replace a null value in that case.\n",
    "\n",
    "The `classify_as_categorical` utility function was written to not only list all unique values of each feature, but it also provides a metric, **p_cat**, related to the ratio of the number of unique values (of a given feature) out of the total number of observations.  In this way, subtracting that ratio from 1 provides a derived \"probability\" on whether a given feature is *categorical* or not.\n",
    "\n",
    "Note that, by default, `classify_as_categorical` excludes nulls from the output.\n",
    "\n",
    "Let's use it now to help determine our replacement heuristic for the features that contain null-valued observations: **waterfront**, **view**, and **yr_renovated**."
   ]
  },
  {
   "cell_type": "code",
   "execution_count": 7,
   "metadata": {},
   "outputs": [
    {
     "data": {
      "text/html": [
       "<b>Unique values for features containing observations with nulls:</b><br><br>"
      ],
      "text/plain": [
       "<IPython.core.display.HTML object>"
      ]
     },
     "metadata": {},
     "output_type": "display_data"
    },
    {
     "data": {
      "text/html": [
       "<table border=\"1\" class=\"dataframe\">\n",
       "  <thead>\n",
       "    <tr style=\"text-align: right;\">\n",
       "      <th></th>\n",
       "      <th>name</th>\n",
       "      <th>index</th>\n",
       "      <th>dtype</th>\n",
       "      <th>n_unique</th>\n",
       "      <th>p_cat</th>\n",
       "      <th>unique_vals</th>\n",
       "    </tr>\n",
       "  </thead>\n",
       "  <tbody>\n",
       "    <tr>\n",
       "      <th>0</th>\n",
       "      <td>waterfront</td>\n",
       "      <td>0</td>\n",
       "      <td>float64</td>\n",
       "      <td>2</td>\n",
       "      <td>0.9999</td>\n",
       "      <td>[0.0, 1.0]</td>\n",
       "    </tr>\n",
       "    <tr>\n",
       "      <th>1</th>\n",
       "      <td>view</td>\n",
       "      <td>1</td>\n",
       "      <td>float64</td>\n",
       "      <td>5</td>\n",
       "      <td>0.9998</td>\n",
       "      <td>[0.0, 1.0, 2.0, 3.0, 4.0]</td>\n",
       "    </tr>\n",
       "    <tr>\n",
       "      <th>2</th>\n",
       "      <td>yr_renovated</td>\n",
       "      <td>2</td>\n",
       "      <td>float64</td>\n",
       "      <td>70</td>\n",
       "      <td>0.9968</td>\n",
       "      <td>[0.0, 1934.0, 1940.0, 1944.0, 1945.0, 1946.0, 1948.0, 1950.0, 1951.0, 1953.0, 1954.0, 1955.0, 1956.0, 1957.0, 1958.0, 1959.0, 1960.0, 1962.0, 1963.0, 1964.0, 1965.0, 1967.0, 1968.0, 1969.0, 1970.0, 1971.0, 1972.0, 1973.0, 1974.0, 1975.0, 1976.0, 1977.0, 1978.0, 1979.0, 1980.0, 1981.0, 1982.0, 1983.0, 1984.0, 1985.0, 1986.0, 1987.0, 1988.0, 1989.0, 1990.0, 1991.0, 1992.0, 1993.0, 1994.0, 1995.0, 1996.0, 1997.0, 1998.0, 1999.0, 2000.0, 2001.0, 2002.0, 2003.0, 2004.0, 2005.0, 2006.0, 2007.0, 2008.0, 2009.0, 2010.0, 2011.0, 2012.0, 2013.0, 2014.0, 2015.0]</td>\n",
       "    </tr>\n",
       "  </tbody>\n",
       "</table>"
      ],
      "text/plain": [
       "<IPython.core.display.HTML object>"
      ]
     },
     "metadata": {},
     "output_type": "display_data"
    },
    {
     "data": {
      "text/html": [
       "<br>3 rows x 6 columns<br><br>"
      ],
      "text/plain": [
       "<IPython.core.display.HTML object>"
      ]
     },
     "metadata": {},
     "output_type": "display_data"
    }
   ],
   "source": [
    "kchd__nulls_with_cat_classification_df = scjpnutils.classify_as_categorical(kchd_df[kchd_cwnv_df['name']], p_cat_th=0.0)\n",
    "display(HTML(\"<b>Unique values for features containing observations with nulls:</b><br><br>\"))\n",
    "scjpnutils.print_df(kchd__nulls_with_cat_classification_df)"
   ]
  },
  {
   "cell_type": "markdown",
   "metadata": {},
   "source": [
    "We can see that:\n",
    "- **waterfront**: since, by definition, it behaves as a *Boolean* value, null values can safely be replaced by 0.0\n",
    "- **view**: ranges from 0 to 4 but, by definition, it behaves as a *Boolean* value, so in the phase where we are strictly handling null replacement, null values can safely be replaced by 0.0; note that the occurrences of apparently invalid values (other than 0.0 or 1.0) will be handles in a different phase; for now we are handling null-value replacement\n",
    "- **yr_renovated** clearly uses 0.0 to indicate that a home has not been renovated; so we will adopt the heuristic to replace null with 0.0 in this case\n",
    "\n",
    "Since we have decided on the heuristics for all features with null values, we can clean those features now.\n",
    "\n",
    "Note that, on a preliminary basis, it appears **there are no continuous features with null values**.\n",
    "\n",
    "The `clean_offending_values` utility function was written to facilitate cleaning the data based on a *text-based rule definition*.  It simply uses pandas to locate values that match a given condition - e.g. NaN values - and replaces them with the desired target value.  It is a convenience method for replacing with both literal values and \"macro\"-based (or computed) values - .e.g. the *mean* or *median* of all non-null values.\n",
    "\n",
    "Replacement rules are defined according to the *Backus–Naur Form* given below:\n",
    "- *numeric* replacement rules should be of the form:\n",
    "    - `{<name_of_col>: \\[(outlier_val_1, 'median'|'mean'|<numeric_replacement_value>), ((outlier_val_2, 'median'|'mean'|<numeric_replacement_value>)), ... , (outlier_val_n, 'median'|'mean'|<numeric_replacement_value>)\\]}}`\n",
    "    \n",
    "*Note that string-value replacement is done similarly, except that there is no notion of aggregate function replacement.*\n",
    "    \n",
    "Let's use it now to replace NaN values of the above features with their corresponding values."
   ]
  },
  {
   "cell_type": "code",
   "execution_count": 8,
   "metadata": {},
   "outputs": [
    {
     "name": "stdout",
     "output_type": "stream",
     "text": [
      "*** CLEANING VALUES of King County House Sales DF: BEGIN ***\n",
      "Rules for 'waterfront' column value replacement are: [(nan, 0.0)]\n",
      "Looking for rows with 'waterfront' values [nan] ...\n",
      "Rows with offending values occur at Int64Index([    0,    10,    23,    40,    55,    60,    62,    66,    87,\n",
      "              105,\n",
      "            ...\n",
      "            21544, 21545, 21550, 21562, 21567, 21578, 21582, 21586, 21587,\n",
      "            21595],\n",
      "           dtype='int64', length=2376).\n",
      "Replaced 2376 offending instances in column 'waterfront' with literal value 0.0\n",
      "\n",
      "Rules for 'view' column value replacement are: [(nan, 0.0)]\n",
      "Looking for rows with 'view' values [nan] ...\n",
      "Rows with offending values occur at Int64Index([    7,   114,   129,   205,   487,   590,   938,  1313,  1364,\n",
      "             1701,  2415,  2833,  3150,  3237,  4533,  4740,  5196,  5207,\n",
      "             5393,  5494,  5585,  5746,  6391,  7103,  7269,  7563,  7686,\n",
      "             7716,  8047,  8066,  8279,  8575,  9405,  9853, 10023, 10174,\n",
      "            10339, 10704, 11305, 11479, 11634, 11704, 12486, 13456, 13539,\n",
      "            13729, 13863, 14003, 14526, 14657, 14975, 15174, 15809, 15943,\n",
      "            16748, 17222, 18225, 18611, 19989, 20148, 20380, 21057, 21589],\n",
      "           dtype='int64').\n",
      "Replaced 63 offending instances in column 'view' with literal value 0.0\n",
      "\n",
      "Rules for 'yr_renovated' column value replacement are: [(nan, 0.0)]\n",
      "Looking for rows with 'yr_renovated' values [nan] ...\n",
      "Rows with offending values occur at Int64Index([    2,    12,    23,    26,    28,    40,    45,    52,    56,\n",
      "               58,\n",
      "            ...\n",
      "            21551, 21553, 21556, 21565, 21575, 21576, 21577, 21579, 21581,\n",
      "            21583],\n",
      "           dtype='int64', length=3842).\n",
      "Replaced 3842 offending instances in column 'yr_renovated' with literal value 0.0\n",
      "\n",
      "*** CLEANING VALUES of King County House Sales DF: END ***\n"
     ]
    }
   ],
   "source": [
    "# now use the above function to clean 'waterfront' and 'yr_renovated' using lteral-value replacement\n",
    "scjpnutils.clean_offending_values(\n",
    "    kchd_df\n",
    "    , numeric_replacement_rules=\n",
    "        {\n",
    "            'waterfront': [(np.NaN, 0.0)]\n",
    "            , 'view': [(np.NaN, 0.0)]\n",
    "            , 'yr_renovated': [(np.NaN, 0.0)]\n",
    "        }\n",
    "    , friendly_name_of_df=\"King County House Sales DF\"\n",
    ")"
   ]
  },
  {
   "cell_type": "markdown",
   "metadata": {},
   "source": [
    "<br><br>\n",
    "## Handling potential outlier values\n",
    "\n",
    "Now that we've cleaned all null-values (replaced with non-null values that make sense), we can get some idea of whether a given feature has any outlier values by inspecting its list of unique values.  \n",
    "\n",
    "We can leverage the `classify_as_categorical` utility function to help identify such outlier values as well as their value ranges.\n",
    "\n",
    "If we spot any peculiar values we can then deal with them as necessary."
   ]
  },
  {
   "cell_type": "code",
   "execution_count": 9,
   "metadata": {
    "scrolled": false
   },
   "outputs": [
    {
     "data": {
      "text/html": [
       "<b>View of features from the context of their unique values:</b><br><br>"
      ],
      "text/plain": [
       "<IPython.core.display.HTML object>"
      ]
     },
     "metadata": {},
     "output_type": "display_data"
    },
    {
     "data": {
      "text/html": [
       "<table border=\"1\" class=\"dataframe\">\n",
       "  <thead>\n",
       "    <tr style=\"text-align: right;\">\n",
       "      <th></th>\n",
       "      <th>dtype</th>\n",
       "      <th>n_unique</th>\n",
       "      <th>p_cat</th>\n",
       "      <th>unique_vals</th>\n",
       "    </tr>\n",
       "    <tr>\n",
       "      <th>name</th>\n",
       "      <th></th>\n",
       "      <th></th>\n",
       "      <th></th>\n",
       "      <th></th>\n",
       "    </tr>\n",
       "  </thead>\n",
       "  <tbody>\n",
       "    <tr>\n",
       "      <th>id</th>\n",
       "      <td>int64</td>\n",
       "      <td>21420</td>\n",
       "      <td>0.0082</td>\n",
       "      <td>[1000102, 1200019, 1200021, 2800031, 3600057, 3600072, 3800008, 5200087, 6200017, 7200080, 7200179, 7400062, 7600057, 7600065, 7600125, 7600136, 9000025, 11200070, 11200290, 11200400, 11300120, 11500240, 11500890, 11501160, 11501310, 11501330, 11510310, 11510700, 11520030, 11520200, 11520370, 11520640, 11900140, 13001215, 13001795, 13001991, 13002460, 13002495, 16000015, 16000200, 16000397, 16000435, 16000545, 23500180, 23500190, 23500220, 23520190, 23520380, 31000165, 31200020, 34000005, 34001160, 34001304, 34001540, 34001765, 37000335, 37000435, 40000228, 40000235, 40000362, 40000471, 40000553, 40000669, 40001065, 41000454, 42000006, 42000065, 42000127, 42000130, 42000245, 46100204, 46100350, 46100504, 49000051, 49500090, 50300090, 50300220, 52000067, 53500020, 53500450, 53500760, 56000095, 59000201, 59000250, 59000445, 59500050, 65000085, 65000210, 65000260, 65000400, 66000070, 66000140, 66000265, 84000105, 84000245, 84000335, 87000006, 87000213, 87000245, 87000283, ...]</td>\n",
       "    </tr>\n",
       "    <tr>\n",
       "      <th>date</th>\n",
       "      <td>object</td>\n",
       "      <td>372</td>\n",
       "      <td>0.9828</td>\n",
       "      <td>[1/10/2015, 1/12/2015, 1/13/2015, 1/14/2015, 1/15/2015, 1/16/2015, 1/17/2015, 1/19/2015, 1/2/2015, 1/20/2015, 1/21/2015, 1/22/2015, 1/23/2015, 1/24/2015, 1/25/2015, 1/26/2015, 1/27/2015, 1/28/2015, 1/29/2015, 1/30/2015, 1/31/2015, 1/5/2015, 1/6/2015, 1/7/2015, 1/8/2015, 1/9/2015, 10/1/2014, 10/10/2014, 10/11/2014, 10/12/2014, 10/13/2014, 10/14/2014, 10/15/2014, 10/16/2014, 10/17/2014, 10/18/2014, 10/19/2014, 10/2/2014, 10/20/2014, 10/21/2014, 10/22/2014, 10/23/2014, 10/24/2014, 10/25/2014, 10/26/2014, 10/27/2014, 10/28/2014, 10/29/2014, 10/3/2014, 10/30/2014, 10/31/2014, 10/4/2014, 10/5/2014, 10/6/2014, 10/7/2014, 10/8/2014, 10/9/2014, 11/1/2014, 11/10/2014, 11/11/2014, 11/12/2014, 11/13/2014, 11/14/2014, 11/15/2014, 11/16/2014, 11/17/2014, 11/18/2014, 11/19/2014, 11/2/2014, 11/20/2014, 11/21/2014, 11/22/2014, 11/23/2014, 11/24/2014, 11/25/2014, 11/26/2014, 11/28/2014, 11/29/2014, 11/3/2014, 11/30/2014, 11/4/2014, 11/5/2014, 11/6/2014, 11/7/2014, 11/8/2014, 11/9/2014, 12/1/2014, 12/10/2014, 12/11/2014, 12/12/2014, 12/13/2014, 12/14/2014, 12/15/2014, 12/16/2014, 12/17/2014, 12/18/2014, 12/19/2014, 12/2/2014, 12/20/2014, 12/21/2014, ...]</td>\n",
       "    </tr>\n",
       "    <tr>\n",
       "      <th>price</th>\n",
       "      <td>float64</td>\n",
       "      <td>3622</td>\n",
       "      <td>0.8323</td>\n",
       "      <td>[78000.0, 80000.0, 81000.0, 82000.0, 82500.0, 83000.0, 84000.0, 85000.0, 86500.0, 89000.0, 89950.0, 90000.0, 92000.0, 95000.0, 96500.0, 99000.0, 100000.0, 102500.0, 104950.0, 105000.0, 105500.0, 106000.0, 107000.0, 109000.0, 109500.0, 110000.0, 110700.0, 111300.0, 112000.0, 114000.0, 114975.0, 115000.0, 118000.0, 118125.0, 119500.0, 119900.0, 120000.0, 120750.0, 121800.0, 122000.0, 123000.0, 123300.0, 124000.0, 124500.0, 124740.0, 125000.0, 126000.0, 126500.0, 128000.0, 128750.0, 129000.0, 129888.0, 130000.0, 132500.0, 132825.0, 133000.0, 133400.0, 134000.0, 135000.0, 135900.0, 136500.0, 137000.0, 137124.0, 137900.0, 139000.0, 139500.0, 140000.0, 141800.0, 142500.0, 143000.0, 144000.0, 144975.0, 145000.0, 145600.0, 146000.0, 146300.0, 147000.0, 147200.0, 147400.0, 147500.0, 148000.0, 148226.0, 148900.0, 149000.0, 149500.0, 149900.0, 150000.0, 150550.0, 151000.0, 151100.0, 151600.0, 152000.0, 152275.0, 152500.0, 152900.0, 153000.0, 153500.0, 153503.0, 154000.0, 154200.0, ...]</td>\n",
       "    </tr>\n",
       "    <tr>\n",
       "      <th>bedrooms</th>\n",
       "      <td>int64</td>\n",
       "      <td>12</td>\n",
       "      <td>0.9994</td>\n",
       "      <td>[1, 2, 3, 4, 5, 6, 7, 8, 9, 10, 11, 33]</td>\n",
       "    </tr>\n",
       "    <tr>\n",
       "      <th>bathrooms</th>\n",
       "      <td>float64</td>\n",
       "      <td>29</td>\n",
       "      <td>0.9987</td>\n",
       "      <td>[0.5, 0.75, 1.0, 1.25, 1.5, 1.75, 2.0, 2.25, 2.5, 2.75, 3.0, 3.25, 3.5, 3.75, 4.0, 4.25, 4.5, 4.75, 5.0, 5.25, 5.5, 5.75, 6.0, 6.25, 6.5, 6.75, 7.5, 7.75, 8.0]</td>\n",
       "    </tr>\n",
       "    <tr>\n",
       "      <th>sqft_living</th>\n",
       "      <td>int64</td>\n",
       "      <td>1034</td>\n",
       "      <td>0.9521</td>\n",
       "      <td>[370, 380, 390, 410, 420, 430, 440, 460, 470, 480, 490, 500, 520, 530, 540, 550, 560, 570, 580, 590, 600, 610, 620, 630, 640, 650, 660, 670, 680, 690, 700, 710, 720, 730, 740, 750, 760, 770, 780, 790, 800, 809, 810, 820, 828, 830, 833, 840, 850, 860, 870, 880, 890, 893, 894, 900, 901, 902, 910, 920, 930, 940, 950, 960, 962, 970, 980, 982, 988, 990, 998, 1000, 1008, 1010, 1020, 1030, 1040, 1048, 1050, 1060, 1061, 1068, 1070, 1072, 1076, 1078, 1080, 1084, 1088, 1090, 1092, 1095, 1100, 1108, 1110, 1120, 1122, 1129, 1130, 1131, ...]</td>\n",
       "    </tr>\n",
       "    <tr>\n",
       "      <th>sqft_lot</th>\n",
       "      <td>int64</td>\n",
       "      <td>9776</td>\n",
       "      <td>0.5473</td>\n",
       "      <td>[520, 572, 600, 609, 635, 638, 649, 651, 675, 676, 681, 683, 690, 696, 698, 700, 704, 705, 711, 713, 720, 725, 736, 740, 745, 746, 747, 750, 758, 761, 762, 772, 779, 780, 785, 798, 800, 801, 804, 806, 809, 811, 812, 813, 814, 816, 819, 825, 826, 833, 834, 835, 844, 846, 847, 850, 851, 853, 857, 858, 863, 864, 865, 867, 868, 871, 873, 874, 875, 877, 881, 885, 886, 887, 889, 890, 892, 895, 900, 902, 904, 905, 907, 912, 913, 914, 915, 916, 920, 922, 923, 925, 926, 929, 930, 932, 934, 936, 937, 940, ...]</td>\n",
       "    </tr>\n",
       "    <tr>\n",
       "      <th>floors</th>\n",
       "      <td>float64</td>\n",
       "      <td>6</td>\n",
       "      <td>0.9997</td>\n",
       "      <td>[1.0, 1.5, 2.0, 2.5, 3.0, 3.5]</td>\n",
       "    </tr>\n",
       "    <tr>\n",
       "      <th>waterfront</th>\n",
       "      <td>float64</td>\n",
       "      <td>2</td>\n",
       "      <td>0.9999</td>\n",
       "      <td>[0.0, 1.0]</td>\n",
       "    </tr>\n",
       "    <tr>\n",
       "      <th>view</th>\n",
       "      <td>float64</td>\n",
       "      <td>5</td>\n",
       "      <td>0.9998</td>\n",
       "      <td>[0.0, 1.0, 2.0, 3.0, 4.0]</td>\n",
       "    </tr>\n",
       "    <tr>\n",
       "      <th>condition</th>\n",
       "      <td>int64</td>\n",
       "      <td>5</td>\n",
       "      <td>0.9998</td>\n",
       "      <td>[1, 2, 3, 4, 5]</td>\n",
       "    </tr>\n",
       "    <tr>\n",
       "      <th>grade</th>\n",
       "      <td>int64</td>\n",
       "      <td>11</td>\n",
       "      <td>0.9995</td>\n",
       "      <td>[3, 4, 5, 6, 7, 8, 9, 10, 11, 12, 13]</td>\n",
       "    </tr>\n",
       "    <tr>\n",
       "      <th>sqft_above</th>\n",
       "      <td>int64</td>\n",
       "      <td>942</td>\n",
       "      <td>0.9564</td>\n",
       "      <td>[370, 380, 390, 410, 420, 430, 440, 460, 470, 480, 490, 500, 520, 530, 540, 550, 560, 570, 580, 590, 600, 610, 620, 630, 640, 650, 660, 670, 680, 690, 700, 710, 720, 730, 740, 750, 760, 765, 770, 780, 790, 798, 800, 806, 809, 810, 820, 828, 830, 833, 840, 850, 860, 866, 870, 880, 890, 893, 894, 900, 901, 902, 910, 920, 930, 940, 944, 950, 960, 962, 963, 970, 980, 988, 990, 992, 995, 998, 1000, 1002, 1008, 1010, 1020, 1030, 1040, 1048, 1050, 1060, 1061, 1068, 1070, 1072, 1076, 1078, 1080, 1084, 1087, 1088, 1090, 1092, ...]</td>\n",
       "    </tr>\n",
       "    <tr>\n",
       "      <th>sqft_basement</th>\n",
       "      <td>object</td>\n",
       "      <td>304</td>\n",
       "      <td>0.9859</td>\n",
       "      <td>[0.0, 10.0, 100.0, 1000.0, 1008.0, 1010.0, 1020.0, 1024.0, 1030.0, 1040.0, 1050.0, 1060.0, 1070.0, 1080.0, 1090.0, 110.0, 1100.0, 1110.0, 1120.0, 1130.0, 1135.0, 1140.0, 1150.0, 1160.0, 1170.0, 1180.0, 1190.0, 120.0, 1200.0, 1210.0, 1220.0, 1230.0, 1240.0, 1245.0, 1248.0, 1250.0, 1260.0, 1270.0, 1275.0, 1280.0, 1281.0, 1284.0, 1290.0, 130.0, 1300.0, 1310.0, 1320.0, 1330.0, 1340.0, 1350.0, 1360.0, 1370.0, 1380.0, 1390.0, 140.0, 1400.0, 1410.0, 1420.0, 143.0, 1430.0, 1440.0, 145.0, 1450.0, 1460.0, 1470.0, 1480.0, 1481.0, 1490.0, 150.0, 1500.0, 1510.0, 1520.0, 1525.0, 1530.0, 1540.0, 1548.0, 1550.0, 1560.0, 1570.0, 1580.0, 1590.0, 160.0, 1600.0, 1610.0, 1620.0, 1630.0, 1640.0, 1650.0, 1660.0, 1670.0, 1680.0, 1690.0, 170.0, 1700.0, 1710.0, 172.0, 1720.0, 1730.0, 1740.0, 1750.0, ...]</td>\n",
       "    </tr>\n",
       "    <tr>\n",
       "      <th>yr_built</th>\n",
       "      <td>int64</td>\n",
       "      <td>116</td>\n",
       "      <td>0.9946</td>\n",
       "      <td>[1900, 1901, 1902, 1903, 1904, 1905, 1906, 1907, 1908, 1909, 1910, 1911, 1912, 1913, 1914, 1915, 1916, 1917, 1918, 1919, 1920, 1921, 1922, 1923, 1924, 1925, 1926, 1927, 1928, 1929, 1930, 1931, 1932, 1933, 1934, 1935, 1936, 1937, 1938, 1939, 1940, 1941, 1942, 1943, 1944, 1945, 1946, 1947, 1948, 1949, 1950, 1951, 1952, 1953, 1954, 1955, 1956, 1957, 1958, 1959, 1960, 1961, 1962, 1963, 1964, 1965, 1966, 1967, 1968, 1969, 1970, 1971, 1972, 1973, 1974, 1975, 1976, 1977, 1978, 1979, 1980, 1981, 1982, 1983, 1984, 1985, 1986, 1987, 1988, 1989, 1990, 1991, 1992, 1993, 1994, 1995, 1996, 1997, 1998, 1999, ...]</td>\n",
       "    </tr>\n",
       "    <tr>\n",
       "      <th>yr_renovated</th>\n",
       "      <td>float64</td>\n",
       "      <td>70</td>\n",
       "      <td>0.9968</td>\n",
       "      <td>[0.0, 1934.0, 1940.0, 1944.0, 1945.0, 1946.0, 1948.0, 1950.0, 1951.0, 1953.0, 1954.0, 1955.0, 1956.0, 1957.0, 1958.0, 1959.0, 1960.0, 1962.0, 1963.0, 1964.0, 1965.0, 1967.0, 1968.0, 1969.0, 1970.0, 1971.0, 1972.0, 1973.0, 1974.0, 1975.0, 1976.0, 1977.0, 1978.0, 1979.0, 1980.0, 1981.0, 1982.0, 1983.0, 1984.0, 1985.0, 1986.0, 1987.0, 1988.0, 1989.0, 1990.0, 1991.0, 1992.0, 1993.0, 1994.0, 1995.0, 1996.0, 1997.0, 1998.0, 1999.0, 2000.0, 2001.0, 2002.0, 2003.0, 2004.0, 2005.0, 2006.0, 2007.0, 2008.0, 2009.0, 2010.0, 2011.0, 2012.0, 2013.0, 2014.0, 2015.0]</td>\n",
       "    </tr>\n",
       "    <tr>\n",
       "      <th>zipcode</th>\n",
       "      <td>int64</td>\n",
       "      <td>70</td>\n",
       "      <td>0.9968</td>\n",
       "      <td>[98001, 98002, 98003, 98004, 98005, 98006, 98007, 98008, 98010, 98011, 98014, 98019, 98022, 98023, 98024, 98027, 98028, 98029, 98030, 98031, 98032, 98033, 98034, 98038, 98039, 98040, 98042, 98045, 98052, 98053, 98055, 98056, 98058, 98059, 98065, 98070, 98072, 98074, 98075, 98077, 98092, 98102, 98103, 98105, 98106, 98107, 98108, 98109, 98112, 98115, 98116, 98117, 98118, 98119, 98122, 98125, 98126, 98133, 98136, 98144, 98146, 98148, 98155, 98166, 98168, 98177, 98178, 98188, 98198, 98199]</td>\n",
       "    </tr>\n",
       "    <tr>\n",
       "      <th>lat</th>\n",
       "      <td>float64</td>\n",
       "      <td>5033</td>\n",
       "      <td>0.7670</td>\n",
       "      <td>[47.1559, 47.1593, 47.1622, 47.1647, 47.1764, 47.1775, 47.1776, 47.1795, 47.1803, 47.1808, 47.184, 47.1853, 47.1879, 47.1895, 47.1896, 47.19, 47.1903, 47.1913, 47.1923, 47.1924, 47.1927, 47.1928, 47.1932, 47.1934, 47.1936, 47.1937, 47.1938, 47.193999999999996, 47.1941, 47.1942, 47.1943, 47.1944, 47.1946, 47.1947, 47.1948, 47.1949, 47.1951, 47.1952, 47.1955, 47.1956, 47.1958, 47.1959, 47.19600000000001, 47.1963, 47.1964, 47.1967, 47.1969, 47.1976, 47.1981, 47.1983, 47.1985, 47.1986, 47.1991, 47.1996, 47.2003, 47.2004, 47.2005, 47.2008, 47.201, 47.2012, 47.2015, 47.2016, 47.202, 47.2021, 47.2025, 47.2026, 47.2027, 47.2032, 47.2034, 47.2039, 47.2041, 47.2043, 47.2046, 47.2048, 47.205, 47.2051, 47.2052, 47.2053, 47.2056, 47.2057, 47.2058, 47.206, 47.2062, 47.2063, 47.2064, 47.2068, 47.2069, 47.2073, 47.2074, 47.2077, 47.2078, 47.2079, 47.208, 47.2082, 47.2083, 47.2086, 47.2087, 47.2088, 47.2089, 47.208999999999996, ...]</td>\n",
       "    </tr>\n",
       "    <tr>\n",
       "      <th>long</th>\n",
       "      <td>float64</td>\n",
       "      <td>751</td>\n",
       "      <td>0.9652</td>\n",
       "      <td>[-122.51899999999999, -122.515, -122.514, -122.512, -122.51100000000001, -122.509, -122.507, -122.506, -122.505, -122.50399999999999, -122.50299999999999, -122.50200000000001, -122.499, -122.49700000000001, -122.49600000000001, -122.49, -122.486, -122.484, -122.48200000000001, -122.479, -122.475, -122.47399999999999, -122.473, -122.47200000000001, -122.47, -122.469, -122.46700000000001, -122.465, -122.464, -122.463, -122.462, -122.461, -122.46, -122.459, -122.458, -122.45700000000001, -122.456, -122.455, -122.454, -122.45299999999999, -122.45200000000001, -122.45100000000001, -122.45, -122.449, -122.448, -122.447, -122.446, -122.445, -122.444, -122.443, -122.441, -122.44, -122.439, -122.43799999999999, -122.435, -122.43299999999999, -122.432, -122.431, -122.43, -122.425, -122.42200000000001, -122.421, -122.42, -122.416, -122.415, -122.414, -122.413, -122.412, -122.411, -122.41, -122.40899999999999, -122.40799999999999, -122.40700000000001, -122.406, -122.405, -122.404, -122.40299999999999, -122.402, -122.40100000000001, -122.4, -122.399, -122.398, -122.397, -122.396, -122.395, -122.39399999999999, -122.39299999999999, -122.39200000000001, -122.391, -122.39, -122.389, -122.38799999999999, -122.387, -122.38600000000001, -122.385, -122.384, -122.383, -122.382, -122.381, -122.38, ...]</td>\n",
       "    </tr>\n",
       "    <tr>\n",
       "      <th>sqft_living15</th>\n",
       "      <td>int64</td>\n",
       "      <td>777</td>\n",
       "      <td>0.9640</td>\n",
       "      <td>[399, 460, 620, 670, 690, 700, 710, 720, 740, 750, 760, 770, 780, 790, 800, 806, 810, 820, 828, 830, 840, 850, 860, 870, 880, 890, 900, 910, 920, 930, 940, 950, 952, 960, 970, 980, 990, 998, 1000, 1010, 1020, 1030, 1040, 1050, 1056, 1060, 1070, 1076, 1078, 1080, 1084, 1088, 1090, 1092, 1098, 1100, 1110, 1120, 1125, 1128, 1130, 1131, 1132, 1137, 1138, 1140, 1150, 1156, 1160, 1162, 1168, 1170, 1175, 1180, 1188, 1190, 1200, 1210, 1216, 1217, 1220, 1228, 1230, 1232, 1240, 1250, 1256, 1260, 1264, 1268, 1270, 1277, 1280, 1282, 1285, 1290, 1295, 1300, 1302, 1303, ...]</td>\n",
       "    </tr>\n",
       "    <tr>\n",
       "      <th>sqft_lot15</th>\n",
       "      <td>int64</td>\n",
       "      <td>8682</td>\n",
       "      <td>0.5980</td>\n",
       "      <td>[651, 659, 660, 748, 750, 755, 757, 758, 788, 794, 809, 810, 817, 824, 886, 887, 899, 914, 915, 925, 928, 942, 953, 955, 958, 964, 967, 972, 976, 977, 980, 982, 994, 1003, 1007, 1008, 1016, 1017, 1021, 1023, 1026, 1027, 1030, 1034, 1038, 1050, 1056, 1057, 1058, 1059, 1060, 1062, 1064, 1066, 1068, 1079, 1080, 1081, 1082, 1083, 1086, 1087, 1089, 1090, 1092, 1094, 1095, 1099, 1104, 1106, 1107, 1110, 1111, 1112, 1113, 1116, 1118, 1121, 1124, 1125, 1126, 1135, 1136, 1137, 1138, 1140, 1143, 1146, 1149, 1150, 1151, 1152, 1156, 1158, 1159, 1160, 1161, 1163, 1167, 1169, ...]</td>\n",
       "    </tr>\n",
       "  </tbody>\n",
       "</table>"
      ],
      "text/plain": [
       "<IPython.core.display.HTML object>"
      ]
     },
     "metadata": {},
     "output_type": "display_data"
    },
    {
     "data": {
      "text/html": [
       "<br>21 rows x 4 columns<br><br>"
      ],
      "text/plain": [
       "<IPython.core.display.HTML object>"
      ]
     },
     "metadata": {},
     "output_type": "display_data"
    }
   ],
   "source": [
    "# Let's look for outliers\n",
    "kchd_cat_classification_df = scjpnutils.classify_as_categorical(kchd_df, p_cat_th=0.0, exclude_null_vals=False)\n",
    "display(HTML(\"<b>View of features from the context of their unique values:</b><br><br>\"))\n",
    "scjpnutils.print_df(kchd_cat_classification_df[['name', 'dtype', 'n_unique', 'p_cat', 'unique_vals']].set_index('name'))"
   ]
  },
  {
   "cell_type": "markdown",
   "metadata": {},
   "source": [
    "### Analysis of Unique Values\n",
    "\n",
    "Based on the above, we do spot a few specific issues:\n",
    "\n",
    "1. based on *unique_vals* and *dtype* of **sqft_basement**, it looks like it should be a *numeric* data type but it is of type `Object` (probably stored as text); therefore, **it must be converted to type `float64`**.\n",
    "2. based on *unique_vals* of ***bedroom*s**, it **has an *apparent* nonsensical OUTLIER value (33) that should probably be replaced with a value that makes sense**.\n",
    "3. *according to the definition* provided, ***view* is a *boolean* type**, indicating whether a home has been viewed or not, but **it has values other than 0 or 1 which must be mapped to 0 or 1**.\n",
    "4. the *dtype* of **yr_built** and **yr_renovated** is `int64` and `float64`, respectively; since these features store the same kind of values (year), ***yr_renovated* must be converted to type `int64`**.\n",
    "\n",
    "Let's address **sqft_basement** first."
   ]
  },
  {
   "cell_type": "markdown",
   "metadata": {},
   "source": [
    "### Converting **sqft_basement** from `Object` (string) type to `float64`\n",
    "\n",
    "Before attempting to convert the data type of **sqft_basement** to `float64`, **we need to replace any potential non-numeric values first**.\n",
    "\n",
    "Let's find those first."
   ]
  },
  {
   "cell_type": "code",
   "execution_count": 10,
   "metadata": {},
   "outputs": [
    {
     "data": {
      "text/html": [
       "<h3><b>sqft_basement</b> contains the following non-numeric values that must be replaced: ['?']</h3>"
      ],
      "text/plain": [
       "<IPython.core.display.HTML object>"
      ]
     },
     "metadata": {},
     "output_type": "display_data"
    }
   ],
   "source": [
    "unique_sqft_basement = kchd_cat_classification_df[kchd_cat_classification_df['name']=='sqft_basement']['unique_vals'].values[0]\n",
    "non_numeric_sqft_basement_vals = []\n",
    "for idx, sqft_basement in enumerate(unique_sqft_basement):\n",
    "    s_val = sqft_basement.strip()\n",
    "    val = None\n",
    "    try:       \n",
    "        val = float(s_val)\n",
    "    except:\n",
    "        non_numeric_sqft_basement_vals.append(sqft_basement)\n",
    "\n",
    "display(HTML(\"<h3><b>sqft_basement</b> contains the following non-numeric values that must be replaced: {}</h3>\".format(non_numeric_sqft_basement_vals)))"
   ]
  },
  {
   "cell_type": "markdown",
   "metadata": {},
   "source": [
    "<br><br>\n",
    "We opt to **replace outlier value '?' of the *sqft_basement* feature with '0.0'** since unknown values can be treated as 0.0 numeric."
   ]
  },
  {
   "cell_type": "code",
   "execution_count": 11,
   "metadata": {},
   "outputs": [
    {
     "name": "stdout",
     "output_type": "stream",
     "text": [
      "*** CLEANING VALUES of King County House Sales DF: BEGIN ***\n",
      "Rules for 'sqft_basement' are: [('?', '0.0')]\n",
      "Looking for rows with 'sqft_basement' values in ['?'] ...\n",
      "Rows with offending values occur at Int64Index([    6,    18,    42,    79,   112,   115,   217,   309,   384,\n",
      "              508,\n",
      "            ...\n",
      "            21236, 21248, 21356, 21357, 21365, 21442, 21447, 21473, 21519,\n",
      "            21581],\n",
      "           dtype='int64', length=454).\n",
      "Replaced 454 offending instances in column 'sqft_basement' with literal value '0.0'\n",
      "*** CLEANING VALUES of King County House Sales DF: END ***\n"
     ]
    }
   ],
   "source": [
    "scjpnutils.clean_offending_values(\n",
    "    kchd_df\n",
    "    , string_replacement_rules=\n",
    "        {\n",
    "            'sqft_basement': [('?', '0.0')]\n",
    "        }\n",
    "    , friendly_name_of_df=\"King County House Sales DF\"\n",
    ")"
   ]
  },
  {
   "cell_type": "markdown",
   "metadata": {},
   "source": [
    "<br><br>\n",
    "We can now convert **sqft_basement** to type `float`:"
   ]
  },
  {
   "cell_type": "code",
   "execution_count": 12,
   "metadata": {},
   "outputs": [],
   "source": [
    "kchd_df['sqft_basement']=kchd_df['sqft_basement'].astype('float64')"
   ]
  },
  {
   "cell_type": "markdown",
   "metadata": {},
   "source": [
    "<br><br>\n",
    "### Handling *bedrooms* outliers\n",
    "\n",
    "Using `kchd_cat_classification_df` to view **bedrooms** unique values, we have the following:"
   ]
  },
  {
   "cell_type": "code",
   "execution_count": 13,
   "metadata": {},
   "outputs": [
    {
     "data": {
      "text/html": [
       "<div>\n",
       "<style scoped>\n",
       "    .dataframe tbody tr th:only-of-type {\n",
       "        vertical-align: middle;\n",
       "    }\n",
       "\n",
       "    .dataframe tbody tr th {\n",
       "        vertical-align: top;\n",
       "    }\n",
       "\n",
       "    .dataframe thead th {\n",
       "        text-align: right;\n",
       "    }\n",
       "</style>\n",
       "<table border=\"1\" class=\"dataframe\">\n",
       "  <thead>\n",
       "    <tr style=\"text-align: right;\">\n",
       "      <th></th>\n",
       "      <th>name</th>\n",
       "      <th>index</th>\n",
       "      <th>dtype</th>\n",
       "      <th>n_unique</th>\n",
       "      <th>p_cat</th>\n",
       "      <th>unique_vals</th>\n",
       "    </tr>\n",
       "  </thead>\n",
       "  <tbody>\n",
       "    <tr>\n",
       "      <td>3</td>\n",
       "      <td>bedrooms</td>\n",
       "      <td>3</td>\n",
       "      <td>int64</td>\n",
       "      <td>12</td>\n",
       "      <td>0.9994</td>\n",
       "      <td>[1, 2, 3, 4, 5, 6, 7, 8, 9, 10, 11, 33]</td>\n",
       "    </tr>\n",
       "  </tbody>\n",
       "</table>\n",
       "</div>"
      ],
      "text/plain": [
       "       name  index  dtype  n_unique   p_cat  \\\n",
       "3  bedrooms      3  int64        12  0.9994   \n",
       "\n",
       "                               unique_vals  \n",
       "3  [1, 2, 3, 4, 5, 6, 7, 8, 9, 10, 11, 33]  "
      ]
     },
     "execution_count": 13,
     "metadata": {},
     "output_type": "execute_result"
    }
   ],
   "source": [
    "kchd_cat_classification_df[kchd_cat_classification_df['name']=='bedrooms']"
   ]
  },
  {
   "cell_type": "markdown",
   "metadata": {},
   "source": [
    "<br><br>\n",
    "Here, we see that there are home(s) that supposedly have 33 bedrooms.  Really?  I don't think so but let's try to justify this mathematically.\n",
    "\n",
    "Let's examine ALL observations in our data set with **bedrooms** $== 33$."
   ]
  },
  {
   "cell_type": "code",
   "execution_count": 14,
   "metadata": {
    "scrolled": false
   },
   "outputs": [
    {
     "data": {
      "text/html": [
       "<table border=\"1\" class=\"dataframe\">\n",
       "  <thead>\n",
       "    <tr style=\"text-align: right;\">\n",
       "      <th></th>\n",
       "      <th>id</th>\n",
       "      <th>date</th>\n",
       "      <th>price</th>\n",
       "      <th>bedrooms</th>\n",
       "      <th>bathrooms</th>\n",
       "      <th>sqft_living</th>\n",
       "      <th>sqft_lot</th>\n",
       "      <th>floors</th>\n",
       "      <th>waterfront</th>\n",
       "      <th>view</th>\n",
       "      <th>condition</th>\n",
       "      <th>grade</th>\n",
       "      <th>sqft_above</th>\n",
       "      <th>sqft_basement</th>\n",
       "      <th>yr_built</th>\n",
       "      <th>yr_renovated</th>\n",
       "      <th>zipcode</th>\n",
       "      <th>lat</th>\n",
       "      <th>long</th>\n",
       "      <th>sqft_living15</th>\n",
       "      <th>sqft_lot15</th>\n",
       "    </tr>\n",
       "  </thead>\n",
       "  <tbody>\n",
       "    <tr>\n",
       "      <th>15856</th>\n",
       "      <td>2402100895</td>\n",
       "      <td>6/25/2014</td>\n",
       "      <td>640000.0</td>\n",
       "      <td>33</td>\n",
       "      <td>1.75</td>\n",
       "      <td>1620</td>\n",
       "      <td>6000</td>\n",
       "      <td>1.0</td>\n",
       "      <td>0.0</td>\n",
       "      <td>0.0</td>\n",
       "      <td>5</td>\n",
       "      <td>7</td>\n",
       "      <td>1040</td>\n",
       "      <td>580.0</td>\n",
       "      <td>1947</td>\n",
       "      <td>0.0</td>\n",
       "      <td>98103</td>\n",
       "      <td>47.6878</td>\n",
       "      <td>-122.331</td>\n",
       "      <td>1330</td>\n",
       "      <td>4700</td>\n",
       "    </tr>\n",
       "  </tbody>\n",
       "</table>"
      ],
      "text/plain": [
       "<IPython.core.display.HTML object>"
      ]
     },
     "metadata": {},
     "output_type": "display_data"
    },
    {
     "data": {
      "text/html": [
       "<br>1 rows x 21 columns<br><br>"
      ],
      "text/plain": [
       "<IPython.core.display.HTML object>"
      ]
     },
     "metadata": {},
     "output_type": "display_data"
    }
   ],
   "source": [
    "outlier_rooms = 33\n",
    "outlier_br_mask = (kchd_df.bedrooms == outlier_rooms)\n",
    "kchd_with_outlier_rooms_df = kchd_df[outlier_br_mask]\n",
    "scjpnutils.print_df(kchd_with_outlier_rooms_df)"
   ]
  },
  {
   "cell_type": "markdown",
   "metadata": {},
   "source": [
    "<br><br>\n",
    "First of all, we see that there is only a single observsation with **bedrooms** $== 33$.  This is truly the definition of an outlier. Is it worth it to take the time necessary to clean a single outlier?  Probably not but we do so for the sake of demonstration anyway.\n",
    "\n",
    "We see that the value of **sqft_living** is only 1620.\n",
    "\n",
    "Let's compute the average square footage per room and compare its value to the average square footage per room of the entire data set, excluding this possible outlier observation, with **bedrooms**==33."
   ]
  },
  {
   "cell_type": "code",
   "execution_count": 15,
   "metadata": {},
   "outputs": [
    {
     "data": {
      "text/plain": [
       "15856    49.090909\n",
       "Name: sqft_living, dtype: float64"
      ]
     },
     "execution_count": 15,
     "metadata": {},
     "output_type": "execute_result"
    }
   ],
   "source": [
    "outlier_rms_avg_sqft_per_room = kchd_with_outlier_rooms_df['sqft_living']/outlier_rooms\n",
    "outlier_rms_avg_sqft_per_room[outlier_rms_avg_sqft_per_room.index]"
   ]
  },
  {
   "cell_type": "markdown",
   "metadata": {},
   "source": [
    "<br><br>\n",
    "We see that, for this outlier, the average square footage per room is about 49 ft.$^2$.  That means, on average, each room is 7 ft. x 7 ft in this property with 33 bedrooms?!?!  Is this likely?  I doubt it but let's compare it to the average square footage per room of the rest of the data set, excluding this possible outlier observation with **bedrooms**==33.\n",
    "\n",
    "Average square footage per room of the rest of the data set is:"
   ]
  },
  {
   "cell_type": "code",
   "execution_count": 16,
   "metadata": {},
   "outputs": [
    {
     "data": {
      "text/plain": [
       "617.0000686643413"
      ]
     },
     "execution_count": 16,
     "metadata": {},
     "output_type": "execute_result"
    }
   ],
   "source": [
    "avg_sqft_per_room_excluding_apparent_outliers = kchd_df['sqft_living'].sum()/kchd_df[kchd_df['bedrooms'].isin([outlier_rooms])==False]['bedrooms'].sum()\n",
    "avg_sqft_per_room_excluding_apparent_outliers"
   ]
  },
  {
   "cell_type": "markdown",
   "metadata": {},
   "source": [
    "<br><br>\n",
    "We see that our outlier average square footage per room differs *drastically* from the average for the data set.  So we will impute the average of the data set (excluding this outlier observation) to arrive at a reasonable value replacement value for **bedrooms** of the outlier observation.  \n",
    "\n",
    "Note: So far this has been a fair amount of work done to clean only a single observation but, again, this process demonstrates the potential importance in the general case.\n",
    "\n",
    "The formula for this is \n",
    "$$imputed\\_outlier\\_bedrooms = \\frac{outlier\\_sqft\\_living}{avg\\_sqft\\_per\\_room\\_excluding\\_apparent\\_outliers}$$ \n",
    "\n",
    "... and the value that we will impute in this case is computed as follows:"
   ]
  },
  {
   "cell_type": "code",
   "execution_count": 17,
   "metadata": {},
   "outputs": [
    {
     "data": {
      "text/plain": [
       "2.62560748738151"
      ]
     },
     "execution_count": 17,
     "metadata": {},
     "output_type": "execute_result"
    }
   ],
   "source": [
    "imputed_outlier_bedrooms_df = kchd_with_outlier_rooms_df['sqft_living']/avg_sqft_per_room_excluding_apparent_outliers\n",
    "imputed_outlier_bedrooms_df.values[0]"
   ]
  },
  {
   "cell_type": "markdown",
   "metadata": {},
   "source": [
    "<br><br>\n",
    "Not so fast!  You'll notice that this is a real-valued result.  But does it make sense to have fractional bedrooms?  No it doesn't, not really.\n",
    "\n",
    "Our work with this outlier is not yet done.\n",
    "\n",
    "We need to match this imputed real-valued value with its \"closest neighbor\" in the range of observed *unique* (integer) values of **bedrooms**.  \n",
    "\n",
    "We will call this set the \"permissible values of bedrooms\".\n",
    "\n",
    "The following function accomplishes this:"
   ]
  },
  {
   "cell_type": "code",
   "execution_count": 18,
   "metadata": {},
   "outputs": [],
   "source": [
    "def permissible_br(br_real):\n",
    "    unique_bedrooms = sorted(list(kchd_df['bedrooms'].unique()))\n",
    "    unique_bedrooms.remove(outlier_rooms)\n",
    "    unique_bedrooms = np.array(unique_bedrooms)\n",
    "    print(\"Permissible set of values for 'bedrooms' is: {}\".format(unique_bedrooms))\n",
    "    \n",
    "    idx_closest_br = -1\n",
    "    min_dist = -1\n",
    "    for idx, br in enumerate(unique_bedrooms):\n",
    "        d = abs(br_real - br)\n",
    "        if min_dist == -1:\n",
    "            min_dist = d\n",
    "            idx_closest_br = idx\n",
    "        elif d < min_dist:\n",
    "            min_dist = d\n",
    "            idx_closest_br = idx\n",
    "            \n",
    "    print(\"Imputing closest permissible bedroom value to computed real-value {}: {}.\".format(br_real, unique_bedrooms[idx_closest_br], idx_closest_br))\n",
    "    return unique_bedrooms[idx_closest_br]"
   ]
  },
  {
   "cell_type": "markdown",
   "metadata": {},
   "source": [
    "<br><br>\n",
    "Now we finally impute the corresponding correct value (according to the formula and function above) for all observations with the **bedrooms** outlier value, 33."
   ]
  },
  {
   "cell_type": "code",
   "execution_count": 19,
   "metadata": {
    "scrolled": false
   },
   "outputs": [
    {
     "name": "stdout",
     "output_type": "stream",
     "text": [
      "Permissible set of values for 'bedrooms' is: [ 1  2  3  4  5  6  7  8  9 10 11]\n",
      "Imputing closest permissible bedroom value to computed real-value 2.62560748738151: 3.\n"
     ]
    },
    {
     "data": {
      "text/html": [
       "<div>\n",
       "<style scoped>\n",
       "    .dataframe tbody tr th:only-of-type {\n",
       "        vertical-align: middle;\n",
       "    }\n",
       "\n",
       "    .dataframe tbody tr th {\n",
       "        vertical-align: top;\n",
       "    }\n",
       "\n",
       "    .dataframe thead th {\n",
       "        text-align: right;\n",
       "    }\n",
       "</style>\n",
       "<table border=\"1\" class=\"dataframe\">\n",
       "  <thead>\n",
       "    <tr style=\"text-align: right;\">\n",
       "      <th></th>\n",
       "      <th>id</th>\n",
       "      <th>date</th>\n",
       "      <th>price</th>\n",
       "      <th>bedrooms</th>\n",
       "      <th>bathrooms</th>\n",
       "      <th>sqft_living</th>\n",
       "      <th>sqft_lot</th>\n",
       "      <th>floors</th>\n",
       "      <th>waterfront</th>\n",
       "      <th>view</th>\n",
       "      <th>...</th>\n",
       "      <th>grade</th>\n",
       "      <th>sqft_above</th>\n",
       "      <th>sqft_basement</th>\n",
       "      <th>yr_built</th>\n",
       "      <th>yr_renovated</th>\n",
       "      <th>zipcode</th>\n",
       "      <th>lat</th>\n",
       "      <th>long</th>\n",
       "      <th>sqft_living15</th>\n",
       "      <th>sqft_lot15</th>\n",
       "    </tr>\n",
       "  </thead>\n",
       "  <tbody>\n",
       "    <tr>\n",
       "      <td>15856</td>\n",
       "      <td>2402100895</td>\n",
       "      <td>6/25/2014</td>\n",
       "      <td>640000.0</td>\n",
       "      <td>3</td>\n",
       "      <td>1.75</td>\n",
       "      <td>1620</td>\n",
       "      <td>6000</td>\n",
       "      <td>1.0</td>\n",
       "      <td>0.0</td>\n",
       "      <td>0.0</td>\n",
       "      <td>...</td>\n",
       "      <td>7</td>\n",
       "      <td>1040</td>\n",
       "      <td>580.0</td>\n",
       "      <td>1947</td>\n",
       "      <td>0.0</td>\n",
       "      <td>98103</td>\n",
       "      <td>47.6878</td>\n",
       "      <td>-122.331</td>\n",
       "      <td>1330</td>\n",
       "      <td>4700</td>\n",
       "    </tr>\n",
       "  </tbody>\n",
       "</table>\n",
       "<p>1 rows × 21 columns</p>\n",
       "</div>"
      ],
      "text/plain": [
       "               id       date     price  bedrooms  bathrooms  sqft_living  \\\n",
       "15856  2402100895  6/25/2014  640000.0         3       1.75         1620   \n",
       "\n",
       "       sqft_lot  floors  waterfront  view  ...  grade  sqft_above  \\\n",
       "15856      6000     1.0         0.0   0.0  ...      7        1040   \n",
       "\n",
       "       sqft_basement  yr_built  yr_renovated  zipcode      lat     long  \\\n",
       "15856          580.0      1947           0.0    98103  47.6878 -122.331   \n",
       "\n",
       "       sqft_living15  sqft_lot15  \n",
       "15856           1330        4700  \n",
       "\n",
       "[1 rows x 21 columns]"
      ]
     },
     "execution_count": 19,
     "metadata": {},
     "output_type": "execute_result"
    }
   ],
   "source": [
    "kchd_df.loc[outlier_br_mask, 'bedrooms'] = kchd_df.loc[outlier_br_mask].apply(lambda df: permissible_br(df['sqft_living']/avg_sqft_per_room_excluding_apparent_outliers), axis=1)\n",
    "kchd_df[outlier_br_mask]"
   ]
  },
  {
   "cell_type": "markdown",
   "metadata": {},
   "source": [
    "<br><br>\n",
    "### Handling *view* outliers\n",
    "\n",
    "\n",
    "The values of **view** greater than 1 should just simply be replaced with 1."
   ]
  },
  {
   "cell_type": "code",
   "execution_count": 20,
   "metadata": {},
   "outputs": [
    {
     "data": {
      "text/html": [
       "<div>\n",
       "<style scoped>\n",
       "    .dataframe tbody tr th:only-of-type {\n",
       "        vertical-align: middle;\n",
       "    }\n",
       "\n",
       "    .dataframe tbody tr th {\n",
       "        vertical-align: top;\n",
       "    }\n",
       "\n",
       "    .dataframe thead th {\n",
       "        text-align: right;\n",
       "    }\n",
       "</style>\n",
       "<table border=\"1\" class=\"dataframe\">\n",
       "  <thead>\n",
       "    <tr style=\"text-align: right;\">\n",
       "      <th></th>\n",
       "      <th>index</th>\n",
       "      <th>dtype</th>\n",
       "      <th>n_unique</th>\n",
       "      <th>p_cat</th>\n",
       "      <th>unique_vals</th>\n",
       "    </tr>\n",
       "    <tr>\n",
       "      <th>name</th>\n",
       "      <th></th>\n",
       "      <th></th>\n",
       "      <th></th>\n",
       "      <th></th>\n",
       "      <th></th>\n",
       "    </tr>\n",
       "  </thead>\n",
       "  <tbody>\n",
       "    <tr>\n",
       "      <td>view</td>\n",
       "      <td>9</td>\n",
       "      <td>float64</td>\n",
       "      <td>5</td>\n",
       "      <td>0.9998</td>\n",
       "      <td>[0.0, 1.0, 2.0, 3.0, 4.0]</td>\n",
       "    </tr>\n",
       "  </tbody>\n",
       "</table>\n",
       "</div>"
      ],
      "text/plain": [
       "      index    dtype  n_unique   p_cat                unique_vals\n",
       "name                                                             \n",
       "view      9  float64         5  0.9998  [0.0, 1.0, 2.0, 3.0, 4.0]"
      ]
     },
     "execution_count": 20,
     "metadata": {},
     "output_type": "execute_result"
    }
   ],
   "source": [
    "kchd_cat_classification_df[kchd_cat_classification_df['name']=='view'].set_index('name')"
   ]
  },
  {
   "cell_type": "code",
   "execution_count": 21,
   "metadata": {},
   "outputs": [
    {
     "data": {
      "text/html": [
       "<b>view</b> contains the following values > 1.0 values that must be replaced with 1.0: (2.0, 1.0)"
      ],
      "text/plain": [
       "<IPython.core.display.HTML object>"
      ]
     },
     "metadata": {},
     "output_type": "display_data"
    },
    {
     "name": "stdout",
     "output_type": "stream",
     "text": [
      "*** CLEANING VALUES of King County House Sales DF: BEGIN ***\n",
      "Rules for 'view' column value replacement are: [(2.0, 1.0), (3.0, 1.0), (4.0, 1.0)]\n",
      "Looking for rows with 'view' values [2.0, 3.0, 4.0] ...\n",
      "Rows with offending values occur at Int64Index([   15,    21,    49,    58,    60,    99,   113,   120,   126,\n",
      "              153,\n",
      "            ...\n",
      "            21489, 21505, 21513, 21523, 21524, 21538, 21560, 21563, 21577,\n",
      "            21582],\n",
      "           dtype='int64', length=1782).\n",
      "Replaced 1782 offending instances in column 'view' with literal value 1.0\n",
      "\n",
      "*** CLEANING VALUES of King County House Sales DF: END ***\n"
     ]
    }
   ],
   "source": [
    "unique_views = kchd_cat_classification_df[kchd_cat_classification_df['name']=='view']['unique_vals'].values[0]\n",
    "positive_vals_gt_zero_replacement_rule = []\n",
    "for idx, vw in enumerate(unique_views):\n",
    "    if vw > 1.0:\n",
    "        positive_vals_gt_zero_replacement_rule.append((vw, 1.0))\n",
    "\n",
    "display(HTML(\"<b>view</b> contains the following values > 1.0 values that must be replaced with 1.0: {}\".format(positive_vals_gt_zero_replacement_rule[:][0])))\n",
    "\n",
    "scjpnutils.clean_offending_values(\n",
    "    kchd_df\n",
    "    , numeric_replacement_rules=\n",
    "        {\n",
    "            'view': positive_vals_gt_zero_replacement_rule\n",
    "        }\n",
    "    , friendly_name_of_df=\"King County House Sales DF\"\n",
    ")"
   ]
  },
  {
   "cell_type": "markdown",
   "metadata": {},
   "source": [
    "<br><br>\n",
    "### Convert feature data types as necessary\n",
    "\n",
    "We noted previously that the *dtype* of **yr_built** and **yr_renovated** is `int64` and `float64`, respectively.  Since these features store the same kind of values (year), we need to convert **yr_renovated** to `int64`.  This is just a straightforward numerical type conversion.  Note that in converting from `float64` to `int64` any existing fractional components will be lost.  But that is okay since we will not be making use of that data - the fractional part (if it exists) of **yr_renovated** - anyway."
   ]
  },
  {
   "cell_type": "code",
   "execution_count": 22,
   "metadata": {},
   "outputs": [],
   "source": [
    "kchd_df['yr_renovated']=kchd_df['yr_renovated'].astype('int64')"
   ]
  },
  {
   "cell_type": "markdown",
   "metadata": {},
   "source": [
    "<br><br>\n",
    "And with that, we have our final, cleaned data set."
   ]
  },
  {
   "cell_type": "code",
   "execution_count": 23,
   "metadata": {
    "scrolled": false
   },
   "outputs": [
    {
     "data": {
      "text/html": [
       "<b>View of features from the context of their unique values:</b><br><br>"
      ],
      "text/plain": [
       "<IPython.core.display.HTML object>"
      ]
     },
     "metadata": {},
     "output_type": "display_data"
    },
    {
     "data": {
      "text/html": [
       "<table border=\"1\" class=\"dataframe\">\n",
       "  <thead>\n",
       "    <tr style=\"text-align: right;\">\n",
       "      <th></th>\n",
       "      <th>dtype</th>\n",
       "      <th>n_unique</th>\n",
       "      <th>p_cat</th>\n",
       "      <th>unique_vals</th>\n",
       "    </tr>\n",
       "    <tr>\n",
       "      <th>name</th>\n",
       "      <th></th>\n",
       "      <th></th>\n",
       "      <th></th>\n",
       "      <th></th>\n",
       "    </tr>\n",
       "  </thead>\n",
       "  <tbody>\n",
       "    <tr>\n",
       "      <th>id</th>\n",
       "      <td>int64</td>\n",
       "      <td>21420</td>\n",
       "      <td>0.0082</td>\n",
       "      <td>[1000102, 1200019, 1200021, 2800031, 3600057, 3600072, 3800008, 5200087, 6200017, 7200080, 7200179, 7400062, 7600057, 7600065, 7600125, 7600136, 9000025, 11200070, 11200290, 11200400, 11300120, 11500240, 11500890, 11501160, 11501310, 11501330, 11510310, 11510700, 11520030, 11520200, 11520370, 11520640, 11900140, 13001215, 13001795, 13001991, 13002460, 13002495, 16000015, 16000200, 16000397, 16000435, 16000545, 23500180, 23500190, 23500220, 23520190, 23520380, 31000165, 31200020, 34000005, 34001160, 34001304, 34001540, 34001765, 37000335, 37000435, 40000228, 40000235, 40000362, 40000471, 40000553, 40000669, 40001065, 41000454, 42000006, 42000065, 42000127, 42000130, 42000245, 46100204, 46100350, 46100504, 49000051, 49500090, 50300090, 50300220, 52000067, 53500020, 53500450, 53500760, 56000095, 59000201, 59000250, 59000445, 59500050, 65000085, 65000210, 65000260, 65000400, 66000070, 66000140, 66000265, 84000105, 84000245, 84000335, 87000006, 87000213, 87000245, 87000283, ...]</td>\n",
       "    </tr>\n",
       "    <tr>\n",
       "      <th>date</th>\n",
       "      <td>object</td>\n",
       "      <td>372</td>\n",
       "      <td>0.9828</td>\n",
       "      <td>[1/10/2015, 1/12/2015, 1/13/2015, 1/14/2015, 1/15/2015, 1/16/2015, 1/17/2015, 1/19/2015, 1/2/2015, 1/20/2015, 1/21/2015, 1/22/2015, 1/23/2015, 1/24/2015, 1/25/2015, 1/26/2015, 1/27/2015, 1/28/2015, 1/29/2015, 1/30/2015, 1/31/2015, 1/5/2015, 1/6/2015, 1/7/2015, 1/8/2015, 1/9/2015, 10/1/2014, 10/10/2014, 10/11/2014, 10/12/2014, 10/13/2014, 10/14/2014, 10/15/2014, 10/16/2014, 10/17/2014, 10/18/2014, 10/19/2014, 10/2/2014, 10/20/2014, 10/21/2014, 10/22/2014, 10/23/2014, 10/24/2014, 10/25/2014, 10/26/2014, 10/27/2014, 10/28/2014, 10/29/2014, 10/3/2014, 10/30/2014, 10/31/2014, 10/4/2014, 10/5/2014, 10/6/2014, 10/7/2014, 10/8/2014, 10/9/2014, 11/1/2014, 11/10/2014, 11/11/2014, 11/12/2014, 11/13/2014, 11/14/2014, 11/15/2014, 11/16/2014, 11/17/2014, 11/18/2014, 11/19/2014, 11/2/2014, 11/20/2014, 11/21/2014, 11/22/2014, 11/23/2014, 11/24/2014, 11/25/2014, 11/26/2014, 11/28/2014, 11/29/2014, 11/3/2014, 11/30/2014, 11/4/2014, 11/5/2014, 11/6/2014, 11/7/2014, 11/8/2014, 11/9/2014, 12/1/2014, 12/10/2014, 12/11/2014, 12/12/2014, 12/13/2014, 12/14/2014, 12/15/2014, 12/16/2014, 12/17/2014, 12/18/2014, 12/19/2014, 12/2/2014, 12/20/2014, 12/21/2014, ...]</td>\n",
       "    </tr>\n",
       "    <tr>\n",
       "      <th>price</th>\n",
       "      <td>float64</td>\n",
       "      <td>3622</td>\n",
       "      <td>0.8323</td>\n",
       "      <td>[78000.0, 80000.0, 81000.0, 82000.0, 82500.0, 83000.0, 84000.0, 85000.0, 86500.0, 89000.0, 89950.0, 90000.0, 92000.0, 95000.0, 96500.0, 99000.0, 100000.0, 102500.0, 104950.0, 105000.0, 105500.0, 106000.0, 107000.0, 109000.0, 109500.0, 110000.0, 110700.0, 111300.0, 112000.0, 114000.0, 114975.0, 115000.0, 118000.0, 118125.0, 119500.0, 119900.0, 120000.0, 120750.0, 121800.0, 122000.0, 123000.0, 123300.0, 124000.0, 124500.0, 124740.0, 125000.0, 126000.0, 126500.0, 128000.0, 128750.0, 129000.0, 129888.0, 130000.0, 132500.0, 132825.0, 133000.0, 133400.0, 134000.0, 135000.0, 135900.0, 136500.0, 137000.0, 137124.0, 137900.0, 139000.0, 139500.0, 140000.0, 141800.0, 142500.0, 143000.0, 144000.0, 144975.0, 145000.0, 145600.0, 146000.0, 146300.0, 147000.0, 147200.0, 147400.0, 147500.0, 148000.0, 148226.0, 148900.0, 149000.0, 149500.0, 149900.0, 150000.0, 150550.0, 151000.0, 151100.0, 151600.0, 152000.0, 152275.0, 152500.0, 152900.0, 153000.0, 153500.0, 153503.0, 154000.0, 154200.0, ...]</td>\n",
       "    </tr>\n",
       "    <tr>\n",
       "      <th>bedrooms</th>\n",
       "      <td>int64</td>\n",
       "      <td>11</td>\n",
       "      <td>0.9995</td>\n",
       "      <td>[1, 2, 3, 4, 5, 6, 7, 8, 9, 10, 11]</td>\n",
       "    </tr>\n",
       "    <tr>\n",
       "      <th>bathrooms</th>\n",
       "      <td>float64</td>\n",
       "      <td>29</td>\n",
       "      <td>0.9987</td>\n",
       "      <td>[0.5, 0.75, 1.0, 1.25, 1.5, 1.75, 2.0, 2.25, 2.5, 2.75, 3.0, 3.25, 3.5, 3.75, 4.0, 4.25, 4.5, 4.75, 5.0, 5.25, 5.5, 5.75, 6.0, 6.25, 6.5, 6.75, 7.5, 7.75, 8.0]</td>\n",
       "    </tr>\n",
       "    <tr>\n",
       "      <th>sqft_living</th>\n",
       "      <td>int64</td>\n",
       "      <td>1034</td>\n",
       "      <td>0.9521</td>\n",
       "      <td>[370, 380, 390, 410, 420, 430, 440, 460, 470, 480, 490, 500, 520, 530, 540, 550, 560, 570, 580, 590, 600, 610, 620, 630, 640, 650, 660, 670, 680, 690, 700, 710, 720, 730, 740, 750, 760, 770, 780, 790, 800, 809, 810, 820, 828, 830, 833, 840, 850, 860, 870, 880, 890, 893, 894, 900, 901, 902, 910, 920, 930, 940, 950, 960, 962, 970, 980, 982, 988, 990, 998, 1000, 1008, 1010, 1020, 1030, 1040, 1048, 1050, 1060, 1061, 1068, 1070, 1072, 1076, 1078, 1080, 1084, 1088, 1090, 1092, 1095, 1100, 1108, 1110, 1120, 1122, 1129, 1130, 1131, ...]</td>\n",
       "    </tr>\n",
       "    <tr>\n",
       "      <th>sqft_lot</th>\n",
       "      <td>int64</td>\n",
       "      <td>9776</td>\n",
       "      <td>0.5473</td>\n",
       "      <td>[520, 572, 600, 609, 635, 638, 649, 651, 675, 676, 681, 683, 690, 696, 698, 700, 704, 705, 711, 713, 720, 725, 736, 740, 745, 746, 747, 750, 758, 761, 762, 772, 779, 780, 785, 798, 800, 801, 804, 806, 809, 811, 812, 813, 814, 816, 819, 825, 826, 833, 834, 835, 844, 846, 847, 850, 851, 853, 857, 858, 863, 864, 865, 867, 868, 871, 873, 874, 875, 877, 881, 885, 886, 887, 889, 890, 892, 895, 900, 902, 904, 905, 907, 912, 913, 914, 915, 916, 920, 922, 923, 925, 926, 929, 930, 932, 934, 936, 937, 940, ...]</td>\n",
       "    </tr>\n",
       "    <tr>\n",
       "      <th>floors</th>\n",
       "      <td>float64</td>\n",
       "      <td>6</td>\n",
       "      <td>0.9997</td>\n",
       "      <td>[1.0, 1.5, 2.0, 2.5, 3.0, 3.5]</td>\n",
       "    </tr>\n",
       "    <tr>\n",
       "      <th>waterfront</th>\n",
       "      <td>float64</td>\n",
       "      <td>2</td>\n",
       "      <td>0.9999</td>\n",
       "      <td>[0.0, 1.0]</td>\n",
       "    </tr>\n",
       "    <tr>\n",
       "      <th>view</th>\n",
       "      <td>float64</td>\n",
       "      <td>2</td>\n",
       "      <td>0.9999</td>\n",
       "      <td>[0.0, 1.0]</td>\n",
       "    </tr>\n",
       "    <tr>\n",
       "      <th>condition</th>\n",
       "      <td>int64</td>\n",
       "      <td>5</td>\n",
       "      <td>0.9998</td>\n",
       "      <td>[1, 2, 3, 4, 5]</td>\n",
       "    </tr>\n",
       "    <tr>\n",
       "      <th>grade</th>\n",
       "      <td>int64</td>\n",
       "      <td>11</td>\n",
       "      <td>0.9995</td>\n",
       "      <td>[3, 4, 5, 6, 7, 8, 9, 10, 11, 12, 13]</td>\n",
       "    </tr>\n",
       "    <tr>\n",
       "      <th>sqft_above</th>\n",
       "      <td>int64</td>\n",
       "      <td>942</td>\n",
       "      <td>0.9564</td>\n",
       "      <td>[370, 380, 390, 410, 420, 430, 440, 460, 470, 480, 490, 500, 520, 530, 540, 550, 560, 570, 580, 590, 600, 610, 620, 630, 640, 650, 660, 670, 680, 690, 700, 710, 720, 730, 740, 750, 760, 765, 770, 780, 790, 798, 800, 806, 809, 810, 820, 828, 830, 833, 840, 850, 860, 866, 870, 880, 890, 893, 894, 900, 901, 902, 910, 920, 930, 940, 944, 950, 960, 962, 963, 970, 980, 988, 990, 992, 995, 998, 1000, 1002, 1008, 1010, 1020, 1030, 1040, 1048, 1050, 1060, 1061, 1068, 1070, 1072, 1076, 1078, 1080, 1084, 1087, 1088, 1090, 1092, ...]</td>\n",
       "    </tr>\n",
       "    <tr>\n",
       "      <th>sqft_basement</th>\n",
       "      <td>float64</td>\n",
       "      <td>303</td>\n",
       "      <td>0.9860</td>\n",
       "      <td>[0.0, 10.0, 20.0, 40.0, 50.0, 60.0, 65.0, 70.0, 80.0, 90.0, 100.0, 110.0, 120.0, 130.0, 140.0, 143.0, 145.0, 150.0, 160.0, 170.0, 172.0, 176.0, 180.0, 190.0, 200.0, 207.0, 210.0, 220.0, 225.0, 230.0, 235.0, 240.0, 243.0, 248.0, 250.0, 260.0, 265.0, 266.0, 270.0, 274.0, 276.0, 280.0, 283.0, 290.0, 295.0, 300.0, 310.0, 320.0, 330.0, 340.0, 350.0, 360.0, 370.0, 374.0, 380.0, 390.0, 400.0, 410.0, 414.0, 415.0, 417.0, 420.0, 430.0, 435.0, 440.0, 450.0, 460.0, 470.0, 475.0, 480.0, 490.0, 500.0, 506.0, 508.0, 510.0, 515.0, 516.0, 518.0, 520.0, 530.0, 540.0, 550.0, 556.0, 560.0, 570.0, 580.0, 588.0, 590.0, 600.0, 602.0, 610.0, 620.0, 630.0, 640.0, 650.0, 652.0, 660.0, 666.0, 670.0, 680.0, ...]</td>\n",
       "    </tr>\n",
       "    <tr>\n",
       "      <th>yr_built</th>\n",
       "      <td>int64</td>\n",
       "      <td>116</td>\n",
       "      <td>0.9946</td>\n",
       "      <td>[1900, 1901, 1902, 1903, 1904, 1905, 1906, 1907, 1908, 1909, 1910, 1911, 1912, 1913, 1914, 1915, 1916, 1917, 1918, 1919, 1920, 1921, 1922, 1923, 1924, 1925, 1926, 1927, 1928, 1929, 1930, 1931, 1932, 1933, 1934, 1935, 1936, 1937, 1938, 1939, 1940, 1941, 1942, 1943, 1944, 1945, 1946, 1947, 1948, 1949, 1950, 1951, 1952, 1953, 1954, 1955, 1956, 1957, 1958, 1959, 1960, 1961, 1962, 1963, 1964, 1965, 1966, 1967, 1968, 1969, 1970, 1971, 1972, 1973, 1974, 1975, 1976, 1977, 1978, 1979, 1980, 1981, 1982, 1983, 1984, 1985, 1986, 1987, 1988, 1989, 1990, 1991, 1992, 1993, 1994, 1995, 1996, 1997, 1998, 1999, ...]</td>\n",
       "    </tr>\n",
       "    <tr>\n",
       "      <th>yr_renovated</th>\n",
       "      <td>int64</td>\n",
       "      <td>70</td>\n",
       "      <td>0.9968</td>\n",
       "      <td>[0, 1934, 1940, 1944, 1945, 1946, 1948, 1950, 1951, 1953, 1954, 1955, 1956, 1957, 1958, 1959, 1960, 1962, 1963, 1964, 1965, 1967, 1968, 1969, 1970, 1971, 1972, 1973, 1974, 1975, 1976, 1977, 1978, 1979, 1980, 1981, 1982, 1983, 1984, 1985, 1986, 1987, 1988, 1989, 1990, 1991, 1992, 1993, 1994, 1995, 1996, 1997, 1998, 1999, 2000, 2001, 2002, 2003, 2004, 2005, 2006, 2007, 2008, 2009, 2010, 2011, 2012, 2013, 2014, 2015]</td>\n",
       "    </tr>\n",
       "    <tr>\n",
       "      <th>zipcode</th>\n",
       "      <td>int64</td>\n",
       "      <td>70</td>\n",
       "      <td>0.9968</td>\n",
       "      <td>[98001, 98002, 98003, 98004, 98005, 98006, 98007, 98008, 98010, 98011, 98014, 98019, 98022, 98023, 98024, 98027, 98028, 98029, 98030, 98031, 98032, 98033, 98034, 98038, 98039, 98040, 98042, 98045, 98052, 98053, 98055, 98056, 98058, 98059, 98065, 98070, 98072, 98074, 98075, 98077, 98092, 98102, 98103, 98105, 98106, 98107, 98108, 98109, 98112, 98115, 98116, 98117, 98118, 98119, 98122, 98125, 98126, 98133, 98136, 98144, 98146, 98148, 98155, 98166, 98168, 98177, 98178, 98188, 98198, 98199]</td>\n",
       "    </tr>\n",
       "    <tr>\n",
       "      <th>lat</th>\n",
       "      <td>float64</td>\n",
       "      <td>5033</td>\n",
       "      <td>0.7670</td>\n",
       "      <td>[47.1559, 47.1593, 47.1622, 47.1647, 47.1764, 47.1775, 47.1776, 47.1795, 47.1803, 47.1808, 47.184, 47.1853, 47.1879, 47.1895, 47.1896, 47.19, 47.1903, 47.1913, 47.1923, 47.1924, 47.1927, 47.1928, 47.1932, 47.1934, 47.1936, 47.1937, 47.1938, 47.193999999999996, 47.1941, 47.1942, 47.1943, 47.1944, 47.1946, 47.1947, 47.1948, 47.1949, 47.1951, 47.1952, 47.1955, 47.1956, 47.1958, 47.1959, 47.19600000000001, 47.1963, 47.1964, 47.1967, 47.1969, 47.1976, 47.1981, 47.1983, 47.1985, 47.1986, 47.1991, 47.1996, 47.2003, 47.2004, 47.2005, 47.2008, 47.201, 47.2012, 47.2015, 47.2016, 47.202, 47.2021, 47.2025, 47.2026, 47.2027, 47.2032, 47.2034, 47.2039, 47.2041, 47.2043, 47.2046, 47.2048, 47.205, 47.2051, 47.2052, 47.2053, 47.2056, 47.2057, 47.2058, 47.206, 47.2062, 47.2063, 47.2064, 47.2068, 47.2069, 47.2073, 47.2074, 47.2077, 47.2078, 47.2079, 47.208, 47.2082, 47.2083, 47.2086, 47.2087, 47.2088, 47.2089, 47.208999999999996, ...]</td>\n",
       "    </tr>\n",
       "    <tr>\n",
       "      <th>long</th>\n",
       "      <td>float64</td>\n",
       "      <td>751</td>\n",
       "      <td>0.9652</td>\n",
       "      <td>[-122.51899999999999, -122.515, -122.514, -122.512, -122.51100000000001, -122.509, -122.507, -122.506, -122.505, -122.50399999999999, -122.50299999999999, -122.50200000000001, -122.499, -122.49700000000001, -122.49600000000001, -122.49, -122.486, -122.484, -122.48200000000001, -122.479, -122.475, -122.47399999999999, -122.473, -122.47200000000001, -122.47, -122.469, -122.46700000000001, -122.465, -122.464, -122.463, -122.462, -122.461, -122.46, -122.459, -122.458, -122.45700000000001, -122.456, -122.455, -122.454, -122.45299999999999, -122.45200000000001, -122.45100000000001, -122.45, -122.449, -122.448, -122.447, -122.446, -122.445, -122.444, -122.443, -122.441, -122.44, -122.439, -122.43799999999999, -122.435, -122.43299999999999, -122.432, -122.431, -122.43, -122.425, -122.42200000000001, -122.421, -122.42, -122.416, -122.415, -122.414, -122.413, -122.412, -122.411, -122.41, -122.40899999999999, -122.40799999999999, -122.40700000000001, -122.406, -122.405, -122.404, -122.40299999999999, -122.402, -122.40100000000001, -122.4, -122.399, -122.398, -122.397, -122.396, -122.395, -122.39399999999999, -122.39299999999999, -122.39200000000001, -122.391, -122.39, -122.389, -122.38799999999999, -122.387, -122.38600000000001, -122.385, -122.384, -122.383, -122.382, -122.381, -122.38, ...]</td>\n",
       "    </tr>\n",
       "    <tr>\n",
       "      <th>sqft_living15</th>\n",
       "      <td>int64</td>\n",
       "      <td>777</td>\n",
       "      <td>0.9640</td>\n",
       "      <td>[399, 460, 620, 670, 690, 700, 710, 720, 740, 750, 760, 770, 780, 790, 800, 806, 810, 820, 828, 830, 840, 850, 860, 870, 880, 890, 900, 910, 920, 930, 940, 950, 952, 960, 970, 980, 990, 998, 1000, 1010, 1020, 1030, 1040, 1050, 1056, 1060, 1070, 1076, 1078, 1080, 1084, 1088, 1090, 1092, 1098, 1100, 1110, 1120, 1125, 1128, 1130, 1131, 1132, 1137, 1138, 1140, 1150, 1156, 1160, 1162, 1168, 1170, 1175, 1180, 1188, 1190, 1200, 1210, 1216, 1217, 1220, 1228, 1230, 1232, 1240, 1250, 1256, 1260, 1264, 1268, 1270, 1277, 1280, 1282, 1285, 1290, 1295, 1300, 1302, 1303, ...]</td>\n",
       "    </tr>\n",
       "    <tr>\n",
       "      <th>sqft_lot15</th>\n",
       "      <td>int64</td>\n",
       "      <td>8682</td>\n",
       "      <td>0.5980</td>\n",
       "      <td>[651, 659, 660, 748, 750, 755, 757, 758, 788, 794, 809, 810, 817, 824, 886, 887, 899, 914, 915, 925, 928, 942, 953, 955, 958, 964, 967, 972, 976, 977, 980, 982, 994, 1003, 1007, 1008, 1016, 1017, 1021, 1023, 1026, 1027, 1030, 1034, 1038, 1050, 1056, 1057, 1058, 1059, 1060, 1062, 1064, 1066, 1068, 1079, 1080, 1081, 1082, 1083, 1086, 1087, 1089, 1090, 1092, 1094, 1095, 1099, 1104, 1106, 1107, 1110, 1111, 1112, 1113, 1116, 1118, 1121, 1124, 1125, 1126, 1135, 1136, 1137, 1138, 1140, 1143, 1146, 1149, 1150, 1151, 1152, 1156, 1158, 1159, 1160, 1161, 1163, 1167, 1169, ...]</td>\n",
       "    </tr>\n",
       "  </tbody>\n",
       "</table>"
      ],
      "text/plain": [
       "<IPython.core.display.HTML object>"
      ]
     },
     "metadata": {},
     "output_type": "display_data"
    },
    {
     "data": {
      "text/html": [
       "<br>21 rows x 4 columns<br><br>"
      ],
      "text/plain": [
       "<IPython.core.display.HTML object>"
      ]
     },
     "metadata": {},
     "output_type": "display_data"
    }
   ],
   "source": [
    "kchd_cat_classification_df = scjpnutils.classify_as_categorical(kchd_df, p_cat_th=0.0, exclude_null_vals=False)\n",
    "display(HTML(\"<b>View of features from the context of their unique values:</b><br><br>\"))\n",
    "scjpnutils.print_df(kchd_cat_classification_df[['name', 'dtype', 'n_unique', 'p_cat', 'unique_vals']].set_index('name'))"
   ]
  },
  {
   "cell_type": "markdown",
   "metadata": {},
   "source": [
    "<br><br>\n",
    "The last thing that remains is to save the cleaned data set to a file."
   ]
  },
  {
   "cell_type": "code",
   "execution_count": 24,
   "metadata": {},
   "outputs": [
    {
     "name": "stdout",
     "output_type": "stream",
     "text": [
      "updated kc_house_cleaned_data.csv\n"
     ]
    }
   ],
   "source": [
    "fname = 'kc_house_cleaned_data.csv'\n",
    "kchd_df.set_index('id').to_csv('kc_house_cleaned_data.csv', sep=',')\n",
    "print(\"updated {}\".format(fname))"
   ]
  }
 ],
 "metadata": {
  "file_extension": ".py",
  "kernelspec": {
   "display_name": "Python 3.6.9 64-bit ('learn-env': conda)",
   "language": "python",
   "name": "python36964bitlearnenvconda8e11370b031143a286dd4c02f8505fec"
  },
  "language_info": {
   "codemirror_mode": {
    "name": "ipython",
    "version": 3
   },
   "file_extension": ".py",
   "mimetype": "text/x-python",
   "name": "python",
   "nbconvert_exporter": "python",
   "pygments_lexer": "ipython3",
   "version": "3.6.9"
  },
  "mimetype": "text/x-python",
  "name": "python",
  "npconvert_exporter": "python",
  "pygments_lexer": "ipython3",
  "version": 3
 },
 "nbformat": 4,
 "nbformat_minor": 2
}
