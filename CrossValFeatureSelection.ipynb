{
 "cells": [
  {
   "cell_type": "markdown",
   "metadata": {},
   "source": [
    "# Cross-Validation Forward Selection of Features\n",
    "\n",
    "<h1><font color=\"red\">*** WARNING!!!  This takes a VERY LONG TIME to complete!!! ***</font></h1>\n",
    "\n",
    "DO NOT RELOAD THIS PAGE unless you are comitted to overwriting the previously optimized feature-set/model and you have hours to spare to wait for it to complete!"
   ]
  },
  {
   "cell_type": "code",
   "execution_count": 1,
   "metadata": {},
   "outputs": [],
   "source": [
    "import pandas as pd\n",
    "from IPython.core.display import HTML\n",
    "import numpy as np\n",
    "import scjpnlib.utils as scjpnutils\n",
    "import scjpnlib.regression.api as scjpnregression\n",
    "\n",
    "kchd_transformed_and_scaled_df = pd.read_csv('kc_house_transformed_and_scaled_data.csv')\n",
    "target = 'price'\n",
    "kchd_transformed_and_scaled_df = kchd_transformed_and_scaled_df.drop(['id', 'date'], axis=1)"
   ]
  },
  {
   "cell_type": "code",
   "execution_count": 2,
   "metadata": {
    "scrolled": false
   },
   "outputs": [
    {
     "data": {
      "text/html": [
       "<br><br>Builing all $\\sum_{i=1}^{16}{16 \\choose i}=$ ${16 \\choose 1}$ + ${16 \\choose 2}$ + ${16 \\choose 3}$ + ${16 \\choose 4}$ + ${16 \\choose 5}$ + ${16 \\choose 6}$ + ${16 \\choose 7}$ + ${16 \\choose 8}$ + ${16 \\choose 9}$ + ${16 \\choose 10}$ + ${16 \\choose 11}$ + ${16 \\choose 12}$ + ${16 \\choose 13}$ + ${16 \\choose 14}$ + ${16 \\choose 15}$ + ${16 \\choose 16}$ $=65535$ combinations of feature set: Index(['bedrooms', 'bathrooms', 'sqft_living', 'sqft_lot', 'floors',\n",
       "       'waterfront', 'view', 'grade', 'sqft_above', 'sqft_basement',\n",
       "       'yr_built', 'yr_renovated', 'lat', 'long', 'sqft_living15',\n",
       "       'sqft_lot15'],\n",
       "      dtype='object')..."
      ],
      "text/plain": [
       "<IPython.core.display.HTML object>"
      ]
     },
     "metadata": {},
     "output_type": "display_data"
    },
    {
     "data": {
      "text/html": [
       "All done!"
      ],
      "text/plain": [
       "<IPython.core.display.HTML object>"
      ]
     },
     "metadata": {},
     "output_type": "display_data"
    },
    {
     "data": {
      "text/html": [
       "Cross-validating ${16 \\choose 1}=16$ combinations of 1 features (out of 16) over 5 folds..."
      ],
      "text/plain": [
       "<IPython.core.display.HTML object>"
      ]
     },
     "metadata": {},
     "output_type": "display_data"
    },
    {
     "name": "stdout",
     "output_type": "stream",
     "text": [
      "new best condition_no__and__rmse__and__delta_rmse score: (14.516798836349926, 0.10735813873894966, 0.0023690620909719794), from feature-set combo: ['bedrooms']\n",
      "new best condition_no__and__rmse__and__delta_rmse score: (7.7664537069252475, 0.09565957032155628, 0.001763832830605852), from feature-set combo: ['bathrooms']\n",
      "new best condition_no__and__rmse__and__delta_rmse score: (10.26365157412231, 0.08461399766273019, 0.001682632138358503), from feature-set combo: ['sqft_living']\n"
     ]
    },
    {
     "data": {
      "text/html": [
       "Cross-validating ${16 \\choose 2}=120$ combinations of 2 features (out of 16) over 5 folds..."
      ],
      "text/plain": [
       "<IPython.core.display.HTML object>"
      ]
     },
     "metadata": {},
     "output_type": "display_data"
    },
    {
     "name": "stdout",
     "output_type": "stream",
     "text": [
      "new best condition_no__and__rmse__and__delta_rmse score: (14.159445590315716, 0.08158812907546353, 0.001062272113848467), from feature-set combo: ['bathrooms', 'lat']\n"
     ]
    },
    {
     "data": {
      "text/html": [
       "Cross-validating ${16 \\choose 3}=560$ combinations of 3 features (out of 16) over 5 folds..."
      ],
      "text/plain": [
       "<IPython.core.display.HTML object>"
      ]
     },
     "metadata": {},
     "output_type": "display_data"
    },
    {
     "name": "stdout",
     "output_type": "stream",
     "text": [
      "new best condition_no__and__rmse__and__delta_rmse score: (16.776537853831446, 0.08153461958406319, 0.0007471449240130879), from feature-set combo: ['bathrooms', 'floors', 'lat']\n",
      "new best condition_no__and__rmse__and__delta_rmse score: (20.917080777541024, 0.08077469078972128, 0.00044025717996163115), from feature-set combo: ['sqft_living', 'view', 'sqft_living15']\n"
     ]
    },
    {
     "data": {
      "text/html": [
       "Cross-validating ${16 \\choose 4}=1820$ combinations of 4 features (out of 16) over 5 folds..."
      ],
      "text/plain": [
       "<IPython.core.display.HTML object>"
      ]
     },
     "metadata": {},
     "output_type": "display_data"
    },
    {
     "name": "stdout",
     "output_type": "stream",
     "text": [
      "new best condition_no__and__rmse__and__delta_rmse score: (16.78920237746081, 0.07692041229314653, 0.00034004913588719097), from feature-set combo: ['bathrooms', 'floors', 'view', 'lat']\n"
     ]
    },
    {
     "data": {
      "text/html": [
       "Cross-validating ${16 \\choose 5}=4368$ combinations of 5 features (out of 16) over 5 folds..."
      ],
      "text/plain": [
       "<IPython.core.display.HTML object>"
      ]
     },
     "metadata": {},
     "output_type": "display_data"
    },
    {
     "name": "stdout",
     "output_type": "stream",
     "text": [
      "new best condition_no__and__rmse__and__delta_rmse score: (37.35138266908184, 0.07625900194479344, 0.00030301235143612994), from feature-set combo: ['bathrooms', 'floors', 'waterfront', 'view', 'lat']\n"
     ]
    },
    {
     "data": {
      "text/html": [
       "Cross-validating ${16 \\choose 6}=8008$ combinations of 6 features (out of 16) over 5 folds..."
      ],
      "text/plain": [
       "<IPython.core.display.HTML object>"
      ]
     },
     "metadata": {},
     "output_type": "display_data"
    },
    {
     "data": {
      "text/html": [
       "Cross-validating ${16 \\choose 7}=11440$ combinations of 7 features (out of 16) over 5 folds..."
      ],
      "text/plain": [
       "<IPython.core.display.HTML object>"
      ]
     },
     "metadata": {},
     "output_type": "display_data"
    },
    {
     "data": {
      "text/html": [
       "Cross-validating ${16 \\choose 8}=12870$ combinations of 8 features (out of 16) over 5 folds..."
      ],
      "text/plain": [
       "<IPython.core.display.HTML object>"
      ]
     },
     "metadata": {},
     "output_type": "display_data"
    },
    {
     "name": "stdout",
     "output_type": "stream",
     "text": [
      "new best condition_no__and__rmse__and__delta_rmse score: (95.24045861411359, 0.0678144717847852, 0.0002927442808492664), from feature-set combo: ['bathrooms', 'sqft_lot', 'floors', 'waterfront', 'view', 'lat', 'sqft_living15', 'sqft_lot15']\n"
     ]
    },
    {
     "data": {
      "text/html": [
       "Cross-validating ${16 \\choose 9}=11440$ combinations of 9 features (out of 16) over 5 folds..."
      ],
      "text/plain": [
       "<IPython.core.display.HTML object>"
      ]
     },
     "metadata": {},
     "output_type": "display_data"
    },
    {
     "data": {
      "text/html": [
       "Cross-validating ${16 \\choose 10}=8008$ combinations of 10 features (out of 16) over 5 folds..."
      ],
      "text/plain": [
       "<IPython.core.display.HTML object>"
      ]
     },
     "metadata": {},
     "output_type": "display_data"
    },
    {
     "data": {
      "text/html": [
       "Cross-validating ${16 \\choose 11}=4368$ combinations of 11 features (out of 16) over 5 folds..."
      ],
      "text/plain": [
       "<IPython.core.display.HTML object>"
      ]
     },
     "metadata": {},
     "output_type": "display_data"
    },
    {
     "data": {
      "text/html": [
       "Cross-validating ${16 \\choose 12}=1820$ combinations of 12 features (out of 16) over 5 folds..."
      ],
      "text/plain": [
       "<IPython.core.display.HTML object>"
      ]
     },
     "metadata": {},
     "output_type": "display_data"
    },
    {
     "data": {
      "text/html": [
       "Cross-validating ${16 \\choose 13}=560$ combinations of 13 features (out of 16) over 5 folds..."
      ],
      "text/plain": [
       "<IPython.core.display.HTML object>"
      ]
     },
     "metadata": {},
     "output_type": "display_data"
    },
    {
     "data": {
      "text/html": [
       "Cross-validating ${16 \\choose 14}=120$ combinations of 14 features (out of 16) over 5 folds..."
      ],
      "text/plain": [
       "<IPython.core.display.HTML object>"
      ]
     },
     "metadata": {},
     "output_type": "display_data"
    },
    {
     "data": {
      "text/html": [
       "Cross-validating ${16 \\choose 15}=16$ combinations of 15 features (out of 16) over 5 folds..."
      ],
      "text/plain": [
       "<IPython.core.display.HTML object>"
      ]
     },
     "metadata": {},
     "output_type": "display_data"
    },
    {
     "data": {
      "text/html": [
       "Cross-validating ${16 \\choose 16}=1$ combinations of 16 features (out of 16) over 5 folds..."
      ],
      "text/plain": [
       "<IPython.core.display.HTML object>"
      ]
     },
     "metadata": {},
     "output_type": "display_data"
    },
    {
     "data": {
      "text/html": [
       "<h4>cv_selected best c = (95.24045861411359, 0.0678144717847852, 0.0002927442808492664)</h4>"
      ],
      "text/plain": [
       "<IPython.core.display.HTML object>"
      ]
     },
     "metadata": {},
     "output_type": "display_data"
    },
    {
     "data": {
      "text/html": [
       "<h4>cv_selected best feature-set combo (8 of 16 features):['bathrooms', 'sqft_lot', 'floors', 'waterfront', 'view', 'lat', 'sqft_living15', 'sqft_lot15']<h/4>"
      ],
      "text/plain": [
       "<IPython.core.display.HTML object>"
      ]
     },
     "metadata": {},
     "output_type": "display_data"
    },
    {
     "data": {
      "text/html": [
       "<h4>starting feature-set:['bedrooms', 'bathrooms', 'sqft_living', 'sqft_lot', 'floors', 'waterfront', 'view', 'grade', 'sqft_above', 'sqft_basement', 'yr_built', 'yr_renovated', 'lat', 'long', 'sqft_living15', 'sqft_lot15']</h4>"
      ],
      "text/plain": [
       "<IPython.core.display.HTML object>"
      ]
     },
     "metadata": {},
     "output_type": "display_data"
    },
    {
     "data": {
      "text/html": [
       "<h4>cv_selection suggests dropping ['sqft_above', 'sqft_basement', 'sqft_living', 'grade', 'yr_renovated', 'bedrooms', 'long', 'yr_built'].</h4>"
      ],
      "text/plain": [
       "<IPython.core.display.HTML object>"
      ]
     },
     "metadata": {},
     "output_type": "display_data"
    }
   ],
   "source": [
    "to_drop = []\n",
    "# select based on minimal RMSE and delta RMSE between 5 test/train k-folds\n",
    "(cv_sel_features, condition_no_and_rmse_and_delta_rmse, to_drop) = scjpnregression.cv_selection(\n",
    "    kchd_transformed_and_scaled_df.drop(target, axis=1)\n",
    "    , kchd_transformed_and_scaled_df[[target]]\n",
    "    , folds=5\n",
    "    , scoring_method=scjpnregression.condition_no_and_rmse_and_delta_rmse\n",
    ")"
   ]
  },
  {
   "cell_type": "code",
   "execution_count": 12,
   "metadata": {},
   "outputs": [
    {
     "name": "stdout",
     "output_type": "stream",
     "text": [
      "updated kc_cv_sel_optimized_features.csv\n"
     ]
    }
   ],
   "source": [
    "optimized_feature_subset_df = pd.DataFrame(\n",
    "    {\n",
    "        'cv_sel_features': [cv_sel_features] \n",
    "        , 'rmse': condition_no_and_rmse_and_delta_rmse[1]\n",
    "        , 'delta_rmse': condition_no_and_rmse_and_delta_rmse[2]\n",
    "        , 'cond_no': condition_no_and_rmse_and_delta_rmse[0]\n",
    "        , 'to_drop': [to_drop]\n",
    "    }\n",
    "    , columns=['cv_sel_features', 'rmse', 'delta_rmse', 'cond_no', 'to_drop']\n",
    ")\n",
    "fname = 'kc_cv_sel_optimized_features.csv'\n",
    "optimized_feature_subset_df.set_index('cv_sel_features').to_csv(fname, sep=',')\n",
    "print(\"updated {}\".format(fname))"
   ]
  },
  {
   "cell_type": "code",
   "execution_count": 13,
   "metadata": {},
   "outputs": [
    {
     "data": {
      "text/html": [
       "<div>\n",
       "<style scoped>\n",
       "    .dataframe tbody tr th:only-of-type {\n",
       "        vertical-align: middle;\n",
       "    }\n",
       "\n",
       "    .dataframe tbody tr th {\n",
       "        vertical-align: top;\n",
       "    }\n",
       "\n",
       "    .dataframe thead th {\n",
       "        text-align: right;\n",
       "    }\n",
       "</style>\n",
       "<table border=\"1\" class=\"dataframe\">\n",
       "  <thead>\n",
       "    <tr style=\"text-align: right;\">\n",
       "      <th></th>\n",
       "      <th>cv_sel_features</th>\n",
       "      <th>rmse</th>\n",
       "      <th>delta_rmse</th>\n",
       "      <th>cond_no</th>\n",
       "      <th>to_drop</th>\n",
       "    </tr>\n",
       "  </thead>\n",
       "  <tbody>\n",
       "    <tr>\n",
       "      <th>0</th>\n",
       "      <td>['bathrooms', 'sqft_lot', 'floors', 'waterfron...</td>\n",
       "      <td>0.067814</td>\n",
       "      <td>0.000293</td>\n",
       "      <td>95.240459</td>\n",
       "      <td>['sqft_above', 'sqft_basement', 'sqft_living',...</td>\n",
       "    </tr>\n",
       "  </tbody>\n",
       "</table>\n",
       "</div>"
      ],
      "text/plain": [
       "                                     cv_sel_features      rmse  delta_rmse  \\\n",
       "0  ['bathrooms', 'sqft_lot', 'floors', 'waterfron...  0.067814    0.000293   \n",
       "\n",
       "     cond_no                                            to_drop  \n",
       "0  95.240459  ['sqft_above', 'sqft_basement', 'sqft_living',...  "
      ]
     },
     "execution_count": 13,
     "metadata": {},
     "output_type": "execute_result"
    }
   ],
   "source": [
    "optimized_feature_subset_df = None\n",
    "optimized_feature_subset_df = pd.read_csv(fname)\n",
    "optimized_feature_subset_df"
   ]
  }
 ],
 "metadata": {
  "file_extension": ".py",
  "kernelspec": {
   "display_name": "Python [conda env:learn-env] *",
   "language": "python",
   "name": "conda-env-learn-env-py"
  },
  "language_info": {
   "codemirror_mode": {
    "name": "ipython",
    "version": 3
   },
   "file_extension": ".py",
   "mimetype": "text/x-python",
   "name": "python",
   "nbconvert_exporter": "python",
   "pygments_lexer": "ipython3",
   "version": "3.6.9"
  },
  "mimetype": "text/x-python",
  "name": "python",
  "npconvert_exporter": "python",
  "pygments_lexer": "ipython3",
  "version": 3
 },
 "nbformat": 4,
 "nbformat_minor": 2
}
