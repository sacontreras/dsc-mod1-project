{
 "cells": [
  {
   "cell_type": "markdown",
   "metadata": {},
   "source": [
    "# Cross-Validation Forward Selection of Features\n",
    "\n",
    "<h1><font color=\"red\">*** WARNING!!!  This takes a VERY LONG TIME to complete!!! ***</font></h1>\n",
    "\n",
    "DO NOT RELOAD THIS PAGE unless you are comitted to overwriting the previously optimized feature-set/model and you have hours to spare to wait for it to complete!"
   ]
  },
  {
   "cell_type": "code",
   "execution_count": 1,
   "metadata": {},
   "outputs": [],
   "source": [
    "import pandas as pd\n",
    "from IPython.core.display import HTML\n",
    "import numpy as np\n",
    "import scjpnlib.utils as scjpnutils\n",
    "import scjpnlib.regression.api as scjpnregression\n",
    "\n",
    "kchd_transformed_and_scaled_df = pd.read_csv('kc_house_transformed_and_scaled_data.csv')\n",
    "target = 'price'\n",
    "kchd_transformed_and_scaled_df = kchd_transformed_and_scaled_df.drop(['id', 'date'], axis=1)"
   ]
  },
  {
   "cell_type": "code",
   "execution_count": 2,
   "metadata": {
    "scrolled": false
   },
   "outputs": [
    {
     "data": {
      "text/html": [
       "<br><br>Builing all $\\sum_{i=1}^{15}{15 \\choose i}=$ ${15 \\choose 1}$ + ${15 \\choose 2}$ + ${15 \\choose 3}$ + ${15 \\choose 4}$ + ${15 \\choose 5}$ + ${15 \\choose 6}$ + ${15 \\choose 7}$ + ${15 \\choose 8}$ + ${15 \\choose 9}$ + ${15 \\choose 10}$ + ${15 \\choose 11}$ + ${15 \\choose 12}$ + ${15 \\choose 13}$ + ${15 \\choose 14}$ + ${15 \\choose 15}$ $=32767$ combinations of feature set: Index(['bedrooms', 'bathrooms', 'sqft_living', 'sqft_lot', 'floors',\n",
       "       'waterfront', 'view', 'grade', 'sqft_above', 'sqft_basement',\n",
       "       'yr_built', 'yr_renovated', 'lat', 'sqft_living15', 'sqft_lot15'],\n",
       "      dtype='object')..."
      ],
      "text/plain": [
       "<IPython.core.display.HTML object>"
      ]
     },
     "metadata": {},
     "output_type": "display_data"
    },
    {
     "data": {
      "text/html": [
       "All done!"
      ],
      "text/plain": [
       "<IPython.core.display.HTML object>"
      ]
     },
     "metadata": {},
     "output_type": "display_data"
    },
    {
     "data": {
      "text/html": [
       "Cross-validating ${15 \\choose 1}=15$ combinations of 1 features (out of 15) over 5 folds..."
      ],
      "text/plain": [
       "<IPython.core.display.HTML object>"
      ]
     },
     "metadata": {},
     "output_type": "display_data"
    },
    {
     "name": "stdout",
     "output_type": "stream",
     "text": [
      "new best condition_no__and__pvals__and__rsquared__and__rsquared_adj__and__rmse__and__delta_rmse score: (10.550688747476446, 0.11775715616091698, 0.11770608743809796, [0.0], 0.10768531606868144, 0.002274986264081266), from feature-set combo: ['bedrooms']\n",
      "new best condition_no__and__pvals__and__rsquared__and__rsquared_adj__and__rmse__and__delta_rmse score: (8.824142016689917, 0.27057695846583263, 0.27053473573276826, [0.0], 0.09791503790664277, 0.0016765407315861875), from feature-set combo: ['bathrooms']\n",
      "new best condition_no__and__pvals__and__rsquared__and__rsquared_adj__and__rmse__and__delta_rmse score: (10.26365157412231, 0.4552909082419676, 0.45525937769767, [0.0], 0.08461399766273019, 0.001682632138358503), from feature-set combo: ['sqft_living']\n",
      "new best condition_no__and__pvals__and__rsquared__and__rsquared_adj__and__rmse__and__delta_rmse score: (13.767845660088895, 0.48136343478424226, 0.4813334134535944, [0.0], 0.08256409301628045, 0.002045454571821359), from feature-set combo: ['grade']\n"
     ]
    },
    {
     "data": {
      "text/html": [
       "Cross-validating ${15 \\choose 2}=105$ combinations of 2 features (out of 15) over 5 folds..."
      ],
      "text/plain": [
       "<IPython.core.display.HTML object>"
      ]
     },
     "metadata": {},
     "output_type": "display_data"
    },
    {
     "name": "stdout",
     "output_type": "stream",
     "text": [
      "new best condition_no__and__pvals__and__rsquared__and__rsquared_adj__and__rmse__and__delta_rmse score: (15.923066867097887, 0.4870156873669945, 0.486956295630698, [1.4534194234020623e-37, 0.0], 0.08211290807117419, 0.0021357415130259377), from feature-set combo: ['bedrooms', 'grade']\n",
      "new best condition_no__and__pvals__and__rsquared__and__rsquared_adj__and__rmse__and__delta_rmse score: (19.82066211305974, 0.48878032749399375, 0.48872114006081524, [2.562342206400106e-50, 0.0], 0.08197159440863623, 0.001921886035632242), from feature-set combo: ['bathrooms', 'grade']\n",
      "new best condition_no__and__pvals__and__rsquared__and__rsquared_adj__and__rmse__and__delta_rmse score: (23.600568574434746, 0.537580071699027, 0.5375265341503335, [0.0, 0.0], 0.07796079762536226, 0.0023348710505887993), from feature-set combo: ['sqft_living', 'grade']\n",
      "new best condition_no__and__pvals__and__rsquared__and__rsquared_adj__and__rmse__and__delta_rmse score: (12.050135210491108, 0.6344423064125542, 0.6343999832751551, [0.0, 0.0], 0.06931660895085082, 0.002122631325212526), from feature-set combo: ['sqft_living', 'lat']\n"
     ]
    },
    {
     "data": {
      "text/html": [
       "Cross-validating ${15 \\choose 3}=455$ combinations of 3 features (out of 15) over 5 folds..."
      ],
      "text/plain": [
       "<IPython.core.display.HTML object>"
      ]
     },
     "metadata": {},
     "output_type": "display_data"
    },
    {
     "name": "stdout",
     "output_type": "stream",
     "text": [
      "new best condition_no__and__pvals__and__rsquared__and__rsquared_adj__and__rmse__and__delta_rmse score: (19.78431337044692, 0.6436462125061941, 0.643584322618368, [1.5157935408070504e-88, 0.0, 0.0], 0.06843830623303626, 0.0022386777766468247), from feature-set combo: ['bedrooms', 'sqft_living', 'lat']\n",
      "new best condition_no__and__pvals__and__rsquared__and__rsquared_adj__and__rmse__and__delta_rmse score: (15.782871328255833, 0.649910103925051, 0.6498493019152747, [0.0, 2.13080883973331e-140, 0.0], 0.06783401080424295, 0.0018959551997890373), from feature-set combo: ['sqft_living', 'waterfront', 'lat']\n",
      "new best condition_no__and__pvals__and__rsquared__and__rsquared_adj__and__rmse__and__delta_rmse score: (12.439797038053204, 0.6645193374235167, 0.6644610726822645, [0.0, 6.937073343407787e-306, 0.0], 0.06640359178363486, 0.0016295568260861592), from feature-set combo: ['sqft_living', 'view', 'lat']\n",
      "new best condition_no__and__pvals__and__rsquared__and__rsquared_adj__and__rmse__and__delta_rmse score: (26.69388491949776, 0.6890761612394088, 0.6890221614170497, [0.0, 0.0, 0.0], 0.06392699541293148, 0.0021993746358942913), from feature-set combo: ['sqft_living', 'grade', 'lat']\n"
     ]
    },
    {
     "data": {
      "text/html": [
       "Cross-validating ${15 \\choose 4}=1365$ combinations of 4 features (out of 15) over 5 folds..."
      ],
      "text/plain": [
       "<IPython.core.display.HTML object>"
      ]
     },
     "metadata": {},
     "output_type": "display_data"
    },
    {
     "name": "stdout",
     "output_type": "stream",
     "text": [
      "new best condition_no__and__pvals__and__rsquared__and__rsquared_adj__and__rmse__and__delta_rmse score: (32.06502583348153, 0.6924191616552196, 0.6923479318980863, [1.8016032382845093e-40, 0.0, 0.0, 0.0], 0.06358234338380835, 0.002222953946072499), from feature-set combo: ['bedrooms', 'sqft_living', 'grade', 'lat']\n",
      "new best condition_no__and__pvals__and__rsquared__and__rsquared_adj__and__rmse__and__delta_rmse score: (24.451230919310753, 0.6937688436440426, 0.69369792643981, [0.0, 0.0, 0.0, 0.0], 0.0634430943638002, 0.0012475973016535815), from feature-set combo: ['bathrooms', 'grade', 'yr_built', 'lat']\n",
      "new best condition_no__and__pvals__and__rsquared__and__rsquared_adj__and__rmse__and__delta_rmse score: (26.694764111890144, 0.7031667560049791, 0.7030980151773752, [0.0, 1.2493999141170754e-151, 0.0, 0.0], 0.06246138578780628, 0.002156951336239413), from feature-set combo: ['sqft_living', 'waterfront', 'grade', 'lat']\n",
      "new best condition_no__and__pvals__and__rsquared__and__rsquared_adj__and__rmse__and__delta_rmse score: (26.765836734891035, 0.7137413911246966, 0.7136750991815812, [0.0, 2.4748571691167297e-295, 0.0, 0.0], 0.0613385564857173, 0.002001830624684854), from feature-set combo: ['sqft_living', 'view', 'grade', 'lat']\n",
      "new best condition_no__and__pvals__and__rsquared__and__rsquared_adj__and__rmse__and__delta_rmse score: (30.064849241988902, 0.72539984788922, 0.7253362558148803, [0.0, 0.0, 0.0, 0.0], 0.06007740751568282, 0.001499040814742053), from feature-set combo: ['sqft_living', 'grade', 'yr_built', 'lat']\n"
     ]
    },
    {
     "data": {
      "text/html": [
       "Cross-validating ${15 \\choose 5}=3003$ combinations of 5 features (out of 15) over 5 folds..."
      ],
      "text/plain": [
       "<IPython.core.display.HTML object>"
      ]
     },
     "metadata": {},
     "output_type": "display_data"
    },
    {
     "name": "stdout",
     "output_type": "stream",
     "text": [
      "new best condition_no__and__pvals__and__rsquared__and__rsquared_adj__and__rmse__and__delta_rmse score: (35.28986693618539, 0.7286888703108264, 0.7286103277631725, [6.700559148518231e-45, 0.0, 0.0, 0.0, 0.0], 0.0597165113780991, 0.0015170804041668956), from feature-set combo: ['bedrooms', 'sqft_living', 'grade', 'yr_built', 'lat']\n",
      "new best condition_no__and__pvals__and__rsquared__and__rsquared_adj__and__rmse__and__delta_rmse score: (30.07976478761259, 0.7364744617407839, 0.7363981730582532, [0.0, 2.438226054018627e-130, 0.0, 0.0, 0.0], 0.05885323048028448, 0.0012572668071478027), from feature-set combo: ['sqft_living', 'waterfront', 'grade', 'yr_built', 'lat']\n",
      "new best condition_no__and__pvals__and__rsquared__and__rsquared_adj__and__rmse__and__delta_rmse score: (30.19704663176019, 0.7400631674230095, 0.739987917648217, [0.0, 4.8453106591852533e-194, 0.0, 0.0, 0.0], 0.05845102100906614, 0.001147086531639928), from feature-set combo: ['sqft_living', 'view', 'grade', 'yr_built', 'lat']\n"
     ]
    },
    {
     "data": {
      "text/html": [
       "Cross-validating ${15 \\choose 6}=5005$ combinations of 6 features (out of 15) over 5 folds..."
      ],
      "text/plain": [
       "<IPython.core.display.HTML object>"
      ]
     },
     "metadata": {},
     "output_type": "display_data"
    },
    {
     "name": "stdout",
     "output_type": "stream",
     "text": [
      "new best condition_no__and__pvals__and__rsquared__and__rsquared_adj__and__rmse__and__delta_rmse score: (35.364456763625455, 0.7420954909178263, 0.7420058920114287, [6.604953457177431e-30, 0.0, 1.9584069204638948e-179, 0.0, 0.0, 0.0], 0.05822209600561814, 0.0011758322159449968), from feature-set combo: ['bedrooms', 'sqft_living', 'view', 'grade', 'yr_built', 'lat']\n",
      "new best condition_no__and__pvals__and__rsquared__and__rsquared_adj__and__rmse__and__delta_rmse score: (33.35634340523099, 0.7425862746810198, 0.7424968462794078, [1.7594327021432105e-36, 0.0, 5.785095688092127e-192, 0.0, 0.0, 0.0], 0.05816662230153626, 0.001191974377453929), from feature-set combo: ['bathrooms', 'sqft_living', 'view', 'grade', 'yr_built', 'lat']\n",
      "new best condition_no__and__pvals__and__rsquared__and__rsquared_adj__and__rmse__and__delta_rmse score: (30.910731377433223, 0.7429434782250496, 0.7428541739196766, [0.0, 2.117466931780817e-38, 3.2183940130038305e-205, 0.0, 0.0, 0.0], 0.058126323248621395, 0.0012643655662827422), from feature-set combo: ['sqft_living', 'floors', 'view', 'grade', 'yr_built', 'lat']\n",
      "new best condition_no__and__pvals__and__rsquared__and__rsquared_adj__and__rmse__and__delta_rmse score: (30.19975697853023, 0.7464400856415411, 0.7463519960910934, [0.0, 3.1461787656813674e-76, 1.4658399756235163e-133, 0.0, 0.0, 0.0], 0.05772949518437972, 0.0010802272844694732), from feature-set combo: ['sqft_living', 'waterfront', 'view', 'grade', 'yr_built', 'lat']\n"
     ]
    },
    {
     "data": {
      "text/html": [
       "Cross-validating ${15 \\choose 7}=6435$ combinations of 7 features (out of 15) over 5 folds..."
      ],
      "text/plain": [
       "<IPython.core.display.HTML object>"
      ]
     },
     "metadata": {},
     "output_type": "display_data"
    },
    {
     "name": "stdout",
     "output_type": "stream",
     "text": [
      "new best condition_no__and__pvals__and__rsquared__and__rsquared_adj__and__rmse__and__delta_rmse score: (35.3806316399191, 0.7480993546928676, 0.747997250162222, [2.6935402946191154e-25, 0.0, 2.355564471920779e-72, 2.4902423485695177e-124, 0.0, 0.0, 0.0], 0.05754032307978933, 0.0011055174676317045), from feature-set combo: ['bedrooms', 'sqft_living', 'waterfront', 'view', 'grade', 'yr_built', 'lat']\n",
      "new best condition_no__and__pvals__and__rsquared__and__rsquared_adj__and__rmse__and__delta_rmse score: (33.35808318619975, 0.748971300714597, 0.7488695496164592, [8.012232457742251e-38, 0.0, 3.313582573452498e-77, 7.161186339914008e-132, 0.0, 0.0, 0.0], 0.05744057432923905, 0.0010738206954267388), from feature-set combo: ['bathrooms', 'sqft_living', 'waterfront', 'view', 'grade', 'yr_built', 'lat']\n",
      "new best condition_no__and__pvals__and__rsquared__and__rsquared_adj__and__rmse__and__delta_rmse score: (30.91250949971615, 0.7491680962288692, 0.7490664248988972, [0.0, 6.961014386302619e-38, 2.764027389455639e-75, 5.574323827560589e-143, 0.0, 0.0, 0.0], 0.05741815218933584, 0.0011674407894557855), from feature-set combo: ['sqft_living', 'floors', 'waterfront', 'view', 'grade', 'yr_built', 'lat']\n",
      "new best condition_no__and__pvals__and__rsquared__and__rsquared_adj__and__rmse__and__delta_rmse score: (32.89436065799037, 0.7492858689467751, 0.7491842453548152, [0.0, 4.950085373861837e-48, 1.539187006774974e-179, 0.0, 0.0, 0.0, 3.3310169351979763e-87], 0.057404672258675585, 0.0008031129345632826), from feature-set combo: ['sqft_living', 'floors', 'view', 'grade', 'yr_built', 'lat', 'sqft_living15']\n",
      "new best condition_no__and__pvals__and__rsquared__and__rsquared_adj__and__rmse__and__delta_rmse score: (32.27274355790411, 0.7521003632540296, 0.7519998804722885, [0.0, 1.1455834589158006e-78, 3.3581985031103983e-113, 0.0, 0.0, 0.0, 6.4755955671240945e-77], 0.057081279537741766, 0.0005112610564637507), from feature-set combo: ['sqft_living', 'waterfront', 'view', 'grade', 'yr_built', 'lat', 'sqft_living15']\n"
     ]
    },
    {
     "data": {
      "text/html": [
       "Cross-validating ${15 \\choose 8}=6435$ combinations of 8 features (out of 15) over 5 folds..."
      ],
      "text/plain": [
       "<IPython.core.display.HTML object>"
      ]
     },
     "metadata": {},
     "output_type": "display_data"
    },
    {
     "name": "stdout",
     "output_type": "stream",
     "text": [
      "new best condition_no__and__pvals__and__rsquared__and__rsquared_adj__and__rmse__and__delta_rmse score: (38.27928237820138, 0.7534210976666033, 0.7533068654069532, [2.1978919291429864e-19, 0.0, 5.640794036318339e-75, 3.1327597222813254e-106, 0.0, 0.0, 0.0, 4.611385443516906e-72], 0.056929063735484675, 0.0005298197959864401), from feature-set combo: ['bedrooms', 'sqft_living', 'waterfront', 'view', 'grade', 'yr_built', 'lat', 'sqft_living15']\n",
      "new best condition_no__and__pvals__and__rsquared__and__rsquared_adj__and__rmse__and__delta_rmse score: (36.497476679087164, 0.7552502165752552, 0.7551368316899837, [9.619930420625826e-48, 9.1063692320017e-204, 5.457851877622658e-80, 3.66162564520398e-110, 0.0, 0.0, 0.0, 4.451217170189879e-87], 0.05671742698130315, 0.0005348228704068439), from feature-set combo: ['bathrooms', 'sqft_living', 'waterfront', 'view', 'grade', 'yr_built', 'lat', 'sqft_living15']\n",
      "new best condition_no__and__pvals__and__rsquared__and__rsquared_adj__and__rmse__and__delta_rmse score: (32.89593682600171, 0.7555496652614098, 0.7554364191013175, [0.0, 1.1641961109129056e-47, 8.451435374366471e-78, 1.038867619172916e-121, 0.0, 0.0, 0.0, 1.4272889914565392e-89], 0.05668290352204949, 0.000645726225512934), from feature-set combo: ['sqft_living', 'floors', 'waterfront', 'view', 'grade', 'yr_built', 'lat', 'sqft_living15']\n"
     ]
    },
    {
     "data": {
      "text/html": [
       "Cross-validating ${15 \\choose 9}=5005$ combinations of 9 features (out of 15) over 5 folds..."
      ],
      "text/plain": [
       "<IPython.core.display.HTML object>"
      ]
     },
     "metadata": {},
     "output_type": "display_data"
    },
    {
     "name": "stdout",
     "output_type": "stream",
     "text": [
      "new best condition_no__and__pvals__and__rsquared__and__rsquared_adj__and__rmse__and__delta_rmse score: (41.58159624773871, 0.7571893553078008, 0.7570628006187905, [1.4622125143234916e-28, 1.2745169201435835e-57, 1.4736713664198573e-227, 1.2531156335082183e-75, 1.679339455985073e-101, 0.0, 0.0, 0.0, 3.81690550705616e-82], 0.05649235297275238, 0.0005841920018077318), from feature-set combo: ['bedrooms', 'bathrooms', 'sqft_living', 'waterfront', 'view', 'grade', 'yr_built', 'lat', 'sqft_living15']\n",
      "new best condition_no__and__pvals__and__rsquared__and__rsquared_adj__and__rmse__and__delta_rmse score: (37.24354226328727, 0.7575810223793227, 0.7574546718302634, [4.611410745211588e-31, 6.141893926959314e-203, 8.537759967440722e-33, 5.410947056370398e-79, 9.551772163331528e-118, 0.0, 0.0, 0.0, 3.280480802964545e-96], 0.056446825056661966, 0.0006401669920396841), from feature-set combo: ['bathrooms', 'sqft_living', 'floors', 'waterfront', 'view', 'grade', 'yr_built', 'lat', 'sqft_living15']\n"
     ]
    },
    {
     "data": {
      "text/html": [
       "Cross-validating ${15 \\choose 10}=3003$ combinations of 10 features (out of 15) over 5 folds..."
      ],
      "text/plain": [
       "<IPython.core.display.HTML object>"
      ]
     },
     "metadata": {},
     "output_type": "display_data"
    },
    {
     "name": "stdout",
     "output_type": "stream",
     "text": [
      "new best condition_no__and__pvals__and__rsquared__and__rsquared_adj__and__rmse__and__delta_rmse score: (43.47206420537473, 0.7580583050472376, 0.7579181838392905, [5.636356139429766e-29, 2.3491579171866346e-44, 3.2197519009565943e-233, 2.0987780610349735e-08, 2.87096700695363e-78, 1.2296178555265725e-100, 0.0, 0.0, 0.0, 1.1769073123654882e-94], 0.05639127363264592, 0.0007005793708963093), from feature-set combo: ['bedrooms', 'bathrooms', 'sqft_living', 'sqft_lot', 'waterfront', 'view', 'grade', 'yr_built', 'lat', 'sqft_living15']\n",
      "new best condition_no__and__pvals__and__rsquared__and__rsquared_adj__and__rmse__and__delta_rmse score: (42.21580098751788, 0.7593236263224805, 0.7591842379272509, [4.3867952495879275e-26, 3.033131325312945e-39, 1.4363559866504666e-223, 2.5440818411852624e-30, 6.594260925252949e-75, 7.774246220805257e-109, 0.0, 0.0, 0.0, 5.237256429588082e-91], 0.0562436156123741, 0.0006729157731915916), from feature-set combo: ['bedrooms', 'bathrooms', 'sqft_living', 'floors', 'waterfront', 'view', 'grade', 'yr_built', 'lat', 'sqft_living15']\n"
     ]
    },
    {
     "data": {
      "text/html": [
       "Cross-validating ${15 \\choose 11}=1365$ combinations of 11 features (out of 15) over 5 folds..."
      ],
      "text/plain": [
       "<IPython.core.display.HTML object>"
      ]
     },
     "metadata": {},
     "output_type": "display_data"
    },
    {
     "name": "stdout",
     "output_type": "stream",
     "text": [
      "new best condition_no__and__pvals__and__rsquared__and__rsquared_adj__and__rmse__and__delta_rmse score: (44.00206312835222, 0.7595673523463178, 0.7594141715112906, [2.1927075986862806e-26, 8.574121527838375e-35, 7.459593794128562e-220, 0.0036381478789940247, 3.8146052724955156e-24, 1.8175060319611487e-76, 2.763456575670597e-107, 0.0, 0.0, 0.0, 3.7500843896893304e-95], 0.05621516343933689, 0.0007178883423025764), from feature-set combo: ['bedrooms', 'bathrooms', 'sqft_living', 'sqft_lot', 'floors', 'waterfront', 'view', 'grade', 'yr_built', 'lat', 'sqft_living15']\n",
      "new best condition_no__and__pvals__and__rsquared__and__rsquared_adj__and__rmse__and__delta_rmse score: (43.635162321313196, 0.7598741641952804, 0.7597211788317683, [1.011865440756757e-26, 2.4349621903610987e-33, 5.131976816015594e-229, 4.897342790513398e-22, 5.961623848274073e-78, 2.1698995673386668e-106, 0.0, 0.0, 0.0, 1.2029390625943664e-99, 7.854422135752096e-08], 0.05617929702343337, 0.0007296684417201743), from feature-set combo: ['bedrooms', 'bathrooms', 'sqft_living', 'floors', 'waterfront', 'view', 'grade', 'yr_built', 'lat', 'sqft_living15', 'sqft_lot15']\n"
     ]
    },
    {
     "data": {
      "text/html": [
       "Cross-validating ${15 \\choose 12}=455$ combinations of 12 features (out of 15) over 5 folds..."
      ],
      "text/plain": [
       "<IPython.core.display.HTML object>"
      ]
     },
     "metadata": {},
     "output_type": "display_data"
    },
    {
     "name": "stdout",
     "output_type": "stream",
     "text": [
      "new best condition_no__and__pvals__and__rsquared__and__rsquared_adj__and__rmse__and__delta_rmse score: (60.15603962774869, 0.7600147248229634, 0.7598479197301732, [1.7034437834133883e-26, 6.0431171507579655e-34, 1.194257909473459e-216, 0.013221356947290874, 6.710415931199513e-23, 2.6880950792543917e-78, 2.0837128833519118e-106, 0.0, 0.0, 0.0, 4.5480446982190706e-100, 6.324923810373613e-07], 0.05616283451155377, 0.0006898341319611367), from feature-set combo: ['bedrooms', 'bathrooms', 'sqft_living', 'sqft_lot', 'floors', 'waterfront', 'view', 'grade', 'yr_built', 'lat', 'sqft_living15', 'sqft_lot15']\n",
      "new best condition_no__and__pvals__and__rsquared__and__rsquared_adj__and__rmse__and__delta_rmse score: (102.29472993837332, 0.7603640480569114, 0.7601974857661069, [1.319327495041632e-25, 9.175213173124327e-36, 1.4901265008196955e-16, 9.179721728295001e-16, 1.4203009518784084e-75, 9.88399137835698e-103, 0.0, 2.240313339421387e-15, 2.1599981137407716e-14, 0.0, 0.0, 9.803540221763657e-88], 0.05612193484159607, 0.0007066755866411714), from feature-set combo: ['bedrooms', 'bathrooms', 'sqft_living', 'floors', 'waterfront', 'view', 'grade', 'sqft_above', 'sqft_basement', 'yr_built', 'lat', 'sqft_living15']\n"
     ]
    },
    {
     "data": {
      "text/html": [
       "Cross-validating ${15 \\choose 13}=105$ combinations of 13 features (out of 15) over 5 folds..."
      ],
      "text/plain": [
       "<IPython.core.display.HTML object>"
      ]
     },
     "metadata": {},
     "output_type": "display_data"
    },
    {
     "name": "stdout",
     "output_type": "stream",
     "text": [
      "new best condition_no__and__pvals__and__rsquared__and__rsquared_adj__and__rmse__and__delta_rmse score: (103.88014408645002, 0.7606196688672677, 0.7604394084243487, [3.51689379904877e-26, 2.011784985499452e-33, 3.710796843889527e-17, 0.0003878107316724474, 1.5954789889014405e-10, 3.1024625926108904e-77, 4.2621450966401347e-103, 0.0, 7.212912053409284e-17, 6.920618916949084e-14, 0.0, 0.0, 7.750150262771042e-92], 0.05609202655498915, 0.0007450943331315935), from feature-set combo: ['bedrooms', 'bathrooms', 'sqft_living', 'sqft_lot', 'floors', 'waterfront', 'view', 'grade', 'sqft_above', 'sqft_basement', 'yr_built', 'lat', 'sqft_living15']\n",
      "new best condition_no__and__pvals__and__rsquared__and__rsquared_adj__and__rmse__and__delta_rmse score: (103.93056899667333, 0.7609303171718823, 0.7607502906562312, [1.2350666026712244e-26, 1.9401338610558007e-32, 1.4995484646503804e-17, 1.8689635751598595e-08, 9.394694349032565e-79, 9.605497592782293e-103, 0.0, 2.8688363306032006e-17, 2.0336931322445954e-13, 0.0, 0.0, 8.044744871926026e-96, 2.122550797043089e-09], 0.0560556284860483, 0.0007469646952531911), from feature-set combo: ['bedrooms', 'bathrooms', 'sqft_living', 'floors', 'waterfront', 'view', 'grade', 'sqft_above', 'sqft_basement', 'yr_built', 'lat', 'sqft_living15', 'sqft_lot15']\n"
     ]
    },
    {
     "data": {
      "text/html": [
       "Cross-validating ${15 \\choose 14}=15$ combinations of 14 features (out of 15) over 5 folds..."
      ],
      "text/plain": [
       "<IPython.core.display.HTML object>"
      ]
     },
     "metadata": {},
     "output_type": "display_data"
    },
    {
     "name": "stdout",
     "output_type": "stream",
     "text": [
      "new best condition_no__and__pvals__and__rsquared__and__rsquared_adj__and__rmse__and__delta_rmse score: (105.5054516256652, 0.7610393291292644, 0.7608455315973847, [2.5725871520353566e-26, 1.1020224473693772e-32, 4.28575010878199e-17, 0.023731786417649947, 1.1845029436247903e-09, 5.1646700282341175e-79, 2.4976310983916635e-102, 0.0, 1.5940789109484996e-16, 1.7316526061316626e-13, 0.0, 0.0, 1.7343039738342445e-96, 1.747182558049284e-06], 0.05604283279062213, 0.0007157040901347625), from feature-set combo: ['bedrooms', 'bathrooms', 'sqft_living', 'sqft_lot', 'floors', 'waterfront', 'view', 'grade', 'sqft_above', 'sqft_basement', 'yr_built', 'lat', 'sqft_living15', 'sqft_lot15']\n",
      "new best condition_no__and__pvals__and__rsquared__and__rsquared_adj__and__rmse__and__delta_rmse score: (103.94660321220196, 0.7611039882001053, 0.7609102431084201, [7.925553532223526e-26, 3.722308938738878e-30, 1.6496938267647893e-17, 4.0383032181331287e-08, 3.5055752225807674e-77, 3.2941533551279518e-102, 0.0, 3.112914116338648e-17, 1.6870506163159702e-13, 0.0, 0.0009219188961109709, 0.0, 5.183533201645353e-97, 1.0594911058753704e-09], 0.05603525972882513, 0.0007618289064086723), from feature-set combo: ['bedrooms', 'bathrooms', 'sqft_living', 'floors', 'waterfront', 'view', 'grade', 'sqft_above', 'sqft_basement', 'yr_built', 'yr_renovated', 'lat', 'sqft_living15', 'sqft_lot15']\n"
     ]
    },
    {
     "data": {
      "text/html": [
       "Cross-validating ${15 \\choose 15}=1$ combinations of 15 features (out of 15) over 5 folds..."
      ],
      "text/plain": [
       "<IPython.core.display.HTML object>"
      ]
     },
     "metadata": {},
     "output_type": "display_data"
    },
    {
     "name": "stdout",
     "output_type": "stream",
     "text": [
      "new best condition_no__and__pvals__and__rsquared__and__rsquared_adj__and__rmse__and__delta_rmse score: (105.52128547158675, 0.7612181952585688, 0.7610106984489889, [1.6956789693259758e-25, 2.295652877867353e-30, 4.7770946242972186e-17, 0.02031879518259751, 2.6428217194472188e-09, 2.0132856219142508e-77, 9.025852903402096e-102, 0.0, 1.8246667569281329e-16, 1.428081451151546e-13, 0.0, 0.0007500595305904438, 0.0, 9.995403734530041e-98, 1.011218377000597e-06], 0.05602185077003358, 0.0007305870888124899), from feature-set combo: ['bedrooms', 'bathrooms', 'sqft_living', 'sqft_lot', 'floors', 'waterfront', 'view', 'grade', 'sqft_above', 'sqft_basement', 'yr_built', 'yr_renovated', 'lat', 'sqft_living15', 'sqft_lot15']\n"
     ]
    },
    {
     "data": {
      "text/html": [
       "<table border=\"1\" class=\"dataframe\">\n",
       "  <thead>\n",
       "    <tr style=\"text-align: right;\">\n",
       "      <th></th>\n",
       "      <th>n_features</th>\n",
       "      <th>features</th>\n",
       "      <th>condition_no</th>\n",
       "      <th>rsquared</th>\n",
       "      <th>rsquared_adj</th>\n",
       "      <th>pvals</th>\n",
       "      <th>rmse</th>\n",
       "      <th>delta_rmse</th>\n",
       "    </tr>\n",
       "  </thead>\n",
       "  <tbody>\n",
       "    <tr>\n",
       "      <th>0</th>\n",
       "      <td>1</td>\n",
       "      <td>[bedrooms]</td>\n",
       "      <td>10.550689</td>\n",
       "      <td>0.117757</td>\n",
       "      <td>0.117706</td>\n",
       "      <td>[0.0]</td>\n",
       "      <td>0.107685</td>\n",
       "      <td>0.002275</td>\n",
       "    </tr>\n",
       "    <tr>\n",
       "      <th>1</th>\n",
       "      <td>1</td>\n",
       "      <td>[bathrooms]</td>\n",
       "      <td>8.824142</td>\n",
       "      <td>0.270577</td>\n",
       "      <td>0.270535</td>\n",
       "      <td>[0.0]</td>\n",
       "      <td>0.097915</td>\n",
       "      <td>0.001677</td>\n",
       "    </tr>\n",
       "    <tr>\n",
       "      <th>2</th>\n",
       "      <td>1</td>\n",
       "      <td>[sqft_living]</td>\n",
       "      <td>10.263652</td>\n",
       "      <td>0.455291</td>\n",
       "      <td>0.455259</td>\n",
       "      <td>[0.0]</td>\n",
       "      <td>0.084614</td>\n",
       "      <td>0.001683</td>\n",
       "    </tr>\n",
       "    <tr>\n",
       "      <th>3</th>\n",
       "      <td>1</td>\n",
       "      <td>[grade]</td>\n",
       "      <td>13.767846</td>\n",
       "      <td>0.481363</td>\n",
       "      <td>0.481333</td>\n",
       "      <td>[0.0]</td>\n",
       "      <td>0.082564</td>\n",
       "      <td>0.002045</td>\n",
       "    </tr>\n",
       "    <tr>\n",
       "      <th>4</th>\n",
       "      <td>2</td>\n",
       "      <td>[bedrooms, grade]</td>\n",
       "      <td>15.923067</td>\n",
       "      <td>0.487016</td>\n",
       "      <td>0.486956</td>\n",
       "      <td>[1.4534194234020623e-37, 0.0]</td>\n",
       "      <td>0.082113</td>\n",
       "      <td>0.002136</td>\n",
       "    </tr>\n",
       "    <tr>\n",
       "      <th>5</th>\n",
       "      <td>2</td>\n",
       "      <td>[bathrooms, grade]</td>\n",
       "      <td>19.820662</td>\n",
       "      <td>0.488780</td>\n",
       "      <td>0.488721</td>\n",
       "      <td>[2.562342206400106e-50, 0.0]</td>\n",
       "      <td>0.081972</td>\n",
       "      <td>0.001922</td>\n",
       "    </tr>\n",
       "    <tr>\n",
       "      <th>6</th>\n",
       "      <td>2</td>\n",
       "      <td>[sqft_living, grade]</td>\n",
       "      <td>23.600569</td>\n",
       "      <td>0.537580</td>\n",
       "      <td>0.537527</td>\n",
       "      <td>[0.0, 0.0]</td>\n",
       "      <td>0.077961</td>\n",
       "      <td>0.002335</td>\n",
       "    </tr>\n",
       "    <tr>\n",
       "      <th>7</th>\n",
       "      <td>2</td>\n",
       "      <td>[sqft_living, lat]</td>\n",
       "      <td>12.050135</td>\n",
       "      <td>0.634442</td>\n",
       "      <td>0.634400</td>\n",
       "      <td>[0.0, 0.0]</td>\n",
       "      <td>0.069317</td>\n",
       "      <td>0.002123</td>\n",
       "    </tr>\n",
       "    <tr>\n",
       "      <th>8</th>\n",
       "      <td>3</td>\n",
       "      <td>[bedrooms, sqft_living, lat]</td>\n",
       "      <td>19.784313</td>\n",
       "      <td>0.643646</td>\n",
       "      <td>0.643584</td>\n",
       "      <td>[1.5157935408070504e-88, 0.0, 0.0]</td>\n",
       "      <td>0.068438</td>\n",
       "      <td>0.002239</td>\n",
       "    </tr>\n",
       "    <tr>\n",
       "      <th>9</th>\n",
       "      <td>3</td>\n",
       "      <td>[sqft_living, waterfront, lat]</td>\n",
       "      <td>15.782871</td>\n",
       "      <td>0.649910</td>\n",
       "      <td>0.649849</td>\n",
       "      <td>[0.0, 2.13080883973331e-140, 0.0]</td>\n",
       "      <td>0.067834</td>\n",
       "      <td>0.001896</td>\n",
       "    </tr>\n",
       "    <tr>\n",
       "      <th>10</th>\n",
       "      <td>3</td>\n",
       "      <td>[sqft_living, view, lat]</td>\n",
       "      <td>12.439797</td>\n",
       "      <td>0.664519</td>\n",
       "      <td>0.664461</td>\n",
       "      <td>[0.0, 6.937073343407787e-306, 0.0]</td>\n",
       "      <td>0.066404</td>\n",
       "      <td>0.001630</td>\n",
       "    </tr>\n",
       "    <tr>\n",
       "      <th>11</th>\n",
       "      <td>3</td>\n",
       "      <td>[sqft_living, grade, lat]</td>\n",
       "      <td>26.693885</td>\n",
       "      <td>0.689076</td>\n",
       "      <td>0.689022</td>\n",
       "      <td>[0.0, 0.0, 0.0]</td>\n",
       "      <td>0.063927</td>\n",
       "      <td>0.002199</td>\n",
       "    </tr>\n",
       "    <tr>\n",
       "      <th>12</th>\n",
       "      <td>4</td>\n",
       "      <td>[bedrooms, sqft_living, grade, lat]</td>\n",
       "      <td>32.065026</td>\n",
       "      <td>0.692419</td>\n",
       "      <td>0.692348</td>\n",
       "      <td>[1.8016032382845093e-40, 0.0, 0.0, 0.0]</td>\n",
       "      <td>0.063582</td>\n",
       "      <td>0.002223</td>\n",
       "    </tr>\n",
       "    <tr>\n",
       "      <th>13</th>\n",
       "      <td>4</td>\n",
       "      <td>[bathrooms, grade, yr_built, lat]</td>\n",
       "      <td>24.451231</td>\n",
       "      <td>0.693769</td>\n",
       "      <td>0.693698</td>\n",
       "      <td>[0.0, 0.0, 0.0, 0.0]</td>\n",
       "      <td>0.063443</td>\n",
       "      <td>0.001248</td>\n",
       "    </tr>\n",
       "    <tr>\n",
       "      <th>14</th>\n",
       "      <td>4</td>\n",
       "      <td>[sqft_living, waterfront, grade, lat]</td>\n",
       "      <td>26.694764</td>\n",
       "      <td>0.703167</td>\n",
       "      <td>0.703098</td>\n",
       "      <td>[0.0, 1.2493999141170754e-151, 0.0, 0.0]</td>\n",
       "      <td>0.062461</td>\n",
       "      <td>0.002157</td>\n",
       "    </tr>\n",
       "    <tr>\n",
       "      <th>15</th>\n",
       "      <td>4</td>\n",
       "      <td>[sqft_living, view, grade, lat]</td>\n",
       "      <td>26.765837</td>\n",
       "      <td>0.713741</td>\n",
       "      <td>0.713675</td>\n",
       "      <td>[0.0, 2.4748571691167297e-295, 0.0, 0.0]</td>\n",
       "      <td>0.061339</td>\n",
       "      <td>0.002002</td>\n",
       "    </tr>\n",
       "    <tr>\n",
       "      <th>16</th>\n",
       "      <td>4</td>\n",
       "      <td>[sqft_living, grade, yr_built, lat]</td>\n",
       "      <td>30.064849</td>\n",
       "      <td>0.725400</td>\n",
       "      <td>0.725336</td>\n",
       "      <td>[0.0, 0.0, 0.0, 0.0]</td>\n",
       "      <td>0.060077</td>\n",
       "      <td>0.001499</td>\n",
       "    </tr>\n",
       "    <tr>\n",
       "      <th>17</th>\n",
       "      <td>5</td>\n",
       "      <td>[bedrooms, sqft_living, grade, yr_built, lat]</td>\n",
       "      <td>35.289867</td>\n",
       "      <td>0.728689</td>\n",
       "      <td>0.728610</td>\n",
       "      <td>[6.700559148518231e-45, 0.0, 0.0, 0.0, 0.0]</td>\n",
       "      <td>0.059717</td>\n",
       "      <td>0.001517</td>\n",
       "    </tr>\n",
       "    <tr>\n",
       "      <th>18</th>\n",
       "      <td>5</td>\n",
       "      <td>[sqft_living, waterfront, grade, yr_built, lat]</td>\n",
       "      <td>30.079765</td>\n",
       "      <td>0.736474</td>\n",
       "      <td>0.736398</td>\n",
       "      <td>[0.0, 2.438226054018627e-130, 0.0, 0.0, 0.0]</td>\n",
       "      <td>0.058853</td>\n",
       "      <td>0.001257</td>\n",
       "    </tr>\n",
       "    <tr>\n",
       "      <th>19</th>\n",
       "      <td>5</td>\n",
       "      <td>[sqft_living, view, grade, yr_built, lat]</td>\n",
       "      <td>30.197047</td>\n",
       "      <td>0.740063</td>\n",
       "      <td>0.739988</td>\n",
       "      <td>[0.0, 4.8453106591852533e-194, 0.0, 0.0, 0.0]</td>\n",
       "      <td>0.058451</td>\n",
       "      <td>0.001147</td>\n",
       "    </tr>\n",
       "    <tr>\n",
       "      <th>20</th>\n",
       "      <td>6</td>\n",
       "      <td>[bedrooms, sqft_living, view, grade, yr_built, lat]</td>\n",
       "      <td>35.364457</td>\n",
       "      <td>0.742095</td>\n",
       "      <td>0.742006</td>\n",
       "      <td>[6.604953457177431e-30, 0.0, 1.9584069204638948e-179, 0.0, 0.0, 0.0]</td>\n",
       "      <td>0.058222</td>\n",
       "      <td>0.001176</td>\n",
       "    </tr>\n",
       "    <tr>\n",
       "      <th>21</th>\n",
       "      <td>6</td>\n",
       "      <td>[bathrooms, sqft_living, view, grade, yr_built, lat]</td>\n",
       "      <td>33.356343</td>\n",
       "      <td>0.742586</td>\n",
       "      <td>0.742497</td>\n",
       "      <td>[1.7594327021432105e-36, 0.0, 5.785095688092127e-192, 0.0, 0.0, 0.0]</td>\n",
       "      <td>0.058167</td>\n",
       "      <td>0.001192</td>\n",
       "    </tr>\n",
       "    <tr>\n",
       "      <th>22</th>\n",
       "      <td>6</td>\n",
       "      <td>[sqft_living, floors, view, grade, yr_built, lat]</td>\n",
       "      <td>30.910731</td>\n",
       "      <td>0.742943</td>\n",
       "      <td>0.742854</td>\n",
       "      <td>[0.0, 2.117466931780817e-38, 3.2183940130038305e-205, 0.0, 0.0, 0.0]</td>\n",
       "      <td>0.058126</td>\n",
       "      <td>0.001264</td>\n",
       "    </tr>\n",
       "    <tr>\n",
       "      <th>23</th>\n",
       "      <td>6</td>\n",
       "      <td>[sqft_living, waterfront, view, grade, yr_built, lat]</td>\n",
       "      <td>30.199757</td>\n",
       "      <td>0.746440</td>\n",
       "      <td>0.746352</td>\n",
       "      <td>[0.0, 3.1461787656813674e-76, 1.4658399756235163e-133, 0.0, 0.0, 0.0]</td>\n",
       "      <td>0.057729</td>\n",
       "      <td>0.001080</td>\n",
       "    </tr>\n",
       "    <tr>\n",
       "      <th>24</th>\n",
       "      <td>7</td>\n",
       "      <td>[bedrooms, sqft_living, waterfront, view, grade, yr_built, lat]</td>\n",
       "      <td>35.380632</td>\n",
       "      <td>0.748099</td>\n",
       "      <td>0.747997</td>\n",
       "      <td>[2.6935402946191154e-25, 0.0, 2.355564471920779e-72, 2.4902423485695177e-124, 0.0, 0.0, 0.0]</td>\n",
       "      <td>0.057540</td>\n",
       "      <td>0.001106</td>\n",
       "    </tr>\n",
       "    <tr>\n",
       "      <th>25</th>\n",
       "      <td>7</td>\n",
       "      <td>[bathrooms, sqft_living, waterfront, view, grade, yr_built, lat]</td>\n",
       "      <td>33.358083</td>\n",
       "      <td>0.748971</td>\n",
       "      <td>0.748870</td>\n",
       "      <td>[8.012232457742251e-38, 0.0, 3.313582573452498e-77, 7.161186339914008e-132, 0.0, 0.0, 0.0]</td>\n",
       "      <td>0.057441</td>\n",
       "      <td>0.001074</td>\n",
       "    </tr>\n",
       "    <tr>\n",
       "      <th>26</th>\n",
       "      <td>7</td>\n",
       "      <td>[sqft_living, floors, waterfront, view, grade, yr_built, lat]</td>\n",
       "      <td>30.912509</td>\n",
       "      <td>0.749168</td>\n",
       "      <td>0.749066</td>\n",
       "      <td>[0.0, 6.961014386302619e-38, 2.764027389455639e-75, 5.574323827560589e-143, 0.0, 0.0, 0.0]</td>\n",
       "      <td>0.057418</td>\n",
       "      <td>0.001167</td>\n",
       "    </tr>\n",
       "    <tr>\n",
       "      <th>27</th>\n",
       "      <td>7</td>\n",
       "      <td>[sqft_living, floors, view, grade, yr_built, lat, sqft_living15]</td>\n",
       "      <td>32.894361</td>\n",
       "      <td>0.749286</td>\n",
       "      <td>0.749184</td>\n",
       "      <td>[0.0, 4.950085373861837e-48, 1.539187006774974e-179, 0.0, 0.0, 0.0, 3.3310169351979763e-87]</td>\n",
       "      <td>0.057405</td>\n",
       "      <td>0.000803</td>\n",
       "    </tr>\n",
       "    <tr>\n",
       "      <th>28</th>\n",
       "      <td>7</td>\n",
       "      <td>[sqft_living, waterfront, view, grade, yr_built, lat, sqft_living15]</td>\n",
       "      <td>32.272744</td>\n",
       "      <td>0.752100</td>\n",
       "      <td>0.752000</td>\n",
       "      <td>[0.0, 1.1455834589158006e-78, 3.3581985031103983e-113, 0.0, 0.0, 0.0, 6.4755955671240945e-77]</td>\n",
       "      <td>0.057081</td>\n",
       "      <td>0.000511</td>\n",
       "    </tr>\n",
       "    <tr>\n",
       "      <th>29</th>\n",
       "      <td>8</td>\n",
       "      <td>[bedrooms, sqft_living, waterfront, view, grade, yr_built, lat, sqft_living15]</td>\n",
       "      <td>38.279282</td>\n",
       "      <td>0.753421</td>\n",
       "      <td>0.753307</td>\n",
       "      <td>[2.1978919291429864e-19, 0.0, 5.640794036318339e-75, 3.1327597222813254e-106, 0.0, 0.0, 0.0, 4.611385443516906e-72]</td>\n",
       "      <td>0.056929</td>\n",
       "      <td>0.000530</td>\n",
       "    </tr>\n",
       "    <tr>\n",
       "      <th>30</th>\n",
       "      <td>8</td>\n",
       "      <td>[bathrooms, sqft_living, waterfront, view, grade, yr_built, lat, sqft_living15]</td>\n",
       "      <td>36.497477</td>\n",
       "      <td>0.755250</td>\n",
       "      <td>0.755137</td>\n",
       "      <td>[9.619930420625826e-48, 9.1063692320017e-204, 5.457851877622658e-80, 3.66162564520398e-110, 0.0, 0.0, 0.0, 4.451217170189879e-87]</td>\n",
       "      <td>0.056717</td>\n",
       "      <td>0.000535</td>\n",
       "    </tr>\n",
       "    <tr>\n",
       "      <th>31</th>\n",
       "      <td>8</td>\n",
       "      <td>[sqft_living, floors, waterfront, view, grade, yr_built, lat, sqft_living15]</td>\n",
       "      <td>32.895937</td>\n",
       "      <td>0.755550</td>\n",
       "      <td>0.755436</td>\n",
       "      <td>[0.0, 1.1641961109129056e-47, 8.451435374366471e-78, 1.038867619172916e-121, 0.0, 0.0, 0.0, 1.4272889914565392e-89]</td>\n",
       "      <td>0.056683</td>\n",
       "      <td>0.000646</td>\n",
       "    </tr>\n",
       "    <tr>\n",
       "      <th>32</th>\n",
       "      <td>9</td>\n",
       "      <td>[bedrooms, bathrooms, sqft_living, waterfront, view, grade, yr_built, lat, sqft_living15]</td>\n",
       "      <td>41.581596</td>\n",
       "      <td>0.757189</td>\n",
       "      <td>0.757063</td>\n",
       "      <td>[1.4622125143234916e-28, 1.2745169201435835e-57, 1.4736713664198573e-227, 1.2531156335082183e-75, 1.679339455985073e-101, 0.0, 0.0, 0.0, 3.81690550705616e-82]</td>\n",
       "      <td>0.056492</td>\n",
       "      <td>0.000584</td>\n",
       "    </tr>\n",
       "    <tr>\n",
       "      <th>33</th>\n",
       "      <td>9</td>\n",
       "      <td>[bathrooms, sqft_living, floors, waterfront, view, grade, yr_built, lat, sqft_living15]</td>\n",
       "      <td>37.243542</td>\n",
       "      <td>0.757581</td>\n",
       "      <td>0.757455</td>\n",
       "      <td>[4.611410745211588e-31, 6.141893926959314e-203, 8.537759967440722e-33, 5.410947056370398e-79, 9.551772163331528e-118, 0.0, 0.0, 0.0, 3.280480802964545e-96]</td>\n",
       "      <td>0.056447</td>\n",
       "      <td>0.000640</td>\n",
       "    </tr>\n",
       "    <tr>\n",
       "      <th>34</th>\n",
       "      <td>10</td>\n",
       "      <td>[bedrooms, bathrooms, sqft_living, sqft_lot, waterfront, view, grade, yr_built, lat, sqft_living15]</td>\n",
       "      <td>43.472064</td>\n",
       "      <td>0.758058</td>\n",
       "      <td>0.757918</td>\n",
       "      <td>[5.636356139429766e-29, 2.3491579171866346e-44, 3.2197519009565943e-233, 2.0987780610349735e-08, 2.87096700695363e-78, 1.2296178555265725e-100, 0.0, 0.0, 0.0, 1.1769073123654882e-94]</td>\n",
       "      <td>0.056391</td>\n",
       "      <td>0.000701</td>\n",
       "    </tr>\n",
       "    <tr>\n",
       "      <th>35</th>\n",
       "      <td>10</td>\n",
       "      <td>[bedrooms, bathrooms, sqft_living, floors, waterfront, view, grade, yr_built, lat, sqft_living15]</td>\n",
       "      <td>42.215801</td>\n",
       "      <td>0.759324</td>\n",
       "      <td>0.759184</td>\n",
       "      <td>[4.3867952495879275e-26, 3.033131325312945e-39, 1.4363559866504666e-223, 2.5440818411852624e-30, 6.594260925252949e-75, 7.774246220805257e-109, 0.0, 0.0, 0.0, 5.237256429588082e-91]</td>\n",
       "      <td>0.056244</td>\n",
       "      <td>0.000673</td>\n",
       "    </tr>\n",
       "    <tr>\n",
       "      <th>36</th>\n",
       "      <td>11</td>\n",
       "      <td>[bedrooms, bathrooms, sqft_living, sqft_lot, floors, waterfront, view, grade, yr_built, lat, sqft_living15]</td>\n",
       "      <td>44.002063</td>\n",
       "      <td>0.759567</td>\n",
       "      <td>0.759414</td>\n",
       "      <td>[2.1927075986862806e-26, 8.574121527838375e-35, 7.459593794128562e-220, 0.0036381478789940247, 3.8146052724955156e-24, 1.8175060319611487e-76, 2.763456575670597e-107, 0.0, 0.0, 0.0, 3.7500843896893304e-95]</td>\n",
       "      <td>0.056215</td>\n",
       "      <td>0.000718</td>\n",
       "    </tr>\n",
       "    <tr>\n",
       "      <th>37</th>\n",
       "      <td>11</td>\n",
       "      <td>[bedrooms, bathrooms, sqft_living, floors, waterfront, view, grade, yr_built, lat, sqft_living15, sqft_lot15]</td>\n",
       "      <td>43.635162</td>\n",
       "      <td>0.759874</td>\n",
       "      <td>0.759721</td>\n",
       "      <td>[1.011865440756757e-26, 2.4349621903610987e-33, 5.131976816015594e-229, 4.897342790513398e-22, 5.961623848274073e-78, 2.1698995673386668e-106, 0.0, 0.0, 0.0, 1.2029390625943664e-99, 7.854422135752096e-08]</td>\n",
       "      <td>0.056179</td>\n",
       "      <td>0.000730</td>\n",
       "    </tr>\n",
       "    <tr>\n",
       "      <th>38</th>\n",
       "      <td>12</td>\n",
       "      <td>[bedrooms, bathrooms, sqft_living, sqft_lot, floors, waterfront, view, grade, yr_built, lat, sqft_living15, sqft_lot15]</td>\n",
       "      <td>60.156040</td>\n",
       "      <td>0.760015</td>\n",
       "      <td>0.759848</td>\n",
       "      <td>[1.7034437834133883e-26, 6.0431171507579655e-34, 1.194257909473459e-216, 0.013221356947290874, 6.710415931199513e-23, 2.6880950792543917e-78, 2.0837128833519118e-106, 0.0, 0.0, 0.0, 4.5480446982190706e-100, 6.324923810373613e-07]</td>\n",
       "      <td>0.056163</td>\n",
       "      <td>0.000690</td>\n",
       "    </tr>\n",
       "    <tr>\n",
       "      <th>39</th>\n",
       "      <td>12</td>\n",
       "      <td>[bedrooms, bathrooms, sqft_living, floors, waterfront, view, grade, sqft_above, sqft_basement, yr_built, lat, sqft_living15]</td>\n",
       "      <td>102.294730</td>\n",
       "      <td>0.760364</td>\n",
       "      <td>0.760197</td>\n",
       "      <td>[1.319327495041632e-25, 9.175213173124327e-36, 1.4901265008196955e-16, 9.179721728295001e-16, 1.4203009518784084e-75, 9.88399137835698e-103, 0.0, 2.240313339421387e-15, 2.1599981137407716e-14, 0.0, 0.0, 9.803540221763657e-88]</td>\n",
       "      <td>0.056122</td>\n",
       "      <td>0.000707</td>\n",
       "    </tr>\n",
       "    <tr>\n",
       "      <th>40</th>\n",
       "      <td>13</td>\n",
       "      <td>[bedrooms, bathrooms, sqft_living, sqft_lot, floors, waterfront, view, grade, sqft_above, sqft_basement, yr_built, lat, sqft_living15]</td>\n",
       "      <td>103.880144</td>\n",
       "      <td>0.760620</td>\n",
       "      <td>0.760439</td>\n",
       "      <td>[3.51689379904877e-26, 2.011784985499452e-33, 3.710796843889527e-17, 0.0003878107316724474, 1.5954789889014405e-10, 3.1024625926108904e-77, 4.2621450966401347e-103, 0.0, 7.212912053409284e-17, 6.920618916949084e-14, 0.0, 0.0, 7.750150262771042e-92]</td>\n",
       "      <td>0.056092</td>\n",
       "      <td>0.000745</td>\n",
       "    </tr>\n",
       "    <tr>\n",
       "      <th>41</th>\n",
       "      <td>13</td>\n",
       "      <td>[bedrooms, bathrooms, sqft_living, floors, waterfront, view, grade, sqft_above, sqft_basement, yr_built, lat, sqft_living15, sqft_lot15]</td>\n",
       "      <td>103.930569</td>\n",
       "      <td>0.760930</td>\n",
       "      <td>0.760750</td>\n",
       "      <td>[1.2350666026712244e-26, 1.9401338610558007e-32, 1.4995484646503804e-17, 1.8689635751598595e-08, 9.394694349032565e-79, 9.605497592782293e-103, 0.0, 2.8688363306032006e-17, 2.0336931322445954e-13, 0.0, 0.0, 8.044744871926026e-96, 2.122550797043089e-09]</td>\n",
       "      <td>0.056056</td>\n",
       "      <td>0.000747</td>\n",
       "    </tr>\n",
       "    <tr>\n",
       "      <th>42</th>\n",
       "      <td>14</td>\n",
       "      <td>[bedrooms, bathrooms, sqft_living, sqft_lot, floors, waterfront, view, grade, sqft_above, sqft_basement, yr_built, lat, sqft_living15, sqft_lot15]</td>\n",
       "      <td>105.505452</td>\n",
       "      <td>0.761039</td>\n",
       "      <td>0.760846</td>\n",
       "      <td>[2.5725871520353566e-26, 1.1020224473693772e-32, 4.28575010878199e-17, 0.023731786417649947, 1.1845029436247903e-09, 5.1646700282341175e-79, 2.4976310983916635e-102, 0.0, 1.5940789109484996e-16, 1.7316526061316626e-13, 0.0, 0.0, 1.7343039738342445e-96, 1.747182558049284e-06]</td>\n",
       "      <td>0.056043</td>\n",
       "      <td>0.000716</td>\n",
       "    </tr>\n",
       "    <tr>\n",
       "      <th>43</th>\n",
       "      <td>14</td>\n",
       "      <td>[bedrooms, bathrooms, sqft_living, floors, waterfront, view, grade, sqft_above, sqft_basement, yr_built, yr_renovated, lat, sqft_living15, sqft_lot15]</td>\n",
       "      <td>103.946603</td>\n",
       "      <td>0.761104</td>\n",
       "      <td>0.760910</td>\n",
       "      <td>[7.925553532223526e-26, 3.722308938738878e-30, 1.6496938267647893e-17, 4.0383032181331287e-08, 3.5055752225807674e-77, 3.2941533551279518e-102, 0.0, 3.112914116338648e-17, 1.6870506163159702e-13, 0.0, 0.0009219188961109709, 0.0, 5.183533201645353e-97, 1.0594911058753704e-09]</td>\n",
       "      <td>0.056035</td>\n",
       "      <td>0.000762</td>\n",
       "    </tr>\n",
       "    <tr>\n",
       "      <th>44</th>\n",
       "      <td>15</td>\n",
       "      <td>[bedrooms, bathrooms, sqft_living, sqft_lot, floors, waterfront, view, grade, sqft_above, sqft_basement, yr_built, yr_renovated, lat, sqft_living15, sqft_lot15]</td>\n",
       "      <td>105.521285</td>\n",
       "      <td>0.761218</td>\n",
       "      <td>0.761011</td>\n",
       "      <td>[1.6956789693259758e-25, 2.295652877867353e-30, 4.7770946242972186e-17, 0.02031879518259751, 2.6428217194472188e-09, 2.0132856219142508e-77, 9.025852903402096e-102, 0.0, 1.8246667569281329e-16, 1.428081451151546e-13, 0.0, 0.0007500595305904438, 0.0, 9.995403734530041e-98, 1.011218377000597e-06]</td>\n",
       "      <td>0.056022</td>\n",
       "      <td>0.000731</td>\n",
       "    </tr>\n",
       "  </tbody>\n",
       "</table>"
      ],
      "text/plain": [
       "<IPython.core.display.HTML object>"
      ]
     },
     "metadata": {},
     "output_type": "display_data"
    },
    {
     "data": {
      "text/html": [
       "<br>45 rows x 8 columns<br><br>"
      ],
      "text/plain": [
       "<IPython.core.display.HTML object>"
      ]
     },
     "metadata": {},
     "output_type": "display_data"
    },
    {
     "data": {
      "text/html": [
       "<h4>cv_selected best condition_no__and__pvals__and__rsquared__and__rsquared_adj__and__rmse__and__delta_rmse = (105.52128547158675, 0.7612181952585688, 0.7610106984489889, [1.6956789693259758e-25, 2.295652877867353e-30, 4.7770946242972186e-17, 0.02031879518259751, 2.6428217194472188e-09, 2.0132856219142508e-77, 9.025852903402096e-102, 0.0, 1.8246667569281329e-16, 1.428081451151546e-13, 0.0, 0.0007500595305904438, 0.0, 9.995403734530041e-98, 1.011218377000597e-06], 0.05602185077003358, 0.0007305870888124899)</h4>"
      ],
      "text/plain": [
       "<IPython.core.display.HTML object>"
      ]
     },
     "metadata": {},
     "output_type": "display_data"
    },
    {
     "data": {
      "text/html": [
       "<h4>cv_selected best feature-set combo (15 of 15 features):['bedrooms', 'bathrooms', 'sqft_living', 'sqft_lot', 'floors', 'waterfront', 'view', 'grade', 'sqft_above', 'sqft_basement', 'yr_built', 'yr_renovated', 'lat', 'sqft_living15', 'sqft_lot15']<h/4>"
      ],
      "text/plain": [
       "<IPython.core.display.HTML object>"
      ]
     },
     "metadata": {},
     "output_type": "display_data"
    },
    {
     "data": {
      "text/html": [
       "<h4>starting feature-set:['bedrooms', 'bathrooms', 'sqft_living', 'sqft_lot', 'floors', 'waterfront', 'view', 'grade', 'sqft_above', 'sqft_basement', 'yr_built', 'yr_renovated', 'lat', 'sqft_living15', 'sqft_lot15']</h4>"
      ],
      "text/plain": [
       "<IPython.core.display.HTML object>"
      ]
     },
     "metadata": {},
     "output_type": "display_data"
    },
    {
     "data": {
      "text/html": [
       "<h4>cv_selection suggests dropping <i>no features</i> from ['bedrooms', 'bathrooms', 'sqft_living', 'sqft_lot', 'floors', 'waterfront', 'view', 'grade', 'sqft_above', 'sqft_basement', 'yr_built', 'yr_renovated', 'lat', 'sqft_living15', 'sqft_lot15'].</h4>"
      ],
      "text/plain": [
       "<IPython.core.display.HTML object>"
      ]
     },
     "metadata": {},
     "output_type": "display_data"
    }
   ],
   "source": [
    "to_drop = []\n",
    "# select non-colinear statistically significant feature-subset with maximized R^2 and adj-R^2 \n",
    "#    and minimized RMSE and delta RMSE, cross-validated over 5 test/train k-folds\n",
    "(\n",
    "    scores_df\n",
    "     , cv_sel_features\n",
    "    , score\n",
    "    , to_drop\n",
    ") = scjpnregression.cv_selection(\n",
    "    kchd_transformed_and_scaled_df.drop(target, axis=1)\n",
    "    , kchd_transformed_and_scaled_df[[target]]\n",
    "    , folds=5\n",
    ")"
   ]
  },
  {
   "cell_type": "code",
   "execution_count": 3,
   "metadata": {},
   "outputs": [
    {
     "name": "stdout",
     "output_type": "stream",
     "text": [
      "updated kc_cv_sel_optimized_features.csv\n"
     ]
    }
   ],
   "source": [
    "fname = 'kc_cv_sel_optimized_features.csv'\n",
    "scores_df.set_index('n_features').to_csv(fname, sep=',')\n",
    "print(\"updated {}\".format(fname))"
   ]
  }
 ],
 "metadata": {
  "file_extension": ".py",
  "kernelspec": {
   "display_name": "Python [conda env:learn-env] *",
   "language": "python",
   "name": "conda-env-learn-env-py"
  },
  "language_info": {
   "codemirror_mode": {
    "name": "ipython",
    "version": 3
   },
   "file_extension": ".py",
   "mimetype": "text/x-python",
   "name": "python",
   "nbconvert_exporter": "python",
   "pygments_lexer": "ipython3",
   "version": "3.6.6"
  },
  "mimetype": "text/x-python",
  "name": "python",
  "npconvert_exporter": "python",
  "pygments_lexer": "ipython3",
  "version": 3
 },
 "nbformat": 4,
 "nbformat_minor": 2
}
