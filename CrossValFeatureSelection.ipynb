{
 "cells": [
  {
   "cell_type": "markdown",
   "metadata": {},
   "source": [
    "# Cross-Validation Forward Selection of Features\n",
    "\n",
    "<h1><font color=\"red\">*** WARNING!!!  This takes a VERY LONG TIME to complete!!! ***</font></h1>\n",
    "\n",
    "DO NOT RELOAD THIS PAGE unless you are comitted to overwriting the previously optimized feature-set/model and you have hours to spare to wait for it to complete!"
   ]
  },
  {
   "cell_type": "code",
   "execution_count": 1,
   "metadata": {},
   "outputs": [],
   "source": [
    "import pandas as pd\n",
    "from IPython.core.display import HTML\n",
    "import numpy as np\n",
    "import scjpnlib.utils as scjpnutils\n",
    "import scjpnlib.regression.api as scjpnregression\n",
    "\n",
    "kchd_transformed_and_scaled_df = pd.read_csv('kc_house_transformed_and_scaled_data.csv')\n",
    "target = 'price'\n",
    "kchd_transformed_and_scaled_df = kchd_transformed_and_scaled_df.drop(['id', 'date'], axis=1)"
   ]
  },
  {
   "cell_type": "code",
   "execution_count": 2,
   "metadata": {
    "scrolled": false
   },
   "outputs": [
    {
     "data": {
      "text/html": [
       "<br><br>Builing all $\\sum_{i=1}^{15}{15 \\choose i}=$ ${15 \\choose 1}$ + ${15 \\choose 2}$ + ${15 \\choose 3}$ + ${15 \\choose 4}$ + ${15 \\choose 5}$ + ${15 \\choose 6}$ + ${15 \\choose 7}$ + ${15 \\choose 8}$ + ${15 \\choose 9}$ + ${15 \\choose 10}$ + ${15 \\choose 11}$ + ${15 \\choose 12}$ + ${15 \\choose 13}$ + ${15 \\choose 14}$ + ${15 \\choose 15}$ $=32767$ combinations of feature set: Index(['bedrooms', 'bathrooms', 'sqft_living', 'floors', 'waterfront', 'view',\n",
       "       'condition', 'grade', 'sqft_above', 'sqft_basement', 'yr_built',\n",
       "       'yr_renovated', 'lat', 'long', 'sqft_living15'],\n",
       "      dtype='object')..."
      ],
      "text/plain": [
       "<IPython.core.display.HTML object>"
      ]
     },
     "metadata": {},
     "output_type": "display_data"
    },
    {
     "data": {
      "text/html": [
       "All done!"
      ],
      "text/plain": [
       "<IPython.core.display.HTML object>"
      ]
     },
     "metadata": {},
     "output_type": "display_data"
    },
    {
     "data": {
      "text/html": [
       "Cross-validating ${15 \\choose 1}=15$ combinations of 1 features (out of 15) over 5 folds..."
      ],
      "text/plain": [
       "<IPython.core.display.HTML object>"
      ]
     },
     "metadata": {},
     "output_type": "display_data"
    },
    {
     "name": "stdout",
     "output_type": "stream",
     "text": [
      "new best condition_no__and__pvals__and__rsquared__and__rsquared_adj__and__rmse__and__delta_rmse score: (8.53593144029046, 0.4006067341679632, 0.40057203822009946, [0.0], 0.12216206716929419, 0.002593249615283749), from feature-set combo: ['bedrooms']\n",
      "new best condition_no__and__pvals__and__rsquared__and__rsquared_adj__and__rmse__and__delta_rmse score: (7.60150557247336, 0.48312982508768254, 0.4830999059971055, [0.0], 0.11344015214333145, 0.001999510204461591), from feature-set combo: ['bathrooms']\n",
      "new best condition_no__and__pvals__and__rsquared__and__rsquared_adj__and__rmse__and__delta_rmse score: (8.049435753411482, 0.6753057004189745, 0.6752869054518504, [0.0], 0.08990983996014364, 0.0013339987565019334), from feature-set combo: ['sqft_living']\n"
     ]
    },
    {
     "data": {
      "text/html": [
       "Cross-validating ${15 \\choose 2}=105$ combinations of 2 features (out of 15) over 5 folds..."
      ],
      "text/plain": [
       "<IPython.core.display.HTML object>"
      ]
     },
     "metadata": {},
     "output_type": "display_data"
    },
    {
     "name": "stdout",
     "output_type": "stream",
     "text": [
      "new best condition_no__and__pvals__and__rsquared__and__rsquared_adj__and__rmse__and__delta_rmse score: (17.935120648193603, 0.6763117768908031, 0.6762743012612911, [3.127652369428163e-10, 0.0], 0.08977077131286314, 0.0014229465683176594), from feature-set combo: ['bedrooms', 'sqft_living']\n",
      "new best condition_no__and__pvals__and__rsquared__and__rsquared_adj__and__rmse__and__delta_rmse score: (10.58570346655992, 0.6881865442316749, 0.6881504434260087, [0.0, 2.476440744662179e-140], 0.08810946571130705, 0.0016513244824628876), from feature-set combo: ['sqft_living', 'floors']\n",
      "new best condition_no__and__pvals__and__rsquared__and__rsquared_adj__and__rmse__and__delta_rmse score: (11.485644988861814, 0.7319563587714486, 0.731925325498847, [0.0, 0.0], 0.08169075644265422, 0.0013485204688612473), from feature-set combo: ['sqft_living', 'waterfront']\n",
      "new best condition_no__and__pvals__and__rsquared__and__rsquared_adj__and__rmse__and__delta_rmse score: (9.430450481836232, 0.7917451341973444, 0.7917210230914054, [0.0, 0.0], 0.07200817347103376, 0.002104162564803902), from feature-set combo: ['sqft_living', 'lat']\n"
     ]
    },
    {
     "data": {
      "text/html": [
       "Cross-validating ${15 \\choose 3}=455$ combinations of 3 features (out of 15) over 5 folds..."
      ],
      "text/plain": [
       "<IPython.core.display.HTML object>"
      ]
     },
     "metadata": {},
     "output_type": "display_data"
    },
    {
     "name": "stdout",
     "output_type": "stream",
     "text": [
      "new best condition_no__and__pvals__and__rsquared__and__rsquared_adj__and__rmse__and__delta_rmse score: (20.559321968581337, 0.792321930153494, 0.792285861576458, [2.7161628253827252e-09, 0.0, 0.0], 0.07190856458141412, 0.0021697677370404707), from feature-set combo: ['bedrooms', 'sqft_living', 'lat']\n",
      "new best condition_no__and__pvals__and__rsquared__and__rsquared_adj__and__rmse__and__delta_rmse score: (12.312100086873333, 0.7985951131444394, 0.7985601340639364, [0.0, 6.864749720151889e-124, 0.0], 0.07081378598198973, 0.0019157002231075583), from feature-set combo: ['sqft_living', 'floors', 'lat']\n",
      "new best condition_no__and__pvals__and__rsquared__and__rsquared_adj__and__rmse__and__delta_rmse score: (13.537862929454189, 0.8255917707275696, 0.8255614803007143, [0.0, 0.0, 0.0], 0.06589648732225278, 0.001708217587906838), from feature-set combo: ['sqft_living', 'waterfront', 'lat']\n"
     ]
    },
    {
     "data": {
      "text/html": [
       "Cross-validating ${15 \\choose 4}=1365$ combinations of 4 features (out of 15) over 5 folds..."
      ],
      "text/plain": [
       "<IPython.core.display.HTML object>"
      ]
     },
     "metadata": {},
     "output_type": "display_data"
    },
    {
     "name": "stdout",
     "output_type": "stream",
     "text": [
      "new best condition_no__and__pvals__and__rsquared__and__rsquared_adj__and__rmse__and__delta_rmse score: (20.627900114900847, 0.8289626072878467, 0.8289229983351596, [2.1474187560312182e-66, 0.0, 0.0, 0.0], 0.06525708642716505, 0.0018351997239667544), from feature-set combo: ['bedrooms', 'sqft_living', 'waterfront', 'lat']\n",
      "new best condition_no__and__pvals__and__rsquared__and__rsquared_adj__and__rmse__and__delta_rmse score: (13.626054507199374, 0.8359185933639826, 0.8358805952830906, [0.0, 0.0, 7.0384391624937074e-208, 0.0], 0.06391519597512042, 0.0013347054960049787), from feature-set combo: ['sqft_living', 'waterfront', 'view', 'lat']\n",
      "new best condition_no__and__pvals__and__rsquared__and__rsquared_adj__and__rmse__and__delta_rmse score: (27.601008049626046, 0.8521002537538565, 0.8520660030344832, [0.0, 0.0, 0.0, 0.0], 0.06068382574611331, 0.0020676170241112164), from feature-set combo: ['sqft_living', 'waterfront', 'grade', 'lat']\n"
     ]
    },
    {
     "data": {
      "text/html": [
       "Cross-validating ${15 \\choose 5}=3003$ combinations of 5 features (out of 15) over 5 folds..."
      ],
      "text/plain": [
       "<IPython.core.display.HTML object>"
      ]
     },
     "metadata": {},
     "output_type": "display_data"
    },
    {
     "name": "stdout",
     "output_type": "stream",
     "text": [
      "new best condition_no__and__pvals__and__rsquared__and__rsquared_adj__and__rmse__and__delta_rmse score: (33.42414250609793, 0.8530534335970261, 0.8530108936575781, [1.7163220742648478e-24, 0.0, 0.0, 0.0, 0.0], 0.060488057313733946, 0.002099628266621062), from feature-set combo: ['bedrooms', 'sqft_living', 'waterfront', 'grade', 'lat']\n",
      "new best condition_no__and__pvals__and__rsquared__and__rsquared_adj__and__rmse__and__delta_rmse score: (27.739948488799207, 0.8603696776457287, 0.8603292557049936, [0.0, 0.0, 1.1656068826912324e-197, 0.0, 0.0], 0.058962390383725694, 0.0018676976799212846), from feature-set combo: ['sqft_living', 'waterfront', 'view', 'grade', 'lat']\n",
      "new best condition_no__and__pvals__and__rsquared__and__rsquared_adj__and__rmse__and__delta_rmse score: (31.188652082402797, 0.867034471969918, 0.8669959794343629, [0.0, 0.0, 0.0, 0.0, 0.0], 0.0575365124369925, 0.001175455146706418), from feature-set combo: ['sqft_living', 'waterfront', 'grade', 'yr_built', 'lat']\n"
     ]
    },
    {
     "data": {
      "text/html": [
       "Cross-validating ${15 \\choose 6}=5005$ combinations of 6 features (out of 15) over 5 folds..."
      ],
      "text/plain": [
       "<IPython.core.display.HTML object>"
      ]
     },
     "metadata": {},
     "output_type": "display_data"
    },
    {
     "name": "stdout",
     "output_type": "stream",
     "text": [
      "new best condition_no__and__pvals__and__rsquared__and__rsquared_adj__and__rmse__and__delta_rmse score: (36.830136710241774, 0.8680084990542485, 0.8679626437249712, [1.2973645098037166e-27, 0.0, 0.0, 0.0, 0.0, 0.0], 0.05732550906363556, 0.0012012392060475469), from feature-set combo: ['bedrooms', 'sqft_living', 'waterfront', 'grade', 'yr_built', 'lat']\n",
      "new best condition_no__and__pvals__and__rsquared__and__rsquared_adj__and__rmse__and__delta_rmse score: (34.70736269818314, 0.8683923651220435, 0.8683466431525059, [3.560188441473182e-38, 0.0, 0.0, 0.0, 0.0, 0.0], 0.05724173567597059, 0.0011889857980682274), from feature-set combo: ['bathrooms', 'sqft_living', 'waterfront', 'grade', 'yr_built', 'lat']\n",
      "new best condition_no__and__pvals__and__rsquared__and__rsquared_adj__and__rmse__and__delta_rmse score: (31.796731960679203, 0.8685961562051114, 0.8685505050348918, [0.0, 5.3991745225895255e-42, 0.0, 0.0, 0.0, 0.0], 0.05719790792377096, 0.001271690463443388), from feature-set combo: ['sqft_living', 'floors', 'waterfront', 'grade', 'yr_built', 'lat']\n",
      "new best condition_no__and__pvals__and__rsquared__and__rsquared_adj__and__rmse__and__delta_rmse score: (31.39402352712001, 0.8718314776722259, 0.8717869504888005, [0.0, 0.0, 2.094529928743863e-124, 0.0, 3.414775546378224e-307, 0.0], 0.05648861603996971, 0.0009942410604824564), from feature-set combo: ['sqft_living', 'waterfront', 'view', 'grade', 'yr_built', 'lat']\n"
     ]
    },
    {
     "data": {
      "text/html": [
       "Cross-validating ${15 \\choose 7}=6435$ combinations of 7 features (out of 15) over 5 folds..."
      ],
      "text/plain": [
       "<IPython.core.display.HTML object>"
      ]
     },
     "metadata": {},
     "output_type": "display_data"
    },
    {
     "name": "stdout",
     "output_type": "stream",
     "text": [
      "new best condition_no__and__pvals__and__rsquared__and__rsquared_adj__and__rmse__and__delta_rmse score: (36.96817648263851, 0.8724514762189788, 0.8723997761382126, [1.2309792009292286e-18, 0.0, 0.0, 8.665298587283898e-116, 0.0, 0.0, 0.0], 0.056351955553730605, 0.001023324428175601), from feature-set combo: ['bedrooms', 'sqft_living', 'waterfront', 'view', 'grade', 'yr_built', 'lat']\n",
      "new best condition_no__and__pvals__and__rsquared__and__rsquared_adj__and__rmse__and__delta_rmse score: (34.882566098559714, 0.8730856616896393, 0.8730342186679453, [1.540227259015921e-36, 0.0, 0.0, 2.2997231339788205e-122, 0.0, 0.0, 0.0], 0.0562112968574542, 0.0009648014726079554), from feature-set combo: ['bathrooms', 'sqft_living', 'waterfront', 'view', 'grade', 'yr_built', 'lat']\n",
      "new best condition_no__and__pvals__and__rsquared__and__rsquared_adj__and__rmse__and__delta_rmse score: (32.02816797119981, 0.8736688615183569, 0.873617654888837, [0.0, 1.2064418301580232e-52, 0.0, 7.086463013794854e-134, 0.0, 0.0, 0.0], 0.05608248101814038, 0.001066193825093105), from feature-set combo: ['sqft_living', 'floors', 'waterfront', 'view', 'grade', 'yr_built', 'lat']\n",
      "new best condition_no__and__pvals__and__rsquared__and__rsquared_adj__and__rmse__and__delta_rmse score: (33.9068128240918, 0.8739673472326445, 0.8739162615895149, [0.0, 0.0, 2.3557418722528092e-127, 1.2252108629156591e-58, 0.0, 6.842995750377401e-191, 0.0], 0.05601533667910552, 0.0007777853111962843), from feature-set combo: ['sqft_living', 'waterfront', 'view', 'condition', 'grade', 'yr_built', 'lat']\n",
      "new best condition_no__and__pvals__and__rsquared__and__rsquared_adj__and__rmse__and__delta_rmse score: (33.61776384050573, 0.8746025848188619, 0.8745517566582277, [0.0, 0.0, 5.184046115051435e-106, 0.0, 0.0, 0.0, 1.751751782053256e-74], 0.05587266476095402, 0.00048629613040343246), from feature-set combo: ['sqft_living', 'waterfront', 'view', 'grade', 'yr_built', 'lat', 'sqft_living15']\n"
     ]
    },
    {
     "data": {
      "text/html": [
       "Cross-validating ${15 \\choose 8}=6435$ combinations of 8 features (out of 15) over 5 folds..."
      ],
      "text/plain": [
       "<IPython.core.display.HTML object>"
      ]
     },
     "metadata": {},
     "output_type": "display_data"
    },
    {
     "name": "stdout",
     "output_type": "stream",
     "text": [
      "new best condition_no__and__pvals__and__rsquared__and__rsquared_adj__and__rmse__and__delta_rmse score: (39.50047398062206, 0.8748031068007809, 0.8747451070088573, [1.066837177129236e-25, 0.0, 0.0, 1.2114354290411909e-117, 2.696118039405294e-65, 0.0, 9.453148987539968e-190, 0.0], 0.05582945350927333, 0.0008017119518751586), from feature-set combo: ['bedrooms', 'sqft_living', 'waterfront', 'view', 'condition', 'grade', 'yr_built', 'lat']\n",
      "new best condition_no__and__pvals__and__rsquared__and__rsquared_adj__and__rmse__and__delta_rmse score: (40.1209483835691, 0.8750794391405753, 0.875021567361952, [1.137120245635227e-13, 0.0, 0.0, 1.7403824532355214e-99, 0.0, 0.0, 0.0, 1.564735432469473e-70], 0.05576652599208517, 0.00047344185199044706), from feature-set combo: ['bedrooms', 'sqft_living', 'waterfront', 'view', 'grade', 'yr_built', 'lat', 'sqft_living15']\n",
      "new best condition_no__and__pvals__and__rsquared__and__rsquared_adj__and__rmse__and__delta_rmse score: (38.210920346302146, 0.8761216796779859, 0.8760642907372473, [3.724335082111926e-45, 3.78340051380045e-215, 0.0, 6.245491318992531e-103, 0.0, 0.0, 0.0, 2.6783395975245472e-83], 0.055532906725535625, 0.0005121564855554761), from feature-set combo: ['bathrooms', 'sqft_living', 'waterfront', 'view', 'grade', 'yr_built', 'lat', 'sqft_living15']\n",
      "new best condition_no__and__pvals__and__rsquared__and__rsquared_adj__and__rmse__and__delta_rmse score: (34.492789087940906, 0.876126561214083, 0.8760691745373915, [0.0, 3.1791075860533793e-65, 1.4970423307540397e-277, 4.294463000994069e-138, 1.7467827478177826e-68, 0.0, 1.4577861791488124e-249, 0.0], 0.055533586297089065, 0.0008233609815966921), from feature-set combo: ['sqft_living', 'floors', 'waterfront', 'view', 'condition', 'grade', 'yr_built', 'lat']\n",
      "new best condition_no__and__pvals__and__rsquared__and__rsquared_adj__and__rmse__and__delta_rmse score: (34.15999936338674, 0.8768976835716117, 0.8768406541292304, [0.0, 3.7162317477818716e-65, 0.0, 2.8423370256160146e-114, 0.0, 0.0, 0.0, 4.326222015049689e-90], 0.05535942351202082, 0.0005433049933268291), from feature-set combo: ['sqft_living', 'floors', 'waterfront', 'view', 'grade', 'yr_built', 'lat', 'sqft_living15']\n",
      "new best condition_no__and__pvals__and__rsquared__and__rsquared_adj__and__rmse__and__delta_rmse score: (36.08228176919569, 0.8769461710184652, 0.8768891640375758, [0.0, 0.0, 3.8320670512584e-108, 2.5513009532656577e-65, 0.0, 4.407372126102041e-196, 0.0, 1.924876416132363e-81], 0.05534718966830743, 0.0006370624090097865), from feature-set combo: ['sqft_living', 'waterfront', 'view', 'condition', 'grade', 'yr_built', 'lat', 'sqft_living15']\n"
     ]
    },
    {
     "data": {
      "text/html": [
       "Cross-validating ${15 \\choose 9}=5005$ combinations of 9 features (out of 15) over 5 folds..."
      ],
      "text/plain": [
       "<IPython.core.display.HTML object>"
      ]
     },
     "metadata": {},
     "output_type": "display_data"
    },
    {
     "name": "stdout",
     "output_type": "stream",
     "text": [
      "new best condition_no__and__pvals__and__rsquared__and__rsquared_adj__and__rmse__and__delta_rmse score: (40.028326883860885, 0.8770072921161185, 0.8769431874092696, [3.998317304957489e-27, 0.0, 9.365180284535592e-67, 2.944352786708853e-299, 7.849847659188682e-128, 4.814848897883773e-76, 0.0, 4.3091392420685666e-250, 0.0], 0.05533598272377538, 0.0008512032918264426), from feature-set combo: ['bedrooms', 'sqft_living', 'floors', 'waterfront', 'view', 'condition', 'grade', 'yr_built', 'lat']\n",
      "new best condition_no__and__pvals__and__rsquared__and__rsquared_adj__and__rmse__and__delta_rmse score: (40.55270940928216, 0.8773841271621368, 0.8773202188618345, [4.8803737134371304e-14, 0.0, 1.6233725148990218e-65, 0.0, 2.06592006985405e-107, 0.0, 0.0, 0.0, 5.436468617729234e-86], 0.0552501379877697, 0.0005713186981995452), from feature-set combo: ['bedrooms', 'sqft_living', 'floors', 'waterfront', 'view', 'grade', 'yr_built', 'lat', 'sqft_living15']\n",
      "new best condition_no__and__pvals__and__rsquared__and__rsquared_adj__and__rmse__and__delta_rmse score: (42.62633621437756, 0.8776170693765095, 0.8775532824862898, [5.754828835120915e-20, 0.0, 0.0, 1.2297793463855796e-100, 1.992468083784632e-71, 0.0, 6.770179381170011e-195, 0.0, 9.358747684917038e-77], 0.055196339514696505, 0.0005987286899817937), from feature-set combo: ['bedrooms', 'sqft_living', 'waterfront', 'view', 'condition', 'grade', 'yr_built', 'lat', 'sqft_living15']\n",
      "new best condition_no__and__pvals__and__rsquared__and__rsquared_adj__and__rmse__and__delta_rmse score: (38.876983302100065, 0.8778121252172859, 0.877748439993122, [1.4056519479352593e-27, 5.564466539290896e-214, 1.8553523042387738e-48, 0.0, 1.0526591355341386e-110, 0.0, 0.0, 0.0, 9.602095657494732e-96], 0.05515310391836646, 0.0005236459087399351), from feature-set combo: ['bathrooms', 'sqft_living', 'floors', 'waterfront', 'view', 'grade', 'yr_built', 'lat', 'sqft_living15']\n",
      "new best condition_no__and__pvals__and__rsquared__and__rsquared_adj__and__rmse__and__delta_rmse score: (40.52311051927832, 0.8781565042925594, 0.878092998560216, [1.561202469392435e-36, 9.744790482229581e-201, 0.0, 3.545846901953422e-105, 1.2239924910764833e-57, 0.0, 1.2676386178913144e-229, 0.0, 3.835736041170242e-89], 0.05507407446247827, 0.0006878297588808937), from feature-set combo: ['bathrooms', 'sqft_living', 'waterfront', 'view', 'condition', 'grade', 'yr_built', 'lat', 'sqft_living15']\n",
      "new best condition_no__and__pvals__and__rsquared__and__rsquared_adj__and__rmse__and__delta_rmse score: (36.559005790270035, 0.8796407308390949, 0.8795779986966797, [0.0, 5.854460363832909e-81, 1.031287557412734e-272, 1.6647141842679535e-117, 3.6672272707428117e-78, 0.0, 7.359586509717556e-268, 0.0, 3.381302144500517e-100], 0.05473820233249974, 0.0005128896695869037), from feature-set combo: ['sqft_living', 'floors', 'waterfront', 'view', 'condition', 'grade', 'yr_built', 'lat', 'sqft_living15']\n"
     ]
    },
    {
     "data": {
      "text/html": [
       "Cross-validating ${15 \\choose 10}=3003$ combinations of 10 features (out of 15) over 5 folds..."
      ],
      "text/plain": [
       "<IPython.core.display.HTML object>"
      ]
     },
     "metadata": {},
     "output_type": "display_data"
    },
    {
     "name": "stdout",
     "output_type": "stream",
     "text": [
      "new best condition_no__and__pvals__and__rsquared__and__rsquared_adj__and__rmse__and__delta_rmse score: (43.02186563406407, 0.8803419704446538, 0.8802726701522676, [3.973951563423378e-21, 0.0, 4.14325617488209e-82, 6.621672702985766e-292, 1.5663966241917206e-109, 4.101005209157147e-85, 0.0, 1.266487671505925e-268, 0.0, 2.7126867629047475e-95], 0.054578756435739686, 0.00045974779462470137), from feature-set combo: ['bedrooms', 'sqft_living', 'floors', 'waterfront', 'view', 'condition', 'grade', 'yr_built', 'lat', 'sqft_living15']\n"
     ]
    },
    {
     "data": {
      "text/html": [
       "Cross-validating ${15 \\choose 11}=1365$ combinations of 11 features (out of 15) over 5 folds..."
      ],
      "text/plain": [
       "<IPython.core.display.HTML object>"
      ]
     },
     "metadata": {},
     "output_type": "display_data"
    },
    {
     "name": "stdout",
     "output_type": "stream",
     "text": [
      "new best condition_no__and__pvals__and__rsquared__and__rsquared_adj__and__rmse__and__delta_rmse score: (46.616542352289, 0.8811460068068623, 0.8810702843259948, [3.7102073691825486e-27, 3.4300607895648605e-25, 8.4939957757404e-220, 5.771287883015538e-63, 1.6136940075727818e-305, 7.258295648923854e-105, 6.849248966235773e-77, 0.0, 7.606443761739782e-289, 0.0, 2.2485644746971073e-99], 0.05439484217049147, 0.0005112081285960579), from feature-set combo: ['bedrooms', 'bathrooms', 'sqft_living', 'floors', 'waterfront', 'view', 'condition', 'grade', 'yr_built', 'lat', 'sqft_living15']\n"
     ]
    },
    {
     "data": {
      "text/html": [
       "Cross-validating ${15 \\choose 12}=455$ combinations of 12 features (out of 15) over 5 folds..."
      ],
      "text/plain": [
       "<IPython.core.display.HTML object>"
      ]
     },
     "metadata": {},
     "output_type": "display_data"
    },
    {
     "name": "stdout",
     "output_type": "stream",
     "text": [
      "new best condition_no__and__pvals__and__rsquared__and__rsquared_adj__and__rmse__and__delta_rmse score: (59.33796125548035, 0.8812129695194966, 0.8811304049348863, [5.824657369247804e-28, 8.476792643672092e-27, 2.6229126832548636e-125, 2.336234813853979e-36, 4.545803418304064e-307, 4.744042505051763e-107, 2.9148644406049466e-78, 0.0, 0.020096775043753186, 1.6223021990321726e-290, 0.0, 1.3490811029073643e-89], 0.05437941948312245, 0.0005310658863421289), from feature-set combo: ['bedrooms', 'bathrooms', 'sqft_living', 'floors', 'waterfront', 'view', 'condition', 'grade', 'sqft_above', 'yr_built', 'lat', 'sqft_living15']\n",
      "new best condition_no__and__pvals__and__rsquared__and__rsquared_adj__and__rmse__and__delta_rmse score: (46.65111737434299, 0.8812470295080524, 0.8811644885979998, [6.203866012219533e-30, 3.004970223931463e-26, 1.1450480835279492e-218, 3.0181047635575657e-55, 1.7128562522869369e-65, 1.8460442133527966e-105, 2.5245598716117756e-69, 0.0, 3.049353988648547e-292, 0.0005846508068453752, 0.0, 2.39293132829003e-98], 0.05437172059402012, 0.0005399305707250903), from feature-set combo: ['bedrooms', 'bathrooms', 'sqft_living', 'floors', 'waterfront', 'view', 'condition', 'grade', 'yr_built', 'yr_renovated', 'lat', 'sqft_living15']\n"
     ]
    },
    {
     "data": {
      "text/html": [
       "Cross-validating ${15 \\choose 13}=105$ combinations of 13 features (out of 15) over 5 folds..."
      ],
      "text/plain": [
       "<IPython.core.display.HTML object>"
      ]
     },
     "metadata": {},
     "output_type": "display_data"
    },
    {
     "name": "stdout",
     "output_type": "stream",
     "text": [
      "new best condition_no__and__pvals__and__rsquared__and__rsquared_adj__and__rmse__and__delta_rmse score: (59.40669683332599, 0.8813197688101804, 0.8812303990855976, [7.05773960634598e-31, 4.929505331842788e-28, 1.4865797457653393e-123, 4.7978703452843216e-31, 1.1840601548047273e-65, 8.310723489799404e-108, 1.506272894669856e-70, 0.0, 0.014990249685863804, 3.606375520729781e-294, 0.00040939431257734974, 0.0, 2.3828253053031154e-88], 0.054354962389453275, 0.0005609179578660431), from feature-set combo: ['bedrooms', 'bathrooms', 'sqft_living', 'floors', 'waterfront', 'view', 'condition', 'grade', 'sqft_above', 'yr_built', 'yr_renovated', 'lat', 'sqft_living15']\n"
     ]
    },
    {
     "data": {
      "text/html": [
       "Cross-validating ${15 \\choose 14}=15$ combinations of 14 features (out of 15) over 5 folds..."
      ],
      "text/plain": [
       "<IPython.core.display.HTML object>"
      ]
     },
     "metadata": {},
     "output_type": "display_data"
    },
    {
     "data": {
      "text/html": [
       "Cross-validating ${15 \\choose 15}=1$ combinations of 15 features (out of 15) over 5 folds..."
      ],
      "text/plain": [
       "<IPython.core.display.HTML object>"
      ]
     },
     "metadata": {},
     "output_type": "display_data"
    },
    {
     "data": {
      "text/html": [
       "<table border=\"1\" class=\"dataframe\">\n",
       "  <thead>\n",
       "    <tr style=\"text-align: right;\">\n",
       "      <th></th>\n",
       "      <th>n_features</th>\n",
       "      <th>features</th>\n",
       "      <th>condition_no</th>\n",
       "      <th>rsquared</th>\n",
       "      <th>rsquared_adj</th>\n",
       "      <th>pvals</th>\n",
       "      <th>rmse</th>\n",
       "      <th>delta_rmse</th>\n",
       "    </tr>\n",
       "  </thead>\n",
       "  <tbody>\n",
       "    <tr>\n",
       "      <th>0</th>\n",
       "      <td>1</td>\n",
       "      <td>[bedrooms]</td>\n",
       "      <td>8.535931</td>\n",
       "      <td>0.400607</td>\n",
       "      <td>0.400572</td>\n",
       "      <td>[0.0]</td>\n",
       "      <td>0.122162</td>\n",
       "      <td>0.002593</td>\n",
       "    </tr>\n",
       "    <tr>\n",
       "      <th>1</th>\n",
       "      <td>1</td>\n",
       "      <td>[bathrooms]</td>\n",
       "      <td>7.601506</td>\n",
       "      <td>0.483130</td>\n",
       "      <td>0.483100</td>\n",
       "      <td>[0.0]</td>\n",
       "      <td>0.113440</td>\n",
       "      <td>0.002000</td>\n",
       "    </tr>\n",
       "    <tr>\n",
       "      <th>2</th>\n",
       "      <td>1</td>\n",
       "      <td>[sqft_living]</td>\n",
       "      <td>8.049436</td>\n",
       "      <td>0.675306</td>\n",
       "      <td>0.675287</td>\n",
       "      <td>[0.0]</td>\n",
       "      <td>0.089910</td>\n",
       "      <td>0.001334</td>\n",
       "    </tr>\n",
       "    <tr>\n",
       "      <th>3</th>\n",
       "      <td>2</td>\n",
       "      <td>[bedrooms, sqft_living]</td>\n",
       "      <td>17.935121</td>\n",
       "      <td>0.676312</td>\n",
       "      <td>0.676274</td>\n",
       "      <td>[3.127652369428163e-10, 0.0]</td>\n",
       "      <td>0.089771</td>\n",
       "      <td>0.001423</td>\n",
       "    </tr>\n",
       "    <tr>\n",
       "      <th>4</th>\n",
       "      <td>2</td>\n",
       "      <td>[sqft_living, floors]</td>\n",
       "      <td>10.585703</td>\n",
       "      <td>0.688187</td>\n",
       "      <td>0.688150</td>\n",
       "      <td>[0.0, 2.476440744662179e-140]</td>\n",
       "      <td>0.088109</td>\n",
       "      <td>0.001651</td>\n",
       "    </tr>\n",
       "    <tr>\n",
       "      <th>5</th>\n",
       "      <td>2</td>\n",
       "      <td>[sqft_living, waterfront]</td>\n",
       "      <td>11.485645</td>\n",
       "      <td>0.731956</td>\n",
       "      <td>0.731925</td>\n",
       "      <td>[0.0, 0.0]</td>\n",
       "      <td>0.081691</td>\n",
       "      <td>0.001349</td>\n",
       "    </tr>\n",
       "    <tr>\n",
       "      <th>6</th>\n",
       "      <td>2</td>\n",
       "      <td>[sqft_living, lat]</td>\n",
       "      <td>9.430450</td>\n",
       "      <td>0.791745</td>\n",
       "      <td>0.791721</td>\n",
       "      <td>[0.0, 0.0]</td>\n",
       "      <td>0.072008</td>\n",
       "      <td>0.002104</td>\n",
       "    </tr>\n",
       "    <tr>\n",
       "      <th>7</th>\n",
       "      <td>3</td>\n",
       "      <td>[bedrooms, sqft_living, lat]</td>\n",
       "      <td>20.559322</td>\n",
       "      <td>0.792322</td>\n",
       "      <td>0.792286</td>\n",
       "      <td>[2.7161628253827252e-09, 0.0, 0.0]</td>\n",
       "      <td>0.071909</td>\n",
       "      <td>0.002170</td>\n",
       "    </tr>\n",
       "    <tr>\n",
       "      <th>8</th>\n",
       "      <td>3</td>\n",
       "      <td>[sqft_living, floors, lat]</td>\n",
       "      <td>12.312100</td>\n",
       "      <td>0.798595</td>\n",
       "      <td>0.798560</td>\n",
       "      <td>[0.0, 6.864749720151889e-124, 0.0]</td>\n",
       "      <td>0.070814</td>\n",
       "      <td>0.001916</td>\n",
       "    </tr>\n",
       "    <tr>\n",
       "      <th>9</th>\n",
       "      <td>3</td>\n",
       "      <td>[sqft_living, waterfront, lat]</td>\n",
       "      <td>13.537863</td>\n",
       "      <td>0.825592</td>\n",
       "      <td>0.825561</td>\n",
       "      <td>[0.0, 0.0, 0.0]</td>\n",
       "      <td>0.065896</td>\n",
       "      <td>0.001708</td>\n",
       "    </tr>\n",
       "    <tr>\n",
       "      <th>10</th>\n",
       "      <td>4</td>\n",
       "      <td>[bedrooms, sqft_living, waterfront, lat]</td>\n",
       "      <td>20.627900</td>\n",
       "      <td>0.828963</td>\n",
       "      <td>0.828923</td>\n",
       "      <td>[2.1474187560312182e-66, 0.0, 0.0, 0.0]</td>\n",
       "      <td>0.065257</td>\n",
       "      <td>0.001835</td>\n",
       "    </tr>\n",
       "    <tr>\n",
       "      <th>11</th>\n",
       "      <td>4</td>\n",
       "      <td>[sqft_living, waterfront, view, lat]</td>\n",
       "      <td>13.626055</td>\n",
       "      <td>0.835919</td>\n",
       "      <td>0.835881</td>\n",
       "      <td>[0.0, 0.0, 7.0384391624937074e-208, 0.0]</td>\n",
       "      <td>0.063915</td>\n",
       "      <td>0.001335</td>\n",
       "    </tr>\n",
       "    <tr>\n",
       "      <th>12</th>\n",
       "      <td>4</td>\n",
       "      <td>[sqft_living, waterfront, grade, lat]</td>\n",
       "      <td>27.601008</td>\n",
       "      <td>0.852100</td>\n",
       "      <td>0.852066</td>\n",
       "      <td>[0.0, 0.0, 0.0, 0.0]</td>\n",
       "      <td>0.060684</td>\n",
       "      <td>0.002068</td>\n",
       "    </tr>\n",
       "    <tr>\n",
       "      <th>13</th>\n",
       "      <td>5</td>\n",
       "      <td>[bedrooms, sqft_living, waterfront, grade, lat]</td>\n",
       "      <td>33.424143</td>\n",
       "      <td>0.853053</td>\n",
       "      <td>0.853011</td>\n",
       "      <td>[1.7163220742648478e-24, 0.0, 0.0, 0.0, 0.0]</td>\n",
       "      <td>0.060488</td>\n",
       "      <td>0.002100</td>\n",
       "    </tr>\n",
       "    <tr>\n",
       "      <th>14</th>\n",
       "      <td>5</td>\n",
       "      <td>[sqft_living, waterfront, view, grade, lat]</td>\n",
       "      <td>27.739948</td>\n",
       "      <td>0.860370</td>\n",
       "      <td>0.860329</td>\n",
       "      <td>[0.0, 0.0, 1.1656068826912324e-197, 0.0, 0.0]</td>\n",
       "      <td>0.058962</td>\n",
       "      <td>0.001868</td>\n",
       "    </tr>\n",
       "    <tr>\n",
       "      <th>15</th>\n",
       "      <td>5</td>\n",
       "      <td>[sqft_living, waterfront, grade, yr_built, lat]</td>\n",
       "      <td>31.188652</td>\n",
       "      <td>0.867034</td>\n",
       "      <td>0.866996</td>\n",
       "      <td>[0.0, 0.0, 0.0, 0.0, 0.0]</td>\n",
       "      <td>0.057537</td>\n",
       "      <td>0.001175</td>\n",
       "    </tr>\n",
       "    <tr>\n",
       "      <th>16</th>\n",
       "      <td>6</td>\n",
       "      <td>[bedrooms, sqft_living, waterfront, grade, yr_built, lat]</td>\n",
       "      <td>36.830137</td>\n",
       "      <td>0.868008</td>\n",
       "      <td>0.867963</td>\n",
       "      <td>[1.2973645098037166e-27, 0.0, 0.0, 0.0, 0.0, 0.0]</td>\n",
       "      <td>0.057326</td>\n",
       "      <td>0.001201</td>\n",
       "    </tr>\n",
       "    <tr>\n",
       "      <th>17</th>\n",
       "      <td>6</td>\n",
       "      <td>[bathrooms, sqft_living, waterfront, grade, yr_built, lat]</td>\n",
       "      <td>34.707363</td>\n",
       "      <td>0.868392</td>\n",
       "      <td>0.868347</td>\n",
       "      <td>[3.560188441473182e-38, 0.0, 0.0, 0.0, 0.0, 0.0]</td>\n",
       "      <td>0.057242</td>\n",
       "      <td>0.001189</td>\n",
       "    </tr>\n",
       "    <tr>\n",
       "      <th>18</th>\n",
       "      <td>6</td>\n",
       "      <td>[sqft_living, floors, waterfront, grade, yr_built, lat]</td>\n",
       "      <td>31.796732</td>\n",
       "      <td>0.868596</td>\n",
       "      <td>0.868551</td>\n",
       "      <td>[0.0, 5.3991745225895255e-42, 0.0, 0.0, 0.0, 0.0]</td>\n",
       "      <td>0.057198</td>\n",
       "      <td>0.001272</td>\n",
       "    </tr>\n",
       "    <tr>\n",
       "      <th>19</th>\n",
       "      <td>6</td>\n",
       "      <td>[sqft_living, waterfront, view, grade, yr_built, lat]</td>\n",
       "      <td>31.394024</td>\n",
       "      <td>0.871831</td>\n",
       "      <td>0.871787</td>\n",
       "      <td>[0.0, 0.0, 2.094529928743863e-124, 0.0, 3.414775546378224e-307, 0.0]</td>\n",
       "      <td>0.056489</td>\n",
       "      <td>0.000994</td>\n",
       "    </tr>\n",
       "    <tr>\n",
       "      <th>20</th>\n",
       "      <td>7</td>\n",
       "      <td>[bedrooms, sqft_living, waterfront, view, grade, yr_built, lat]</td>\n",
       "      <td>36.968176</td>\n",
       "      <td>0.872451</td>\n",
       "      <td>0.872400</td>\n",
       "      <td>[1.2309792009292286e-18, 0.0, 0.0, 8.665298587283898e-116, 0.0, 0.0, 0.0]</td>\n",
       "      <td>0.056352</td>\n",
       "      <td>0.001023</td>\n",
       "    </tr>\n",
       "    <tr>\n",
       "      <th>21</th>\n",
       "      <td>7</td>\n",
       "      <td>[bathrooms, sqft_living, waterfront, view, grade, yr_built, lat]</td>\n",
       "      <td>34.882566</td>\n",
       "      <td>0.873086</td>\n",
       "      <td>0.873034</td>\n",
       "      <td>[1.540227259015921e-36, 0.0, 0.0, 2.2997231339788205e-122, 0.0, 0.0, 0.0]</td>\n",
       "      <td>0.056211</td>\n",
       "      <td>0.000965</td>\n",
       "    </tr>\n",
       "    <tr>\n",
       "      <th>22</th>\n",
       "      <td>7</td>\n",
       "      <td>[sqft_living, floors, waterfront, view, grade, yr_built, lat]</td>\n",
       "      <td>32.028168</td>\n",
       "      <td>0.873669</td>\n",
       "      <td>0.873618</td>\n",
       "      <td>[0.0, 1.2064418301580232e-52, 0.0, 7.086463013794854e-134, 0.0, 0.0, 0.0]</td>\n",
       "      <td>0.056082</td>\n",
       "      <td>0.001066</td>\n",
       "    </tr>\n",
       "    <tr>\n",
       "      <th>23</th>\n",
       "      <td>7</td>\n",
       "      <td>[sqft_living, waterfront, view, condition, grade, yr_built, lat]</td>\n",
       "      <td>33.906813</td>\n",
       "      <td>0.873967</td>\n",
       "      <td>0.873916</td>\n",
       "      <td>[0.0, 0.0, 2.3557418722528092e-127, 1.2252108629156591e-58, 0.0, 6.842995750377401e-191, 0.0]</td>\n",
       "      <td>0.056015</td>\n",
       "      <td>0.000778</td>\n",
       "    </tr>\n",
       "    <tr>\n",
       "      <th>24</th>\n",
       "      <td>7</td>\n",
       "      <td>[sqft_living, waterfront, view, grade, yr_built, lat, sqft_living15]</td>\n",
       "      <td>33.617764</td>\n",
       "      <td>0.874603</td>\n",
       "      <td>0.874552</td>\n",
       "      <td>[0.0, 0.0, 5.184046115051435e-106, 0.0, 0.0, 0.0, 1.751751782053256e-74]</td>\n",
       "      <td>0.055873</td>\n",
       "      <td>0.000486</td>\n",
       "    </tr>\n",
       "    <tr>\n",
       "      <th>25</th>\n",
       "      <td>8</td>\n",
       "      <td>[bedrooms, sqft_living, waterfront, view, condition, grade, yr_built, lat]</td>\n",
       "      <td>39.500474</td>\n",
       "      <td>0.874803</td>\n",
       "      <td>0.874745</td>\n",
       "      <td>[1.066837177129236e-25, 0.0, 0.0, 1.2114354290411909e-117, 2.696118039405294e-65, 0.0, 9.453148987539968e-190, 0.0]</td>\n",
       "      <td>0.055829</td>\n",
       "      <td>0.000802</td>\n",
       "    </tr>\n",
       "    <tr>\n",
       "      <th>26</th>\n",
       "      <td>8</td>\n",
       "      <td>[bedrooms, sqft_living, waterfront, view, grade, yr_built, lat, sqft_living15]</td>\n",
       "      <td>40.120948</td>\n",
       "      <td>0.875079</td>\n",
       "      <td>0.875022</td>\n",
       "      <td>[1.137120245635227e-13, 0.0, 0.0, 1.7403824532355214e-99, 0.0, 0.0, 0.0, 1.564735432469473e-70]</td>\n",
       "      <td>0.055767</td>\n",
       "      <td>0.000473</td>\n",
       "    </tr>\n",
       "    <tr>\n",
       "      <th>27</th>\n",
       "      <td>8</td>\n",
       "      <td>[bathrooms, sqft_living, waterfront, view, grade, yr_built, lat, sqft_living15]</td>\n",
       "      <td>38.210920</td>\n",
       "      <td>0.876122</td>\n",
       "      <td>0.876064</td>\n",
       "      <td>[3.724335082111926e-45, 3.78340051380045e-215, 0.0, 6.245491318992531e-103, 0.0, 0.0, 0.0, 2.6783395975245472e-83]</td>\n",
       "      <td>0.055533</td>\n",
       "      <td>0.000512</td>\n",
       "    </tr>\n",
       "    <tr>\n",
       "      <th>28</th>\n",
       "      <td>8</td>\n",
       "      <td>[sqft_living, floors, waterfront, view, condition, grade, yr_built, lat]</td>\n",
       "      <td>34.492789</td>\n",
       "      <td>0.876127</td>\n",
       "      <td>0.876069</td>\n",
       "      <td>[0.0, 3.1791075860533793e-65, 1.4970423307540397e-277, 4.294463000994069e-138, 1.7467827478177826e-68, 0.0, 1.4577861791488124e-249, 0.0]</td>\n",
       "      <td>0.055534</td>\n",
       "      <td>0.000823</td>\n",
       "    </tr>\n",
       "    <tr>\n",
       "      <th>29</th>\n",
       "      <td>8</td>\n",
       "      <td>[sqft_living, floors, waterfront, view, grade, yr_built, lat, sqft_living15]</td>\n",
       "      <td>34.159999</td>\n",
       "      <td>0.876898</td>\n",
       "      <td>0.876841</td>\n",
       "      <td>[0.0, 3.7162317477818716e-65, 0.0, 2.8423370256160146e-114, 0.0, 0.0, 0.0, 4.326222015049689e-90]</td>\n",
       "      <td>0.055359</td>\n",
       "      <td>0.000543</td>\n",
       "    </tr>\n",
       "    <tr>\n",
       "      <th>30</th>\n",
       "      <td>8</td>\n",
       "      <td>[sqft_living, waterfront, view, condition, grade, yr_built, lat, sqft_living15]</td>\n",
       "      <td>36.082282</td>\n",
       "      <td>0.876946</td>\n",
       "      <td>0.876889</td>\n",
       "      <td>[0.0, 0.0, 3.8320670512584e-108, 2.5513009532656577e-65, 0.0, 4.407372126102041e-196, 0.0, 1.924876416132363e-81]</td>\n",
       "      <td>0.055347</td>\n",
       "      <td>0.000637</td>\n",
       "    </tr>\n",
       "    <tr>\n",
       "      <th>31</th>\n",
       "      <td>9</td>\n",
       "      <td>[bedrooms, sqft_living, floors, waterfront, view, condition, grade, yr_built, lat]</td>\n",
       "      <td>40.028327</td>\n",
       "      <td>0.877007</td>\n",
       "      <td>0.876943</td>\n",
       "      <td>[3.998317304957489e-27, 0.0, 9.365180284535592e-67, 2.944352786708853e-299, 7.849847659188682e-128, 4.814848897883773e-76, 0.0, 4.3091392420685666e-250, 0.0]</td>\n",
       "      <td>0.055336</td>\n",
       "      <td>0.000851</td>\n",
       "    </tr>\n",
       "    <tr>\n",
       "      <th>32</th>\n",
       "      <td>9</td>\n",
       "      <td>[bedrooms, sqft_living, floors, waterfront, view, grade, yr_built, lat, sqft_living15]</td>\n",
       "      <td>40.552709</td>\n",
       "      <td>0.877384</td>\n",
       "      <td>0.877320</td>\n",
       "      <td>[4.8803737134371304e-14, 0.0, 1.6233725148990218e-65, 0.0, 2.06592006985405e-107, 0.0, 0.0, 0.0, 5.436468617729234e-86]</td>\n",
       "      <td>0.055250</td>\n",
       "      <td>0.000571</td>\n",
       "    </tr>\n",
       "    <tr>\n",
       "      <th>33</th>\n",
       "      <td>9</td>\n",
       "      <td>[bedrooms, sqft_living, waterfront, view, condition, grade, yr_built, lat, sqft_living15]</td>\n",
       "      <td>42.626336</td>\n",
       "      <td>0.877617</td>\n",
       "      <td>0.877553</td>\n",
       "      <td>[5.754828835120915e-20, 0.0, 0.0, 1.2297793463855796e-100, 1.992468083784632e-71, 0.0, 6.770179381170011e-195, 0.0, 9.358747684917038e-77]</td>\n",
       "      <td>0.055196</td>\n",
       "      <td>0.000599</td>\n",
       "    </tr>\n",
       "    <tr>\n",
       "      <th>34</th>\n",
       "      <td>9</td>\n",
       "      <td>[bathrooms, sqft_living, floors, waterfront, view, grade, yr_built, lat, sqft_living15]</td>\n",
       "      <td>38.876983</td>\n",
       "      <td>0.877812</td>\n",
       "      <td>0.877748</td>\n",
       "      <td>[1.4056519479352593e-27, 5.564466539290896e-214, 1.8553523042387738e-48, 0.0, 1.0526591355341386e-110, 0.0, 0.0, 0.0, 9.602095657494732e-96]</td>\n",
       "      <td>0.055153</td>\n",
       "      <td>0.000524</td>\n",
       "    </tr>\n",
       "    <tr>\n",
       "      <th>35</th>\n",
       "      <td>9</td>\n",
       "      <td>[bathrooms, sqft_living, waterfront, view, condition, grade, yr_built, lat, sqft_living15]</td>\n",
       "      <td>40.523111</td>\n",
       "      <td>0.878157</td>\n",
       "      <td>0.878093</td>\n",
       "      <td>[1.561202469392435e-36, 9.744790482229581e-201, 0.0, 3.545846901953422e-105, 1.2239924910764833e-57, 0.0, 1.2676386178913144e-229, 0.0, 3.835736041170242e-89]</td>\n",
       "      <td>0.055074</td>\n",
       "      <td>0.000688</td>\n",
       "    </tr>\n",
       "    <tr>\n",
       "      <th>36</th>\n",
       "      <td>9</td>\n",
       "      <td>[sqft_living, floors, waterfront, view, condition, grade, yr_built, lat, sqft_living15]</td>\n",
       "      <td>36.559006</td>\n",
       "      <td>0.879641</td>\n",
       "      <td>0.879578</td>\n",
       "      <td>[0.0, 5.854460363832909e-81, 1.031287557412734e-272, 1.6647141842679535e-117, 3.6672272707428117e-78, 0.0, 7.359586509717556e-268, 0.0, 3.381302144500517e-100]</td>\n",
       "      <td>0.054738</td>\n",
       "      <td>0.000513</td>\n",
       "    </tr>\n",
       "    <tr>\n",
       "      <th>37</th>\n",
       "      <td>10</td>\n",
       "      <td>[bedrooms, sqft_living, floors, waterfront, view, condition, grade, yr_built, lat, sqft_living15]</td>\n",
       "      <td>43.021866</td>\n",
       "      <td>0.880342</td>\n",
       "      <td>0.880273</td>\n",
       "      <td>[3.973951563423378e-21, 0.0, 4.14325617488209e-82, 6.621672702985766e-292, 1.5663966241917206e-109, 4.101005209157147e-85, 0.0, 1.266487671505925e-268, 0.0, 2.7126867629047475e-95]</td>\n",
       "      <td>0.054579</td>\n",
       "      <td>0.000460</td>\n",
       "    </tr>\n",
       "    <tr>\n",
       "      <th>38</th>\n",
       "      <td>11</td>\n",
       "      <td>[bedrooms, bathrooms, sqft_living, floors, waterfront, view, condition, grade, yr_built, lat, sqft_living15]</td>\n",
       "      <td>46.616542</td>\n",
       "      <td>0.881146</td>\n",
       "      <td>0.881070</td>\n",
       "      <td>[3.7102073691825486e-27, 3.4300607895648605e-25, 8.4939957757404e-220, 5.771287883015538e-63, 1.6136940075727818e-305, 7.258295648923854e-105, 6.849248966235773e-77, 0.0, 7.606443761739782e-289, 0.0, 2.2485644746971073e-99]</td>\n",
       "      <td>0.054395</td>\n",
       "      <td>0.000511</td>\n",
       "    </tr>\n",
       "    <tr>\n",
       "      <th>39</th>\n",
       "      <td>12</td>\n",
       "      <td>[bedrooms, bathrooms, sqft_living, floors, waterfront, view, condition, grade, sqft_above, yr_built, lat, sqft_living15]</td>\n",
       "      <td>59.337961</td>\n",
       "      <td>0.881213</td>\n",
       "      <td>0.881130</td>\n",
       "      <td>[5.824657369247804e-28, 8.476792643672092e-27, 2.6229126832548636e-125, 2.336234813853979e-36, 4.545803418304064e-307, 4.744042505051763e-107, 2.9148644406049466e-78, 0.0, 0.020096775043753186, 1.6223021990321726e-290, 0.0, 1.3490811029073643e-89]</td>\n",
       "      <td>0.054379</td>\n",
       "      <td>0.000531</td>\n",
       "    </tr>\n",
       "    <tr>\n",
       "      <th>40</th>\n",
       "      <td>12</td>\n",
       "      <td>[bedrooms, bathrooms, sqft_living, floors, waterfront, view, condition, grade, yr_built, yr_renovated, lat, sqft_living15]</td>\n",
       "      <td>46.651117</td>\n",
       "      <td>0.881247</td>\n",
       "      <td>0.881164</td>\n",
       "      <td>[6.203866012219533e-30, 3.004970223931463e-26, 1.1450480835279492e-218, 3.0181047635575657e-55, 1.7128562522869369e-65, 1.8460442133527966e-105, 2.5245598716117756e-69, 0.0, 3.049353988648547e-292, 0.0005846508068453752, 0.0, 2.39293132829003e-98]</td>\n",
       "      <td>0.054372</td>\n",
       "      <td>0.000540</td>\n",
       "    </tr>\n",
       "    <tr>\n",
       "      <th>41</th>\n",
       "      <td>13</td>\n",
       "      <td>[bedrooms, bathrooms, sqft_living, floors, waterfront, view, condition, grade, sqft_above, yr_built, yr_renovated, lat, sqft_living15]</td>\n",
       "      <td>59.406697</td>\n",
       "      <td>0.881320</td>\n",
       "      <td>0.881230</td>\n",
       "      <td>[7.05773960634598e-31, 4.929505331842788e-28, 1.4865797457653393e-123, 4.7978703452843216e-31, 1.1840601548047273e-65, 8.310723489799404e-108, 1.506272894669856e-70, 0.0, 0.014990249685863804, 3.606375520729781e-294, 0.00040939431257734974, 0.0, 2.3828253053031154e-88]</td>\n",
       "      <td>0.054355</td>\n",
       "      <td>0.000561</td>\n",
       "    </tr>\n",
       "  </tbody>\n",
       "</table>"
      ],
      "text/plain": [
       "<IPython.core.display.HTML object>"
      ]
     },
     "metadata": {},
     "output_type": "display_data"
    },
    {
     "data": {
      "text/html": [
       "<br>42 rows x 8 columns<br><br>"
      ],
      "text/plain": [
       "<IPython.core.display.HTML object>"
      ]
     },
     "metadata": {},
     "output_type": "display_data"
    },
    {
     "data": {
      "text/html": [
       "<h4>cv_selected best condition_no__and__pvals__and__rsquared__and__rsquared_adj__and__rmse__and__delta_rmse = (59.40669683332599, 0.8813197688101804, 0.8812303990855976, [7.05773960634598e-31, 4.929505331842788e-28, 1.4865797457653393e-123, 4.7978703452843216e-31, 1.1840601548047273e-65, 8.310723489799404e-108, 1.506272894669856e-70, 0.0, 0.014990249685863804, 3.606375520729781e-294, 0.00040939431257734974, 0.0, 2.3828253053031154e-88], 0.054354962389453275, 0.0005609179578660431)</h4>"
      ],
      "text/plain": [
       "<IPython.core.display.HTML object>"
      ]
     },
     "metadata": {},
     "output_type": "display_data"
    },
    {
     "data": {
      "text/html": [
       "<h4>cv_selected best feature-set combo (13 of 15 features):['bedrooms', 'bathrooms', 'sqft_living', 'floors', 'waterfront', 'view', 'condition', 'grade', 'sqft_above', 'yr_built', 'yr_renovated', 'lat', 'sqft_living15']<h/4>"
      ],
      "text/plain": [
       "<IPython.core.display.HTML object>"
      ]
     },
     "metadata": {},
     "output_type": "display_data"
    },
    {
     "data": {
      "text/html": [
       "<h4>starting feature-set:['bedrooms', 'bathrooms', 'sqft_living', 'floors', 'waterfront', 'view', 'condition', 'grade', 'sqft_above', 'sqft_basement', 'yr_built', 'yr_renovated', 'lat', 'long', 'sqft_living15']</h4>"
      ],
      "text/plain": [
       "<IPython.core.display.HTML object>"
      ]
     },
     "metadata": {},
     "output_type": "display_data"
    },
    {
     "data": {
      "text/html": [
       "<h4>cv_selection suggests dropping ['long', 'sqft_basement'].</h4>"
      ],
      "text/plain": [
       "<IPython.core.display.HTML object>"
      ]
     },
     "metadata": {},
     "output_type": "display_data"
    }
   ],
   "source": [
    "to_drop = []\n",
    "# select non-colinear statistically significant feature-subset with maximized R^2 and adj-R^2 \n",
    "#    and minimized RMSE and delta RMSE, cross-validated over 5 test/train k-folds\n",
    "(\n",
    "    scores_df\n",
    "     , cv_sel_features\n",
    "    , score\n",
    "    , to_drop\n",
    ") = scjpnregression.cv_selection(\n",
    "    kchd_transformed_and_scaled_df.drop(target, axis=1)\n",
    "    , kchd_transformed_and_scaled_df[[target]]\n",
    "    , folds=5\n",
    ")"
   ]
  },
  {
   "cell_type": "code",
   "execution_count": 3,
   "metadata": {},
   "outputs": [
    {
     "name": "stdout",
     "output_type": "stream",
     "text": [
      "updated kc_cv_sel_optimized_features.csv\n"
     ]
    }
   ],
   "source": [
    "fname = 'kc_cv_sel_optimized_features.csv'\n",
    "scores_df.set_index('n_features').to_csv(fname, sep=',')\n",
    "print(\"updated {}\".format(fname))"
   ]
  }
 ],
 "metadata": {
  "file_extension": ".py",
  "kernelspec": {
   "display_name": "Python [conda env:learn-env] *",
   "language": "python",
   "name": "conda-env-learn-env-py"
  },
  "language_info": {
   "codemirror_mode": {
    "name": "ipython",
    "version": 3
   },
   "file_extension": ".py",
   "mimetype": "text/x-python",
   "name": "python",
   "nbconvert_exporter": "python",
   "pygments_lexer": "ipython3",
   "version": "3.6.6"
  },
  "mimetype": "text/x-python",
  "name": "python",
  "npconvert_exporter": "python",
  "pygments_lexer": "ipython3",
  "version": 3
 },
 "nbformat": 4,
 "nbformat_minor": 2
}
