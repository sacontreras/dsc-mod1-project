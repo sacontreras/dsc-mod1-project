{
 "cells": [
  {
   "cell_type": "markdown",
   "metadata": {},
   "source": [
    "# Cross-Validation Forward Selection of Features\n",
    "\n",
    "<h1><font color=\"red\">*** WARNING!!!  This takes a VERY LONG TIME to complete!!! ***</font></h1>\n",
    "\n",
    "DO NOT RELOAD THIS PAGE unless you are comitted to overwriting the previously optimized feature-set/model and you have hours to spare to wait for it to complete!"
   ]
  },
  {
   "cell_type": "code",
   "execution_count": 1,
   "metadata": {},
   "outputs": [],
   "source": [
    "import pandas as pd\n",
    "from IPython.core.display import HTML\n",
    "import numpy as np\n",
    "import scjpnlib.utils as scjpnutils\n",
    "import scjpnlib.regression.api as scjpnregression\n",
    "\n",
    "kchd_transformed_and_scaled_df = pd.read_csv('kc_house_transformed_and_scaled_data.csv')\n",
    "target = 'price'\n",
    "kchd_transformed_and_scaled_df = kchd_transformed_and_scaled_df.drop(['id', 'date'], axis=1)"
   ]
  },
  {
   "cell_type": "code",
   "execution_count": 2,
   "metadata": {
    "scrolled": false
   },
   "outputs": [
    {
     "data": {
      "text/html": [
       "<br><br>Builing all $\\sum_{i=1}^{15}{15 \\choose i}=$ ${15 \\choose 1}$ + ${15 \\choose 2}$ + ${15 \\choose 3}$ + ${15 \\choose 4}$ + ${15 \\choose 5}$ + ${15 \\choose 6}$ + ${15 \\choose 7}$ + ${15 \\choose 8}$ + ${15 \\choose 9}$ + ${15 \\choose 10}$ + ${15 \\choose 11}$ + ${15 \\choose 12}$ + ${15 \\choose 13}$ + ${15 \\choose 14}$ + ${15 \\choose 15}$ $=32767$ combinations of feature set: Index(['bedrooms', 'bathrooms', 'sqft_living', 'sqft_lot', 'floors',\n",
       "       'waterfront', 'view', 'condition', 'grade', 'sqft_above',\n",
       "       'sqft_basement', 'yr_built', 'yr_renovated', 'lat', 'long'],\n",
       "      dtype='object')..."
      ],
      "text/plain": [
       "<IPython.core.display.HTML object>"
      ]
     },
     "metadata": {},
     "output_type": "display_data"
    },
    {
     "data": {
      "text/html": [
       "All done!"
      ],
      "text/plain": [
       "<IPython.core.display.HTML object>"
      ]
     },
     "metadata": {},
     "output_type": "display_data"
    },
    {
     "data": {
      "text/html": [
       "Cross-validating ${15 \\choose 1}=15$ combinations of 1 features (out of 15) over 5 folds..."
      ],
      "text/plain": [
       "<IPython.core.display.HTML object>"
      ]
     },
     "metadata": {},
     "output_type": "display_data"
    },
    {
     "name": "stdout",
     "output_type": "stream",
     "text": [
      "new best condition_no__and__pvals__and__rsquared__and__rsquared_adj__and__rmse__and__delta_rmse score: (10.550688747476446, 0.11775715616091698, 0.11770608743809796, [0.0], 0.10768531606868144, 0.002274986264081266), from feature-set combo: ['bedrooms']\n",
      "new best condition_no__and__pvals__and__rsquared__and__rsquared_adj__and__rmse__and__delta_rmse score: (8.824142016689917, 0.27057695846583263, 0.27053473573276826, [0.0], 0.09791503790664277, 0.0016765407315861875), from feature-set combo: ['bathrooms']\n",
      "new best condition_no__and__pvals__and__rsquared__and__rsquared_adj__and__rmse__and__delta_rmse score: (10.26365157412231, 0.4552909082419676, 0.45525937769767, [0.0], 0.08461399766273019, 0.001682632138358503), from feature-set combo: ['sqft_living']\n",
      "new best condition_no__and__pvals__and__rsquared__and__rsquared_adj__and__rmse__and__delta_rmse score: (13.767845660088895, 0.48136343478424226, 0.4813334134535944, [0.0], 0.08256409301628045, 0.002045454571821359), from feature-set combo: ['grade']\n"
     ]
    },
    {
     "data": {
      "text/html": [
       "Cross-validating ${15 \\choose 2}=105$ combinations of 2 features (out of 15) over 5 folds..."
      ],
      "text/plain": [
       "<IPython.core.display.HTML object>"
      ]
     },
     "metadata": {},
     "output_type": "display_data"
    },
    {
     "name": "stdout",
     "output_type": "stream",
     "text": [
      "new best condition_no__and__pvals__and__rsquared__and__rsquared_adj__and__rmse__and__delta_rmse score: (15.923066867097887, 0.4870156873669945, 0.486956295630698, [1.4534194234020623e-37, 0.0], 0.08211290807117419, 0.0021357415130259377), from feature-set combo: ['bedrooms', 'grade']\n",
      "new best condition_no__and__pvals__and__rsquared__and__rsquared_adj__and__rmse__and__delta_rmse score: (19.82066211305974, 0.48878032749399375, 0.48872114006081524, [2.562342206400106e-50, 0.0], 0.08197159440863623, 0.001921886035632242), from feature-set combo: ['bathrooms', 'grade']\n",
      "new best condition_no__and__pvals__and__rsquared__and__rsquared_adj__and__rmse__and__delta_rmse score: (23.600568574434746, 0.537580071699027, 0.5375265341503335, [0.0, 0.0], 0.07796079762536226, 0.0023348710505887993), from feature-set combo: ['sqft_living', 'grade']\n",
      "new best condition_no__and__pvals__and__rsquared__and__rsquared_adj__and__rmse__and__delta_rmse score: (12.050135210491106, 0.6344423064125543, 0.634399983275155, [0.0, 0.0], 0.06931660895085082, 0.002122631325212529), from feature-set combo: ['sqft_living', 'lat']\n"
     ]
    },
    {
     "data": {
      "text/html": [
       "Cross-validating ${15 \\choose 3}=455$ combinations of 3 features (out of 15) over 5 folds..."
      ],
      "text/plain": [
       "<IPython.core.display.HTML object>"
      ]
     },
     "metadata": {},
     "output_type": "display_data"
    },
    {
     "name": "stdout",
     "output_type": "stream",
     "text": [
      "new best condition_no__and__pvals__and__rsquared__and__rsquared_adj__and__rmse__and__delta_rmse score: (19.78431337044692, 0.6436462125061941, 0.643584322618368, [1.5157935408071367e-88, 0.0, 0.0], 0.06843830623303626, 0.0022386777766468273), from feature-set combo: ['bedrooms', 'sqft_living', 'lat']\n",
      "new best condition_no__and__pvals__and__rsquared__and__rsquared_adj__and__rmse__and__delta_rmse score: (15.782871328255833, 0.649910103925051, 0.6498493019152747, [0.0, 2.13080883973331e-140, 0.0], 0.06783401080424295, 0.001895955199789043), from feature-set combo: ['sqft_living', 'waterfront', 'lat']\n",
      "new best condition_no__and__pvals__and__rsquared__and__rsquared_adj__and__rmse__and__delta_rmse score: (12.439797038053205, 0.6645193374235167, 0.6644610726822645, [0.0, 6.937073343408577e-306, 0.0], 0.06640359178363486, 0.0016295568260861564), from feature-set combo: ['sqft_living', 'view', 'lat']\n",
      "new best condition_no__and__pvals__and__rsquared__and__rsquared_adj__and__rmse__and__delta_rmse score: (26.693884919497755, 0.689076161239409, 0.68902216141705, [0.0, 0.0, 0.0], 0.06392699541293148, 0.0021993746358942926), from feature-set combo: ['sqft_living', 'grade', 'lat']\n"
     ]
    },
    {
     "data": {
      "text/html": [
       "Cross-validating ${15 \\choose 4}=1365$ combinations of 4 features (out of 15) over 5 folds..."
      ],
      "text/plain": [
       "<IPython.core.display.HTML object>"
      ]
     },
     "metadata": {},
     "output_type": "display_data"
    },
    {
     "name": "stdout",
     "output_type": "stream",
     "text": [
      "new best condition_no__and__pvals__and__rsquared__and__rsquared_adj__and__rmse__and__delta_rmse score: (32.06502583348153, 0.6924191616552196, 0.6923479318980863, [1.801603238283431e-40, 0.0, 0.0, 0.0], 0.06358234338380835, 0.002222953946072505), from feature-set combo: ['bedrooms', 'sqft_living', 'grade', 'lat']\n",
      "new best condition_no__and__pvals__and__rsquared__and__rsquared_adj__and__rmse__and__delta_rmse score: (24.451230919310753, 0.6937688436440427, 0.69369792643981, [0.0, 0.0, 0.0, 0.0], 0.0634430943638002, 0.0012475973016535802), from feature-set combo: ['bathrooms', 'grade', 'yr_built', 'lat']\n",
      "new best condition_no__and__pvals__and__rsquared__and__rsquared_adj__and__rmse__and__delta_rmse score: (26.69476411189015, 0.7031667560049791, 0.7030980151773752, [0.0, 1.2493999141169335e-151, 0.0, 0.0], 0.06246138578780629, 0.0021569513362394155), from feature-set combo: ['sqft_living', 'waterfront', 'grade', 'lat']\n",
      "new best condition_no__and__pvals__and__rsquared__and__rsquared_adj__and__rmse__and__delta_rmse score: (26.765836734891035, 0.7137413911246965, 0.7136750991815812, [0.0, 2.474857169115885e-295, 0.0, 0.0], 0.06133855648571729, 0.002001830624684854), from feature-set combo: ['sqft_living', 'view', 'grade', 'lat']\n",
      "new best condition_no__and__pvals__and__rsquared__and__rsquared_adj__and__rmse__and__delta_rmse score: (30.064849241988902, 0.7253998478892201, 0.7253362558148803, [0.0, 0.0, 0.0, 0.0], 0.06007740751568282, 0.001499040814742053), from feature-set combo: ['sqft_living', 'grade', 'yr_built', 'lat']\n"
     ]
    },
    {
     "data": {
      "text/html": [
       "Cross-validating ${15 \\choose 5}=3003$ combinations of 5 features (out of 15) over 5 folds..."
      ],
      "text/plain": [
       "<IPython.core.display.HTML object>"
      ]
     },
     "metadata": {},
     "output_type": "display_data"
    },
    {
     "name": "stdout",
     "output_type": "stream",
     "text": [
      "new best condition_no__and__pvals__and__rsquared__and__rsquared_adj__and__rmse__and__delta_rmse score: (35.289866936185405, 0.7286888703108264, 0.7286103277631725, [6.700559148517084e-45, 0.0, 0.0, 0.0, 0.0], 0.0597165113780991, 0.001517080404166904), from feature-set combo: ['bedrooms', 'sqft_living', 'grade', 'yr_built', 'lat']\n",
      "new best condition_no__and__pvals__and__rsquared__and__rsquared_adj__and__rmse__and__delta_rmse score: (30.07976478761259, 0.7364744617407839, 0.7363981730582532, [0.0, 2.438226054019599e-130, 0.0, 0.0, 0.0], 0.05885323048028448, 0.0012572668071478069), from feature-set combo: ['sqft_living', 'waterfront', 'grade', 'yr_built', 'lat']\n",
      "new best condition_no__and__pvals__and__rsquared__and__rsquared_adj__and__rmse__and__delta_rmse score: (30.19704663176018, 0.7400631674230096, 0.739987917648217, [0.0, 4.845310659177257e-194, 0.0, 0.0, 0.0], 0.05845102100906614, 0.0011470865316399223), from feature-set combo: ['sqft_living', 'view', 'grade', 'yr_built', 'lat']\n"
     ]
    },
    {
     "data": {
      "text/html": [
       "Cross-validating ${15 \\choose 6}=5005$ combinations of 6 features (out of 15) over 5 folds..."
      ],
      "text/plain": [
       "<IPython.core.display.HTML object>"
      ]
     },
     "metadata": {},
     "output_type": "display_data"
    },
    {
     "name": "stdout",
     "output_type": "stream",
     "text": [
      "new best condition_no__and__pvals__and__rsquared__and__rsquared_adj__and__rmse__and__delta_rmse score: (35.364456763625455, 0.7420954909178263, 0.7420058920114287, [6.604953457178733e-30, 0.0, 1.9584069204670157e-179, 0.0, 0.0, 0.0], 0.05822209600561814, 0.0011758322159450107), from feature-set combo: ['bedrooms', 'sqft_living', 'view', 'grade', 'yr_built', 'lat']\n",
      "new best condition_no__and__pvals__and__rsquared__and__rsquared_adj__and__rmse__and__delta_rmse score: (33.35634340523099, 0.7425862746810198, 0.7424968462794078, [1.759432702144563e-36, 0.0, 5.785095688090152e-192, 0.0, 0.0, 0.0], 0.05816662230153626, 0.0011919743774539166), from feature-set combo: ['bathrooms', 'sqft_living', 'view', 'grade', 'yr_built', 'lat']\n",
      "new best condition_no__and__pvals__and__rsquared__and__rsquared_adj__and__rmse__and__delta_rmse score: (30.910731377433205, 0.7429434782250496, 0.7428541739196766, [0.0, 2.117466931781029e-38, 3.218394013018116e-205, 0.0, 0.0, 0.0], 0.058126323248621395, 0.001264365566282745), from feature-set combo: ['sqft_living', 'floors', 'view', 'grade', 'yr_built', 'lat']\n",
      "new best condition_no__and__pvals__and__rsquared__and__rsquared_adj__and__rmse__and__delta_rmse score: (30.19975697853021, 0.7464400856415411, 0.7463519960910934, [0.0, 3.146178765680202e-76, 1.465839975628941e-133, 0.0, 0.0, 0.0], 0.05772949518437972, 0.001080227284469476), from feature-set combo: ['sqft_living', 'waterfront', 'view', 'grade', 'yr_built', 'lat']\n"
     ]
    },
    {
     "data": {
      "text/html": [
       "Cross-validating ${15 \\choose 7}=6435$ combinations of 7 features (out of 15) over 5 folds..."
      ],
      "text/plain": [
       "<IPython.core.display.HTML object>"
      ]
     },
     "metadata": {},
     "output_type": "display_data"
    },
    {
     "name": "stdout",
     "output_type": "stream",
     "text": [
      "new best condition_no__and__pvals__and__rsquared__and__rsquared_adj__and__rmse__and__delta_rmse score: (35.380631639919116, 0.7480993546928676, 0.747997250162222, [2.693540294623233e-25, 0.0, 2.355564471919973e-72, 2.4902423485707936e-124, 0.0, 0.0, 0.0], 0.05754032307978933, 0.0011055174676317114), from feature-set combo: ['bedrooms', 'sqft_living', 'waterfront', 'view', 'grade', 'yr_built', 'lat']\n",
      "new best condition_no__and__pvals__and__rsquared__and__rsquared_adj__and__rmse__and__delta_rmse score: (33.35808318619976, 0.748971300714597, 0.7488695496164592, [8.012232457741225e-38, 0.0, 3.3135825734539145e-77, 7.16118633991034e-132, 0.0, 0.0, 0.0], 0.05744057432923905, 0.0010738206954267345), from feature-set combo: ['bathrooms', 'sqft_living', 'waterfront', 'view', 'grade', 'yr_built', 'lat']\n",
      "new best condition_no__and__pvals__and__rsquared__and__rsquared_adj__and__rmse__and__delta_rmse score: (30.912509499716162, 0.7491680962288692, 0.7490664248988972, [0.0, 6.961014386301324e-38, 2.764027389454535e-75, 5.574323827554243e-143, 0.0, 0.0, 0.0], 0.057418152189335825, 0.0011674407894557842), from feature-set combo: ['sqft_living', 'floors', 'waterfront', 'view', 'grade', 'yr_built', 'lat']\n",
      "new best condition_no__and__pvals__and__rsquared__and__rsquared_adj__and__rmse__and__delta_rmse score: (33.91003189267233, 0.7493680727901912, 0.7492664825156353, [0.0, 9.180322243239038e-78, 9.290297036778017e-135, 9.987268432382802e-42, 0.0, 5.2250998331267564e-248, 0.0], 0.0573951861347974, 0.0008893161648122219), from feature-set combo: ['sqft_living', 'waterfront', 'view', 'condition', 'grade', 'yr_built', 'lat']\n"
     ]
    },
    {
     "data": {
      "text/html": [
       "Cross-validating ${15 \\choose 8}=6435$ combinations of 8 features (out of 15) over 5 folds..."
      ],
      "text/plain": [
       "<IPython.core.display.HTML object>"
      ]
     },
     "metadata": {},
     "output_type": "display_data"
    },
    {
     "name": "stdout",
     "output_type": "stream",
     "text": [
      "new best condition_no__and__pvals__and__rsquared__and__rsquared_adj__and__rmse__and__delta_rmse score: (38.01031317421111, 0.7512682773646836, 0.7511530477787068, [6.912327430140203e-35, 1.068728267952674e-47, 0.0, 9.65247561350076e-73, 7.597191793824484e-121, 0.0, 0.0, 0.0], 0.057177206847251305, 0.0011025472454659734), from feature-set combo: ['bedrooms', 'bathrooms', 'sqft_living', 'waterfront', 'view', 'grade', 'yr_built', 'lat']\n",
      "new best condition_no__and__pvals__and__rsquared__and__rsquared_adj__and__rmse__and__delta_rmse score: (39.12878667227734, 0.7512971942666431, 0.751181978074009, [4.608040437964213e-30, 0.0, 1.3824847479756483e-73, 6.736507834954747e-125, 7.879576584895823e-46, 0.0, 1.1285517826130658e-250, 0.0], 0.057173916654986355, 0.0009070036653696684), from feature-set combo: ['bedrooms', 'sqft_living', 'waterfront', 'view', 'condition', 'grade', 'yr_built', 'lat']\n",
      "new best condition_no__and__pvals__and__rsquared__and__rsquared_adj__and__rmse__and__delta_rmse score: (36.81965659796937, 0.7516241995463514, 0.7515091348459303, [4.536488758976449e-34, 0.0, 1.239653301550526e-78, 4.316887737824727e-133, 2.42946175759473e-38, 0.0, 2.4527742363491382e-278, 0.0], 0.05713623440875078, 0.0008994096857969591), from feature-set combo: ['bathrooms', 'sqft_living', 'waterfront', 'view', 'condition', 'grade', 'yr_built', 'lat']\n",
      "new best condition_no__and__pvals__and__rsquared__and__rsquared_adj__and__rmse__and__delta_rmse score: (34.516926272176065, 0.752954011706975, 0.7528395630663247, [0.0, 1.555700881848834e-52, 6.414922831039293e-77, 6.135636581591535e-146, 1.2228039932009396e-54, 0.0, 2.350746597205869e-295, 0.0], 0.05698317591376656, 0.0009608053360567719), from feature-set combo: ['sqft_living', 'floors', 'waterfront', 'view', 'condition', 'grade', 'yr_built', 'lat']\n"
     ]
    },
    {
     "data": {
      "text/html": [
       "Cross-validating ${15 \\choose 9}=5005$ combinations of 9 features (out of 15) over 5 folds..."
      ],
      "text/plain": [
       "<IPython.core.display.HTML object>"
      ]
     },
     "metadata": {},
     "output_type": "display_data"
    },
    {
     "name": "stdout",
     "output_type": "stream",
     "text": [
      "new best condition_no__and__pvals__and__rsquared__and__rsquared_adj__and__rmse__and__delta_rmse score: (41.58312829980675, 0.7541861722450643, 0.7540580522798644, [8.47905066160727e-40, 8.344846839192497e-44, 0.0, 6.446830865173636e-74, 1.662622254051985e-121, 1.971540375410482e-42, 0.0, 1.3051468713898076e-291, 0.0], 0.05684084849524342, 0.0009357642744299566), from feature-set combo: ['bedrooms', 'bathrooms', 'sqft_living', 'waterfront', 'view', 'condition', 'grade', 'yr_built', 'lat']\n",
      "new best condition_no__and__pvals__and__rsquared__and__rsquared_adj__and__rmse__and__delta_rmse score: (39.67821398031325, 0.7548432816972462, 0.754715504221537, [1.36784994668059e-29, 0.0, 4.4149626951972446e-52, 8.787335952944958e-73, 1.1428047259700038e-135, 3.54768045409716e-59, 0.0, 1.4657069942536086e-298, 0.0], 0.056764905692469024, 0.0009821543125801747), from feature-set combo: ['bedrooms', 'sqft_living', 'floors', 'waterfront', 'view', 'condition', 'grade', 'yr_built', 'lat']\n"
     ]
    },
    {
     "data": {
      "text/html": [
       "Cross-validating ${15 \\choose 10}=3003$ combinations of 10 features (out of 15) over 5 folds..."
      ],
      "text/plain": [
       "<IPython.core.display.HTML object>"
      ]
     },
     "metadata": {},
     "output_type": "display_data"
    },
    {
     "name": "stdout",
     "output_type": "stream",
     "text": [
      "new best condition_no__and__pvals__and__rsquared__and__rsquared_adj__and__rmse__and__delta_rmse score: (42.30784704188963, 0.7565715805665106, 0.7564305983209336, [2.4340345549423928e-37, 9.25709070075645e-27, 0.0, 3.4657041837980237e-36, 3.6846836129545715e-73, 5.247998310848203e-131, 2.492235084740114e-53, 0.0, 0.0, 0.0], 0.05656442623553002, 0.0009819213209741663), from feature-set combo: ['bedrooms', 'bathrooms', 'sqft_living', 'floors', 'waterfront', 'view', 'condition', 'grade', 'yr_built', 'lat']\n"
     ]
    },
    {
     "data": {
      "text/html": [
       "Cross-validating ${15 \\choose 11}=1365$ combinations of 11 features (out of 15) over 5 folds..."
      ],
      "text/plain": [
       "<IPython.core.display.HTML object>"
      ]
     },
     "metadata": {},
     "output_type": "display_data"
    },
    {
     "name": "stdout",
     "output_type": "stream",
     "text": [
      "new best condition_no__and__pvals__and__rsquared__and__rsquared_adj__and__rmse__and__delta_rmse score: (55.82431700509435, 0.7571996385353954, 0.7570449492197666, [1.1277540448219504e-38, 7.025060459977371e-32, 2.650343743703217e-187, 4.41340269219939e-12, 2.0000904009174553e-73, 6.710391154496916e-137, 3.59983194608692e-55, 0.0, 1.5148874628423605e-08, 0.0, 0.0], 0.056491402184497296, 0.0008831471607851638), from feature-set combo: ['bedrooms', 'bathrooms', 'sqft_living', 'floors', 'waterfront', 'view', 'condition', 'grade', 'sqft_above', 'yr_built', 'lat']\n",
      "new best condition_no__and__pvals__and__rsquared__and__rsquared_adj__and__rmse__and__delta_rmse score: (101.25149233596669, 0.7573005567161336, 0.7571459316959749, [2.5125212617613343e-39, 2.9537704521193195e-44, 1.6827181924436288e-19, 9.18302513808978e-75, 2.3221102096807506e-128, 4.378699817759013e-53, 0.0, 6.502078171920148e-41, 9.302350121327673e-16, 3.0552805149631484e-304, 0.0], 0.05647964843167247, 0.0008750393820497526), from feature-set combo: ['bedrooms', 'bathrooms', 'sqft_living', 'waterfront', 'view', 'condition', 'grade', 'sqft_above', 'sqft_basement', 'yr_built', 'lat']\n"
     ]
    },
    {
     "data": {
      "text/html": [
       "Cross-validating ${15 \\choose 12}=455$ combinations of 12 features (out of 15) over 5 folds..."
      ],
      "text/plain": [
       "<IPython.core.display.HTML object>"
      ]
     },
     "metadata": {},
     "output_type": "display_data"
    },
    {
     "name": "stdout",
     "output_type": "stream",
     "text": [
      "new best condition_no__and__pvals__and__rsquared__and__rsquared_adj__and__rmse__and__delta_rmse score: (103.46260219328408, 0.7575867430379772, 0.7574182503466647, [1.019801076804304e-39, 2.5873629465964338e-36, 1.2624617592694175e-21, 0.029252518597663747, 3.51356109758899e-76, 4.98511428652351e-130, 1.1217892134203172e-54, 0.0, 1.054462516034296e-40, 1.8652384659309846e-15, 4.83437647561361e-308, 0.0], 0.056446377114055736, 0.0009222673334705444), from feature-set combo: ['bedrooms', 'bathrooms', 'sqft_living', 'sqft_lot', 'waterfront', 'view', 'condition', 'grade', 'sqft_above', 'sqft_basement', 'yr_built', 'lat']\n",
      "new best condition_no__and__pvals__and__rsquared__and__rsquared_adj__and__rmse__and__delta_rmse score: (105.5376603009635, 0.7582542294845034, 0.7580862007390177, [2.492951840184681e-37, 3.15953592010916e-28, 1.1282207574359034e-25, 7.928574295568678e-12, 4.1989268303912004e-74, 3.502842194192409e-130, 1.4365854008381721e-58, 0.0, 1.6796552592136204e-26, 1.677583323269067e-15, 0.0, 0.0], 0.0563686095279051, 0.00095348204953523), from feature-set combo: ['bedrooms', 'bathrooms', 'sqft_living', 'floors', 'waterfront', 'view', 'condition', 'grade', 'sqft_above', 'sqft_basement', 'yr_built', 'lat']\n"
     ]
    },
    {
     "data": {
      "text/html": [
       "Cross-validating ${15 \\choose 13}=105$ combinations of 13 features (out of 15) over 5 folds..."
      ],
      "text/plain": [
       "<IPython.core.display.HTML object>"
      ]
     },
     "metadata": {},
     "output_type": "display_data"
    },
    {
     "name": "stdout",
     "output_type": "stream",
     "text": [
      "new best condition_no__and__pvals__and__rsquared__and__rsquared_adj__and__rmse__and__delta_rmse score: (105.55853713989329, 0.7586039647352016, 0.758422186412177, [2.6019626647710842e-36, 4.807738175961721e-25, 1.782802388679534e-25, 1.5722164888384404e-11, 5.32022480731207e-72, 1.006605952221162e-129, 2.656797877360394e-63, 0.0, 9.99462522572044e-27, 8.695108326152202e-16, 9.946566453240818e-272, 2.5063894830423533e-06, 0.0], 0.05632781654999822, 0.0009744499163837877), from feature-set combo: ['bedrooms', 'bathrooms', 'sqft_living', 'floors', 'waterfront', 'view', 'condition', 'grade', 'sqft_above', 'sqft_basement', 'yr_built', 'yr_renovated', 'lat']\n"
     ]
    },
    {
     "data": {
      "text/html": [
       "Cross-validating ${15 \\choose 14}=15$ combinations of 14 features (out of 15) over 5 folds..."
      ],
      "text/plain": [
       "<IPython.core.display.HTML object>"
      ]
     },
     "metadata": {},
     "output_type": "display_data"
    },
    {
     "data": {
      "text/html": [
       "Cross-validating ${15 \\choose 15}=1$ combinations of 15 features (out of 15) over 5 folds..."
      ],
      "text/plain": [
       "<IPython.core.display.HTML object>"
      ]
     },
     "metadata": {},
     "output_type": "display_data"
    },
    {
     "data": {
      "text/html": [
       "<table border=\"1\" class=\"dataframe\">\n",
       "  <thead>\n",
       "    <tr style=\"text-align: right;\">\n",
       "      <th></th>\n",
       "      <th>n_features</th>\n",
       "      <th>features</th>\n",
       "      <th>condition_no</th>\n",
       "      <th>rsquared</th>\n",
       "      <th>rsquared_adj</th>\n",
       "      <th>pvals</th>\n",
       "      <th>rmse</th>\n",
       "      <th>delta_rmse</th>\n",
       "    </tr>\n",
       "  </thead>\n",
       "  <tbody>\n",
       "    <tr>\n",
       "      <th>0</th>\n",
       "      <td>1</td>\n",
       "      <td>[bedrooms]</td>\n",
       "      <td>10.550689</td>\n",
       "      <td>0.117757</td>\n",
       "      <td>0.117706</td>\n",
       "      <td>[0.0]</td>\n",
       "      <td>0.107685</td>\n",
       "      <td>0.002275</td>\n",
       "    </tr>\n",
       "    <tr>\n",
       "      <th>1</th>\n",
       "      <td>1</td>\n",
       "      <td>[bathrooms]</td>\n",
       "      <td>8.824142</td>\n",
       "      <td>0.270577</td>\n",
       "      <td>0.270535</td>\n",
       "      <td>[0.0]</td>\n",
       "      <td>0.097915</td>\n",
       "      <td>0.001677</td>\n",
       "    </tr>\n",
       "    <tr>\n",
       "      <th>2</th>\n",
       "      <td>1</td>\n",
       "      <td>[sqft_living]</td>\n",
       "      <td>10.263652</td>\n",
       "      <td>0.455291</td>\n",
       "      <td>0.455259</td>\n",
       "      <td>[0.0]</td>\n",
       "      <td>0.084614</td>\n",
       "      <td>0.001683</td>\n",
       "    </tr>\n",
       "    <tr>\n",
       "      <th>3</th>\n",
       "      <td>1</td>\n",
       "      <td>[grade]</td>\n",
       "      <td>13.767846</td>\n",
       "      <td>0.481363</td>\n",
       "      <td>0.481333</td>\n",
       "      <td>[0.0]</td>\n",
       "      <td>0.082564</td>\n",
       "      <td>0.002045</td>\n",
       "    </tr>\n",
       "    <tr>\n",
       "      <th>4</th>\n",
       "      <td>2</td>\n",
       "      <td>[bedrooms, grade]</td>\n",
       "      <td>15.923067</td>\n",
       "      <td>0.487016</td>\n",
       "      <td>0.486956</td>\n",
       "      <td>[1.4534194234020623e-37, 0.0]</td>\n",
       "      <td>0.082113</td>\n",
       "      <td>0.002136</td>\n",
       "    </tr>\n",
       "    <tr>\n",
       "      <th>5</th>\n",
       "      <td>2</td>\n",
       "      <td>[bathrooms, grade]</td>\n",
       "      <td>19.820662</td>\n",
       "      <td>0.488780</td>\n",
       "      <td>0.488721</td>\n",
       "      <td>[2.562342206400106e-50, 0.0]</td>\n",
       "      <td>0.081972</td>\n",
       "      <td>0.001922</td>\n",
       "    </tr>\n",
       "    <tr>\n",
       "      <th>6</th>\n",
       "      <td>2</td>\n",
       "      <td>[sqft_living, grade]</td>\n",
       "      <td>23.600569</td>\n",
       "      <td>0.537580</td>\n",
       "      <td>0.537527</td>\n",
       "      <td>[0.0, 0.0]</td>\n",
       "      <td>0.077961</td>\n",
       "      <td>0.002335</td>\n",
       "    </tr>\n",
       "    <tr>\n",
       "      <th>7</th>\n",
       "      <td>2</td>\n",
       "      <td>[sqft_living, lat]</td>\n",
       "      <td>12.050135</td>\n",
       "      <td>0.634442</td>\n",
       "      <td>0.634400</td>\n",
       "      <td>[0.0, 0.0]</td>\n",
       "      <td>0.069317</td>\n",
       "      <td>0.002123</td>\n",
       "    </tr>\n",
       "    <tr>\n",
       "      <th>8</th>\n",
       "      <td>3</td>\n",
       "      <td>[bedrooms, sqft_living, lat]</td>\n",
       "      <td>19.784313</td>\n",
       "      <td>0.643646</td>\n",
       "      <td>0.643584</td>\n",
       "      <td>[1.5157935408071367e-88, 0.0, 0.0]</td>\n",
       "      <td>0.068438</td>\n",
       "      <td>0.002239</td>\n",
       "    </tr>\n",
       "    <tr>\n",
       "      <th>9</th>\n",
       "      <td>3</td>\n",
       "      <td>[sqft_living, waterfront, lat]</td>\n",
       "      <td>15.782871</td>\n",
       "      <td>0.649910</td>\n",
       "      <td>0.649849</td>\n",
       "      <td>[0.0, 2.13080883973331e-140, 0.0]</td>\n",
       "      <td>0.067834</td>\n",
       "      <td>0.001896</td>\n",
       "    </tr>\n",
       "    <tr>\n",
       "      <th>10</th>\n",
       "      <td>3</td>\n",
       "      <td>[sqft_living, view, lat]</td>\n",
       "      <td>12.439797</td>\n",
       "      <td>0.664519</td>\n",
       "      <td>0.664461</td>\n",
       "      <td>[0.0, 6.937073343408577e-306, 0.0]</td>\n",
       "      <td>0.066404</td>\n",
       "      <td>0.001630</td>\n",
       "    </tr>\n",
       "    <tr>\n",
       "      <th>11</th>\n",
       "      <td>3</td>\n",
       "      <td>[sqft_living, grade, lat]</td>\n",
       "      <td>26.693885</td>\n",
       "      <td>0.689076</td>\n",
       "      <td>0.689022</td>\n",
       "      <td>[0.0, 0.0, 0.0]</td>\n",
       "      <td>0.063927</td>\n",
       "      <td>0.002199</td>\n",
       "    </tr>\n",
       "    <tr>\n",
       "      <th>12</th>\n",
       "      <td>4</td>\n",
       "      <td>[bedrooms, sqft_living, grade, lat]</td>\n",
       "      <td>32.065026</td>\n",
       "      <td>0.692419</td>\n",
       "      <td>0.692348</td>\n",
       "      <td>[1.801603238283431e-40, 0.0, 0.0, 0.0]</td>\n",
       "      <td>0.063582</td>\n",
       "      <td>0.002223</td>\n",
       "    </tr>\n",
       "    <tr>\n",
       "      <th>13</th>\n",
       "      <td>4</td>\n",
       "      <td>[bathrooms, grade, yr_built, lat]</td>\n",
       "      <td>24.451231</td>\n",
       "      <td>0.693769</td>\n",
       "      <td>0.693698</td>\n",
       "      <td>[0.0, 0.0, 0.0, 0.0]</td>\n",
       "      <td>0.063443</td>\n",
       "      <td>0.001248</td>\n",
       "    </tr>\n",
       "    <tr>\n",
       "      <th>14</th>\n",
       "      <td>4</td>\n",
       "      <td>[sqft_living, waterfront, grade, lat]</td>\n",
       "      <td>26.694764</td>\n",
       "      <td>0.703167</td>\n",
       "      <td>0.703098</td>\n",
       "      <td>[0.0, 1.2493999141169335e-151, 0.0, 0.0]</td>\n",
       "      <td>0.062461</td>\n",
       "      <td>0.002157</td>\n",
       "    </tr>\n",
       "    <tr>\n",
       "      <th>15</th>\n",
       "      <td>4</td>\n",
       "      <td>[sqft_living, view, grade, lat]</td>\n",
       "      <td>26.765837</td>\n",
       "      <td>0.713741</td>\n",
       "      <td>0.713675</td>\n",
       "      <td>[0.0, 2.474857169115885e-295, 0.0, 0.0]</td>\n",
       "      <td>0.061339</td>\n",
       "      <td>0.002002</td>\n",
       "    </tr>\n",
       "    <tr>\n",
       "      <th>16</th>\n",
       "      <td>4</td>\n",
       "      <td>[sqft_living, grade, yr_built, lat]</td>\n",
       "      <td>30.064849</td>\n",
       "      <td>0.725400</td>\n",
       "      <td>0.725336</td>\n",
       "      <td>[0.0, 0.0, 0.0, 0.0]</td>\n",
       "      <td>0.060077</td>\n",
       "      <td>0.001499</td>\n",
       "    </tr>\n",
       "    <tr>\n",
       "      <th>17</th>\n",
       "      <td>5</td>\n",
       "      <td>[bedrooms, sqft_living, grade, yr_built, lat]</td>\n",
       "      <td>35.289867</td>\n",
       "      <td>0.728689</td>\n",
       "      <td>0.728610</td>\n",
       "      <td>[6.700559148517084e-45, 0.0, 0.0, 0.0, 0.0]</td>\n",
       "      <td>0.059717</td>\n",
       "      <td>0.001517</td>\n",
       "    </tr>\n",
       "    <tr>\n",
       "      <th>18</th>\n",
       "      <td>5</td>\n",
       "      <td>[sqft_living, waterfront, grade, yr_built, lat]</td>\n",
       "      <td>30.079765</td>\n",
       "      <td>0.736474</td>\n",
       "      <td>0.736398</td>\n",
       "      <td>[0.0, 2.438226054019599e-130, 0.0, 0.0, 0.0]</td>\n",
       "      <td>0.058853</td>\n",
       "      <td>0.001257</td>\n",
       "    </tr>\n",
       "    <tr>\n",
       "      <th>19</th>\n",
       "      <td>5</td>\n",
       "      <td>[sqft_living, view, grade, yr_built, lat]</td>\n",
       "      <td>30.197047</td>\n",
       "      <td>0.740063</td>\n",
       "      <td>0.739988</td>\n",
       "      <td>[0.0, 4.845310659177257e-194, 0.0, 0.0, 0.0]</td>\n",
       "      <td>0.058451</td>\n",
       "      <td>0.001147</td>\n",
       "    </tr>\n",
       "    <tr>\n",
       "      <th>20</th>\n",
       "      <td>6</td>\n",
       "      <td>[bedrooms, sqft_living, view, grade, yr_built, lat]</td>\n",
       "      <td>35.364457</td>\n",
       "      <td>0.742095</td>\n",
       "      <td>0.742006</td>\n",
       "      <td>[6.604953457178733e-30, 0.0, 1.9584069204670157e-179, 0.0, 0.0, 0.0]</td>\n",
       "      <td>0.058222</td>\n",
       "      <td>0.001176</td>\n",
       "    </tr>\n",
       "    <tr>\n",
       "      <th>21</th>\n",
       "      <td>6</td>\n",
       "      <td>[bathrooms, sqft_living, view, grade, yr_built, lat]</td>\n",
       "      <td>33.356343</td>\n",
       "      <td>0.742586</td>\n",
       "      <td>0.742497</td>\n",
       "      <td>[1.759432702144563e-36, 0.0, 5.785095688090152e-192, 0.0, 0.0, 0.0]</td>\n",
       "      <td>0.058167</td>\n",
       "      <td>0.001192</td>\n",
       "    </tr>\n",
       "    <tr>\n",
       "      <th>22</th>\n",
       "      <td>6</td>\n",
       "      <td>[sqft_living, floors, view, grade, yr_built, lat]</td>\n",
       "      <td>30.910731</td>\n",
       "      <td>0.742943</td>\n",
       "      <td>0.742854</td>\n",
       "      <td>[0.0, 2.117466931781029e-38, 3.218394013018116e-205, 0.0, 0.0, 0.0]</td>\n",
       "      <td>0.058126</td>\n",
       "      <td>0.001264</td>\n",
       "    </tr>\n",
       "    <tr>\n",
       "      <th>23</th>\n",
       "      <td>6</td>\n",
       "      <td>[sqft_living, waterfront, view, grade, yr_built, lat]</td>\n",
       "      <td>30.199757</td>\n",
       "      <td>0.746440</td>\n",
       "      <td>0.746352</td>\n",
       "      <td>[0.0, 3.146178765680202e-76, 1.465839975628941e-133, 0.0, 0.0, 0.0]</td>\n",
       "      <td>0.057729</td>\n",
       "      <td>0.001080</td>\n",
       "    </tr>\n",
       "    <tr>\n",
       "      <th>24</th>\n",
       "      <td>7</td>\n",
       "      <td>[bedrooms, sqft_living, waterfront, view, grade, yr_built, lat]</td>\n",
       "      <td>35.380632</td>\n",
       "      <td>0.748099</td>\n",
       "      <td>0.747997</td>\n",
       "      <td>[2.693540294623233e-25, 0.0, 2.355564471919973e-72, 2.4902423485707936e-124, 0.0, 0.0, 0.0]</td>\n",
       "      <td>0.057540</td>\n",
       "      <td>0.001106</td>\n",
       "    </tr>\n",
       "    <tr>\n",
       "      <th>25</th>\n",
       "      <td>7</td>\n",
       "      <td>[bathrooms, sqft_living, waterfront, view, grade, yr_built, lat]</td>\n",
       "      <td>33.358083</td>\n",
       "      <td>0.748971</td>\n",
       "      <td>0.748870</td>\n",
       "      <td>[8.012232457741225e-38, 0.0, 3.3135825734539145e-77, 7.16118633991034e-132, 0.0, 0.0, 0.0]</td>\n",
       "      <td>0.057441</td>\n",
       "      <td>0.001074</td>\n",
       "    </tr>\n",
       "    <tr>\n",
       "      <th>26</th>\n",
       "      <td>7</td>\n",
       "      <td>[sqft_living, floors, waterfront, view, grade, yr_built, lat]</td>\n",
       "      <td>30.912509</td>\n",
       "      <td>0.749168</td>\n",
       "      <td>0.749066</td>\n",
       "      <td>[0.0, 6.961014386301324e-38, 2.764027389454535e-75, 5.574323827554243e-143, 0.0, 0.0, 0.0]</td>\n",
       "      <td>0.057418</td>\n",
       "      <td>0.001167</td>\n",
       "    </tr>\n",
       "    <tr>\n",
       "      <th>27</th>\n",
       "      <td>7</td>\n",
       "      <td>[sqft_living, waterfront, view, condition, grade, yr_built, lat]</td>\n",
       "      <td>33.910032</td>\n",
       "      <td>0.749368</td>\n",
       "      <td>0.749266</td>\n",
       "      <td>[0.0, 9.180322243239038e-78, 9.290297036778017e-135, 9.987268432382802e-42, 0.0, 5.2250998331267564e-248, 0.0]</td>\n",
       "      <td>0.057395</td>\n",
       "      <td>0.000889</td>\n",
       "    </tr>\n",
       "    <tr>\n",
       "      <th>28</th>\n",
       "      <td>8</td>\n",
       "      <td>[bedrooms, bathrooms, sqft_living, waterfront, view, grade, yr_built, lat]</td>\n",
       "      <td>38.010313</td>\n",
       "      <td>0.751268</td>\n",
       "      <td>0.751153</td>\n",
       "      <td>[6.912327430140203e-35, 1.068728267952674e-47, 0.0, 9.65247561350076e-73, 7.597191793824484e-121, 0.0, 0.0, 0.0]</td>\n",
       "      <td>0.057177</td>\n",
       "      <td>0.001103</td>\n",
       "    </tr>\n",
       "    <tr>\n",
       "      <th>29</th>\n",
       "      <td>8</td>\n",
       "      <td>[bedrooms, sqft_living, waterfront, view, condition, grade, yr_built, lat]</td>\n",
       "      <td>39.128787</td>\n",
       "      <td>0.751297</td>\n",
       "      <td>0.751182</td>\n",
       "      <td>[4.608040437964213e-30, 0.0, 1.3824847479756483e-73, 6.736507834954747e-125, 7.879576584895823e-46, 0.0, 1.1285517826130658e-250, 0.0]</td>\n",
       "      <td>0.057174</td>\n",
       "      <td>0.000907</td>\n",
       "    </tr>\n",
       "    <tr>\n",
       "      <th>30</th>\n",
       "      <td>8</td>\n",
       "      <td>[bathrooms, sqft_living, waterfront, view, condition, grade, yr_built, lat]</td>\n",
       "      <td>36.819657</td>\n",
       "      <td>0.751624</td>\n",
       "      <td>0.751509</td>\n",
       "      <td>[4.536488758976449e-34, 0.0, 1.239653301550526e-78, 4.316887737824727e-133, 2.42946175759473e-38, 0.0, 2.4527742363491382e-278, 0.0]</td>\n",
       "      <td>0.057136</td>\n",
       "      <td>0.000899</td>\n",
       "    </tr>\n",
       "    <tr>\n",
       "      <th>31</th>\n",
       "      <td>8</td>\n",
       "      <td>[sqft_living, floors, waterfront, view, condition, grade, yr_built, lat]</td>\n",
       "      <td>34.516926</td>\n",
       "      <td>0.752954</td>\n",
       "      <td>0.752840</td>\n",
       "      <td>[0.0, 1.555700881848834e-52, 6.414922831039293e-77, 6.135636581591535e-146, 1.2228039932009396e-54, 0.0, 2.350746597205869e-295, 0.0]</td>\n",
       "      <td>0.056983</td>\n",
       "      <td>0.000961</td>\n",
       "    </tr>\n",
       "    <tr>\n",
       "      <th>32</th>\n",
       "      <td>9</td>\n",
       "      <td>[bedrooms, bathrooms, sqft_living, waterfront, view, condition, grade, yr_built, lat]</td>\n",
       "      <td>41.583128</td>\n",
       "      <td>0.754186</td>\n",
       "      <td>0.754058</td>\n",
       "      <td>[8.47905066160727e-40, 8.344846839192497e-44, 0.0, 6.446830865173636e-74, 1.662622254051985e-121, 1.971540375410482e-42, 0.0, 1.3051468713898076e-291, 0.0]</td>\n",
       "      <td>0.056841</td>\n",
       "      <td>0.000936</td>\n",
       "    </tr>\n",
       "    <tr>\n",
       "      <th>33</th>\n",
       "      <td>9</td>\n",
       "      <td>[bedrooms, sqft_living, floors, waterfront, view, condition, grade, yr_built, lat]</td>\n",
       "      <td>39.678214</td>\n",
       "      <td>0.754843</td>\n",
       "      <td>0.754716</td>\n",
       "      <td>[1.36784994668059e-29, 0.0, 4.4149626951972446e-52, 8.787335952944958e-73, 1.1428047259700038e-135, 3.54768045409716e-59, 0.0, 1.4657069942536086e-298, 0.0]</td>\n",
       "      <td>0.056765</td>\n",
       "      <td>0.000982</td>\n",
       "    </tr>\n",
       "    <tr>\n",
       "      <th>34</th>\n",
       "      <td>10</td>\n",
       "      <td>[bedrooms, bathrooms, sqft_living, floors, waterfront, view, condition, grade, yr_built, lat]</td>\n",
       "      <td>42.307847</td>\n",
       "      <td>0.756572</td>\n",
       "      <td>0.756431</td>\n",
       "      <td>[2.4340345549423928e-37, 9.25709070075645e-27, 0.0, 3.4657041837980237e-36, 3.6846836129545715e-73, 5.247998310848203e-131, 2.492235084740114e-53, 0.0, 0.0, 0.0]</td>\n",
       "      <td>0.056564</td>\n",
       "      <td>0.000982</td>\n",
       "    </tr>\n",
       "    <tr>\n",
       "      <th>35</th>\n",
       "      <td>11</td>\n",
       "      <td>[bedrooms, bathrooms, sqft_living, floors, waterfront, view, condition, grade, sqft_above, yr_built, lat]</td>\n",
       "      <td>55.824317</td>\n",
       "      <td>0.757200</td>\n",
       "      <td>0.757045</td>\n",
       "      <td>[1.1277540448219504e-38, 7.025060459977371e-32, 2.650343743703217e-187, 4.41340269219939e-12, 2.0000904009174553e-73, 6.710391154496916e-137, 3.59983194608692e-55, 0.0, 1.5148874628423605e-08, 0.0, 0.0]</td>\n",
       "      <td>0.056491</td>\n",
       "      <td>0.000883</td>\n",
       "    </tr>\n",
       "    <tr>\n",
       "      <th>36</th>\n",
       "      <td>11</td>\n",
       "      <td>[bedrooms, bathrooms, sqft_living, waterfront, view, condition, grade, sqft_above, sqft_basement, yr_built, lat]</td>\n",
       "      <td>101.251492</td>\n",
       "      <td>0.757301</td>\n",
       "      <td>0.757146</td>\n",
       "      <td>[2.5125212617613343e-39, 2.9537704521193195e-44, 1.6827181924436288e-19, 9.18302513808978e-75, 2.3221102096807506e-128, 4.378699817759013e-53, 0.0, 6.502078171920148e-41, 9.302350121327673e-16, 3.0552805149631484e-304, 0.0]</td>\n",
       "      <td>0.056480</td>\n",
       "      <td>0.000875</td>\n",
       "    </tr>\n",
       "    <tr>\n",
       "      <th>37</th>\n",
       "      <td>12</td>\n",
       "      <td>[bedrooms, bathrooms, sqft_living, sqft_lot, waterfront, view, condition, grade, sqft_above, sqft_basement, yr_built, lat]</td>\n",
       "      <td>103.462602</td>\n",
       "      <td>0.757587</td>\n",
       "      <td>0.757418</td>\n",
       "      <td>[1.019801076804304e-39, 2.5873629465964338e-36, 1.2624617592694175e-21, 0.029252518597663747, 3.51356109758899e-76, 4.98511428652351e-130, 1.1217892134203172e-54, 0.0, 1.054462516034296e-40, 1.8652384659309846e-15, 4.83437647561361e-308, 0.0]</td>\n",
       "      <td>0.056446</td>\n",
       "      <td>0.000922</td>\n",
       "    </tr>\n",
       "    <tr>\n",
       "      <th>38</th>\n",
       "      <td>12</td>\n",
       "      <td>[bedrooms, bathrooms, sqft_living, floors, waterfront, view, condition, grade, sqft_above, sqft_basement, yr_built, lat]</td>\n",
       "      <td>105.537660</td>\n",
       "      <td>0.758254</td>\n",
       "      <td>0.758086</td>\n",
       "      <td>[2.492951840184681e-37, 3.15953592010916e-28, 1.1282207574359034e-25, 7.928574295568678e-12, 4.1989268303912004e-74, 3.502842194192409e-130, 1.4365854008381721e-58, 0.0, 1.6796552592136204e-26, 1.677583323269067e-15, 0.0, 0.0]</td>\n",
       "      <td>0.056369</td>\n",
       "      <td>0.000953</td>\n",
       "    </tr>\n",
       "    <tr>\n",
       "      <th>39</th>\n",
       "      <td>13</td>\n",
       "      <td>[bedrooms, bathrooms, sqft_living, floors, waterfront, view, condition, grade, sqft_above, sqft_basement, yr_built, yr_renovated, lat]</td>\n",
       "      <td>105.558537</td>\n",
       "      <td>0.758604</td>\n",
       "      <td>0.758422</td>\n",
       "      <td>[2.6019626647710842e-36, 4.807738175961721e-25, 1.782802388679534e-25, 1.5722164888384404e-11, 5.32022480731207e-72, 1.006605952221162e-129, 2.656797877360394e-63, 0.0, 9.99462522572044e-27, 8.695108326152202e-16, 9.946566453240818e-272, 2.5063894830423533e-06, 0.0]</td>\n",
       "      <td>0.056328</td>\n",
       "      <td>0.000974</td>\n",
       "    </tr>\n",
       "  </tbody>\n",
       "</table>"
      ],
      "text/plain": [
       "<IPython.core.display.HTML object>"
      ]
     },
     "metadata": {},
     "output_type": "display_data"
    },
    {
     "data": {
      "text/html": [
       "<br>40 rows x 8 columns<br><br>"
      ],
      "text/plain": [
       "<IPython.core.display.HTML object>"
      ]
     },
     "metadata": {},
     "output_type": "display_data"
    },
    {
     "data": {
      "text/html": [
       "<h4>cv_selected best condition_no__and__pvals__and__rsquared__and__rsquared_adj__and__rmse__and__delta_rmse = (105.55853713989329, 0.7586039647352016, 0.758422186412177, [2.6019626647710842e-36, 4.807738175961721e-25, 1.782802388679534e-25, 1.5722164888384404e-11, 5.32022480731207e-72, 1.006605952221162e-129, 2.656797877360394e-63, 0.0, 9.99462522572044e-27, 8.695108326152202e-16, 9.946566453240818e-272, 2.5063894830423533e-06, 0.0], 0.05632781654999822, 0.0009744499163837877)</h4>"
      ],
      "text/plain": [
       "<IPython.core.display.HTML object>"
      ]
     },
     "metadata": {},
     "output_type": "display_data"
    },
    {
     "data": {
      "text/html": [
       "<h4>cv_selected best feature-set combo (13 of 15 features):['bedrooms', 'bathrooms', 'sqft_living', 'floors', 'waterfront', 'view', 'condition', 'grade', 'sqft_above', 'sqft_basement', 'yr_built', 'yr_renovated', 'lat']<h/4>"
      ],
      "text/plain": [
       "<IPython.core.display.HTML object>"
      ]
     },
     "metadata": {},
     "output_type": "display_data"
    },
    {
     "data": {
      "text/html": [
       "<h4>starting feature-set:['bedrooms', 'bathrooms', 'sqft_living', 'sqft_lot', 'floors', 'waterfront', 'view', 'condition', 'grade', 'sqft_above', 'sqft_basement', 'yr_built', 'yr_renovated', 'lat', 'long']</h4>"
      ],
      "text/plain": [
       "<IPython.core.display.HTML object>"
      ]
     },
     "metadata": {},
     "output_type": "display_data"
    },
    {
     "data": {
      "text/html": [
       "<h4>cv_selection suggests dropping ['sqft_lot', 'long'].</h4>"
      ],
      "text/plain": [
       "<IPython.core.display.HTML object>"
      ]
     },
     "metadata": {},
     "output_type": "display_data"
    }
   ],
   "source": [
    "to_drop = []\n",
    "# select non-colinear statistically significant feature-subset with maximized R^2 and adj-R^2 \n",
    "#    and minimized RMSE and delta RMSE, cross-validated over 5 test/train k-folds\n",
    "(\n",
    "    scores_df\n",
    "     , cv_sel_features\n",
    "    , score\n",
    "    , to_drop\n",
    ") = scjpnregression.cv_selection(\n",
    "    kchd_transformed_and_scaled_df.drop(target, axis=1)\n",
    "    , kchd_transformed_and_scaled_df[[target]]\n",
    "    , folds=5\n",
    ")"
   ]
  },
  {
   "cell_type": "code",
   "execution_count": 3,
   "metadata": {},
   "outputs": [
    {
     "name": "stdout",
     "output_type": "stream",
     "text": [
      "updated kc_cv_sel_optimized_features.csv\n"
     ]
    }
   ],
   "source": [
    "fname = 'kc_cv_sel_optimized_features.csv'\n",
    "scores_df.set_index('n_features').to_csv(fname, sep=',')\n",
    "print(\"updated {}\".format(fname))"
   ]
  }
 ],
 "metadata": {
  "file_extension": ".py",
  "kernelspec": {
   "display_name": "Python [conda env:learn-env] *",
   "language": "python",
   "name": "conda-env-learn-env-py"
  },
  "language_info": {
   "codemirror_mode": {
    "name": "ipython",
    "version": 3
   },
   "file_extension": ".py",
   "mimetype": "text/x-python",
   "name": "python",
   "nbconvert_exporter": "python",
   "pygments_lexer": "ipython3",
   "version": "3.6.6"
  },
  "mimetype": "text/x-python",
  "name": "python",
  "npconvert_exporter": "python",
  "pygments_lexer": "ipython3",
  "version": 3
 },
 "nbformat": 4,
 "nbformat_minor": 2
}
