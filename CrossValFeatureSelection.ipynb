{
 "cells": [
  {
   "cell_type": "markdown",
   "metadata": {},
   "source": [
    "# Cross-Validation Forward Selection of Features\n",
    "\n",
    "<h1><font color=\"red\">*** WARNING!!!  This takes a VERY LONG TIME to complete!!! ***</font></h1>\n",
    "\n",
    "DO NOT RELOAD THIS PAGE unless you are comitted to overwriting the previously optimized feature-set/model and you have hours to spare to wait for it to complete!"
   ]
  },
  {
   "cell_type": "code",
   "execution_count": 1,
   "metadata": {},
   "outputs": [],
   "source": [
    "import pandas as pd\n",
    "from IPython.core.display import HTML\n",
    "import numpy as np\n",
    "import scjpnlib.utils as scjpnutils\n",
    "import scjpnlib.regression.api as scjpnregression\n",
    "\n",
    "kchd_transformed_and_scaled_df = pd.read_csv('kc_house_transformed_and_scaled_data.csv')\n",
    "target = 'price'\n",
    "kchd_transformed_and_scaled_df = kchd_transformed_and_scaled_df.drop(['id', 'date'], axis=1)"
   ]
  },
  {
   "cell_type": "code",
   "execution_count": 2,
   "metadata": {
    "scrolled": false
   },
   "outputs": [
    {
     "data": {
      "text/html": [
       "<br><br>Builing all $\\sum_{i=1}^{16}{16 \\choose i}=$ ${16 \\choose 1}$ + ${16 \\choose 2}$ + ${16 \\choose 3}$ + ${16 \\choose 4}$ + ${16 \\choose 5}$ + ${16 \\choose 6}$ + ${16 \\choose 7}$ + ${16 \\choose 8}$ + ${16 \\choose 9}$ + ${16 \\choose 10}$ + ${16 \\choose 11}$ + ${16 \\choose 12}$ + ${16 \\choose 13}$ + ${16 \\choose 14}$ + ${16 \\choose 15}$ + ${16 \\choose 16}$ $=65535$ combinations of feature set: Index(['bedrooms', 'bathrooms', 'sqft_living', 'sqft_lot', 'floors',\n",
       "       'waterfront', 'view', 'grade', 'sqft_above', 'sqft_basement',\n",
       "       'yr_built', 'yr_renovated', 'lat', 'long', 'sqft_living15',\n",
       "       'sqft_lot15'],\n",
       "      dtype='object')..."
      ],
      "text/plain": [
       "<IPython.core.display.HTML object>"
      ]
     },
     "metadata": {},
     "output_type": "display_data"
    },
    {
     "data": {
      "text/html": [
       "All done!"
      ],
      "text/plain": [
       "<IPython.core.display.HTML object>"
      ]
     },
     "metadata": {},
     "output_type": "display_data"
    },
    {
     "data": {
      "text/html": [
       "Cross-validating ${16 \\choose 1}=16$ combinations of 1 features (out of 16) over 5 folds..."
      ],
      "text/plain": [
       "<IPython.core.display.HTML object>"
      ]
     },
     "metadata": {},
     "output_type": "display_data"
    },
    {
     "name": "stdout",
     "output_type": "stream",
     "text": [
      "new best condition_no__and__rmse__and__delta_rmse score: (14.516798836349926, 0.10735813873894966, 0.0023690620909719794), from feature-set combo: ['bedrooms']\n",
      "new best condition_no__and__rmse__and__delta_rmse score: (7.7664537069252475, 0.09565957032155628, 0.001763832830605852), from feature-set combo: ['bathrooms']\n",
      "new best condition_no__and__rmse__and__delta_rmse score: (10.26365157412231, 0.08461399766273019, 0.001682632138358503), from feature-set combo: ['sqft_living']\n"
     ]
    },
    {
     "data": {
      "text/html": [
       "Cross-validating ${16 \\choose 2}=120$ combinations of 2 features (out of 16) over 5 folds..."
      ],
      "text/plain": [
       "<IPython.core.display.HTML object>"
      ]
     },
     "metadata": {},
     "output_type": "display_data"
    },
    {
     "name": "stdout",
     "output_type": "stream",
     "text": [
      "new best condition_no__and__rmse__and__delta_rmse score: (14.184558685388689, 0.08157014378581459, 0.0010600623793026703), from feature-set combo: ['bathrooms', 'lat']\n"
     ]
    },
    {
     "data": {
      "text/html": [
       "Cross-validating ${16 \\choose 3}=560$ combinations of 3 features (out of 16) over 5 folds..."
      ],
      "text/plain": [
       "<IPython.core.display.HTML object>"
      ]
     },
     "metadata": {},
     "output_type": "display_data"
    },
    {
     "name": "stdout",
     "output_type": "stream",
     "text": [
      "new best condition_no__and__rmse__and__delta_rmse score: (34.774547540614726, 0.08093905127662582, 0.0009178299433860448), from feature-set combo: ['bathrooms', 'sqft_living', 'yr_built']\n",
      "new best condition_no__and__rmse__and__delta_rmse score: (14.205957302494005, 0.07705756640460594, 0.0007784908118789402), from feature-set combo: ['bathrooms', 'view', 'lat']\n",
      "new best condition_no__and__rmse__and__delta_rmse score: (21.194002795480788, 0.07161675455411173, 0.0006955550261641518), from feature-set combo: ['sqft_above', 'lat', 'sqft_living15']\n"
     ]
    },
    {
     "data": {
      "text/html": [
       "Cross-validating ${16 \\choose 4}=1820$ combinations of 4 features (out of 16) over 5 folds..."
      ],
      "text/plain": [
       "<IPython.core.display.HTML object>"
      ]
     },
     "metadata": {},
     "output_type": "display_data"
    },
    {
     "name": "stdout",
     "output_type": "stream",
     "text": [
      "new best condition_no__and__rmse__and__delta_rmse score: (31.848971698185018, 0.07017963588744683, 0.0006496926618767635), from feature-set combo: ['bathrooms', 'waterfront', 'lat', 'sqft_living15']\n",
      "new best condition_no__and__rmse__and__delta_rmse score: (29.184086672220037, 0.06894208666619708, 0.0006229398010307418), from feature-set combo: ['bathrooms', 'view', 'lat', 'sqft_living15']\n",
      "new best condition_no__and__rmse__and__delta_rmse score: (21.59358870579543, 0.06810334331915431, 0.00046739719818698065), from feature-set combo: ['view', 'sqft_above', 'lat', 'sqft_living15']\n"
     ]
    },
    {
     "data": {
      "text/html": [
       "Cross-validating ${16 \\choose 5}=4368$ combinations of 5 features (out of 16) over 5 folds..."
      ],
      "text/plain": [
       "<IPython.core.display.HTML object>"
      ]
     },
     "metadata": {},
     "output_type": "display_data"
    },
    {
     "name": "stdout",
     "output_type": "stream",
     "text": [
      "new best condition_no__and__rmse__and__delta_rmse score: (58.190464154961546, 0.06798896948078599, 0.0004455671193192262), from feature-set combo: ['bedrooms', 'view', 'sqft_above', 'lat', 'sqft_living15']\n",
      "new best condition_no__and__rmse__and__delta_rmse score: (21.600415377381886, 0.06738008357538268, 0.0004276253209809483), from feature-set combo: ['waterfront', 'view', 'sqft_above', 'lat', 'sqft_living15']\n"
     ]
    },
    {
     "data": {
      "text/html": [
       "Cross-validating ${16 \\choose 6}=8008$ combinations of 6 features (out of 16) over 5 folds..."
      ],
      "text/plain": [
       "<IPython.core.display.HTML object>"
      ]
     },
     "metadata": {},
     "output_type": "display_data"
    },
    {
     "name": "stdout",
     "output_type": "stream",
     "text": [
      "new best condition_no__and__rmse__and__delta_rmse score: (99.78809952774395, 0.06029245895300374, 0.0003778628585032875), from feature-set combo: ['waterfront', 'view', 'grade', 'yr_built', 'lat', 'sqft_living15']\n"
     ]
    },
    {
     "data": {
      "text/html": [
       "Cross-validating ${16 \\choose 7}=11440$ combinations of 7 features (out of 16) over 5 folds..."
      ],
      "text/plain": [
       "<IPython.core.display.HTML object>"
      ]
     },
     "metadata": {},
     "output_type": "display_data"
    },
    {
     "name": "stdout",
     "output_type": "stream",
     "text": [
      "new best condition_no__and__rmse__and__delta_rmse score: (141.95447486340396, 0.0602534645763216, 0.0003770265564028333), from feature-set combo: ['waterfront', 'view', 'grade', 'yr_built', 'lat', 'long', 'sqft_living15']\n"
     ]
    },
    {
     "data": {
      "text/html": [
       "Cross-validating ${16 \\choose 8}=12870$ combinations of 8 features (out of 16) over 5 folds..."
      ],
      "text/plain": [
       "<IPython.core.display.HTML object>"
      ]
     },
     "metadata": {},
     "output_type": "display_data"
    },
    {
     "name": "stdout",
     "output_type": "stream",
     "text": [
      "new best condition_no__and__rmse__and__delta_rmse score: (247.5450564585526, 0.06006129830778598, 0.0003679709353943475), from feature-set combo: ['sqft_lot', 'waterfront', 'view', 'grade', 'yr_built', 'lat', 'sqft_living15', 'sqft_lot15']\n"
     ]
    },
    {
     "data": {
      "text/html": [
       "Cross-validating ${16 \\choose 9}=11440$ combinations of 9 features (out of 16) over 5 folds..."
      ],
      "text/plain": [
       "<IPython.core.display.HTML object>"
      ]
     },
     "metadata": {},
     "output_type": "display_data"
    },
    {
     "data": {
      "text/html": [
       "Cross-validating ${16 \\choose 10}=8008$ combinations of 10 features (out of 16) over 5 folds..."
      ],
      "text/plain": [
       "<IPython.core.display.HTML object>"
      ]
     },
     "metadata": {},
     "output_type": "display_data"
    },
    {
     "data": {
      "text/html": [
       "Cross-validating ${16 \\choose 11}=4368$ combinations of 11 features (out of 16) over 5 folds..."
      ],
      "text/plain": [
       "<IPython.core.display.HTML object>"
      ]
     },
     "metadata": {},
     "output_type": "display_data"
    },
    {
     "data": {
      "text/html": [
       "Cross-validating ${16 \\choose 12}=1820$ combinations of 12 features (out of 16) over 5 folds..."
      ],
      "text/plain": [
       "<IPython.core.display.HTML object>"
      ]
     },
     "metadata": {},
     "output_type": "display_data"
    },
    {
     "data": {
      "text/html": [
       "Cross-validating ${16 \\choose 13}=560$ combinations of 13 features (out of 16) over 5 folds..."
      ],
      "text/plain": [
       "<IPython.core.display.HTML object>"
      ]
     },
     "metadata": {},
     "output_type": "display_data"
    },
    {
     "data": {
      "text/html": [
       "Cross-validating ${16 \\choose 14}=120$ combinations of 14 features (out of 16) over 5 folds..."
      ],
      "text/plain": [
       "<IPython.core.display.HTML object>"
      ]
     },
     "metadata": {},
     "output_type": "display_data"
    },
    {
     "data": {
      "text/html": [
       "Cross-validating ${16 \\choose 15}=16$ combinations of 15 features (out of 16) over 5 folds..."
      ],
      "text/plain": [
       "<IPython.core.display.HTML object>"
      ]
     },
     "metadata": {},
     "output_type": "display_data"
    },
    {
     "data": {
      "text/html": [
       "Cross-validating ${16 \\choose 16}=1$ combinations of 16 features (out of 16) over 5 folds..."
      ],
      "text/plain": [
       "<IPython.core.display.HTML object>"
      ]
     },
     "metadata": {},
     "output_type": "display_data"
    },
    {
     "data": {
      "text/html": [
       "<h4>cv_selected best c = (247.5450564585526, 0.06006129830778598, 0.0003679709353943475)</h4>"
      ],
      "text/plain": [
       "<IPython.core.display.HTML object>"
      ]
     },
     "metadata": {},
     "output_type": "display_data"
    },
    {
     "data": {
      "text/html": [
       "<h4>cv_selected best feature-set combo (8 of 16 features):['sqft_lot', 'waterfront', 'view', 'grade', 'yr_built', 'lat', 'sqft_living15', 'sqft_lot15']<h/4>"
      ],
      "text/plain": [
       "<IPython.core.display.HTML object>"
      ]
     },
     "metadata": {},
     "output_type": "display_data"
    },
    {
     "data": {
      "text/html": [
       "<h4>starting feature-set:['bedrooms', 'bathrooms', 'sqft_living', 'sqft_lot', 'floors', 'waterfront', 'view', 'grade', 'sqft_above', 'sqft_basement', 'yr_built', 'yr_renovated', 'lat', 'long', 'sqft_living15', 'sqft_lot15']</h4>"
      ],
      "text/plain": [
       "<IPython.core.display.HTML object>"
      ]
     },
     "metadata": {},
     "output_type": "display_data"
    },
    {
     "data": {
      "text/html": [
       "<h4>cv_selection suggests dropping ['long', 'bathrooms', 'sqft_living', 'bedrooms', 'floors', 'sqft_above', 'yr_renovated', 'sqft_basement'].</h4>"
      ],
      "text/plain": [
       "<IPython.core.display.HTML object>"
      ]
     },
     "metadata": {},
     "output_type": "display_data"
    }
   ],
   "source": [
    "to_drop = []\n",
    "# select based on minimal RMSE and delta RMSE between 5 test/train k-folds\n",
    "(cv_sel_features, condition_no_and_rmse_and_delta_rmse, to_drop) = scjpnregression.cv_selection(\n",
    "    kchd_transformed_and_scaled_df.drop(target, axis=1)\n",
    "    , kchd_transformed_and_scaled_df[[target]]\n",
    "    , folds=5\n",
    "    , scoring_method=scjpnregression.condition_no_and_rmse_and_delta_rmse\n",
    ")"
   ]
  },
  {
   "cell_type": "code",
   "execution_count": 3,
   "metadata": {},
   "outputs": [
    {
     "name": "stdout",
     "output_type": "stream",
     "text": [
      "updated kc_cv_sel_optimized_features.csv\n"
     ]
    }
   ],
   "source": [
    "optimized_feature_subset_df = pd.DataFrame(\n",
    "    {\n",
    "        'cv_sel_features': [cv_sel_features] \n",
    "        , 'rmse': condition_no_and_rmse_and_delta_rmse[1]\n",
    "        , 'delta_rmse': condition_no_and_rmse_and_delta_rmse[2]\n",
    "        , 'cond_no': condition_no_and_rmse_and_delta_rmse[0]\n",
    "        , 'to_drop': [to_drop]\n",
    "    }\n",
    "    , columns=['cv_sel_features', 'rmse', 'delta_rmse', 'cond_no', 'to_drop']\n",
    ")\n",
    "fname = 'kc_cv_sel_optimized_features.csv'\n",
    "optimized_feature_subset_df.set_index('cv_sel_features').to_csv(fname, sep=',')\n",
    "print(\"updated {}\".format(fname))"
   ]
  },
  {
   "cell_type": "code",
   "execution_count": 4,
   "metadata": {},
   "outputs": [
    {
     "data": {
      "text/html": [
       "<div>\n",
       "<style scoped>\n",
       "    .dataframe tbody tr th:only-of-type {\n",
       "        vertical-align: middle;\n",
       "    }\n",
       "\n",
       "    .dataframe tbody tr th {\n",
       "        vertical-align: top;\n",
       "    }\n",
       "\n",
       "    .dataframe thead th {\n",
       "        text-align: right;\n",
       "    }\n",
       "</style>\n",
       "<table border=\"1\" class=\"dataframe\">\n",
       "  <thead>\n",
       "    <tr style=\"text-align: right;\">\n",
       "      <th></th>\n",
       "      <th>cv_sel_features</th>\n",
       "      <th>rmse</th>\n",
       "      <th>delta_rmse</th>\n",
       "      <th>cond_no</th>\n",
       "      <th>to_drop</th>\n",
       "    </tr>\n",
       "  </thead>\n",
       "  <tbody>\n",
       "    <tr>\n",
       "      <th>0</th>\n",
       "      <td>['sqft_lot', 'waterfront', 'view', 'grade', 'y...</td>\n",
       "      <td>0.060061</td>\n",
       "      <td>0.000368</td>\n",
       "      <td>247.545056</td>\n",
       "      <td>['long', 'bathrooms', 'sqft_living', 'bedrooms...</td>\n",
       "    </tr>\n",
       "  </tbody>\n",
       "</table>\n",
       "</div>"
      ],
      "text/plain": [
       "                                     cv_sel_features      rmse  delta_rmse  \\\n",
       "0  ['sqft_lot', 'waterfront', 'view', 'grade', 'y...  0.060061    0.000368   \n",
       "\n",
       "      cond_no                                            to_drop  \n",
       "0  247.545056  ['long', 'bathrooms', 'sqft_living', 'bedrooms...  "
      ]
     },
     "execution_count": 4,
     "metadata": {},
     "output_type": "execute_result"
    }
   ],
   "source": [
    "optimized_feature_subset_df = None\n",
    "optimized_feature_subset_df = pd.read_csv(fname)\n",
    "optimized_feature_subset_df"
   ]
  }
 ],
 "metadata": {
  "file_extension": ".py",
  "kernelspec": {
   "display_name": "Python [conda env:learn-env] *",
   "language": "python",
   "name": "conda-env-learn-env-py"
  },
  "language_info": {
   "codemirror_mode": {
    "name": "ipython",
    "version": 3
   },
   "file_extension": ".py",
   "mimetype": "text/x-python",
   "name": "python",
   "nbconvert_exporter": "python",
   "pygments_lexer": "ipython3",
   "version": "3.6.6"
  },
  "mimetype": "text/x-python",
  "name": "python",
  "npconvert_exporter": "python",
  "pygments_lexer": "ipython3",
  "version": 3
 },
 "nbformat": 4,
 "nbformat_minor": 2
}
