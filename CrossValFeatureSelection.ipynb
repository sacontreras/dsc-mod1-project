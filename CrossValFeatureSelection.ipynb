{
 "cells": [
  {
   "cell_type": "markdown",
   "metadata": {},
   "source": [
    "# Cross-Validation Forward Selection of Features\n",
    "\n",
    "<h1><font color=\"red\">*** WARNING!!!  This takes a VERY LONG TIME to complete!!! ***</font></h1>\n",
    "\n",
    "DO NOT RELOAD THIS PAGE unless you are comitted to overwriting the previously optimized feature-set/model and you have hours to spare to wait for it to complete!"
   ]
  },
  {
   "cell_type": "code",
   "execution_count": 1,
   "metadata": {},
   "outputs": [],
   "source": [
    "import pandas as pd\n",
    "from IPython.core.display import HTML\n",
    "import numpy as np\n",
    "import scjpnlib.utils as scjpnutils\n",
    "import scjpnlib.regression.api as scjpnregression\n",
    "\n",
    "kc_house_candidate_cv_selection_df = pd.read_csv('kc_house_candidate_cv_selection_data.csv')\n",
    "target = 'price'\n",
    "kc_house_candidate_cv_selection_df = kc_house_candidate_cv_selection_df.drop(['id', 'date'], axis=1)"
   ]
  },
  {
   "cell_type": "code",
   "execution_count": 2,
   "metadata": {
    "scrolled": false
   },
   "outputs": [
    {
     "data": {
      "text/html": [
       "<br><br>Builing all $\\sum_{i=1}^{16}{16 \\choose i}=$ ${16 \\choose 1}$ + ${16 \\choose 2}$ + ${16 \\choose 3}$ + ${16 \\choose 4}$ + ${16 \\choose 5}$ + ${16 \\choose 6}$ + ${16 \\choose 7}$ + ${16 \\choose 8}$ + ${16 \\choose 9}$ + ${16 \\choose 10}$ + ${16 \\choose 11}$ + ${16 \\choose 12}$ + ${16 \\choose 13}$ + ${16 \\choose 14}$ + ${16 \\choose 15}$ + ${16 \\choose 16}$ $=65535$ combinations of feature set: Index(['bedrooms', 'bathrooms', 'sqft_living', 'sqft_lot', 'floors', 'grade',\n",
       "       'sqft_above', 'sqft_basement', 'yr_built', 'yr_renovated', 'lat',\n",
       "       'long', 'sqft_living15', 'sqft_lot15', 'waterfront', 'view'],\n",
       "      dtype='object')..."
      ],
      "text/plain": [
       "<IPython.core.display.HTML object>"
      ]
     },
     "metadata": {},
     "output_type": "display_data"
    },
    {
     "data": {
      "text/html": [
       "All done!"
      ],
      "text/plain": [
       "<IPython.core.display.HTML object>"
      ]
     },
     "metadata": {},
     "output_type": "display_data"
    },
    {
     "data": {
      "text/html": [
       "Cross-validating ${16 \\choose 1}=16$ combinations of 1 features (out of 16) over 5 folds..."
      ],
      "text/plain": [
       "<IPython.core.display.HTML object>"
      ]
     },
     "metadata": {},
     "output_type": "display_data"
    },
    {
     "name": "stdout",
     "output_type": "stream",
     "text": [
      "new best condition_no__and__pvals__and__rsquared__and__rsquared_adj__and__rmse__and__delta_rmse score: (10.550688747476446, 0.11775715616091698, 0.11770608743809796, [0.0], 0.10768531606868144, 0.002274986264081266), from feature-set combo: ['bedrooms']\n",
      "new best condition_no__and__pvals__and__rsquared__and__rsquared_adj__and__rmse__and__delta_rmse score: (8.824142016689917, 0.27057695846583263, 0.27053473573276826, [0.0], 0.09791503790664277, 0.0016765407315861875), from feature-set combo: ['bathrooms']\n",
      "new best condition_no__and__pvals__and__rsquared__and__rsquared_adj__and__rmse__and__delta_rmse score: (10.26365157412231, 0.4552909082419676, 0.45525937769767, [0.0], 0.08461399766273019, 0.001682632138358503), from feature-set combo: ['sqft_living']\n",
      "new best condition_no__and__pvals__and__rsquared__and__rsquared_adj__and__rmse__and__delta_rmse score: (10.398457054048725, 0.4951766976660979, 0.49514747591718766, [0.0], 0.08145720304709997, 0.0021754913043353307), from feature-set combo: ['grade']\n"
     ]
    },
    {
     "data": {
      "text/html": [
       "Cross-validating ${16 \\choose 2}=120$ combinations of 2 features (out of 16) over 5 folds..."
      ],
      "text/plain": [
       "<IPython.core.display.HTML object>"
      ]
     },
     "metadata": {},
     "output_type": "display_data"
    },
    {
     "name": "stdout",
     "output_type": "stream",
     "text": [
      "new best condition_no__and__pvals__and__rsquared__and__rsquared_adj__and__rmse__and__delta_rmse score: (13.08647167741887, 0.5017313710678188, 0.5016736830669591, [1.9330888355839872e-46, 0.0], 0.08092658010986253, 0.0022801953656673007), from feature-set combo: ['bedrooms', 'grade']\n",
      "new best condition_no__and__pvals__and__rsquared__and__rsquared_adj__and__rmse__and__delta_rmse score: (16.042351414364454, 0.5028625277585558, 0.5028049707184202, [9.243015135852083e-55, 0.0], 0.08083471682385225, 0.0020669221167722547), from feature-set combo: ['bathrooms', 'grade']\n",
      "new best condition_no__and__pvals__and__rsquared__and__rsquared_adj__and__rmse__and__delta_rmse score: (20.07938179656916, 0.5466941558612655, 0.5466416735126043, [0.0, 0.0], 0.0771886568815063, 0.0024168409032044617), from feature-set combo: ['sqft_living', 'grade']\n",
      "new best condition_no__and__pvals__and__rsquared__and__rsquared_adj__and__rmse__and__delta_rmse score: (12.043945444969772, 0.6342252653680881, 0.6341829171023508, [0.0, 0.0], 0.06933718283565424, 0.002123134919138131), from feature-set combo: ['sqft_living', 'lat']\n"
     ]
    },
    {
     "data": {
      "text/html": [
       "Cross-validating ${16 \\choose 3}=560$ combinations of 3 features (out of 16) over 5 folds..."
      ],
      "text/plain": [
       "<IPython.core.display.HTML object>"
      ]
     },
     "metadata": {},
     "output_type": "display_data"
    },
    {
     "name": "stdout",
     "output_type": "stream",
     "text": [
      "new best condition_no__and__pvals__and__rsquared__and__rsquared_adj__and__rmse__and__delta_rmse score: (19.776183595202557, 0.643436046772191, 0.6433741203837492, [1.484536892604205e-88, 0.0, 0.0], 0.06845848393067538, 0.0022392977710841257), from feature-set combo: ['bedrooms', 'sqft_living', 'lat']\n",
      "new best condition_no__and__pvals__and__rsquared__and__rsquared_adj__and__rmse__and__delta_rmse score: (15.073680331186875, 0.6451288165963377, 0.6450671841950606, [3.6994964143231534e-109, 0.0, 0.0], 0.06829614458853493, 0.0017268499065701964), from feature-set combo: ['bedrooms', 'grade', 'lat']\n",
      "new best condition_no__and__pvals__and__rsquared__and__rsquared_adj__and__rmse__and__delta_rmse score: (18.38823472152464, 0.6470512670267621, 0.6469899685052851, [8.564695949114919e-141, 0.0, 0.0], 0.06811081141186985, 0.001308487612980025), from feature-set combo: ['bathrooms', 'grade', 'lat']\n",
      "new best condition_no__and__pvals__and__rsquared__and__rsquared_adj__and__rmse__and__delta_rmse score: (23.05942703166772, 0.6970922911815054, 0.6970396835629049, [0.0, 0.0, 0.0], 0.06309748107130446, 0.0022482294544574734), from feature-set combo: ['sqft_living', 'grade', 'lat']\n"
     ]
    },
    {
     "data": {
      "text/html": [
       "Cross-validating ${16 \\choose 4}=1820$ combinations of 4 features (out of 16) over 5 folds..."
      ],
      "text/plain": [
       "<IPython.core.display.HTML object>"
      ]
     },
     "metadata": {},
     "output_type": "display_data"
    },
    {
     "name": "stdout",
     "output_type": "stream",
     "text": [
      "new best condition_no__and__pvals__and__rsquared__and__rsquared_adj__and__rmse__and__delta_rmse score: (29.051838743357962, 0.6994679292317054, 0.6993983318314518, [9.765214661573847e-30, 0.0, 0.0, 0.0], 0.06284950916483452, 0.002281756868032245), from feature-set combo: ['bedrooms', 'sqft_living', 'grade', 'lat']\n",
      "new best condition_no__and__pvals__and__rsquared__and__rsquared_adj__and__rmse__and__delta_rmse score: (20.212891382268463, 0.705002347154284, 0.7049340314096051, [0.0, 0.0, 0.0, 0.0], 0.06226868839359874, 0.0012481569418229602), from feature-set combo: ['bathrooms', 'grade', 'yr_built', 'lat']\n",
      "new best condition_no__and__pvals__and__rsquared__and__rsquared_adj__and__rmse__and__delta_rmse score: (25.8503008067417, 0.7323112838668063, 0.7322492923451527, [0.0, 0.0, 0.0, 0.0], 0.05931658064081171, 0.0014376163532943422), from feature-set combo: ['sqft_living', 'grade', 'yr_built', 'lat']\n"
     ]
    },
    {
     "data": {
      "text/html": [
       "Cross-validating ${16 \\choose 5}=4368$ combinations of 5 features (out of 16) over 5 folds..."
      ],
      "text/plain": [
       "<IPython.core.display.HTML object>"
      ]
     },
     "metadata": {},
     "output_type": "display_data"
    },
    {
     "name": "stdout",
     "output_type": "stream",
     "text": [
      "new best condition_no__and__pvals__and__rsquared__and__rsquared_adj__and__rmse__and__delta_rmse score: (31.862028638854316, 0.7345785504174158, 0.7345017128859908, [9.756250453030607e-32, 0.0, 0.0, 0.0, 0.0], 0.059064821158175074, 0.0014607329589489695), from feature-set combo: ['bedrooms', 'sqft_living', 'grade', 'yr_built', 'lat']\n",
      "new best condition_no__and__pvals__and__rsquared__and__rsquared_adj__and__rmse__and__delta_rmse score: (30.51998266886186, 0.7355843132592949, 0.7355077668893035, [3.443567300842033e-46, 0.0, 0.0, 0.0, 0.0], 0.0589528114103033, 0.001500549212537891), from feature-set combo: ['bathrooms', 'sqft_living', 'grade', 'yr_built', 'lat']\n",
      "new best condition_no__and__pvals__and__rsquared__and__rsquared_adj__and__rmse__and__delta_rmse score: (28.371560496264436, 0.7386510732717173, 0.7385754147002787, [0.0, 0.0, 0.0, 0.0, 2.7152664980067946e-81], 0.058609824441125016, 0.0008537549774103856), from feature-set combo: ['sqft_living', 'grade', 'yr_built', 'lat', 'sqft_living15']\n",
      "new best condition_no__and__pvals__and__rsquared__and__rsquared_adj__and__rmse__and__delta_rmse score: (25.867295209026416, 0.7424752012384317, 0.7424006497235582, [0.0, 0.0, 0.0, 0.0, 3.280113183971156e-124], 0.05817934793155359, 0.001239397001571374), from feature-set combo: ['sqft_living', 'grade', 'yr_built', 'lat', 'waterfront']\n",
      "new best condition_no__and__pvals__and__rsquared__and__rsquared_adj__and__rmse__and__delta_rmse score: (25.93765104256654, 0.7455791390572543, 0.7455054861128083, [0.0, 0.0, 0.0, 0.0, 3.302006071723784e-180], 0.0578275974000446, 0.0011391006450804154), from feature-set combo: ['sqft_living', 'grade', 'yr_built', 'lat', 'view']\n"
     ]
    },
    {
     "data": {
      "text/html": [
       "Cross-validating ${16 \\choose 6}=8008$ combinations of 6 features (out of 16) over 5 folds..."
      ],
      "text/plain": [
       "<IPython.core.display.HTML object>"
      ]
     },
     "metadata": {},
     "output_type": "display_data"
    },
    {
     "name": "stdout",
     "output_type": "stream",
     "text": [
      "new best condition_no__and__pvals__and__rsquared__and__rsquared_adj__and__rmse__and__delta_rmse score: (31.964560018434668, 0.7469152624359168, 0.746827337969435, [2.6612737911328932e-20, 0.0, 0.0, 0.0, 0.0, 4.9952700059502587e-169], 0.057675564108454, 0.0011666164751145361), from feature-set combo: ['bedrooms', 'sqft_living', 'grade', 'yr_built', 'lat', 'view']\n",
      "new best condition_no__and__pvals__and__rsquared__and__rsquared_adj__and__rmse__and__delta_rmse score: (30.58913645847509, 0.7485802886523695, 0.748492942635542, [2.678942568529295e-44, 0.0, 0.0, 0.0, 0.0, 1.1668855784915331e-177], 0.05748549534620766, 0.0011699868428764928), from feature-set combo: ['bathrooms', 'sqft_living', 'grade', 'yr_built', 'lat', 'view']\n",
      "new best condition_no__and__pvals__and__rsquared__and__rsquared_adj__and__rmse__and__delta_rmse score: (28.483856566605066, 0.7500693791452753, 0.7499825504497626, [0.0, 0.0, 0.0, 0.0, 1.787779561055876e-60, 1.5162618846456718e-159], 0.05731490867743404, 0.0006643941605113945), from feature-set combo: ['sqft_living', 'grade', 'yr_built', 'lat', 'sqft_living15', 'view']\n",
      "new best condition_no__and__pvals__and__rsquared__and__rsquared_adj__and__rmse__and__delta_rmse score: (25.9446005024072, 0.7514939256921472, 0.7514075919000579, [0.0, 0.0, 0.0, 0.0, 1.4999323877568508e-73, 8.019592966311212e-124], 0.05715135867358018, 0.0011050669746757614), from feature-set combo: ['sqft_living', 'grade', 'yr_built', 'lat', 'waterfront', 'view']\n"
     ]
    },
    {
     "data": {
      "text/html": [
       "Cross-validating ${16 \\choose 7}=11440$ combinations of 7 features (out of 16) over 5 folds..."
      ],
      "text/plain": [
       "<IPython.core.display.HTML object>"
      ]
     },
     "metadata": {},
     "output_type": "display_data"
    },
    {
     "name": "stdout",
     "output_type": "stream",
     "text": [
      "new best condition_no__and__pvals__and__rsquared__and__rsquared_adj__and__rmse__and__delta_rmse score: (31.980368832000142, 0.7525501557546994, 0.7524498552938823, [9.883968326380254e-17, 0.0, 0.0, 0.0, 0.0, 2.010736566632183e-70, 6.3053240152003574e-117], 0.05702978898180794, 0.001128510618087028), from feature-set combo: ['bedrooms', 'sqft_living', 'grade', 'yr_built', 'lat', 'waterfront', 'view']\n",
      "new best condition_no__and__pvals__and__rsquared__and__rsquared_adj__and__rmse__and__delta_rmse score: (34.59012041017282, 0.7536355772819956, 0.7535357167833822, [3.9905785216629017e-53, 4.850955444706312e-198, 0.0, 0.0, 0.0, 5.956510805674824e-70, 2.1138773181933903e-155], 0.056904522313375915, 0.0007329230285569005), from feature-set combo: ['bathrooms', 'sqft_living', 'grade', 'yr_built', 'lat', 'sqft_living15', 'view']\n",
      "new best condition_no__and__pvals__and__rsquared__and__rsquared_adj__and__rmse__and__delta_rmse score: (30.591871128813473, 0.754503780359391, 0.7544042717749146, [8.07261592691858e-46, 0.0, 0.0, 0.0, 0.0, 1.1420856144589214e-74, 9.769172606988575e-122], 0.05680415549321771, 0.0011031611428931915), from feature-set combo: ['bathrooms', 'sqft_living', 'grade', 'yr_built', 'lat', 'waterfront', 'view']\n",
      "new best condition_no__and__pvals__and__rsquared__and__rsquared_adj__and__rmse__and__delta_rmse score: (28.485566761768716, 0.7560650548518684, 0.7559661791025958, [0.0, 0.0, 0.0, 0.0, 8.490848418791226e-63, 7.665457270653326e-76, 1.1759146318135877e-106], 0.05662313572339848, 0.0005490308356817062), from feature-set combo: ['sqft_living', 'grade', 'yr_built', 'lat', 'sqft_living15', 'waterfront', 'view']\n"
     ]
    },
    {
     "data": {
      "text/html": [
       "Cross-validating ${16 \\choose 8}=12870$ combinations of 8 features (out of 16) over 5 folds..."
      ],
      "text/plain": [
       "<IPython.core.display.HTML object>"
      ]
     },
     "metadata": {},
     "output_type": "display_data"
    },
    {
     "name": "stdout",
     "output_type": "stream",
     "text": [
      "new best condition_no__and__pvals__and__rsquared__and__rsquared_adj__and__rmse__and__delta_rmse score: (35.29224298858867, 0.7561194152159577, 0.7560064330071898, [3.540550159746378e-25, 1.1519314161447078e-54, 0.0, 0.0, 0.0, 0.0, 6.6600174172479426e-71, 4.40065919118103e-113], 0.056616952119938446, 0.0011317928056242086), from feature-set combo: ['bedrooms', 'bathrooms', 'sqft_living', 'grade', 'yr_built', 'lat', 'waterfront', 'view']\n",
      "new best condition_no__and__pvals__and__rsquared__and__rsquared_adj__and__rmse__and__delta_rmse score: (35.43202360393259, 0.756915942250765, 0.7568033290407213, [4.6765668206919e-13, 0.0, 0.0, 0.0, 0.0, 8.720438215087053e-60, 7.458402099437449e-73, 2.433085283992443e-101], 0.05652432072874619, 0.0005849963395225353), from feature-set combo: ['bedrooms', 'sqft_living', 'grade', 'yr_built', 'lat', 'sqft_living15', 'waterfront', 'view']\n",
      "new best condition_no__and__pvals__and__rsquared__and__rsquared_adj__and__rmse__and__delta_rmse score: (34.591382752498035, 0.7596458041313399, 0.7595344555817208, [3.0469765072868343e-55, 2.347737367586668e-199, 0.0, 0.0, 0.0, 1.6580001686323257e-72, 2.6331226875483423e-77, 2.7519605107359654e-103], 0.05620597059995834, 0.0005938079374000566), from feature-set combo: ['bathrooms', 'sqft_living', 'grade', 'yr_built', 'lat', 'sqft_living15', 'waterfront', 'view']\n"
     ]
    },
    {
     "data": {
      "text/html": [
       "Cross-validating ${16 \\choose 9}=11440$ combinations of 9 features (out of 16) over 5 folds..."
      ],
      "text/plain": [
       "<IPython.core.display.HTML object>"
      ]
     },
     "metadata": {},
     "output_type": "display_data"
    },
    {
     "name": "stdout",
     "output_type": "stream",
     "text": [
      "new best condition_no__and__pvals__and__rsquared__and__rsquared_adj__and__rmse__and__delta_rmse score: (39.48172395416378, 0.7610370198116272, 0.7609124705515182, [4.410415499161139e-21, 5.386216483549237e-64, 5.6180477621120866e-213, 0.0, 0.0, 0.0, 2.85503507712213e-69, 1.3105605473750205e-73, 2.5297028719040633e-96], 0.056043107158067686, 0.000636240973753642), from feature-set combo: ['bedrooms', 'bathrooms', 'sqft_living', 'grade', 'yr_built', 'lat', 'sqft_living15', 'waterfront', 'view']\n",
      "new best condition_no__and__pvals__and__rsquared__and__rsquared_adj__and__rmse__and__delta_rmse score: (35.009911058920025, 0.761798367686841, 0.7616742152472041, [6.995088127148974e-37, 4.835923997477075e-201, 7.693363202976341e-30, 0.0, 0.0, 0.0, 5.3781142055693e-83, 1.7348679773302858e-76, 9.630444366686861e-109], 0.055953823602858645, 0.0007145969110580006), from feature-set combo: ['bathrooms', 'sqft_living', 'floors', 'grade', 'yr_built', 'lat', 'sqft_living15', 'waterfront', 'view']\n"
     ]
    },
    {
     "data": {
      "text/html": [
       "Cross-validating ${16 \\choose 10}=8008$ combinations of 10 features (out of 16) over 5 folds..."
      ],
      "text/plain": [
       "<IPython.core.display.HTML object>"
      ]
     },
     "metadata": {},
     "output_type": "display_data"
    },
    {
     "name": "stdout",
     "output_type": "stream",
     "text": [
      "new best condition_no__and__pvals__and__rsquared__and__rsquared_adj__and__rmse__and__delta_rmse score: (41.09347825338641, 0.7622734344141799, 0.7621357544085832, [1.6655173473758755e-21, 1.4599947524204223e-47, 4.2702696715512185e-223, 1.5312596602938155e-12, 0.0, 0.0, 0.0, 4.462345592270907e-84, 8.41440348302072e-77, 3.335150292070243e-95], 0.055898031250122805, 0.0007825993988687718), from feature-set combo: ['bedrooms', 'bathrooms', 'sqft_living', 'sqft_lot', 'grade', 'yr_built', 'lat', 'sqft_living15', 'waterfront', 'view']\n",
      "new best condition_no__and__pvals__and__rsquared__and__rsquared_adj__and__rmse__and__delta_rmse score: (39.83087893706526, 0.7630323620913787, 0.7628951216189443, [4.64618025854847e-19, 3.854769133106674e-44, 1.5587719820502873e-211, 7.960849731232156e-28, 0.0, 0.0, 0.0, 2.0697818516809548e-79, 4.9238923179974317e-73, 9.73817440265152e-102], 0.05580872427101471, 0.0007429527167958458), from feature-set combo: ['bedrooms', 'bathrooms', 'sqft_living', 'floors', 'grade', 'yr_built', 'lat', 'sqft_living15', 'waterfront', 'view']\n"
     ]
    },
    {
     "data": {
      "text/html": [
       "Cross-validating ${16 \\choose 11}=4368$ combinations of 11 features (out of 16) over 5 folds..."
      ],
      "text/plain": [
       "<IPython.core.display.HTML object>"
      ]
     },
     "metadata": {},
     "output_type": "display_data"
    },
    {
     "name": "stdout",
     "output_type": "stream",
     "text": [
      "new best condition_no__and__pvals__and__rsquared__and__rsquared_adj__and__rmse__and__delta_rmse score: (41.386828505363596, 0.7634950421414336, 0.7633443636555816, [1.6948181251733228e-19, 3.7907286247352665e-38, 2.243752679197588e-213, 1.5429633306578882e-05, 2.4237430131976205e-20, 0.0, 0.0, 0.0, 2.0054305354993334e-86, 3.359747218437298e-75, 6.248026676656389e-100], 0.05575425263011232, 0.0008100810602772179), from feature-set combo: ['bedrooms', 'bathrooms', 'sqft_living', 'sqft_lot', 'floors', 'grade', 'yr_built', 'lat', 'sqft_living15', 'waterfront', 'view']\n",
      "new best condition_no__and__pvals__and__rsquared__and__rsquared_adj__and__rmse__and__delta_rmse score: (41.058046842662506, 0.7638851851512497, 0.763734755227524, [9.255396770215134e-20, 9.470953360186177e-37, 1.2468921781854524e-220, 3.878043264681133e-18, 0.0, 0.0, 0.0, 4.032308478503589e-91, 9.141166940136312e-12, 7.538656486356142e-77, 4.576508677923237e-99], 0.05570825704584438, 0.0008157134620202192), from feature-set combo: ['bedrooms', 'bathrooms', 'sqft_living', 'floors', 'grade', 'yr_built', 'lat', 'sqft_living15', 'sqft_lot15', 'waterfront', 'view']\n"
     ]
    },
    {
     "data": {
      "text/html": [
       "Cross-validating ${16 \\choose 12}=1820$ combinations of 12 features (out of 16) over 5 folds..."
      ],
      "text/plain": [
       "<IPython.core.display.HTML object>"
      ]
     },
     "metadata": {},
     "output_type": "display_data"
    },
    {
     "name": "stdout",
     "output_type": "stream",
     "text": [
      "new best condition_no__and__pvals__and__rsquared__and__rsquared_adj__and__rmse__and__delta_rmse score: (58.21187513104752, 0.7639828316689053, 0.763818784662192, [1.3573834744534694e-19, 3.0188397349781766e-37, 5.627089237579188e-210, 0.038634331329437825, 5.407401869864824e-19, 0.0, 0.0, 0.0, 1.7099955351743055e-91, 9.651825603254557e-08, 4.024849998154953e-77, 4.605238342275718e-99], 0.055696726606525734, 0.000783721869942007), from feature-set combo: ['bedrooms', 'bathrooms', 'sqft_living', 'sqft_lot', 'floors', 'grade', 'yr_built', 'lat', 'sqft_living15', 'sqft_lot15', 'waterfront', 'view']\n",
      "new best condition_no__and__pvals__and__rsquared__and__rsquared_adj__and__rmse__and__delta_rmse score: (41.06618132757351, 0.7641000100679205, 0.7639360445090961, [5.120917812717255e-19, 4.431154453656363e-34, 5.743416469767638e-220, 4.794323312032568e-17, 0.0, 0.0, 0.0001950319108824522, 0.0, 2.20575910752423e-92, 3.1146680492887573e-12, 3.559074602482659e-75, 1.4054642063396192e-98], 0.05568290501771095, 0.0008293545597747171), from feature-set combo: ['bedrooms', 'bathrooms', 'sqft_living', 'floors', 'grade', 'yr_built', 'yr_renovated', 'lat', 'sqft_living15', 'sqft_lot15', 'waterfront', 'view']\n",
      "new best condition_no__and__pvals__and__rsquared__and__rsquared_adj__and__rmse__and__delta_rmse score: (97.74398473713194, 0.7641715525662297, 0.7640076367328862, [2.3698821214528896e-21, 2.448803903990311e-44, 3.156472602322213e-16, 0.0, 6.575617074426557e-22, 1.1873058782900396e-12, 0.0, 0.0, 1.2628067653555515e-84, 1.00804243732006e-21, 4.111335060023317e-79, 1.8340805729041058e-95], 0.055674451513297765, 0.0007880083173727584), from feature-set combo: ['bedrooms', 'bathrooms', 'sqft_living', 'grade', 'sqft_above', 'sqft_basement', 'yr_built', 'lat', 'sqft_living15', 'sqft_lot15', 'waterfront', 'view']\n"
     ]
    },
    {
     "data": {
      "text/html": [
       "Cross-validating ${16 \\choose 13}=560$ combinations of 13 features (out of 16) over 5 folds..."
      ],
      "text/plain": [
       "<IPython.core.display.HTML object>"
      ]
     },
     "metadata": {},
     "output_type": "display_data"
    },
    {
     "name": "stdout",
     "output_type": "stream",
     "text": [
      "new best condition_no__and__pvals__and__rsquared__and__rsquared_adj__and__rmse__and__delta_rmse score: (100.38242941985936, 0.7643898887216807, 0.7642124673640114, [3.018722427055053e-19, 1.3942108495381665e-35, 2.7309165234005614e-18, 4.049422794669186e-06, 1.0008473755601218e-10, 0.0, 8.182962978349042e-14, 2.8145273263678343e-13, 0.0, 0.0, 1.0588089514071312e-84, 8.614773416287893e-76, 7.561654905694112e-95], 0.05564868412553738, 0.0008439863003932111), from feature-set combo: ['bedrooms', 'bathrooms', 'sqft_living', 'sqft_lot', 'floors', 'grade', 'sqft_above', 'sqft_basement', 'yr_built', 'lat', 'sqft_living15', 'waterfront', 'view']\n",
      "new best condition_no__and__pvals__and__rsquared__and__rsquared_adj__and__rmse__and__delta_rmse score: (100.43724347470257, 0.7647637567023254, 0.7645866168781602, [1.2741363731773766e-19, 1.3755052761170088e-34, 1.1921340665071846e-18, 1.0941087968386133e-08, 0.0, 5.401762752014212e-14, 8.652750095458201e-13, 0.0, 0.0, 6.164650078364809e-89, 1.4369772856195732e-12, 1.952965143208483e-77, 1.7371367603226622e-94], 0.055604523767901134, 0.0008419882720705707), from feature-set combo: ['bedrooms', 'bathrooms', 'sqft_living', 'floors', 'grade', 'sqft_above', 'sqft_basement', 'yr_built', 'lat', 'sqft_living15', 'sqft_lot15', 'waterfront', 'view']\n"
     ]
    },
    {
     "data": {
      "text/html": [
       "Cross-validating ${16 \\choose 14}=120$ combinations of 14 features (out of 16) over 5 folds..."
      ],
      "text/plain": [
       "<IPython.core.display.HTML object>"
      ]
     },
     "metadata": {},
     "output_type": "display_data"
    },
    {
     "name": "stdout",
     "output_type": "stream",
     "text": [
      "new best condition_no__and__pvals__and__rsquared__and__rsquared_adj__and__rmse__and__delta_rmse score: (102.05504464164804, 0.7648476404452715, 0.7646569314592382, [2.2952791147876124e-19, 8.213536443016599e-35, 3.2017273746870175e-18, 0.04377482411171581, 8.879023243499376e-10, 0.0, 1.8689003241141125e-13, 7.286790726925081e-13, 0.0, 0.0, 1.578407415330407e-89, 3.0113920768894054e-07, 1.1782603004280862e-77, 4.3949705233189474e-94], 0.05559460087154705, 0.0008162342425145422), from feature-set combo: ['bedrooms', 'bathrooms', 'sqft_living', 'sqft_lot', 'floors', 'grade', 'sqft_above', 'sqft_basement', 'yr_built', 'lat', 'sqft_living15', 'sqft_lot15', 'waterfront', 'view']\n",
      "new best condition_no__and__pvals__and__rsquared__and__rsquared_adj__and__rmse__and__delta_rmse score: (100.4533481967209, 0.764980495652712, 0.7647898944140668, [7.293816523654211e-19, 5.623252702802386e-32, 1.3621869230151738e-18, 2.9246250640508063e-08, 0.0, 6.175380939709491e-14, 7.142318297345681e-13, 0.0, 0.00018790317333514968, 0.0, 3.2561506931168515e-90, 5.718506337220802e-13, 9.730199528516201e-76, 5.972362713848822e-94], 0.05557889594932271, 0.00085720645690473), from feature-set combo: ['bedrooms', 'bathrooms', 'sqft_living', 'floors', 'grade', 'sqft_above', 'sqft_basement', 'yr_built', 'yr_renovated', 'lat', 'sqft_living15', 'sqft_lot15', 'waterfront', 'view']\n"
     ]
    },
    {
     "data": {
      "text/html": [
       "Cross-validating ${16 \\choose 15}=16$ combinations of 15 features (out of 16) over 5 folds..."
      ],
      "text/plain": [
       "<IPython.core.display.HTML object>"
      ]
     },
     "metadata": {},
     "output_type": "display_data"
    },
    {
     "name": "stdout",
     "output_type": "stream",
     "text": [
      "new best condition_no__and__pvals__and__rsquared__and__rsquared_adj__and__rmse__and__delta_rmse score: (102.07094474518493, 0.7650695344268266, 0.7648653843557167, [1.3394972901109141e-18, 3.5871022527536767e-32, 3.715341204033478e-18, 0.03706704384402419, 2.452142088685012e-09, 0.0, 2.2317034362384192e-13, 5.978812546806144e-13, 0.0, 0.00015294528445769056, 0.0, 7.428541523973052e-91, 1.5635348985690617e-07, 6.060689887579074e-76, 1.5969218478095363e-93], 0.05556835956117799, 0.000831413723094411), from feature-set combo: ['bedrooms', 'bathrooms', 'sqft_living', 'sqft_lot', 'floors', 'grade', 'sqft_above', 'sqft_basement', 'yr_built', 'yr_renovated', 'lat', 'sqft_living15', 'sqft_lot15', 'waterfront', 'view']\n"
     ]
    },
    {
     "data": {
      "text/html": [
       "Cross-validating ${16 \\choose 16}=1$ combinations of 16 features (out of 16) over 5 folds..."
      ],
      "text/plain": [
       "<IPython.core.display.HTML object>"
      ]
     },
     "metadata": {},
     "output_type": "display_data"
    },
    {
     "data": {
      "text/html": [
       "<table border=\"1\" class=\"dataframe\">\n",
       "  <thead>\n",
       "    <tr style=\"text-align: right;\">\n",
       "      <th></th>\n",
       "      <th>n_features</th>\n",
       "      <th>features</th>\n",
       "      <th>condition_no</th>\n",
       "      <th>rsquared</th>\n",
       "      <th>rsquared_adj</th>\n",
       "      <th>pvals</th>\n",
       "      <th>rmse</th>\n",
       "      <th>delta_rmse</th>\n",
       "    </tr>\n",
       "  </thead>\n",
       "  <tbody>\n",
       "    <tr>\n",
       "      <th>0</th>\n",
       "      <td>1</td>\n",
       "      <td>[bedrooms]</td>\n",
       "      <td>10.550689</td>\n",
       "      <td>0.117757</td>\n",
       "      <td>0.117706</td>\n",
       "      <td>[0.0]</td>\n",
       "      <td>0.107685</td>\n",
       "      <td>0.002275</td>\n",
       "    </tr>\n",
       "    <tr>\n",
       "      <th>1</th>\n",
       "      <td>1</td>\n",
       "      <td>[bathrooms]</td>\n",
       "      <td>8.824142</td>\n",
       "      <td>0.270577</td>\n",
       "      <td>0.270535</td>\n",
       "      <td>[0.0]</td>\n",
       "      <td>0.097915</td>\n",
       "      <td>0.001677</td>\n",
       "    </tr>\n",
       "    <tr>\n",
       "      <th>2</th>\n",
       "      <td>1</td>\n",
       "      <td>[sqft_living]</td>\n",
       "      <td>10.263652</td>\n",
       "      <td>0.455291</td>\n",
       "      <td>0.455259</td>\n",
       "      <td>[0.0]</td>\n",
       "      <td>0.084614</td>\n",
       "      <td>0.001683</td>\n",
       "    </tr>\n",
       "    <tr>\n",
       "      <th>3</th>\n",
       "      <td>1</td>\n",
       "      <td>[grade]</td>\n",
       "      <td>10.398457</td>\n",
       "      <td>0.495177</td>\n",
       "      <td>0.495147</td>\n",
       "      <td>[0.0]</td>\n",
       "      <td>0.081457</td>\n",
       "      <td>0.002175</td>\n",
       "    </tr>\n",
       "    <tr>\n",
       "      <th>4</th>\n",
       "      <td>2</td>\n",
       "      <td>[bedrooms, grade]</td>\n",
       "      <td>13.086472</td>\n",
       "      <td>0.501731</td>\n",
       "      <td>0.501674</td>\n",
       "      <td>[1.9330888355839872e-46, 0.0]</td>\n",
       "      <td>0.080927</td>\n",
       "      <td>0.002280</td>\n",
       "    </tr>\n",
       "    <tr>\n",
       "      <th>5</th>\n",
       "      <td>2</td>\n",
       "      <td>[bathrooms, grade]</td>\n",
       "      <td>16.042351</td>\n",
       "      <td>0.502863</td>\n",
       "      <td>0.502805</td>\n",
       "      <td>[9.243015135852083e-55, 0.0]</td>\n",
       "      <td>0.080835</td>\n",
       "      <td>0.002067</td>\n",
       "    </tr>\n",
       "    <tr>\n",
       "      <th>6</th>\n",
       "      <td>2</td>\n",
       "      <td>[sqft_living, grade]</td>\n",
       "      <td>20.079382</td>\n",
       "      <td>0.546694</td>\n",
       "      <td>0.546642</td>\n",
       "      <td>[0.0, 0.0]</td>\n",
       "      <td>0.077189</td>\n",
       "      <td>0.002417</td>\n",
       "    </tr>\n",
       "    <tr>\n",
       "      <th>7</th>\n",
       "      <td>2</td>\n",
       "      <td>[sqft_living, lat]</td>\n",
       "      <td>12.043945</td>\n",
       "      <td>0.634225</td>\n",
       "      <td>0.634183</td>\n",
       "      <td>[0.0, 0.0]</td>\n",
       "      <td>0.069337</td>\n",
       "      <td>0.002123</td>\n",
       "    </tr>\n",
       "    <tr>\n",
       "      <th>8</th>\n",
       "      <td>3</td>\n",
       "      <td>[bedrooms, sqft_living, lat]</td>\n",
       "      <td>19.776184</td>\n",
       "      <td>0.643436</td>\n",
       "      <td>0.643374</td>\n",
       "      <td>[1.484536892604205e-88, 0.0, 0.0]</td>\n",
       "      <td>0.068458</td>\n",
       "      <td>0.002239</td>\n",
       "    </tr>\n",
       "    <tr>\n",
       "      <th>9</th>\n",
       "      <td>3</td>\n",
       "      <td>[bedrooms, grade, lat]</td>\n",
       "      <td>15.073680</td>\n",
       "      <td>0.645129</td>\n",
       "      <td>0.645067</td>\n",
       "      <td>[3.6994964143231534e-109, 0.0, 0.0]</td>\n",
       "      <td>0.068296</td>\n",
       "      <td>0.001727</td>\n",
       "    </tr>\n",
       "    <tr>\n",
       "      <th>10</th>\n",
       "      <td>3</td>\n",
       "      <td>[bathrooms, grade, lat]</td>\n",
       "      <td>18.388235</td>\n",
       "      <td>0.647051</td>\n",
       "      <td>0.646990</td>\n",
       "      <td>[8.564695949114919e-141, 0.0, 0.0]</td>\n",
       "      <td>0.068111</td>\n",
       "      <td>0.001308</td>\n",
       "    </tr>\n",
       "    <tr>\n",
       "      <th>11</th>\n",
       "      <td>3</td>\n",
       "      <td>[sqft_living, grade, lat]</td>\n",
       "      <td>23.059427</td>\n",
       "      <td>0.697092</td>\n",
       "      <td>0.697040</td>\n",
       "      <td>[0.0, 0.0, 0.0]</td>\n",
       "      <td>0.063097</td>\n",
       "      <td>0.002248</td>\n",
       "    </tr>\n",
       "    <tr>\n",
       "      <th>12</th>\n",
       "      <td>4</td>\n",
       "      <td>[bedrooms, sqft_living, grade, lat]</td>\n",
       "      <td>29.051839</td>\n",
       "      <td>0.699468</td>\n",
       "      <td>0.699398</td>\n",
       "      <td>[9.765214661573847e-30, 0.0, 0.0, 0.0]</td>\n",
       "      <td>0.062850</td>\n",
       "      <td>0.002282</td>\n",
       "    </tr>\n",
       "    <tr>\n",
       "      <th>13</th>\n",
       "      <td>4</td>\n",
       "      <td>[bathrooms, grade, yr_built, lat]</td>\n",
       "      <td>20.212891</td>\n",
       "      <td>0.705002</td>\n",
       "      <td>0.704934</td>\n",
       "      <td>[0.0, 0.0, 0.0, 0.0]</td>\n",
       "      <td>0.062269</td>\n",
       "      <td>0.001248</td>\n",
       "    </tr>\n",
       "    <tr>\n",
       "      <th>14</th>\n",
       "      <td>4</td>\n",
       "      <td>[sqft_living, grade, yr_built, lat]</td>\n",
       "      <td>25.850301</td>\n",
       "      <td>0.732311</td>\n",
       "      <td>0.732249</td>\n",
       "      <td>[0.0, 0.0, 0.0, 0.0]</td>\n",
       "      <td>0.059317</td>\n",
       "      <td>0.001438</td>\n",
       "    </tr>\n",
       "    <tr>\n",
       "      <th>15</th>\n",
       "      <td>5</td>\n",
       "      <td>[bedrooms, sqft_living, grade, yr_built, lat]</td>\n",
       "      <td>31.862029</td>\n",
       "      <td>0.734579</td>\n",
       "      <td>0.734502</td>\n",
       "      <td>[9.756250453030607e-32, 0.0, 0.0, 0.0, 0.0]</td>\n",
       "      <td>0.059065</td>\n",
       "      <td>0.001461</td>\n",
       "    </tr>\n",
       "    <tr>\n",
       "      <th>16</th>\n",
       "      <td>5</td>\n",
       "      <td>[bathrooms, sqft_living, grade, yr_built, lat]</td>\n",
       "      <td>30.519983</td>\n",
       "      <td>0.735584</td>\n",
       "      <td>0.735508</td>\n",
       "      <td>[3.443567300842033e-46, 0.0, 0.0, 0.0, 0.0]</td>\n",
       "      <td>0.058953</td>\n",
       "      <td>0.001501</td>\n",
       "    </tr>\n",
       "    <tr>\n",
       "      <th>17</th>\n",
       "      <td>5</td>\n",
       "      <td>[sqft_living, grade, yr_built, lat, sqft_living15]</td>\n",
       "      <td>28.371560</td>\n",
       "      <td>0.738651</td>\n",
       "      <td>0.738575</td>\n",
       "      <td>[0.0, 0.0, 0.0, 0.0, 2.7152664980067946e-81]</td>\n",
       "      <td>0.058610</td>\n",
       "      <td>0.000854</td>\n",
       "    </tr>\n",
       "    <tr>\n",
       "      <th>18</th>\n",
       "      <td>5</td>\n",
       "      <td>[sqft_living, grade, yr_built, lat, waterfront]</td>\n",
       "      <td>25.867295</td>\n",
       "      <td>0.742475</td>\n",
       "      <td>0.742401</td>\n",
       "      <td>[0.0, 0.0, 0.0, 0.0, 3.280113183971156e-124]</td>\n",
       "      <td>0.058179</td>\n",
       "      <td>0.001239</td>\n",
       "    </tr>\n",
       "    <tr>\n",
       "      <th>19</th>\n",
       "      <td>5</td>\n",
       "      <td>[sqft_living, grade, yr_built, lat, view]</td>\n",
       "      <td>25.937651</td>\n",
       "      <td>0.745579</td>\n",
       "      <td>0.745505</td>\n",
       "      <td>[0.0, 0.0, 0.0, 0.0, 3.302006071723784e-180]</td>\n",
       "      <td>0.057828</td>\n",
       "      <td>0.001139</td>\n",
       "    </tr>\n",
       "    <tr>\n",
       "      <th>20</th>\n",
       "      <td>6</td>\n",
       "      <td>[bedrooms, sqft_living, grade, yr_built, lat, view]</td>\n",
       "      <td>31.964560</td>\n",
       "      <td>0.746915</td>\n",
       "      <td>0.746827</td>\n",
       "      <td>[2.6612737911328932e-20, 0.0, 0.0, 0.0, 0.0, 4.9952700059502587e-169]</td>\n",
       "      <td>0.057676</td>\n",
       "      <td>0.001167</td>\n",
       "    </tr>\n",
       "    <tr>\n",
       "      <th>21</th>\n",
       "      <td>6</td>\n",
       "      <td>[bathrooms, sqft_living, grade, yr_built, lat, view]</td>\n",
       "      <td>30.589136</td>\n",
       "      <td>0.748580</td>\n",
       "      <td>0.748493</td>\n",
       "      <td>[2.678942568529295e-44, 0.0, 0.0, 0.0, 0.0, 1.1668855784915331e-177]</td>\n",
       "      <td>0.057485</td>\n",
       "      <td>0.001170</td>\n",
       "    </tr>\n",
       "    <tr>\n",
       "      <th>22</th>\n",
       "      <td>6</td>\n",
       "      <td>[sqft_living, grade, yr_built, lat, sqft_living15, view]</td>\n",
       "      <td>28.483857</td>\n",
       "      <td>0.750069</td>\n",
       "      <td>0.749983</td>\n",
       "      <td>[0.0, 0.0, 0.0, 0.0, 1.787779561055876e-60, 1.5162618846456718e-159]</td>\n",
       "      <td>0.057315</td>\n",
       "      <td>0.000664</td>\n",
       "    </tr>\n",
       "    <tr>\n",
       "      <th>23</th>\n",
       "      <td>6</td>\n",
       "      <td>[sqft_living, grade, yr_built, lat, waterfront, view]</td>\n",
       "      <td>25.944601</td>\n",
       "      <td>0.751494</td>\n",
       "      <td>0.751408</td>\n",
       "      <td>[0.0, 0.0, 0.0, 0.0, 1.4999323877568508e-73, 8.019592966311212e-124]</td>\n",
       "      <td>0.057151</td>\n",
       "      <td>0.001105</td>\n",
       "    </tr>\n",
       "    <tr>\n",
       "      <th>24</th>\n",
       "      <td>7</td>\n",
       "      <td>[bedrooms, sqft_living, grade, yr_built, lat, waterfront, view]</td>\n",
       "      <td>31.980369</td>\n",
       "      <td>0.752550</td>\n",
       "      <td>0.752450</td>\n",
       "      <td>[9.883968326380254e-17, 0.0, 0.0, 0.0, 0.0, 2.010736566632183e-70, 6.3053240152003574e-117]</td>\n",
       "      <td>0.057030</td>\n",
       "      <td>0.001129</td>\n",
       "    </tr>\n",
       "    <tr>\n",
       "      <th>25</th>\n",
       "      <td>7</td>\n",
       "      <td>[bathrooms, sqft_living, grade, yr_built, lat, sqft_living15, view]</td>\n",
       "      <td>34.590120</td>\n",
       "      <td>0.753636</td>\n",
       "      <td>0.753536</td>\n",
       "      <td>[3.9905785216629017e-53, 4.850955444706312e-198, 0.0, 0.0, 0.0, 5.956510805674824e-70, 2.1138773181933903e-155]</td>\n",
       "      <td>0.056905</td>\n",
       "      <td>0.000733</td>\n",
       "    </tr>\n",
       "    <tr>\n",
       "      <th>26</th>\n",
       "      <td>7</td>\n",
       "      <td>[bathrooms, sqft_living, grade, yr_built, lat, waterfront, view]</td>\n",
       "      <td>30.591871</td>\n",
       "      <td>0.754504</td>\n",
       "      <td>0.754404</td>\n",
       "      <td>[8.07261592691858e-46, 0.0, 0.0, 0.0, 0.0, 1.1420856144589214e-74, 9.769172606988575e-122]</td>\n",
       "      <td>0.056804</td>\n",
       "      <td>0.001103</td>\n",
       "    </tr>\n",
       "    <tr>\n",
       "      <th>27</th>\n",
       "      <td>7</td>\n",
       "      <td>[sqft_living, grade, yr_built, lat, sqft_living15, waterfront, view]</td>\n",
       "      <td>28.485567</td>\n",
       "      <td>0.756065</td>\n",
       "      <td>0.755966</td>\n",
       "      <td>[0.0, 0.0, 0.0, 0.0, 8.490848418791226e-63, 7.665457270653326e-76, 1.1759146318135877e-106]</td>\n",
       "      <td>0.056623</td>\n",
       "      <td>0.000549</td>\n",
       "    </tr>\n",
       "    <tr>\n",
       "      <th>28</th>\n",
       "      <td>8</td>\n",
       "      <td>[bedrooms, bathrooms, sqft_living, grade, yr_built, lat, waterfront, view]</td>\n",
       "      <td>35.292243</td>\n",
       "      <td>0.756119</td>\n",
       "      <td>0.756006</td>\n",
       "      <td>[3.540550159746378e-25, 1.1519314161447078e-54, 0.0, 0.0, 0.0, 0.0, 6.6600174172479426e-71, 4.40065919118103e-113]</td>\n",
       "      <td>0.056617</td>\n",
       "      <td>0.001132</td>\n",
       "    </tr>\n",
       "    <tr>\n",
       "      <th>29</th>\n",
       "      <td>8</td>\n",
       "      <td>[bedrooms, sqft_living, grade, yr_built, lat, sqft_living15, waterfront, view]</td>\n",
       "      <td>35.432024</td>\n",
       "      <td>0.756916</td>\n",
       "      <td>0.756803</td>\n",
       "      <td>[4.6765668206919e-13, 0.0, 0.0, 0.0, 0.0, 8.720438215087053e-60, 7.458402099437449e-73, 2.433085283992443e-101]</td>\n",
       "      <td>0.056524</td>\n",
       "      <td>0.000585</td>\n",
       "    </tr>\n",
       "    <tr>\n",
       "      <th>30</th>\n",
       "      <td>8</td>\n",
       "      <td>[bathrooms, sqft_living, grade, yr_built, lat, sqft_living15, waterfront, view]</td>\n",
       "      <td>34.591383</td>\n",
       "      <td>0.759646</td>\n",
       "      <td>0.759534</td>\n",
       "      <td>[3.0469765072868343e-55, 2.347737367586668e-199, 0.0, 0.0, 0.0, 1.6580001686323257e-72, 2.6331226875483423e-77, 2.7519605107359654e-103]</td>\n",
       "      <td>0.056206</td>\n",
       "      <td>0.000594</td>\n",
       "    </tr>\n",
       "    <tr>\n",
       "      <th>31</th>\n",
       "      <td>9</td>\n",
       "      <td>[bedrooms, bathrooms, sqft_living, grade, yr_built, lat, sqft_living15, waterfront, view]</td>\n",
       "      <td>39.481724</td>\n",
       "      <td>0.761037</td>\n",
       "      <td>0.760912</td>\n",
       "      <td>[4.410415499161139e-21, 5.386216483549237e-64, 5.6180477621120866e-213, 0.0, 0.0, 0.0, 2.85503507712213e-69, 1.3105605473750205e-73, 2.5297028719040633e-96]</td>\n",
       "      <td>0.056043</td>\n",
       "      <td>0.000636</td>\n",
       "    </tr>\n",
       "    <tr>\n",
       "      <th>32</th>\n",
       "      <td>9</td>\n",
       "      <td>[bathrooms, sqft_living, floors, grade, yr_built, lat, sqft_living15, waterfront, view]</td>\n",
       "      <td>35.009911</td>\n",
       "      <td>0.761798</td>\n",
       "      <td>0.761674</td>\n",
       "      <td>[6.995088127148974e-37, 4.835923997477075e-201, 7.693363202976341e-30, 0.0, 0.0, 0.0, 5.3781142055693e-83, 1.7348679773302858e-76, 9.630444366686861e-109]</td>\n",
       "      <td>0.055954</td>\n",
       "      <td>0.000715</td>\n",
       "    </tr>\n",
       "    <tr>\n",
       "      <th>33</th>\n",
       "      <td>10</td>\n",
       "      <td>[bedrooms, bathrooms, sqft_living, sqft_lot, grade, yr_built, lat, sqft_living15, waterfront, view]</td>\n",
       "      <td>41.093478</td>\n",
       "      <td>0.762273</td>\n",
       "      <td>0.762136</td>\n",
       "      <td>[1.6655173473758755e-21, 1.4599947524204223e-47, 4.2702696715512185e-223, 1.5312596602938155e-12, 0.0, 0.0, 0.0, 4.462345592270907e-84, 8.41440348302072e-77, 3.335150292070243e-95]</td>\n",
       "      <td>0.055898</td>\n",
       "      <td>0.000783</td>\n",
       "    </tr>\n",
       "    <tr>\n",
       "      <th>34</th>\n",
       "      <td>10</td>\n",
       "      <td>[bedrooms, bathrooms, sqft_living, floors, grade, yr_built, lat, sqft_living15, waterfront, view]</td>\n",
       "      <td>39.830879</td>\n",
       "      <td>0.763032</td>\n",
       "      <td>0.762895</td>\n",
       "      <td>[4.64618025854847e-19, 3.854769133106674e-44, 1.5587719820502873e-211, 7.960849731232156e-28, 0.0, 0.0, 0.0, 2.0697818516809548e-79, 4.9238923179974317e-73, 9.73817440265152e-102]</td>\n",
       "      <td>0.055809</td>\n",
       "      <td>0.000743</td>\n",
       "    </tr>\n",
       "    <tr>\n",
       "      <th>35</th>\n",
       "      <td>11</td>\n",
       "      <td>[bedrooms, bathrooms, sqft_living, sqft_lot, floors, grade, yr_built, lat, sqft_living15, waterfront, view]</td>\n",
       "      <td>41.386829</td>\n",
       "      <td>0.763495</td>\n",
       "      <td>0.763344</td>\n",
       "      <td>[1.6948181251733228e-19, 3.7907286247352665e-38, 2.243752679197588e-213, 1.5429633306578882e-05, 2.4237430131976205e-20, 0.0, 0.0, 0.0, 2.0054305354993334e-86, 3.359747218437298e-75, 6.248026676656389e-100]</td>\n",
       "      <td>0.055754</td>\n",
       "      <td>0.000810</td>\n",
       "    </tr>\n",
       "    <tr>\n",
       "      <th>36</th>\n",
       "      <td>11</td>\n",
       "      <td>[bedrooms, bathrooms, sqft_living, floors, grade, yr_built, lat, sqft_living15, sqft_lot15, waterfront, view]</td>\n",
       "      <td>41.058047</td>\n",
       "      <td>0.763885</td>\n",
       "      <td>0.763735</td>\n",
       "      <td>[9.255396770215134e-20, 9.470953360186177e-37, 1.2468921781854524e-220, 3.878043264681133e-18, 0.0, 0.0, 0.0, 4.032308478503589e-91, 9.141166940136312e-12, 7.538656486356142e-77, 4.576508677923237e-99]</td>\n",
       "      <td>0.055708</td>\n",
       "      <td>0.000816</td>\n",
       "    </tr>\n",
       "    <tr>\n",
       "      <th>37</th>\n",
       "      <td>12</td>\n",
       "      <td>[bedrooms, bathrooms, sqft_living, sqft_lot, floors, grade, yr_built, lat, sqft_living15, sqft_lot15, waterfront, view]</td>\n",
       "      <td>58.211875</td>\n",
       "      <td>0.763983</td>\n",
       "      <td>0.763819</td>\n",
       "      <td>[1.3573834744534694e-19, 3.0188397349781766e-37, 5.627089237579188e-210, 0.038634331329437825, 5.407401869864824e-19, 0.0, 0.0, 0.0, 1.7099955351743055e-91, 9.651825603254557e-08, 4.024849998154953e-77, 4.605238342275718e-99]</td>\n",
       "      <td>0.055697</td>\n",
       "      <td>0.000784</td>\n",
       "    </tr>\n",
       "    <tr>\n",
       "      <th>38</th>\n",
       "      <td>12</td>\n",
       "      <td>[bedrooms, bathrooms, sqft_living, floors, grade, yr_built, yr_renovated, lat, sqft_living15, sqft_lot15, waterfront, view]</td>\n",
       "      <td>41.066181</td>\n",
       "      <td>0.764100</td>\n",
       "      <td>0.763936</td>\n",
       "      <td>[5.120917812717255e-19, 4.431154453656363e-34, 5.743416469767638e-220, 4.794323312032568e-17, 0.0, 0.0, 0.0001950319108824522, 0.0, 2.20575910752423e-92, 3.1146680492887573e-12, 3.559074602482659e-75, 1.4054642063396192e-98]</td>\n",
       "      <td>0.055683</td>\n",
       "      <td>0.000829</td>\n",
       "    </tr>\n",
       "    <tr>\n",
       "      <th>39</th>\n",
       "      <td>12</td>\n",
       "      <td>[bedrooms, bathrooms, sqft_living, grade, sqft_above, sqft_basement, yr_built, lat, sqft_living15, sqft_lot15, waterfront, view]</td>\n",
       "      <td>97.743985</td>\n",
       "      <td>0.764172</td>\n",
       "      <td>0.764008</td>\n",
       "      <td>[2.3698821214528896e-21, 2.448803903990311e-44, 3.156472602322213e-16, 0.0, 6.575617074426557e-22, 1.1873058782900396e-12, 0.0, 0.0, 1.2628067653555515e-84, 1.00804243732006e-21, 4.111335060023317e-79, 1.8340805729041058e-95]</td>\n",
       "      <td>0.055674</td>\n",
       "      <td>0.000788</td>\n",
       "    </tr>\n",
       "    <tr>\n",
       "      <th>40</th>\n",
       "      <td>13</td>\n",
       "      <td>[bedrooms, bathrooms, sqft_living, sqft_lot, floors, grade, sqft_above, sqft_basement, yr_built, lat, sqft_living15, waterfront, view]</td>\n",
       "      <td>100.382429</td>\n",
       "      <td>0.764390</td>\n",
       "      <td>0.764212</td>\n",
       "      <td>[3.018722427055053e-19, 1.3942108495381665e-35, 2.7309165234005614e-18, 4.049422794669186e-06, 1.0008473755601218e-10, 0.0, 8.182962978349042e-14, 2.8145273263678343e-13, 0.0, 0.0, 1.0588089514071312e-84, 8.614773416287893e-76, 7.561654905694112e-95]</td>\n",
       "      <td>0.055649</td>\n",
       "      <td>0.000844</td>\n",
       "    </tr>\n",
       "    <tr>\n",
       "      <th>41</th>\n",
       "      <td>13</td>\n",
       "      <td>[bedrooms, bathrooms, sqft_living, floors, grade, sqft_above, sqft_basement, yr_built, lat, sqft_living15, sqft_lot15, waterfront, view]</td>\n",
       "      <td>100.437243</td>\n",
       "      <td>0.764764</td>\n",
       "      <td>0.764587</td>\n",
       "      <td>[1.2741363731773766e-19, 1.3755052761170088e-34, 1.1921340665071846e-18, 1.0941087968386133e-08, 0.0, 5.401762752014212e-14, 8.652750095458201e-13, 0.0, 0.0, 6.164650078364809e-89, 1.4369772856195732e-12, 1.952965143208483e-77, 1.7371367603226622e-94]</td>\n",
       "      <td>0.055605</td>\n",
       "      <td>0.000842</td>\n",
       "    </tr>\n",
       "    <tr>\n",
       "      <th>42</th>\n",
       "      <td>14</td>\n",
       "      <td>[bedrooms, bathrooms, sqft_living, sqft_lot, floors, grade, sqft_above, sqft_basement, yr_built, lat, sqft_living15, sqft_lot15, waterfront, view]</td>\n",
       "      <td>102.055045</td>\n",
       "      <td>0.764848</td>\n",
       "      <td>0.764657</td>\n",
       "      <td>[2.2952791147876124e-19, 8.213536443016599e-35, 3.2017273746870175e-18, 0.04377482411171581, 8.879023243499376e-10, 0.0, 1.8689003241141125e-13, 7.286790726925081e-13, 0.0, 0.0, 1.578407415330407e-89, 3.0113920768894054e-07, 1.1782603004280862e-77, 4.3949705233189474e-94]</td>\n",
       "      <td>0.055595</td>\n",
       "      <td>0.000816</td>\n",
       "    </tr>\n",
       "    <tr>\n",
       "      <th>43</th>\n",
       "      <td>14</td>\n",
       "      <td>[bedrooms, bathrooms, sqft_living, floors, grade, sqft_above, sqft_basement, yr_built, yr_renovated, lat, sqft_living15, sqft_lot15, waterfront, view]</td>\n",
       "      <td>100.453348</td>\n",
       "      <td>0.764980</td>\n",
       "      <td>0.764790</td>\n",
       "      <td>[7.293816523654211e-19, 5.623252702802386e-32, 1.3621869230151738e-18, 2.9246250640508063e-08, 0.0, 6.175380939709491e-14, 7.142318297345681e-13, 0.0, 0.00018790317333514968, 0.0, 3.2561506931168515e-90, 5.718506337220802e-13, 9.730199528516201e-76, 5.972362713848822e-94]</td>\n",
       "      <td>0.055579</td>\n",
       "      <td>0.000857</td>\n",
       "    </tr>\n",
       "    <tr>\n",
       "      <th>44</th>\n",
       "      <td>15</td>\n",
       "      <td>[bedrooms, bathrooms, sqft_living, sqft_lot, floors, grade, sqft_above, sqft_basement, yr_built, yr_renovated, lat, sqft_living15, sqft_lot15, waterfront, view]</td>\n",
       "      <td>102.070945</td>\n",
       "      <td>0.765070</td>\n",
       "      <td>0.764865</td>\n",
       "      <td>[1.3394972901109141e-18, 3.5871022527536767e-32, 3.715341204033478e-18, 0.03706704384402419, 2.452142088685012e-09, 0.0, 2.2317034362384192e-13, 5.978812546806144e-13, 0.0, 0.00015294528445769056, 0.0, 7.428541523973052e-91, 1.5635348985690617e-07, 6.060689887579074e-76, 1.5969218478095363e-93]</td>\n",
       "      <td>0.055568</td>\n",
       "      <td>0.000831</td>\n",
       "    </tr>\n",
       "  </tbody>\n",
       "</table>"
      ],
      "text/plain": [
       "<IPython.core.display.HTML object>"
      ]
     },
     "metadata": {},
     "output_type": "display_data"
    },
    {
     "data": {
      "text/html": [
       "<br>45 rows x 8 columns<br><br>"
      ],
      "text/plain": [
       "<IPython.core.display.HTML object>"
      ]
     },
     "metadata": {},
     "output_type": "display_data"
    },
    {
     "data": {
      "text/html": [
       "<h4>cv_selected best condition_no__and__pvals__and__rsquared__and__rsquared_adj__and__rmse__and__delta_rmse = (102.07094474518493, 0.7650695344268266, 0.7648653843557167, [1.3394972901109141e-18, 3.5871022527536767e-32, 3.715341204033478e-18, 0.03706704384402419, 2.452142088685012e-09, 0.0, 2.2317034362384192e-13, 5.978812546806144e-13, 0.0, 0.00015294528445769056, 0.0, 7.428541523973052e-91, 1.5635348985690617e-07, 6.060689887579074e-76, 1.5969218478095363e-93], 0.05556835956117799, 0.000831413723094411)</h4>"
      ],
      "text/plain": [
       "<IPython.core.display.HTML object>"
      ]
     },
     "metadata": {},
     "output_type": "display_data"
    },
    {
     "data": {
      "text/html": [
       "<h4>cv_selected best feature-set combo (15 of 16 features):['bedrooms', 'bathrooms', 'sqft_living', 'sqft_lot', 'floors', 'grade', 'sqft_above', 'sqft_basement', 'yr_built', 'yr_renovated', 'lat', 'sqft_living15', 'sqft_lot15', 'waterfront', 'view']<h/4>"
      ],
      "text/plain": [
       "<IPython.core.display.HTML object>"
      ]
     },
     "metadata": {},
     "output_type": "display_data"
    },
    {
     "data": {
      "text/html": [
       "<h4>starting feature-set:['bedrooms', 'bathrooms', 'sqft_living', 'sqft_lot', 'floors', 'grade', 'sqft_above', 'sqft_basement', 'yr_built', 'yr_renovated', 'lat', 'long', 'sqft_living15', 'sqft_lot15', 'waterfront', 'view']</h4>"
      ],
      "text/plain": [
       "<IPython.core.display.HTML object>"
      ]
     },
     "metadata": {},
     "output_type": "display_data"
    },
    {
     "data": {
      "text/html": [
       "<h4>cv_selection suggests dropping ['long'].</h4>"
      ],
      "text/plain": [
       "<IPython.core.display.HTML object>"
      ]
     },
     "metadata": {},
     "output_type": "display_data"
    }
   ],
   "source": [
    "to_drop = []\n",
    "# select non-colinear statistically significant feature-subset with maximized R^2 and adj-R^2 \n",
    "#    and minimized RMSE and delta RMSE, cross-validated over 5 test/train k-folds\n",
    "(\n",
    "    kc_cv_sel_optimized_features_scores_df\n",
    "     , cv_sel_features\n",
    "    , score\n",
    "    , to_drop\n",
    ") = scjpnregression.cv_selection(\n",
    "    kc_house_candidate_cv_selection_df.drop(target, axis=1)\n",
    "    , kc_house_candidate_cv_selection_df[[target]]\n",
    "    , folds=5\n",
    ")"
   ]
  },
  {
   "cell_type": "code",
   "execution_count": 4,
   "metadata": {},
   "outputs": [
    {
     "name": "stdout",
     "output_type": "stream",
     "text": [
      "updated kc_cv_sel_optimized_features_scores_df.csv\n"
     ]
    }
   ],
   "source": [
    "fname = 'kc_cv_sel_optimized_features_scores_df.csv'\n",
    "kc_cv_sel_optimized_features_scores_df.set_index('n_features').to_csv(fname, sep=',')\n",
    "print(\"updated {}\".format(fname))"
   ]
  }
 ],
 "metadata": {
  "file_extension": ".py",
  "kernelspec": {
   "display_name": "Python [conda env:learn-env] *",
   "language": "python",
   "name": "conda-env-learn-env-py"
  },
  "language_info": {
   "codemirror_mode": {
    "name": "ipython",
    "version": 3
   },
   "file_extension": ".py",
   "mimetype": "text/x-python",
   "name": "python",
   "nbconvert_exporter": "python",
   "pygments_lexer": "ipython3",
   "version": "3.6.9"
  },
  "mimetype": "text/x-python",
  "name": "python",
  "npconvert_exporter": "python",
  "pygments_lexer": "ipython3",
  "version": 3
 },
 "nbformat": 4,
 "nbformat_minor": 2
}
