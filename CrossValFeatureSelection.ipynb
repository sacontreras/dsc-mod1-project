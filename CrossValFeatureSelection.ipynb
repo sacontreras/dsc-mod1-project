{
 "cells": [
  {
   "cell_type": "markdown",
   "metadata": {},
   "source": [
    "# Cross-Validation Forward Selection of Features\n",
    "\n",
    "<h1><font color=\"red\">*** WARNING!!!  This takes a VERY LONG TIME to complete!!! ***</font></h1>\n",
    "\n",
    "DO NOT RELOAD THIS PAGE unless you are comitted to overwriting the previously optimized feature-set/model and you have hours to spare to wait for it to complete!"
   ]
  },
  {
   "cell_type": "code",
   "execution_count": 1,
   "metadata": {},
   "outputs": [],
   "source": [
    "import pandas as pd\n",
    "from IPython.core.display import HTML\n",
    "import numpy as np\n",
    "import scjpnlib.utils as scjpnutils\n",
    "import scjpnlib.regression.api as scjpnregression\n",
    "\n",
    "kchd_transformed_and_scaled_df = pd.read_csv('kc_house_transformed_and_scaled_data.csv')\n",
    "target = 'price'\n",
    "kchd_transformed_and_scaled_df = kchd_transformed_and_scaled_df.drop(['id', 'date'], axis=1)"
   ]
  },
  {
   "cell_type": "code",
   "execution_count": 2,
   "metadata": {
    "scrolled": false
   },
   "outputs": [
    {
     "data": {
      "text/html": [
       "<br><br>Builing all $\\sum_{i=1}^{16}{16 \\choose i}=$ ${16 \\choose 1}$ + ${16 \\choose 2}$ + ${16 \\choose 3}$ + ${16 \\choose 4}$ + ${16 \\choose 5}$ + ${16 \\choose 6}$ + ${16 \\choose 7}$ + ${16 \\choose 8}$ + ${16 \\choose 9}$ + ${16 \\choose 10}$ + ${16 \\choose 11}$ + ${16 \\choose 12}$ + ${16 \\choose 13}$ + ${16 \\choose 14}$ + ${16 \\choose 15}$ + ${16 \\choose 16}$ $=65535$ combinations of feature set: Index(['bedrooms', 'bathrooms', 'sqft_living', 'sqft_lot', 'floors',\n",
       "       'waterfront', 'view', 'grade', 'sqft_above', 'sqft_basement',\n",
       "       'yr_built', 'yr_renovated', 'lat', 'long', 'sqft_living15',\n",
       "       'sqft_lot15'],\n",
       "      dtype='object')..."
      ],
      "text/plain": [
       "<IPython.core.display.HTML object>"
      ]
     },
     "metadata": {},
     "output_type": "display_data"
    },
    {
     "data": {
      "text/html": [
       "All done!"
      ],
      "text/plain": [
       "<IPython.core.display.HTML object>"
      ]
     },
     "metadata": {},
     "output_type": "display_data"
    },
    {
     "data": {
      "text/html": [
       "Cross-validating ${16 \\choose 1}=16$ combinations of 1 features (out of 16) over 5 folds..."
      ],
      "text/plain": [
       "<IPython.core.display.HTML object>"
      ]
     },
     "metadata": {},
     "output_type": "display_data"
    },
    {
     "name": "stdout",
     "output_type": "stream",
     "text": [
      "new best condition_no__and__pvals__and__rsquared__and__rsquared_adj__and__rmse__and__delta_rmse score: (14.516798836349924, 0.12311182347249565, 0.1230610647053721, [0.0], 0.10735813873894966, 0.0023690620909719794), from feature-set combo: ['bedrooms']\n",
      "new best condition_no__and__pvals__and__rsquared__and__rsquared_adj__and__rmse__and__delta_rmse score: (7.7664537069252475, 0.30379232018393015, 0.30375202012537217, [0.0], 0.0956595703215563, 0.001763832830605852), from feature-set combo: ['bathrooms']\n",
      "new best condition_no__and__pvals__and__rsquared__and__rsquared_adj__and__rmse__and__delta_rmse score: (10.26365157412231, 0.4552909082419676, 0.45525937769767, [0.0], 0.08461399766273019, 0.001682632138358503), from feature-set combo: ['sqft_living']\n",
      "new best condition_no__and__pvals__and__rsquared__and__rsquared_adj__and__rmse__and__delta_rmse score: (52.01301654029119, 0.4951766976660979, 0.49514747591718755, [0.0], 0.08145720304709997, 0.0021754913043353337), from feature-set combo: ['grade']\n"
     ]
    },
    {
     "data": {
      "text/html": [
       "Cross-validating ${16 \\choose 2}=120$ combinations of 2 features (out of 16) over 5 folds..."
      ],
      "text/plain": [
       "<IPython.core.display.HTML object>"
      ]
     },
     "metadata": {},
     "output_type": "display_data"
    },
    {
     "name": "stdout",
     "output_type": "stream",
     "text": [
      "new best condition_no__and__pvals__and__rsquared__and__rsquared_adj__and__rmse__and__delta_rmse score: (57.98753239976308, 0.5052002296415538, 0.5051429432544287, [2.225378772823969e-70, 0.0], 0.0806443994850455, 0.0023243940681708457), from feature-set combo: ['bedrooms', 'grade']\n",
      "new best condition_no__and__pvals__and__rsquared__and__rsquared_adj__and__rmse__and__delta_rmse score: (57.09565056934658, 0.507497812730705, 0.5074407923491125, [1.1345106193345562e-87, 0.0], 0.08045697028350193, 0.0021161489980030175), from feature-set combo: ['bathrooms', 'grade']\n",
      "new best condition_no__and__pvals__and__rsquared__and__rsquared_adj__and__rmse__and__delta_rmse score: (100.46148667536445, 0.5466941558612655, 0.5466416735126044, [0.0, 0.0], 0.0771886568815063, 0.0024168409032044786), from feature-set combo: ['sqft_living', 'grade']\n",
      "new best condition_no__and__pvals__and__rsquared__and__rsquared_adj__and__rmse__and__delta_rmse score: (12.043945444969772, 0.6342252653680881, 0.6341829171023508, [0.0, 0.0], 0.06933718283565424, 0.002123134919138131), from feature-set combo: ['sqft_living', 'lat']\n"
     ]
    },
    {
     "data": {
      "text/html": [
       "Cross-validating ${16 \\choose 3}=560$ combinations of 3 features (out of 16) over 5 folds..."
      ],
      "text/plain": [
       "<IPython.core.display.HTML object>"
      ]
     },
     "metadata": {},
     "output_type": "display_data"
    },
    {
     "name": "stdout",
     "output_type": "stream",
     "text": [
      "new best condition_no__and__pvals__and__rsquared__and__rsquared_adj__and__rmse__and__delta_rmse score: (41.66067633294108, 0.6411545677132959, 0.6410922450875747, [4.700659951473816e-68, 0.0, 0.0], 0.06867718518067503, 0.0022023153420867164), from feature-set combo: ['bedrooms', 'sqft_living', 'lat']\n",
      "new best condition_no__and__pvals__and__rsquared__and__rsquared_adj__and__rmse__and__delta_rmse score: (63.05890489847134, 0.647886263551217, 0.647825110050769, [7.471013756657249e-135, 0.0, 0.0], 0.06803031319728886, 0.0017796580224096192), from feature-set combo: ['bedrooms', 'grade', 'lat']\n",
      "new best condition_no__and__pvals__and__rsquared__and__rsquared_adj__and__rmse__and__delta_rmse score: (60.791462501294085, 0.6518374662104033, 0.6517769989334795, [5.20041959900908e-189, 0.0, 0.0], 0.06764741735891103, 0.001320954023023746), from feature-set combo: ['bathrooms', 'grade', 'lat']\n",
      "new best condition_no__and__pvals__and__rsquared__and__rsquared_adj__and__rmse__and__delta_rmse score: (12.433505800771767, 0.664314985492905, 0.6642566852607473, [0.0, 7.890955576931029e-306, 0.0], 0.06642381220181007, 0.0016296950431914398), from feature-set combo: ['sqft_living', 'view', 'lat']\n",
      "new best condition_no__and__pvals__and__rsquared__and__rsquared_adj__and__rmse__and__delta_rmse score: (100.91414753517249, 0.6970922911815054, 0.6970396835629048, [0.0, 0.0, 0.0], 0.06309748107130446, 0.0022482294544574886), from feature-set combo: ['sqft_living', 'grade', 'lat']\n"
     ]
    },
    {
     "data": {
      "text/html": [
       "Cross-validating ${16 \\choose 4}=1820$ combinations of 4 features (out of 16) over 5 folds..."
      ],
      "text/plain": [
       "<IPython.core.display.HTML object>"
      ]
     },
     "metadata": {},
     "output_type": "display_data"
    },
    {
     "name": "stdout",
     "output_type": "stream",
     "text": [
      "new best condition_no__and__pvals__and__rsquared__and__rsquared_adj__and__rmse__and__delta_rmse score: (137.23779671684446, 0.698158077439903, 0.6980881767031601, [1.6132120718959505e-14, 0.0, 0.0, 0.0], 0.0629863446899813, 0.0022582492082219283), from feature-set combo: ['bedrooms', 'sqft_living', 'grade', 'lat']\n",
      "new best condition_no__and__pvals__and__rsquared__and__rsquared_adj__and__rmse__and__delta_rmse score: (61.57184807493868, 0.7080693276956656, 0.7080017222035924, [0.0, 0.0, 0.0, 0.0], 0.061944171314479754, 0.0013053672974450356), from feature-set combo: ['bathrooms', 'grade', 'yr_built', 'lat']\n",
      "new best condition_no__and__pvals__and__rsquared__and__rsquared_adj__and__rmse__and__delta_rmse score: (101.20289774714703, 0.7102673276292552, 0.7102002311558102, [0.0, 9.698227872106209e-147, 0.0, 0.0], 0.061709739580676624, 0.0022404467541191518), from feature-set combo: ['sqft_living', 'waterfront', 'grade', 'lat']\n",
      "new best condition_no__and__pvals__and__rsquared__and__rsquared_adj__and__rmse__and__delta_rmse score: (101.28237466629623, 0.7199780094103951, 0.7199131617460035, [0.0, 2.3070594573786265e-281, 0.0, 0.0], 0.060666687508889636, 0.0020752204535389685), from feature-set combo: ['sqft_living', 'view', 'grade', 'lat']\n",
      "new best condition_no__and__pvals__and__rsquared__and__rsquared_adj__and__rmse__and__delta_rmse score: (101.25712083182262, 0.7323112838668063, 0.7322492923451527, [0.0, 0.0, 0.0, 0.0], 0.05931658064081171, 0.001437616353294305), from feature-set combo: ['sqft_living', 'grade', 'yr_built', 'lat']\n"
     ]
    },
    {
     "data": {
      "text/html": [
       "Cross-validating ${16 \\choose 5}=4368$ combinations of 5 features (out of 16) over 5 folds..."
      ],
      "text/plain": [
       "<IPython.core.display.HTML object>"
      ]
     },
     "metadata": {},
     "output_type": "display_data"
    },
    {
     "name": "stdout",
     "output_type": "stream",
     "text": [
      "new best condition_no__and__pvals__and__rsquared__and__rsquared_adj__and__rmse__and__delta_rmse score: (137.67371625928996, 0.7337878163229927, 0.7337107498797429, [5.799644964963295e-22, 0.0, 0.0, 0.0, 0.0], 0.059152734818759226, 0.0014366024120415321), from feature-set combo: ['bedrooms', 'sqft_living', 'grade', 'yr_built', 'lat']\n",
      "new best condition_no__and__pvals__and__rsquared__and__rsquared_adj__and__rmse__and__delta_rmse score: (125.86261488668917, 0.7376360609982167, 0.7375601085936545, [1.3909367958072582e-73, 0.0, 0.0, 0.0, 0.0], 0.05872361467331757, 0.0015212956269426258), from feature-set combo: ['bathrooms', 'sqft_living', 'grade', 'yr_built', 'lat']\n",
      "new best condition_no__and__pvals__and__rsquared__and__rsquared_adj__and__rmse__and__delta_rmse score: (101.60176222040099, 0.7424752012384317, 0.7424006497235582, [0.0, 3.280113183971157e-124, 0.0, 0.0, 0.0], 0.058179347931553604, 0.0012393970015712615), from feature-set combo: ['sqft_living', 'waterfront', 'grade', 'yr_built', 'lat']\n",
      "new best condition_no__and__pvals__and__rsquared__and__rsquared_adj__and__rmse__and__delta_rmse score: (101.6665485538108, 0.7455791390572543, 0.7455054861128083, [0.0, 3.302006071730361e-180, 0.0, 0.0, 0.0], 0.057827597400044596, 0.0011391006450805403), from feature-set combo: ['sqft_living', 'view', 'grade', 'yr_built', 'lat']\n"
     ]
    },
    {
     "data": {
      "text/html": [
       "Cross-validating ${16 \\choose 6}=8008$ combinations of 6 features (out of 16) over 5 folds..."
      ],
      "text/plain": [
       "<IPython.core.display.HTML object>"
      ]
     },
     "metadata": {},
     "output_type": "display_data"
    },
    {
     "name": "stdout",
     "output_type": "stream",
     "text": [
      "new best condition_no__and__pvals__and__rsquared__and__rsquared_adj__and__rmse__and__delta_rmse score: (138.64200746347646, 0.746403443541446, 0.7463153412631977, [1.3751124571831085e-13, 0.0, 2.0265977623151263e-172, 0.0, 0.0, 0.0], 0.057733838344944464, 0.0011392825944469235), from feature-set combo: ['bedrooms', 'sqft_living', 'view', 'grade', 'yr_built', 'lat']\n",
      "new best condition_no__and__pvals__and__rsquared__and__rsquared_adj__and__rmse__and__delta_rmse score: (125.87146024864833, 0.7474412597203959, 0.7473535179881973, [3.814486931398599e-71, 0.0, 1.8897040429925263e-123, 0.0, 0.0, 0.0], 0.05761557506250501, 0.001317581619008748), from feature-set combo: ['bathrooms', 'sqft_living', 'waterfront', 'grade', 'yr_built', 'lat']\n",
      "new best condition_no__and__pvals__and__rsquared__and__rsquared_adj__and__rmse__and__delta_rmse score: (126.04663025712868, 0.7501658741502555, 0.750079078983401, [7.016680447065722e-67, 0.0, 1.4147763654086642e-172, 0.0, 0.0, 0.0], 0.05730393213518091, 0.001205828151951889), from feature-set combo: ['bathrooms', 'sqft_living', 'view', 'grade', 'yr_built', 'lat']\n",
      "new best condition_no__and__pvals__and__rsquared__and__rsquared_adj__and__rmse__and__delta_rmse score: (102.08061393791954, 0.7514939256921472, 0.7514075919000579, [0.0, 1.499932387756723e-73, 8.019592966300709e-124, 0.0, 0.0, 0.0], 0.05715135867358018, 0.0011050669746758544), from feature-set combo: ['sqft_living', 'waterfront', 'view', 'grade', 'yr_built', 'lat']\n"
     ]
    },
    {
     "data": {
      "text/html": [
       "Cross-validating ${16 \\choose 7}=11440$ combinations of 7 features (out of 16) over 5 folds..."
      ],
      "text/plain": [
       "<IPython.core.display.HTML object>"
      ]
     },
     "metadata": {},
     "output_type": "display_data"
    },
    {
     "name": "stdout",
     "output_type": "stream",
     "text": [
      "new best condition_no__and__pvals__and__rsquared__and__rsquared_adj__and__rmse__and__delta_rmse score: (154.66257983653026, 0.7517942140335344, 0.7516936071676749, [8.443802130039241e-26, 6.450370127991406e-79, 0.0, 4.369267216976973e-161, 0.0, 0.0, 0.0], 0.05711688208018899, 0.0012190237016083613), from feature-set combo: ['bedrooms', 'bathrooms', 'sqft_living', 'view', 'grade', 'yr_built', 'lat']\n",
      "new best condition_no__and__pvals__and__rsquared__and__rsquared_adj__and__rmse__and__delta_rmse score: (138.78313984717425, 0.7521238795180397, 0.7520234062716296, [4.21565198966968e-11, 0.0, 2.041099468786504e-71, 4.2267534582794796e-119, 0.0, 0.0, 0.0], 0.05707887172964983, 0.0011043075186032716), from feature-set combo: ['bedrooms', 'sqft_living', 'waterfront', 'view', 'grade', 'yr_built', 'lat']\n",
      "new best condition_no__and__pvals__and__rsquared__and__rsquared_adj__and__rmse__and__delta_rmse score: (126.06404826006899, 0.7559256925176412, 0.7558267602863702, [5.336599246748799e-66, 0.0, 7.388868262286788e-74, 2.2760556280124155e-118, 0.0, 0.0, 0.0], 0.05663939595319558, 0.001166337536939653), from feature-set combo: ['bathrooms', 'sqft_living', 'waterfront', 'view', 'grade', 'yr_built', 'lat']\n",
      "new best condition_no__and__pvals__and__rsquared__and__rsquared_adj__and__rmse__and__delta_rmse score: (134.86769252865835, 0.7560650548518683, 0.7559661791025958, [0.0, 7.665457270659663e-76, 1.1759146318130184e-106, 0.0, 0.0, 0.0, 8.490848418799937e-63], 0.05662313572339848, 0.0005490308356818033), from feature-set combo: ['sqft_living', 'waterfront', 'view', 'grade', 'yr_built', 'lat', 'sqft_living15']\n"
     ]
    },
    {
     "data": {
      "text/html": [
       "Cross-validating ${16 \\choose 8}=12870$ combinations of 8 features (out of 16) over 5 folds..."
      ],
      "text/plain": [
       "<IPython.core.display.HTML object>"
      ]
     },
     "metadata": {},
     "output_type": "display_data"
    },
    {
     "name": "stdout",
     "output_type": "stream",
     "text": [
      "new best condition_no__and__pvals__and__rsquared__and__rsquared_adj__and__rmse__and__delta_rmse score: (154.71303272720363, 0.7572629053654737, 0.7571504528997128, [3.13411506103201e-22, 8.751853991362983e-77, 0.0, 9.531991070039705e-71, 4.20279255697123e-111, 0.0, 0.0, 0.0], 0.05648402858016971, 0.0011687204167904557), from feature-set combo: ['bedrooms', 'bathrooms', 'sqft_living', 'waterfront', 'view', 'grade', 'yr_built', 'lat']\n",
      "new best condition_no__and__pvals__and__rsquared__and__rsquared_adj__and__rmse__and__delta_rmse score: (157.42608975900413, 0.7574752995043024, 0.7573629454345887, [1.5021176294413514e-58, 6.165099837416362e-191, 1.0446662962107443e-25, 6.861571752842843e-156, 0.0, 0.0, 0.0, 1.3043067271728233e-84], 0.05645943796763555, 0.0008800549155397464), from feature-set combo: ['bathrooms', 'sqft_living', 'floors', 'view', 'grade', 'yr_built', 'lat', 'sqft_living15']\n",
      "new best condition_no__and__pvals__and__rsquared__and__rsquared_adj__and__rmse__and__delta_rmse score: (154.78080128074552, 0.7613549805452184, 0.7612444238034375, [2.9587586119170187e-81, 3.92458370828596e-193, 1.7508271938733086e-76, 3.0677828693654214e-99, 0.0, 0.0, 0.0, 1.4200523795562041e-77], 0.05600579383479888, 0.0006342424751123163), from feature-set combo: ['bathrooms', 'sqft_living', 'waterfront', 'view', 'grade', 'yr_built', 'lat', 'sqft_living15']\n"
     ]
    },
    {
     "data": {
      "text/html": [
       "Cross-validating ${16 \\choose 9}=11440$ combinations of 9 features (out of 16) over 5 folds..."
      ],
      "text/plain": [
       "<IPython.core.display.HTML object>"
      ]
     },
     "metadata": {},
     "output_type": "display_data"
    },
    {
     "name": "stdout",
     "output_type": "stream",
     "text": [
      "new best condition_no__and__pvals__and__rsquared__and__rsquared_adj__and__rmse__and__delta_rmse score: (181.31326432447005, 0.7625311558861878, 0.7624073853804372, [1.2953235426416246e-19, 1.1131874754151238e-91, 1.1930958785123146e-205, 2.071767491291052e-73, 2.6482464177724196e-93, 0.0, 0.0, 0.0, 2.1395934772329778e-75], 0.055867614721845385, 0.0006524164241193661), from feature-set combo: ['bedrooms', 'bathrooms', 'sqft_living', 'waterfront', 'view', 'grade', 'yr_built', 'lat', 'sqft_living15']\n",
      "new best condition_no__and__pvals__and__rsquared__and__rsquared_adj__and__rmse__and__delta_rmse score: (157.43079541069307, 0.7632160072488134, 0.7630925936934354, [3.054787290718581e-59, 5.387175823485493e-195, 1.3046224317262946e-25, 7.109646641342286e-76, 1.270973920633797e-104, 0.0, 0.0, 0.0, 3.6893703989283594e-87], 0.05578707687843587, 0.0007458763456777192), from feature-set combo: ['bathrooms', 'sqft_living', 'floors', 'waterfront', 'view', 'grade', 'yr_built', 'lat', 'sqft_living15']\n"
     ]
    },
    {
     "data": {
      "text/html": [
       "Cross-validating ${16 \\choose 10}=8008$ combinations of 10 features (out of 16) over 5 folds..."
      ],
      "text/plain": [
       "<IPython.core.display.HTML object>"
      ]
     },
     "metadata": {},
     "output_type": "display_data"
    },
    {
     "name": "stdout",
     "output_type": "stream",
     "text": [
      "new best condition_no__and__pvals__and__rsquared__and__rsquared_adj__and__rmse__and__delta_rmse score: (183.68930349952478, 0.7637349718062503, 0.7635981382537799, [4.135609363930381e-20, 4.558506853814536e-76, 2.022538130818618e-215, 2.2944271144235737e-12, 1.172006597232605e-76, 2.136223488668226e-92, 0.0, 0.0, 0.0, 3.091413678452504e-90], 0.055725916009357467, 0.0007950246191296112), from feature-set combo: ['bedrooms', 'bathrooms', 'sqft_living', 'sqft_lot', 'waterfront', 'view', 'grade', 'yr_built', 'lat', 'sqft_living15']\n",
      "new best condition_no__and__pvals__and__rsquared__and__rsquared_adj__and__rmse__and__delta_rmse score: (183.98126729251044, 0.7642742859987065, 0.764137764789662, [5.816714092072895e-18, 1.1733760408664093e-68, 5.87021838028278e-205, 5.5908163381847105e-24, 5.530376044833152e-73, 1.2999156559145327e-98, 0.0, 0.0, 0.0, 1.0014779025768371e-84], 0.055662265762292426, 0.0007526442609773906), from feature-set combo: ['bedrooms', 'bathrooms', 'sqft_living', 'floors', 'waterfront', 'view', 'grade', 'yr_built', 'lat', 'sqft_living15']\n"
     ]
    },
    {
     "data": {
      "text/html": [
       "Cross-validating ${16 \\choose 11}=4368$ combinations of 11 features (out of 16) over 5 folds..."
      ],
      "text/plain": [
       "<IPython.core.display.HTML object>"
      ]
     },
     "metadata": {},
     "output_type": "display_data"
    },
    {
     "name": "stdout",
     "output_type": "stream",
     "text": [
      "new best condition_no__and__pvals__and__rsquared__and__rsquared_adj__and__rmse__and__delta_rmse score: (186.9982849178082, 0.7647531557181718, 0.7646032787824586, [1.847715604315669e-18, 6.465060754977558e-63, 7.06924053396547e-208, 7.558075305985943e-06, 3.0965104944181793e-17, 3.129237872262493e-75, 7.486270104509158e-97, 0.0, 0.0, 0.0, 4.782810891369932e-92], 0.0556057343172771, 0.0008210111487960983), from feature-set combo: ['bedrooms', 'bathrooms', 'sqft_living', 'sqft_lot', 'floors', 'waterfront', 'view', 'grade', 'yr_built', 'lat', 'sqft_living15']\n",
      "new best condition_no__and__pvals__and__rsquared__and__rsquared_adj__and__rmse__and__delta_rmse score: (185.40145196758613, 0.7651370274962686, 0.764987395127229, [7.933296319563584e-19, 3.799524802750112e-61, 5.523198136358365e-214, 4.003805469711374e-15, 7.180138768486759e-77, 4.987731181030075e-96, 0.0, 0.0, 0.0, 1.0222032887692293e-96, 4.380256641455704e-12], 0.05556035748825154, 0.0008251414336973795), from feature-set combo: ['bedrooms', 'bathrooms', 'sqft_living', 'floors', 'waterfront', 'view', 'grade', 'yr_built', 'lat', 'sqft_living15', 'sqft_lot15']\n"
     ]
    },
    {
     "data": {
      "text/html": [
       "Cross-validating ${16 \\choose 12}=1820$ combinations of 12 features (out of 16) over 5 folds..."
      ],
      "text/plain": [
       "<IPython.core.display.HTML object>"
      ]
     },
     "metadata": {},
     "output_type": "display_data"
    },
    {
     "name": "stdout",
     "output_type": "stream",
     "text": [
      "new best condition_no__and__pvals__and__rsquared__and__rsquared_adj__and__rmse__and__delta_rmse score: (285.52360531672605, 0.7652272637483039, 0.7650640817010634, [8.79609006606104e-19, 1.7413573507392977e-61, 4.896574604913669e-205, 0.04815221889633625, 5.629317027750429e-16, 3.998046280727619e-77, 5.04561072850869e-96, 0.0, 0.0, 0.0, 4.674850959854335e-97, 1.3630371782935617e-07], 0.05554967477992993, 0.0007949519992894478), from feature-set combo: ['bedrooms', 'bathrooms', 'sqft_living', 'sqft_lot', 'floors', 'waterfront', 'view', 'grade', 'yr_built', 'lat', 'sqft_living15', 'sqft_lot15']\n",
      "new best condition_no__and__pvals__and__rsquared__and__rsquared_adj__and__rmse__and__delta_rmse score: (461.20115517141255, 0.765292676700557, 0.7651295401195639, [1.3188241261018225e-19, 4.111977440513211e-67, 1.222126846513235e-17, 6.060732698733255e-79, 7.902249240148562e-93, 0.0, 4.1565264818528754e-17, 3.3080132501927775e-10, 0.0, 0.0, 1.2156250084714376e-90, 1.4915361498600895e-21], 0.05554193229563402, 0.0007925539773116164), from feature-set combo: ['bedrooms', 'bathrooms', 'sqft_living', 'waterfront', 'view', 'grade', 'sqft_above', 'sqft_basement', 'yr_built', 'lat', 'sqft_living15', 'sqft_lot15']\n"
     ]
    },
    {
     "data": {
      "text/html": [
       "Cross-validating ${16 \\choose 13}=560$ combinations of 13 features (out of 16) over 5 folds..."
      ],
      "text/plain": [
       "<IPython.core.display.HTML object>"
      ]
     },
     "metadata": {},
     "output_type": "display_data"
    },
    {
     "name": "stdout",
     "output_type": "stream",
     "text": [
      "new best condition_no__and__pvals__and__rsquared__and__rsquared_adj__and__rmse__and__delta_rmse score: (476.63744538096125, 0.7654356207323681, 0.765258986841155, [8.393253914243647e-18, 6.848213100972973e-57, 1.7457026838513015e-19, 2.1987142611737296e-06, 1.9836708879571287e-09, 9.09972847695147e-76, 1.7402326331511255e-92, 0.0, 7.584795841767128e-11, 7.49183437235935e-11, 0.0, 0.0, 3.932784113859868e-90], 0.055525022617550046, 0.0008451098880108935), from feature-set combo: ['bedrooms', 'bathrooms', 'sqft_living', 'sqft_lot', 'floors', 'waterfront', 'view', 'grade', 'sqft_above', 'sqft_basement', 'yr_built', 'lat', 'sqft_living15']\n",
      "new best condition_no__and__pvals__and__rsquared__and__rsquared_adj__and__rmse__and__delta_rmse score: (476.63621084429815, 0.7658067185713572, 0.765630364127642, [3.100193399099695e-18, 1.05376122252014e-55, 8.613192266395568e-20, 1.4361937143316239e-07, 2.0797040280059536e-77, 3.80446819037365e-92, 0.0, 5.302983717621473e-11, 2.0467694082688529e-10, 0.0, 0.0, 1.9986326276395187e-94, 7.529584719595403e-13], 0.055481092220545834, 0.0008422452672753406), from feature-set combo: ['bedrooms', 'bathrooms', 'sqft_living', 'floors', 'waterfront', 'view', 'grade', 'sqft_above', 'sqft_basement', 'yr_built', 'lat', 'sqft_living15', 'sqft_lot15']\n"
     ]
    },
    {
     "data": {
      "text/html": [
       "Cross-validating ${16 \\choose 14}=120$ combinations of 14 features (out of 16) over 5 folds..."
      ],
      "text/plain": [
       "<IPython.core.display.HTML object>"
      ]
     },
     "metadata": {},
     "output_type": "display_data"
    },
    {
     "data": {
      "text/html": [
       "Cross-validating ${16 \\choose 15}=16$ combinations of 15 features (out of 16) over 5 folds..."
      ],
      "text/plain": [
       "<IPython.core.display.HTML object>"
      ]
     },
     "metadata": {},
     "output_type": "display_data"
    },
    {
     "data": {
      "text/html": [
       "Cross-validating ${16 \\choose 16}=1$ combinations of 16 features (out of 16) over 5 folds..."
      ],
      "text/plain": [
       "<IPython.core.display.HTML object>"
      ]
     },
     "metadata": {},
     "output_type": "display_data"
    },
    {
     "data": {
      "text/html": [
       "<table border=\"1\" class=\"dataframe\">\n",
       "  <thead>\n",
       "    <tr style=\"text-align: right;\">\n",
       "      <th></th>\n",
       "      <th>n_features</th>\n",
       "      <th>features</th>\n",
       "      <th>condition_no</th>\n",
       "      <th>rsquared</th>\n",
       "      <th>rsquared_adj</th>\n",
       "      <th>pvals</th>\n",
       "      <th>rmse</th>\n",
       "      <th>delta_rmse</th>\n",
       "    </tr>\n",
       "  </thead>\n",
       "  <tbody>\n",
       "    <tr>\n",
       "      <th>0</th>\n",
       "      <td>1</td>\n",
       "      <td>[bedrooms]</td>\n",
       "      <td>14.516799</td>\n",
       "      <td>0.123112</td>\n",
       "      <td>0.123061</td>\n",
       "      <td>[0.0]</td>\n",
       "      <td>0.107358</td>\n",
       "      <td>0.002369</td>\n",
       "    </tr>\n",
       "    <tr>\n",
       "      <th>1</th>\n",
       "      <td>1</td>\n",
       "      <td>[bathrooms]</td>\n",
       "      <td>7.766454</td>\n",
       "      <td>0.303792</td>\n",
       "      <td>0.303752</td>\n",
       "      <td>[0.0]</td>\n",
       "      <td>0.095660</td>\n",
       "      <td>0.001764</td>\n",
       "    </tr>\n",
       "    <tr>\n",
       "      <th>2</th>\n",
       "      <td>1</td>\n",
       "      <td>[sqft_living]</td>\n",
       "      <td>10.263652</td>\n",
       "      <td>0.455291</td>\n",
       "      <td>0.455259</td>\n",
       "      <td>[0.0]</td>\n",
       "      <td>0.084614</td>\n",
       "      <td>0.001683</td>\n",
       "    </tr>\n",
       "    <tr>\n",
       "      <th>3</th>\n",
       "      <td>1</td>\n",
       "      <td>[grade]</td>\n",
       "      <td>52.013017</td>\n",
       "      <td>0.495177</td>\n",
       "      <td>0.495147</td>\n",
       "      <td>[0.0]</td>\n",
       "      <td>0.081457</td>\n",
       "      <td>0.002175</td>\n",
       "    </tr>\n",
       "    <tr>\n",
       "      <th>4</th>\n",
       "      <td>2</td>\n",
       "      <td>[bedrooms, grade]</td>\n",
       "      <td>57.987532</td>\n",
       "      <td>0.505200</td>\n",
       "      <td>0.505143</td>\n",
       "      <td>[2.225378772823969e-70, 0.0]</td>\n",
       "      <td>0.080644</td>\n",
       "      <td>0.002324</td>\n",
       "    </tr>\n",
       "    <tr>\n",
       "      <th>5</th>\n",
       "      <td>2</td>\n",
       "      <td>[bathrooms, grade]</td>\n",
       "      <td>57.095651</td>\n",
       "      <td>0.507498</td>\n",
       "      <td>0.507441</td>\n",
       "      <td>[1.1345106193345562e-87, 0.0]</td>\n",
       "      <td>0.080457</td>\n",
       "      <td>0.002116</td>\n",
       "    </tr>\n",
       "    <tr>\n",
       "      <th>6</th>\n",
       "      <td>2</td>\n",
       "      <td>[sqft_living, grade]</td>\n",
       "      <td>100.461487</td>\n",
       "      <td>0.546694</td>\n",
       "      <td>0.546642</td>\n",
       "      <td>[0.0, 0.0]</td>\n",
       "      <td>0.077189</td>\n",
       "      <td>0.002417</td>\n",
       "    </tr>\n",
       "    <tr>\n",
       "      <th>7</th>\n",
       "      <td>2</td>\n",
       "      <td>[sqft_living, lat]</td>\n",
       "      <td>12.043945</td>\n",
       "      <td>0.634225</td>\n",
       "      <td>0.634183</td>\n",
       "      <td>[0.0, 0.0]</td>\n",
       "      <td>0.069337</td>\n",
       "      <td>0.002123</td>\n",
       "    </tr>\n",
       "    <tr>\n",
       "      <th>8</th>\n",
       "      <td>3</td>\n",
       "      <td>[bedrooms, sqft_living, lat]</td>\n",
       "      <td>41.660676</td>\n",
       "      <td>0.641155</td>\n",
       "      <td>0.641092</td>\n",
       "      <td>[4.700659951473816e-68, 0.0, 0.0]</td>\n",
       "      <td>0.068677</td>\n",
       "      <td>0.002202</td>\n",
       "    </tr>\n",
       "    <tr>\n",
       "      <th>9</th>\n",
       "      <td>3</td>\n",
       "      <td>[bedrooms, grade, lat]</td>\n",
       "      <td>63.058905</td>\n",
       "      <td>0.647886</td>\n",
       "      <td>0.647825</td>\n",
       "      <td>[7.471013756657249e-135, 0.0, 0.0]</td>\n",
       "      <td>0.068030</td>\n",
       "      <td>0.001780</td>\n",
       "    </tr>\n",
       "    <tr>\n",
       "      <th>10</th>\n",
       "      <td>3</td>\n",
       "      <td>[bathrooms, grade, lat]</td>\n",
       "      <td>60.791463</td>\n",
       "      <td>0.651837</td>\n",
       "      <td>0.651777</td>\n",
       "      <td>[5.20041959900908e-189, 0.0, 0.0]</td>\n",
       "      <td>0.067647</td>\n",
       "      <td>0.001321</td>\n",
       "    </tr>\n",
       "    <tr>\n",
       "      <th>11</th>\n",
       "      <td>3</td>\n",
       "      <td>[sqft_living, view, lat]</td>\n",
       "      <td>12.433506</td>\n",
       "      <td>0.664315</td>\n",
       "      <td>0.664257</td>\n",
       "      <td>[0.0, 7.890955576931029e-306, 0.0]</td>\n",
       "      <td>0.066424</td>\n",
       "      <td>0.001630</td>\n",
       "    </tr>\n",
       "    <tr>\n",
       "      <th>12</th>\n",
       "      <td>3</td>\n",
       "      <td>[sqft_living, grade, lat]</td>\n",
       "      <td>100.914148</td>\n",
       "      <td>0.697092</td>\n",
       "      <td>0.697040</td>\n",
       "      <td>[0.0, 0.0, 0.0]</td>\n",
       "      <td>0.063097</td>\n",
       "      <td>0.002248</td>\n",
       "    </tr>\n",
       "    <tr>\n",
       "      <th>13</th>\n",
       "      <td>4</td>\n",
       "      <td>[bedrooms, sqft_living, grade, lat]</td>\n",
       "      <td>137.237797</td>\n",
       "      <td>0.698158</td>\n",
       "      <td>0.698088</td>\n",
       "      <td>[1.6132120718959505e-14, 0.0, 0.0, 0.0]</td>\n",
       "      <td>0.062986</td>\n",
       "      <td>0.002258</td>\n",
       "    </tr>\n",
       "    <tr>\n",
       "      <th>14</th>\n",
       "      <td>4</td>\n",
       "      <td>[bathrooms, grade, yr_built, lat]</td>\n",
       "      <td>61.571848</td>\n",
       "      <td>0.708069</td>\n",
       "      <td>0.708002</td>\n",
       "      <td>[0.0, 0.0, 0.0, 0.0]</td>\n",
       "      <td>0.061944</td>\n",
       "      <td>0.001305</td>\n",
       "    </tr>\n",
       "    <tr>\n",
       "      <th>15</th>\n",
       "      <td>4</td>\n",
       "      <td>[sqft_living, waterfront, grade, lat]</td>\n",
       "      <td>101.202898</td>\n",
       "      <td>0.710267</td>\n",
       "      <td>0.710200</td>\n",
       "      <td>[0.0, 9.698227872106209e-147, 0.0, 0.0]</td>\n",
       "      <td>0.061710</td>\n",
       "      <td>0.002240</td>\n",
       "    </tr>\n",
       "    <tr>\n",
       "      <th>16</th>\n",
       "      <td>4</td>\n",
       "      <td>[sqft_living, view, grade, lat]</td>\n",
       "      <td>101.282375</td>\n",
       "      <td>0.719978</td>\n",
       "      <td>0.719913</td>\n",
       "      <td>[0.0, 2.3070594573786265e-281, 0.0, 0.0]</td>\n",
       "      <td>0.060667</td>\n",
       "      <td>0.002075</td>\n",
       "    </tr>\n",
       "    <tr>\n",
       "      <th>17</th>\n",
       "      <td>4</td>\n",
       "      <td>[sqft_living, grade, yr_built, lat]</td>\n",
       "      <td>101.257121</td>\n",
       "      <td>0.732311</td>\n",
       "      <td>0.732249</td>\n",
       "      <td>[0.0, 0.0, 0.0, 0.0]</td>\n",
       "      <td>0.059317</td>\n",
       "      <td>0.001438</td>\n",
       "    </tr>\n",
       "    <tr>\n",
       "      <th>18</th>\n",
       "      <td>5</td>\n",
       "      <td>[bedrooms, sqft_living, grade, yr_built, lat]</td>\n",
       "      <td>137.673716</td>\n",
       "      <td>0.733788</td>\n",
       "      <td>0.733711</td>\n",
       "      <td>[5.799644964963295e-22, 0.0, 0.0, 0.0, 0.0]</td>\n",
       "      <td>0.059153</td>\n",
       "      <td>0.001437</td>\n",
       "    </tr>\n",
       "    <tr>\n",
       "      <th>19</th>\n",
       "      <td>5</td>\n",
       "      <td>[bathrooms, sqft_living, grade, yr_built, lat]</td>\n",
       "      <td>125.862615</td>\n",
       "      <td>0.737636</td>\n",
       "      <td>0.737560</td>\n",
       "      <td>[1.3909367958072582e-73, 0.0, 0.0, 0.0, 0.0]</td>\n",
       "      <td>0.058724</td>\n",
       "      <td>0.001521</td>\n",
       "    </tr>\n",
       "    <tr>\n",
       "      <th>20</th>\n",
       "      <td>5</td>\n",
       "      <td>[sqft_living, waterfront, grade, yr_built, lat]</td>\n",
       "      <td>101.601762</td>\n",
       "      <td>0.742475</td>\n",
       "      <td>0.742401</td>\n",
       "      <td>[0.0, 3.280113183971157e-124, 0.0, 0.0, 0.0]</td>\n",
       "      <td>0.058179</td>\n",
       "      <td>0.001239</td>\n",
       "    </tr>\n",
       "    <tr>\n",
       "      <th>21</th>\n",
       "      <td>5</td>\n",
       "      <td>[sqft_living, view, grade, yr_built, lat]</td>\n",
       "      <td>101.666549</td>\n",
       "      <td>0.745579</td>\n",
       "      <td>0.745505</td>\n",
       "      <td>[0.0, 3.302006071730361e-180, 0.0, 0.0, 0.0]</td>\n",
       "      <td>0.057828</td>\n",
       "      <td>0.001139</td>\n",
       "    </tr>\n",
       "    <tr>\n",
       "      <th>22</th>\n",
       "      <td>6</td>\n",
       "      <td>[bedrooms, sqft_living, view, grade, yr_built, lat]</td>\n",
       "      <td>138.642007</td>\n",
       "      <td>0.746403</td>\n",
       "      <td>0.746315</td>\n",
       "      <td>[1.3751124571831085e-13, 0.0, 2.0265977623151263e-172, 0.0, 0.0, 0.0]</td>\n",
       "      <td>0.057734</td>\n",
       "      <td>0.001139</td>\n",
       "    </tr>\n",
       "    <tr>\n",
       "      <th>23</th>\n",
       "      <td>6</td>\n",
       "      <td>[bathrooms, sqft_living, waterfront, grade, yr_built, lat]</td>\n",
       "      <td>125.871460</td>\n",
       "      <td>0.747441</td>\n",
       "      <td>0.747354</td>\n",
       "      <td>[3.814486931398599e-71, 0.0, 1.8897040429925263e-123, 0.0, 0.0, 0.0]</td>\n",
       "      <td>0.057616</td>\n",
       "      <td>0.001318</td>\n",
       "    </tr>\n",
       "    <tr>\n",
       "      <th>24</th>\n",
       "      <td>6</td>\n",
       "      <td>[bathrooms, sqft_living, view, grade, yr_built, lat]</td>\n",
       "      <td>126.046630</td>\n",
       "      <td>0.750166</td>\n",
       "      <td>0.750079</td>\n",
       "      <td>[7.016680447065722e-67, 0.0, 1.4147763654086642e-172, 0.0, 0.0, 0.0]</td>\n",
       "      <td>0.057304</td>\n",
       "      <td>0.001206</td>\n",
       "    </tr>\n",
       "    <tr>\n",
       "      <th>25</th>\n",
       "      <td>6</td>\n",
       "      <td>[sqft_living, waterfront, view, grade, yr_built, lat]</td>\n",
       "      <td>102.080614</td>\n",
       "      <td>0.751494</td>\n",
       "      <td>0.751408</td>\n",
       "      <td>[0.0, 1.499932387756723e-73, 8.019592966300709e-124, 0.0, 0.0, 0.0]</td>\n",
       "      <td>0.057151</td>\n",
       "      <td>0.001105</td>\n",
       "    </tr>\n",
       "    <tr>\n",
       "      <th>26</th>\n",
       "      <td>7</td>\n",
       "      <td>[bedrooms, bathrooms, sqft_living, view, grade, yr_built, lat]</td>\n",
       "      <td>154.662580</td>\n",
       "      <td>0.751794</td>\n",
       "      <td>0.751694</td>\n",
       "      <td>[8.443802130039241e-26, 6.450370127991406e-79, 0.0, 4.369267216976973e-161, 0.0, 0.0, 0.0]</td>\n",
       "      <td>0.057117</td>\n",
       "      <td>0.001219</td>\n",
       "    </tr>\n",
       "    <tr>\n",
       "      <th>27</th>\n",
       "      <td>7</td>\n",
       "      <td>[bedrooms, sqft_living, waterfront, view, grade, yr_built, lat]</td>\n",
       "      <td>138.783140</td>\n",
       "      <td>0.752124</td>\n",
       "      <td>0.752023</td>\n",
       "      <td>[4.21565198966968e-11, 0.0, 2.041099468786504e-71, 4.2267534582794796e-119, 0.0, 0.0, 0.0]</td>\n",
       "      <td>0.057079</td>\n",
       "      <td>0.001104</td>\n",
       "    </tr>\n",
       "    <tr>\n",
       "      <th>28</th>\n",
       "      <td>7</td>\n",
       "      <td>[bathrooms, sqft_living, waterfront, view, grade, yr_built, lat]</td>\n",
       "      <td>126.064048</td>\n",
       "      <td>0.755926</td>\n",
       "      <td>0.755827</td>\n",
       "      <td>[5.336599246748799e-66, 0.0, 7.388868262286788e-74, 2.2760556280124155e-118, 0.0, 0.0, 0.0]</td>\n",
       "      <td>0.056639</td>\n",
       "      <td>0.001166</td>\n",
       "    </tr>\n",
       "    <tr>\n",
       "      <th>29</th>\n",
       "      <td>7</td>\n",
       "      <td>[sqft_living, waterfront, view, grade, yr_built, lat, sqft_living15]</td>\n",
       "      <td>134.867693</td>\n",
       "      <td>0.756065</td>\n",
       "      <td>0.755966</td>\n",
       "      <td>[0.0, 7.665457270659663e-76, 1.1759146318130184e-106, 0.0, 0.0, 0.0, 8.490848418799937e-63]</td>\n",
       "      <td>0.056623</td>\n",
       "      <td>0.000549</td>\n",
       "    </tr>\n",
       "    <tr>\n",
       "      <th>30</th>\n",
       "      <td>8</td>\n",
       "      <td>[bedrooms, bathrooms, sqft_living, waterfront, view, grade, yr_built, lat]</td>\n",
       "      <td>154.713033</td>\n",
       "      <td>0.757263</td>\n",
       "      <td>0.757150</td>\n",
       "      <td>[3.13411506103201e-22, 8.751853991362983e-77, 0.0, 9.531991070039705e-71, 4.20279255697123e-111, 0.0, 0.0, 0.0]</td>\n",
       "      <td>0.056484</td>\n",
       "      <td>0.001169</td>\n",
       "    </tr>\n",
       "    <tr>\n",
       "      <th>31</th>\n",
       "      <td>8</td>\n",
       "      <td>[bathrooms, sqft_living, floors, view, grade, yr_built, lat, sqft_living15]</td>\n",
       "      <td>157.426090</td>\n",
       "      <td>0.757475</td>\n",
       "      <td>0.757363</td>\n",
       "      <td>[1.5021176294413514e-58, 6.165099837416362e-191, 1.0446662962107443e-25, 6.861571752842843e-156, 0.0, 0.0, 0.0, 1.3043067271728233e-84]</td>\n",
       "      <td>0.056459</td>\n",
       "      <td>0.000880</td>\n",
       "    </tr>\n",
       "    <tr>\n",
       "      <th>32</th>\n",
       "      <td>8</td>\n",
       "      <td>[bathrooms, sqft_living, waterfront, view, grade, yr_built, lat, sqft_living15]</td>\n",
       "      <td>154.780801</td>\n",
       "      <td>0.761355</td>\n",
       "      <td>0.761244</td>\n",
       "      <td>[2.9587586119170187e-81, 3.92458370828596e-193, 1.7508271938733086e-76, 3.0677828693654214e-99, 0.0, 0.0, 0.0, 1.4200523795562041e-77]</td>\n",
       "      <td>0.056006</td>\n",
       "      <td>0.000634</td>\n",
       "    </tr>\n",
       "    <tr>\n",
       "      <th>33</th>\n",
       "      <td>9</td>\n",
       "      <td>[bedrooms, bathrooms, sqft_living, waterfront, view, grade, yr_built, lat, sqft_living15]</td>\n",
       "      <td>181.313264</td>\n",
       "      <td>0.762531</td>\n",
       "      <td>0.762407</td>\n",
       "      <td>[1.2953235426416246e-19, 1.1131874754151238e-91, 1.1930958785123146e-205, 2.071767491291052e-73, 2.6482464177724196e-93, 0.0, 0.0, 0.0, 2.1395934772329778e-75]</td>\n",
       "      <td>0.055868</td>\n",
       "      <td>0.000652</td>\n",
       "    </tr>\n",
       "    <tr>\n",
       "      <th>34</th>\n",
       "      <td>9</td>\n",
       "      <td>[bathrooms, sqft_living, floors, waterfront, view, grade, yr_built, lat, sqft_living15]</td>\n",
       "      <td>157.430795</td>\n",
       "      <td>0.763216</td>\n",
       "      <td>0.763093</td>\n",
       "      <td>[3.054787290718581e-59, 5.387175823485493e-195, 1.3046224317262946e-25, 7.109646641342286e-76, 1.270973920633797e-104, 0.0, 0.0, 0.0, 3.6893703989283594e-87]</td>\n",
       "      <td>0.055787</td>\n",
       "      <td>0.000746</td>\n",
       "    </tr>\n",
       "    <tr>\n",
       "      <th>35</th>\n",
       "      <td>10</td>\n",
       "      <td>[bedrooms, bathrooms, sqft_living, sqft_lot, waterfront, view, grade, yr_built, lat, sqft_living15]</td>\n",
       "      <td>183.689303</td>\n",
       "      <td>0.763735</td>\n",
       "      <td>0.763598</td>\n",
       "      <td>[4.135609363930381e-20, 4.558506853814536e-76, 2.022538130818618e-215, 2.2944271144235737e-12, 1.172006597232605e-76, 2.136223488668226e-92, 0.0, 0.0, 0.0, 3.091413678452504e-90]</td>\n",
       "      <td>0.055726</td>\n",
       "      <td>0.000795</td>\n",
       "    </tr>\n",
       "    <tr>\n",
       "      <th>36</th>\n",
       "      <td>10</td>\n",
       "      <td>[bedrooms, bathrooms, sqft_living, floors, waterfront, view, grade, yr_built, lat, sqft_living15]</td>\n",
       "      <td>183.981267</td>\n",
       "      <td>0.764274</td>\n",
       "      <td>0.764138</td>\n",
       "      <td>[5.816714092072895e-18, 1.1733760408664093e-68, 5.87021838028278e-205, 5.5908163381847105e-24, 5.530376044833152e-73, 1.2999156559145327e-98, 0.0, 0.0, 0.0, 1.0014779025768371e-84]</td>\n",
       "      <td>0.055662</td>\n",
       "      <td>0.000753</td>\n",
       "    </tr>\n",
       "    <tr>\n",
       "      <th>37</th>\n",
       "      <td>11</td>\n",
       "      <td>[bedrooms, bathrooms, sqft_living, sqft_lot, floors, waterfront, view, grade, yr_built, lat, sqft_living15]</td>\n",
       "      <td>186.998285</td>\n",
       "      <td>0.764753</td>\n",
       "      <td>0.764603</td>\n",
       "      <td>[1.847715604315669e-18, 6.465060754977558e-63, 7.06924053396547e-208, 7.558075305985943e-06, 3.0965104944181793e-17, 3.129237872262493e-75, 7.486270104509158e-97, 0.0, 0.0, 0.0, 4.782810891369932e-92]</td>\n",
       "      <td>0.055606</td>\n",
       "      <td>0.000821</td>\n",
       "    </tr>\n",
       "    <tr>\n",
       "      <th>38</th>\n",
       "      <td>11</td>\n",
       "      <td>[bedrooms, bathrooms, sqft_living, floors, waterfront, view, grade, yr_built, lat, sqft_living15, sqft_lot15]</td>\n",
       "      <td>185.401452</td>\n",
       "      <td>0.765137</td>\n",
       "      <td>0.764987</td>\n",
       "      <td>[7.933296319563584e-19, 3.799524802750112e-61, 5.523198136358365e-214, 4.003805469711374e-15, 7.180138768486759e-77, 4.987731181030075e-96, 0.0, 0.0, 0.0, 1.0222032887692293e-96, 4.380256641455704e-12]</td>\n",
       "      <td>0.055560</td>\n",
       "      <td>0.000825</td>\n",
       "    </tr>\n",
       "    <tr>\n",
       "      <th>39</th>\n",
       "      <td>12</td>\n",
       "      <td>[bedrooms, bathrooms, sqft_living, sqft_lot, floors, waterfront, view, grade, yr_built, lat, sqft_living15, sqft_lot15]</td>\n",
       "      <td>285.523605</td>\n",
       "      <td>0.765227</td>\n",
       "      <td>0.765064</td>\n",
       "      <td>[8.79609006606104e-19, 1.7413573507392977e-61, 4.896574604913669e-205, 0.04815221889633625, 5.629317027750429e-16, 3.998046280727619e-77, 5.04561072850869e-96, 0.0, 0.0, 0.0, 4.674850959854335e-97, 1.3630371782935617e-07]</td>\n",
       "      <td>0.055550</td>\n",
       "      <td>0.000795</td>\n",
       "    </tr>\n",
       "    <tr>\n",
       "      <th>40</th>\n",
       "      <td>12</td>\n",
       "      <td>[bedrooms, bathrooms, sqft_living, waterfront, view, grade, sqft_above, sqft_basement, yr_built, lat, sqft_living15, sqft_lot15]</td>\n",
       "      <td>461.201155</td>\n",
       "      <td>0.765293</td>\n",
       "      <td>0.765130</td>\n",
       "      <td>[1.3188241261018225e-19, 4.111977440513211e-67, 1.222126846513235e-17, 6.060732698733255e-79, 7.902249240148562e-93, 0.0, 4.1565264818528754e-17, 3.3080132501927775e-10, 0.0, 0.0, 1.2156250084714376e-90, 1.4915361498600895e-21]</td>\n",
       "      <td>0.055542</td>\n",
       "      <td>0.000793</td>\n",
       "    </tr>\n",
       "    <tr>\n",
       "      <th>41</th>\n",
       "      <td>13</td>\n",
       "      <td>[bedrooms, bathrooms, sqft_living, sqft_lot, floors, waterfront, view, grade, sqft_above, sqft_basement, yr_built, lat, sqft_living15]</td>\n",
       "      <td>476.637445</td>\n",
       "      <td>0.765436</td>\n",
       "      <td>0.765259</td>\n",
       "      <td>[8.393253914243647e-18, 6.848213100972973e-57, 1.7457026838513015e-19, 2.1987142611737296e-06, 1.9836708879571287e-09, 9.09972847695147e-76, 1.7402326331511255e-92, 0.0, 7.584795841767128e-11, 7.49183437235935e-11, 0.0, 0.0, 3.932784113859868e-90]</td>\n",
       "      <td>0.055525</td>\n",
       "      <td>0.000845</td>\n",
       "    </tr>\n",
       "    <tr>\n",
       "      <th>42</th>\n",
       "      <td>13</td>\n",
       "      <td>[bedrooms, bathrooms, sqft_living, floors, waterfront, view, grade, sqft_above, sqft_basement, yr_built, lat, sqft_living15, sqft_lot15]</td>\n",
       "      <td>476.636211</td>\n",
       "      <td>0.765807</td>\n",
       "      <td>0.765630</td>\n",
       "      <td>[3.100193399099695e-18, 1.05376122252014e-55, 8.613192266395568e-20, 1.4361937143316239e-07, 2.0797040280059536e-77, 3.80446819037365e-92, 0.0, 5.302983717621473e-11, 2.0467694082688529e-10, 0.0, 0.0, 1.9986326276395187e-94, 7.529584719595403e-13]</td>\n",
       "      <td>0.055481</td>\n",
       "      <td>0.000842</td>\n",
       "    </tr>\n",
       "  </tbody>\n",
       "</table>"
      ],
      "text/plain": [
       "<IPython.core.display.HTML object>"
      ]
     },
     "metadata": {},
     "output_type": "display_data"
    },
    {
     "data": {
      "text/html": [
       "<br>43 rows x 8 columns<br><br>"
      ],
      "text/plain": [
       "<IPython.core.display.HTML object>"
      ]
     },
     "metadata": {},
     "output_type": "display_data"
    },
    {
     "data": {
      "text/html": [
       "<h4>cv_selected best condition_no__and__pvals__and__rsquared__and__rsquared_adj__and__rmse__and__delta_rmse = (476.63621084429815, 0.7658067185713572, 0.765630364127642, [3.100193399099695e-18, 1.05376122252014e-55, 8.613192266395568e-20, 1.4361937143316239e-07, 2.0797040280059536e-77, 3.80446819037365e-92, 0.0, 5.302983717621473e-11, 2.0467694082688529e-10, 0.0, 0.0, 1.9986326276395187e-94, 7.529584719595403e-13], 0.055481092220545834, 0.0008422452672753406)</h4>"
      ],
      "text/plain": [
       "<IPython.core.display.HTML object>"
      ]
     },
     "metadata": {},
     "output_type": "display_data"
    },
    {
     "data": {
      "text/html": [
       "<h4>cv_selected best feature-set combo (13 of 16 features):['bedrooms', 'bathrooms', 'sqft_living', 'floors', 'waterfront', 'view', 'grade', 'sqft_above', 'sqft_basement', 'yr_built', 'lat', 'sqft_living15', 'sqft_lot15']<h/4>"
      ],
      "text/plain": [
       "<IPython.core.display.HTML object>"
      ]
     },
     "metadata": {},
     "output_type": "display_data"
    },
    {
     "data": {
      "text/html": [
       "<h4>starting feature-set:['bedrooms', 'bathrooms', 'sqft_living', 'sqft_lot', 'floors', 'waterfront', 'view', 'grade', 'sqft_above', 'sqft_basement', 'yr_built', 'yr_renovated', 'lat', 'long', 'sqft_living15', 'sqft_lot15']</h4>"
      ],
      "text/plain": [
       "<IPython.core.display.HTML object>"
      ]
     },
     "metadata": {},
     "output_type": "display_data"
    },
    {
     "data": {
      "text/html": [
       "<h4>cv_selection suggests dropping ['long', 'sqft_lot', 'yr_renovated'].</h4>"
      ],
      "text/plain": [
       "<IPython.core.display.HTML object>"
      ]
     },
     "metadata": {},
     "output_type": "display_data"
    }
   ],
   "source": [
    "to_drop = []\n",
    "# select non-colinear statistically significant feature-subset with maximized R^2 and adj-R^2 \n",
    "#    and minimized RMSE and delta RMSE, cross-validated over 5 test/train k-folds\n",
    "(\n",
    "    scores_df\n",
    "     , cv_sel_features\n",
    "    , score\n",
    "    , to_drop\n",
    ") = scjpnregression.cv_selection(\n",
    "    kchd_transformed_and_scaled_df.drop(target, axis=1)\n",
    "    , kchd_transformed_and_scaled_df[[target]]\n",
    "    , folds=5\n",
    ")"
   ]
  },
  {
   "cell_type": "code",
   "execution_count": 3,
   "metadata": {},
   "outputs": [
    {
     "name": "stdout",
     "output_type": "stream",
     "text": [
      "updated kc_cv_sel_optimized_features.csv\n"
     ]
    }
   ],
   "source": [
    "fname = 'kc_cv_sel_optimized_features.csv'\n",
    "scores_df.set_index('n_features').to_csv(fname, sep=',')\n",
    "print(\"updated {}\".format(fname))"
   ]
  }
 ],
 "metadata": {
  "file_extension": ".py",
  "kernelspec": {
   "display_name": "Python [conda env:learn-env] *",
   "language": "python",
   "name": "conda-env-learn-env-py"
  },
  "language_info": {
   "codemirror_mode": {
    "name": "ipython",
    "version": 3
   },
   "file_extension": ".py",
   "mimetype": "text/x-python",
   "name": "python",
   "nbconvert_exporter": "python",
   "pygments_lexer": "ipython3",
   "version": "3.6.9"
  },
  "mimetype": "text/x-python",
  "name": "python",
  "npconvert_exporter": "python",
  "pygments_lexer": "ipython3",
  "version": 3
 },
 "nbformat": 4,
 "nbformat_minor": 2
}
